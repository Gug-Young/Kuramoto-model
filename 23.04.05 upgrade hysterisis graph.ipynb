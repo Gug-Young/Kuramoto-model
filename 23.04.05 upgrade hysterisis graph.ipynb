{
 "cells": [
  {
   "cell_type": "code",
   "execution_count": 34,
   "metadata": {},
   "outputs": [],
   "source": [
    "import numpy as np\n",
    "import matplotlib.pyplot as plt\n",
    "import pandas as pd\n",
    "\n",
    "\n",
    "from TO_sim.Sol_Kuramoto import Sol_Kuramoto_mf2 as mf2\n",
    "from TO_sim.gen_Distribution import Normal,Lorentzian,Quantile_Normal,Quantile_Lorentzian\n",
    "from scipy.signal import find_peaks\n",
    "from TO_sim.To_Draw import Draw_theoretical_wData as DD\n"
   ]
  },
  {
   "cell_type": "code",
   "execution_count": 35,
   "metadata": {},
   "outputs": [],
   "source": [
    "\n",
    "mean = lambda x :np.mean(x[-500:])\n",
    "get_std  = lambda x :np.std(x[-500:])\n",
    "\n",
    "distribution = {\n",
    "    'Normal':Normal,\n",
    "    'Q_Normal':Quantile_Normal,\n",
    "    'Lorentzian':Lorentzian,\n",
    "    'Q_Lorentzian':Quantile_Lorentzian\n",
    "}\n",
    " "
   ]
  },
  {
   "cell_type": "code",
   "execution_count": 36,
   "metadata": {},
   "outputs": [],
   "source": [
    "\n",
    "def get_groups(dtheta,sum_time=500):\n",
    "    dtheta_c = np.cumsum(dtheta,axis=0)\n",
    "    avg_dtheta = (dtheta_c[sum_time:]-dtheta_c[:-sum_time])/sum_time\n",
    "    num_data = []\n",
    "    for data in avg_dtheta[-500:]:\n",
    "        diff_dtheta = np.diff(data)\n",
    "        peaks, _ = find_peaks(diff_dtheta, height=0.01)\n",
    "        num_data.append(np.diff(peaks))\n",
    "    groups = []\n",
    "    N = len(dtheta[-1])\n",
    "    for diff in num_data:\n",
    "        sort_re = np.sort(diff)[::-1]\n",
    "        temp = []\n",
    "        for i in sort_re[:5]:\n",
    "            temp.append(i)\n",
    "        if len(sort_re) == 0:\n",
    "            temp = [N,0,0,0,0]\n",
    "        else:\n",
    "            for i in range(5- len(sort_re)):\n",
    "                temp.append(0)\n",
    "        groups.append(temp)\n",
    "    return groups"
   ]
  },
  {
   "cell_type": "code",
   "execution_count": 42,
   "metadata": {},
   "outputs": [],
   "source": [
    "class phase_diagram():\n",
    "    def __init__(self,seed,N,m,t_end,dist='Normal',Process='F') -> None:\n",
    "        self.theta_init,omega,_ = distribution[dist](N,0,1,seed=seed)\n",
    "        self.omega = np.sort(omega) \n",
    "        if Process == 'B':\n",
    "            self.theta_init = np.ones_like(self.theta_init)\n",
    "            self.dtheta_init = np.zeros_like(self.theta_init)\n",
    "        else:\n",
    "            self.dtheta_init = self.omega\n",
    "        self.N = N\n",
    "        self.t = np.arange(0,t_end+0.1/2,0.1)\n",
    "        self.m = m\n",
    "\n",
    "    def make_meanr(self,K,sum_time = 500,look_time = 0):\n",
    "        m = self.m\n",
    "        t = self.t\n",
    "        N = self.N\n",
    "        theta_init = self.theta_init\n",
    "        dtheta_init = self.dtheta_init\n",
    "        omega = self.omega\n",
    "        theta, dtheta,rs = mf2(K,m=m,N=N,t_array=t,p_theta=theta_init,p_dtheta= dtheta_init,p_omega=omega,result_time=look_time)\n",
    "\n",
    "        r = mean(rs)\n",
    "        rstd = get_std(rs)\n",
    "        groups = get_groups(dtheta,sum_time)[-sum_time:]\n",
    "        g = np.mean(groups,axis=0)\n",
    "        g_std = np.std(groups,axis=0)\n",
    "        return r,rstd,g,g_std\n",
    "    def histerisis(self,Ks,sum_time = 500,look_time = 4000,way = 'F'):\n",
    "        m = self.m\n",
    "        t = self.t\n",
    "        N = self.N\n",
    "        theta_init = self.theta_init\n",
    "        dtheta_init = self.dtheta_init\n",
    "        omega = self.omega\n",
    "        K_r = []\n",
    "        K_rstd = []\n",
    "        K_groups = []\n",
    "        K_g = []\n",
    "        K_g_std = []\n",
    "        for K in Ks:\n",
    "            theta, dtheta,rs = mf2(K,m=m,N=N,t_array=t,p_theta=theta_init,p_dtheta= dtheta_init,p_omega=omega,result_time=look_time )\n",
    "            theta_init = theta[-1]\n",
    "            dtheta_init = dtheta[-1]\n",
    "            K_r.append( mean(rs) )\n",
    "            K_rstd.append( get_std(rs) )\n",
    "            groups =  get_groups(dtheta,sum_time)[-sum_time:]\n",
    "            K_g.append( np.mean(groups,axis=0) )\n",
    "            K_g_std.append( np.std(groups,axis=0) )\n",
    "        if way=='T':\n",
    "            for K in Ks[::-1]:\n",
    "                theta, dtheta,rs = mf2(K,m=m,N=N,t_array=t,p_theta=theta_init,p_dtheta= dtheta_init,p_omega=omega,result_time=look_time )\n",
    "                theta_init = theta[-1]\n",
    "                dtheta_init = dtheta[-1]\n",
    "                K_r.append( mean(rs) )\n",
    "                K_rstd.append( get_std(rs) )\n",
    "                groups =  get_groups(dtheta,sum_time)[-sum_time:]\n",
    "                K_g.append( np.mean(groups,axis=0) )\n",
    "                K_g_std.append( np.std(groups,axis=0) )\n",
    "        return K_r,K_rstd,K_g,K_g_std"
   ]
  },
  {
   "cell_type": "code",
   "execution_count": 44,
   "metadata": {},
   "outputs": [],
   "source": [
    "P_ = phase_diagram(seed = 10,N = 500,m = 6, t_end = 500,)"
   ]
  },
  {
   "cell_type": "code",
   "execution_count": 45,
   "metadata": {},
   "outputs": [],
   "source": [
    "Ks = np.arange(0,10+0.1/2,0.1)"
   ]
  },
  {
   "cell_type": "code",
   "execution_count": 46,
   "metadata": {},
   "outputs": [],
   "source": [
    "K_r,K_rstd,K_g,K_g_std = P_.histerisis(Ks)"
   ]
  },
  {
   "cell_type": "code",
   "execution_count": 47,
   "metadata": {},
   "outputs": [],
   "source": [
    "K_g = np.array(K_g)"
   ]
  },
  {
   "cell_type": "code",
   "execution_count": 50,
   "metadata": {},
   "outputs": [],
   "source": [
    "D_ = DD(6)"
   ]
  },
  {
   "cell_type": "code",
   "execution_count": 51,
   "metadata": {},
   "outputs": [
    {
     "data": {
      "text/plain": [
       "[<matplotlib.lines.Line2D at 0x172fc1bd0>,\n",
       " <matplotlib.lines.Line2D at 0x172fdc0d0>,\n",
       " <matplotlib.lines.Line2D at 0x172fdc3d0>,\n",
       " <matplotlib.lines.Line2D at 0x172fdc5d0>,\n",
       " <matplotlib.lines.Line2D at 0x172fdca50>]"
      ]
     },
     "execution_count": 51,
     "metadata": {},
     "output_type": "execute_result"
    },
    {
     "data": {
      "image/png": "[encoded data removed]",
      "text/plain": [
       "<Figure size 640x480 with 1 Axes>"
      ]
     },
     "metadata": {},
     "output_type": "display_data"
    }
   ],
   "source": [
    "plt.errorbar(Ks,K_r,K_rstd)\n",
    "D_.foward()\n",
    "plt.plot(Ks,K_g/500,)"
   ]
  },
  {
   "cell_type": "code",
   "execution_count": 13,
   "metadata": {},
   "outputs": [],
   "source": [
    "N = 500\n",
    "seed = 10\n",
    "K = 10 \n",
    "m = 5\n",
    "t_end = 500\n",
    "t = np.arange(0,t_end+0.1/2,0.1)\n",
    "theta_init,omega,_ = Normal(N,0,1,seed=seed)\n",
    "omega = np.sort(omega) \n",
    "theta, dtheta,rs = mf2(K,m=m,N=N,t_array=t,p_theta=theta_init,p_dtheta= omega,p_omega=omega,result_time=4000)"
   ]
  },
  {
   "cell_type": "code",
   "execution_count": 16,
   "metadata": {},
   "outputs": [],
   "source": [
    "dtheta_c = np.cumsum(dtheta,axis=0)\n",
    "sum_time = 500\n",
    "avg_dtheta = (dtheta_c[sum_time:]-dtheta_c[:-sum_time])/sum_time"
   ]
  },
  {
   "cell_type": "code",
   "execution_count": 17,
   "metadata": {},
   "outputs": [
    {
     "data": {
      "text/plain": [
       "(501, 500)"
      ]
     },
     "execution_count": 17,
     "metadata": {},
     "output_type": "execute_result"
    }
   ],
   "source": [
    "avg_dtheta.shape"
   ]
  },
  {
   "cell_type": "code",
   "execution_count": null,
   "metadata": {},
   "outputs": [],
   "source": []
  }
 ],
 "metadata": {
  "kernelspec": {
   "display_name": "Python 3",
   "language": "python",
   "name": "python3"
  },
  "language_info": {
   "codemirror_mode": {
    "name": "ipython",
    "version": 3
   },
   "file_extension": ".py",
   "mimetype": "text/x-python",
   "name": "python",
   "nbconvert_exporter": "python",
   "pygments_lexer": "ipython3",
   "version": "3.11.1"
  },
  "orig_nbformat": 4,
  "vscode": {
   "interpreter": {
    "hash": "aee8b7b246df8f9039afb4144a1f6fd8d2ca17a180786b69acc140d282b71a49"
   }
  }
 },
 "nbformat": 4,
 "nbformat_minor": 2
}
