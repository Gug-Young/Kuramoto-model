{
 "cells": [
  {
   "cell_type": "markdown",
   "metadata": {},
   "source": [
    "# Find the form of an expression by limiting a theoretical expression"
   ]
  },
  {
   "cell_type": "code",
   "execution_count": 32,
   "metadata": {},
   "outputs": [],
   "source": [
    "import numpy as np\n",
    "import matplotlib.pyplot as plt\n",
    "\n",
    "from numba import njit\n",
    "from numba.types import intc, CPointer, float64\n",
    "from numba import cfunc, carray, jit\n",
    "from scipy import LowLevelCallable"
   ]
  },
  {
   "cell_type": "code",
   "execution_count": 34,
   "metadata": {},
   "outputs": [],
   "source": [
    "def jit_integrand_function(integrand_function):\n",
    "    jitted_function = jit(integrand_function, nopython=True)\n",
    "    @cfunc(float64(intc, CPointer(float64)))\n",
    "    def wrapped(n, xx):\n",
    "        values = carray(xx, n)\n",
    "        return jitted_function(values[0], values[1])\n",
    "    return LowLevelCallable(wrapped.ctypes)\n",
    "\n",
    "def jit_integrand_function2(integrand_function):\n",
    "    jitted_function = jit(integrand_function, nopython=True)\n",
    "    \n",
    "    @cfunc(float64(intc, CPointer(float64)))\n",
    "    def wrapped(n, xx):\n",
    "        if n < 5:\n",
    "            raise ValueError(\"Not enough parameters passed to function.\")\n",
    "        values = carray(xx, n)  # 전달된 모든 파라미터를 포함하는 배열\n",
    "        return jitted_function(values[0], values[1], values[2], values[3],values[4])\n",
    "    \n",
    "    return LowLevelCallable(wrapped.ctypes)\n",
    "\n",
    "\n",
    "def jit_integrand_function3(integrand_function):\n",
    "    jitted_function = jit(integrand_function, nopython=True)\n",
    "    \n",
    "    @cfunc(float64(intc, CPointer(float64)))\n",
    "    def wrapped(n, xx):\n",
    "        if n < 5:\n",
    "            raise ValueError(\"Not enough parameters passed to function.\")\n",
    "        values = carray(xx, n)  # 전달된 모든 파라미터를 포함하는 배열\n",
    "        return jitted_function(values[0], values[1], values[2], values[3],values[4])\n",
    "    \n",
    "    return LowLevelCallable(wrapped.ctypes)\n",
    "\n",
    "\n",
    "\n",
    "@njit\n",
    "def g(x, mean, std):\n",
    "    return (1 / (np.sqrt(2 * np.pi) * std)) * np.exp(-0.5 * ((x - mean) / std) ** 2)\n",
    "\n",
    "@njit\n",
    "def g_sec(x,Or,Om):\n",
    "    std = 1\n",
    "    mean = -Or\n",
    "    g = (1 / (np.sqrt(2 * np.pi) * std)) * np.exp(-0.5 * ((x - mean) / std) ** 2)\n",
    "    dO = abs(Or-Om)\n",
    "    return np.where(x<-dO,1e-6,g)\n",
    "\n",
    "@jit_integrand_function2\n",
    "def integrand_Rl(x, X,O_O,O_p,m):\n",
    "    return g(x,O_O,O_p)*np.sqrt(1-(x/X)**2)\n",
    "\n",
    "@jit_integrand_function2\n",
    "def integrand_Rd(x, X,O_O,O_p,m):\n",
    "    if m == 0:\n",
    "        return 0\n",
    "    else:\n",
    "        return X/(2*(m*x**2+1/m))*g(x,O_O,O_p)\n",
    "\n",
    "@jit_integrand_function2\n",
    "def integrand_Rl2(x, X,O_pm,shift_O,m):\n",
    "    return g_sec(x,O_pm+shift_O,O_pm)*np.sqrt(1-(x/X)**2)\n",
    "\n",
    "@jit_integrand_function2\n",
    "def integrand_Rd2(x, X,O_pm,shift_O,m):\n",
    "    return X/(2*(m*(x+O_pm+shift_O)**2+1/m))*g_sec(x,O_pm+shift_O,O_pm)\n",
    "    # return 1/(2*(m*(x)**2+1/m))*g_sec(x,O_pm+shift_O,O_pm)\n",
    "\n",
    "\n",
    "@jit_integrand_function2\n",
    "def integrand_Rl3(x, X,O_pm,shift_O,m):\n",
    "    return g(x,0,1)*np.sqrt(1-((x-O_pm-shift_O)/X)**2)\n",
    "\n",
    "\n",
    "@jit_integrand_function2\n",
    "def integrand_Rd3(x, X,O_pm,shift_O,m):\n",
    "    return X/(2*(m*(x-O_pm-shift_O)**2+1/m))*g(x,0,1)"
   ]
  },
  {
   "cell_type": "code",
   "execution_count": 1,
   "metadata": {},
   "outputs": [],
   "source": [
    "from sympy import *"
   ]
  },
  {
   "cell_type": "code",
   "execution_count": 4,
   "metadata": {},
   "outputs": [],
   "source": [
    "rp,m,rp,r0 = symbols('r,m,r_+,r_0',real=True)"
   ]
  },
  {
   "cell_type": "code",
   "execution_count": 3,
   "metadata": {},
   "outputs": [
    {
     "data": {
      "text/latex": [
       "$\\displaystyle r$"
      ],
      "text/plain": [
       "r"
      ]
     },
     "execution_count": 3,
     "metadata": {},
     "output_type": "execute_result"
    }
   ],
   "source": [
    "J = Integral()"
   ]
  },
  {
   "cell_type": "code",
   "execution_count": 9,
   "metadata": {},
   "outputs": [
    {
     "data": {
      "text/latex": [
       "$\\displaystyle \\lim_{r_{+} \\to 0^+}\\left(- \\frac{K m r_{+} \\int\\limits_{\\Omega_{+} + \\delta\\Omega + \\omega_{+}}^{\\infty} \\frac{g{\\left(\\Omega \\right)}}{\\Omega^{2} m^{2} + 1}\\, d\\Omega}{2} + \\frac{\\int\\limits_{\\omega_{+}}^{\\Omega_{+} + \\delta\\Omega + \\omega_{+}} \\sqrt{K^{2} r_{+}^{2} - \\Omega^{2} + 2 \\Omega \\delta\\Omega + 2 \\Omega \\omega_{+} - \\delta\\Omega^{2} - 2 \\delta\\Omega \\omega_{+} - \\omega_{+}^{2}} g{\\left(\\Omega \\right)}\\, d\\Omega}{K r_{+}}\\right)$"
      ],
      "text/plain": [
       "Limit(-K*m*r_+*Integral(g(Omega)/(Omega**2*m**2 + 1), (Omega, Omega_+ + \\delta\\Omega + omega_+, oo))/2 + Integral(sqrt(K**2*r_+**2 - Omega**2 + 2*Omega*\\delta\\Omega + 2*Omega*omega_+ - \\delta\\Omega**2 - 2*\\delta\\Omega*omega_+ - omega_+**2)*g(Omega), (Omega, omega_+, Omega_+ + \\delta\\Omega + omega_+))/(K*r_+), r_+, 0)"
      ]
     },
     "execution_count": 9,
     "metadata": {},
     "output_type": "execute_result"
    }
   ],
   "source": [
    "import sympy as sp\n",
    "\n",
    "# 변수 정의\n",
    "rp = sp.Symbol('r_+', positive=True,real=True)\n",
    "Omega = sp.Symbol('Omega')\n",
    "K, m = sp.symbols('K m', positive=True,real=True)\n",
    "omega_p = sp.Symbol('omega_+', real=True)\n",
    "Omegap, dOmega = sp.symbols('Omega_+ \\delta\\Omega', real=True)\n",
    "\n",
    "# 함수 정의\n",
    "g = sp.Function('g')(Omega)\n",
    "\n",
    "# 첫 번째 적분\n",
    "lower1 = omega_p\n",
    "upper1 = omega_p + Omegap + dOmega\n",
    "integrand1 = g * sp.sqrt(1 - ((Omega - dOmega - omega_p)**2) / (K**2 * rp**2))\n",
    "I1 = sp.integrate(integrand1, (Omega, lower1, upper1))\n",
    "\n",
    "# 두 번째 적분\n",
    "lower2 = omega_p + Omegap + dOmega\n",
    "upper2 = sp.oo\n",
    "integrand2 = g * 1 / (2 * (1 + m**2 * Omega**2))\n",
    "I2 = sp.integrate(integrand2, (Omega, lower2, upper2))\n",
    "\n",
    "# 전체 식\n",
    "expr = I1 - K * rp * m * I2\n",
    "\n",
    "# 극한 계산: r -> 0+\n",
    "lim_expr = sp.limit(expr, rp, 0, dir='+')\n",
    "lim_expr\n"
   ]
  },
  {
   "cell_type": "code",
   "execution_count": 39,
   "metadata": {},
   "outputs": [
    {
     "data": {
      "text/plain": [
       "2.922139780661662"
      ]
     },
     "execution_count": 39,
     "metadata": {},
     "output_type": "execute_result"
    }
   ],
   "source": [
    "import numpy as np\n",
    "from scipy.integrate import quad\n",
    "from math import sqrt, pi, exp\n",
    "\n",
    "# Given parameters\n",
    "K = 6\n",
    "m = 6\n",
    "r0 = 0.76\n",
    "\n",
    "# Very small r_plus approaching 0+\n",
    "r_plus = 1e-5\n",
    "\n",
    "# Define omega_c (Domega)\n",
    "omega_c = 4 * sqrt(K * r_plus) / (pi * sqrt(m) - 0.3056 / sqrt(K * r_plus * m**3))\n",
    "\n",
    "# Omega_p (same form as omega_c)\n",
    "Omega_p = omega_c\n",
    "\n",
    "# Define delta_Omega\n",
    "numerator = K * (2 * m * r0 + r_plus) * (pi * sqrt(K) * m**2 * sqrt(r_plus) - 0.3056)**3\n",
    "denominator = 16 * m**(3/2) * (64 * K**2 * m**5 * r_plus**2 + (pi * sqrt(K) * m**2 * sqrt(r_plus) - 0.3056)**2)\n",
    "delta_Omega = numerator / denominator\n",
    "\n",
    "# g(Ω) = standard normal PDF\n",
    "def g(Omega):\n",
    "    return (1 / sqrt(2 * pi)) * np.exp(-Omega**2 / 2)\n",
    "\n",
    "# I1 approximation\n",
    "g_val = g(delta_Omega + omega_c)\n",
    "I1_approx = g_val * K * r_plus * pi / 2\n",
    "\n",
    "# I2 integral (numerically)\n",
    "def integrand(Omega):\n",
    "    return g(Omega) / (2 * (1 + m**2 * Omega**2))\n",
    "\n",
    "lower_limit = omega_c + Omega_p + delta_Omega\n",
    "I2_val, _ = quad(integrand, lower_limit, np.inf)\n",
    "\n",
    "# Full expression value (divided by r_plus)\n",
    "limit_val = (I1_approx - K * r_plus * m * I2_val) / r_plus\n",
    "limit_val\n"
   ]
  },
  {
   "cell_type": "code",
   "execution_count": 29,
   "metadata": {},
   "outputs": [],
   "source": [
    "r =  0.5\n",
    "m = 10\n",
    "omega_p =  4*np.sqrt(K*r/m) - 0.3506 / np.sqrt(K*r*m**3)\n",
    "Kc2 = 2/np.pi / g(omega_p)"
   ]
  },
  {
   "cell_type": "code",
   "execution_count": 30,
   "metadata": {},
   "outputs": [
    {
     "data": {
      "text/plain": [
       "17.345833173559125"
      ]
     },
     "execution_count": 30,
     "metadata": {},
     "output_type": "execute_result"
    }
   ],
   "source": [
    "Kc2"
   ]
  },
  {
   "cell_type": "code",
   "execution_count": 49,
   "metadata": {},
   "outputs": [],
   "source": [
    "K = 4\n",
    "m = 6\n",
    "# rs = np.linspace(0,1,10000)[1:]\n",
    "Xs1 = np.logspace(-15,-3,2000)\n",
    "Xs = np.r_[Xs1,np.linspace(1e-3,60,10001)]\n",
    "\n",
    "R_ls = []\n",
    "R_drs = []\n",
    "\n",
    "\n",
    "for X in Xs:\n",
    "    a = 1/np.sqrt(X*m)\n",
    "    b = 4/np.pi * a - 0.3056*a**3\n",
    "    b = np.where(np.where(a>1.193,1,b)>=1,1,b)\n",
    "\n",
    "    omega_p = b*X\n",
    "    R_l,err = quad(integrand_Rl, -omega_p,omega_p,args=(X,0,1,m),limit=200)\n",
    "    R_dr,err = quad(integrand_Rd,omega_p,np.inf,args=(X,0,1,m),limit=200)\n",
    "    R_ls.append(R_l)\n",
    "    R_drs.append(R_dr)\n",
    "\n",
    "\n",
    "R0 = np.array(R_ls)\n",
    "RD = 2*np.array(R_drs)\n",
    "R = R0 -RD\n",
    "KK = 1/(R/Xs)\n",
    "K_min_arg = np.argmin(KK)\n",
    "\n",
    "K_d = KK[:K_min_arg]\n",
    "K_u = KK[K_min_arg:]\n",
    "r_d = Xs[:K_min_arg]/K_d\n",
    "r_u = Xs[K_min_arg:]/K_u\n",
    "R_0d = R0[:K_min_arg]\n",
    "R_0u = R0[K_min_arg:]\n",
    "R_dd = -RD[:K_min_arg]\n",
    "R_du = -RD[K_min_arg:]\n",
    "\n",
    "R_u = R_0u + R_du\n",
    "R_d = R_0d + R_dd\n",
    "K_start = KK[K_min_arg]\n",
    "Xsu = Xs[K_min_arg:]\n",
    "Xsd = Xs[:K_min_arg]\n",
    "\n",
    "a = 1/np.sqrt(Xsu*m)\n",
    "b = 4/np.pi * a - 0.3056*a**3\n",
    "b = np.where(np.where(a>1.193,1,b)>=1,1,b)\n",
    "OPS = b*Xsu\n",
    "\n",
    "\n",
    "a = 1/np.sqrt(Xsd*m)\n",
    "b = 4/np.pi * a - 0.3056*a**3\n",
    "b = np.where(np.where(a>1.193,1,b)>=1,1,b)\n",
    "OPSd = b*Xsd\n"
   ]
  },
  {
   "cell_type": "code",
   "execution_count": 58,
   "metadata": {},
   "outputs": [
    {
     "data": {
      "text/plain": [
       "<matplotlib.lines.Line2D at 0x116777ad0>"
      ]
     },
     "execution_count": 58,
     "metadata": {},
     "output_type": "execute_result"
    },
    {
     "data": {
      "image/png": "[encoded data removed]",
      "text/plain": [
       "<Figure size 640x480 with 1 Axes>"
      ]
     },
     "metadata": {},
     "output_type": "display_data"
    }
   ],
   "source": [
    "plt.plot(KK,R)\n",
    "plt.plot(KK,R0)\n",
    "plt.axvline(2/(np.pi*g(0)))"
   ]
  },
  {
   "cell_type": "code",
   "execution_count": 67,
   "metadata": {},
   "outputs": [],
   "source": [
    "RP1_u = []\n",
    "RP1_d = []\n",
    "RP01_u = []\n",
    "RP01_d = []\n",
    "Kc2s = np.nan*np.ones_like(K_u)\n",
    "K1p = []\n",
    "for i,(X,K,r,r0,rd,OP) in enumerate(list(zip(Xsu,K_u,R_u,R_0u,R_du,OPS))):\n",
    "    omega_p =  4*np.sqrt(K*r/m) - 0.3056 / np.sqrt(K*r*m**3)\n",
    "    Kc2s[i] = 2/(np.pi * g(omega_p))"
   ]
  },
  {
   "cell_type": "code",
   "execution_count": 65,
   "metadata": {},
   "outputs": [
    {
     "data": {
      "text/plain": [
       "(0.0, 6.0)"
      ]
     },
     "execution_count": 65,
     "metadata": {},
     "output_type": "execute_result"
    },
    {
     "data": {
      "image/png": "[encoded data removed]",
      "text/plain": [
       "<Figure size 640x480 with 1 Axes>"
      ]
     },
     "metadata": {},
     "output_type": "display_data"
    }
   ],
   "source": [
    "plt.plot(K_u,Kc2s)\n",
    "plt.ylim(0,5)\n",
    "plt.xlim(0,6)"
   ]
  },
  {
   "cell_type": "code",
   "execution_count": 69,
   "metadata": {},
   "outputs": [
    {
     "data": {
      "text/plain": [
       "[<matplotlib.lines.Line2D at 0x116b9ea50>]"
      ]
     },
     "execution_count": 69,
     "metadata": {},
     "output_type": "execute_result"
    },
    {
     "data": {
      "image/png": "[encoded data removed]",
      "text/plain": [
       "<Figure size 640x480 with 1 Axes>"
      ]
     },
     "metadata": {},
     "output_type": "display_data"
    }
   ],
   "source": [
    "RP1_u = []\n",
    "RP1_d = []\n",
    "RP01_u = []\n",
    "RP01_d = []\n",
    "\n",
    "K1p = []\n",
    "for X,K,r,r0,rd,OP in zip(Xsu,K_u,R_u,R_0u,R_du,OPS):\n",
    "    rs1 = np.logspace(-6,np.log10(0.01),100)\n",
    "    rps = np.r_[rs1,np.linspace(0.01,(1-r0)/2,100)] \n",
    "    omega_pp = X\n",
    "    RP_ls = np.nan*rps\n",
    "    RP_ds = np.nan*rps\n",
    "\n",
    "    for i,rp in enumerate(rps):\n",
    "        # OPs = K*rp\n",
    "        a = 1/np.sqrt(K*rp*m)\n",
    "        b = 4/np.pi * a - 0.3056*a**3\n",
    "        b = np.where(np.where(a>1.193,1,b)>=1,1,b)\n",
    "        OPs = max(b*K*rp,0)\n",
    "        \n",
    "        delta_P = m*K**2*r0*rp/(2*(m**2*OP**2+1)) + K**2*rp**2/(4*OP*(4*m**2*OP**2+1))\n",
    "        RP_ls[i],err = quad(integrand_Rl3, OP,OP+delta_P+OPs,args=(K*rp,OP,delta_P,m),limit=200)\n",
    "        RP_ds[i],err = quad(integrand_Rd, OP+delta_P+OPs,np.inf,args=(K*rp,0,1,m),limit=200)\n",
    "    RP = (RP_ls-RP_ds)\n",
    "    x, = np.where((RP-rps)>=0)\n",
    "    # plt.plot(rps,RP-rps)\n",
    "    \n",
    "    \n",
    "    try:\n",
    "        RP1_u.append(rps[x[-1]])\n",
    "        RP1_d.append(rps[x[0]])\n",
    "        RP01_u.append(RP_ls[x[-1]])\n",
    "        RP01_d.append(RP_ls[x[0]])\n",
    "        K1p.append(K)\n",
    "    except:pass\n",
    "plt.plot(K1p,RP1_u)\n",
    "plt.plot(K1p,RP1_d)"
   ]
  },
  {
   "cell_type": "code",
   "execution_count": 70,
   "metadata": {},
   "outputs": [
    {
     "data": {
      "text/plain": [
       "<matplotlib.lines.Line2D at 0x116c42190>"
      ]
     },
     "execution_count": 70,
     "metadata": {},
     "output_type": "execute_result"
    },
    {
     "data": {
      "image/png": "[encoded data removed]",
      "text/plain": [
       "<Figure size 640x480 with 1 Axes>"
      ]
     },
     "metadata": {},
     "output_type": "display_data"
    }
   ],
   "source": [
    "plt.plot(K1p,RP1_u)\n",
    "plt.plot(K1p,RP1_d)\n",
    "plt.axvline(K_u[np.where(Kc2s<=K_u)][0])\n",
    "plt.axvline(K_u[np.where(Kc2s<=K_u)][-1])"
   ]
  },
  {
   "cell_type": "code",
   "execution_count": 53,
   "metadata": {},
   "outputs": [
    {
     "data": {
      "text/plain": [
       "(0.0, 10.0)"
      ]
     },
     "execution_count": 53,
     "metadata": {},
     "output_type": "execute_result"
    },
    {
     "data": {
      "image/png": "[encoded data removed]",
      "text/plain": [
       "<Figure size 640x480 with 1 Axes>"
      ]
     },
     "metadata": {},
     "output_type": "display_data"
    }
   ],
   "source": [
    "plt.plot(K_u, Kc2s)\n",
    "plt.plot(K_u, K_u)\n",
    "plt.ylim(0,10)"
   ]
  },
  {
   "cell_type": "code",
   "execution_count": null,
   "metadata": {},
   "outputs": [],
   "source": []
  }
 ],
 "metadata": {
  "kernelspec": {
   "display_name": "Python 3",
   "language": "python",
   "name": "python3"
  },
  "language_info": {
   "codemirror_mode": {
    "name": "ipython",
    "version": 3
   },
   "file_extension": ".py",
   "mimetype": "text/x-python",
   "name": "python",
   "nbconvert_exporter": "python",
   "pygments_lexer": "ipython3",
   "version": "3.11.1"
  }
 },
 "nbformat": 4,
 "nbformat_minor": 2
}
