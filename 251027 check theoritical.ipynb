{
 "cells": [
  {
   "cell_type": "code",
   "execution_count": 1,
   "id": "e687a760",
   "metadata": {},
   "outputs": [],
   "source": [
    "import numpy as np\n",
    "import matplotlib.pyplot as plt\n",
    "import sympy as sp"
   ]
  },
  {
   "cell_type": "code",
   "execution_count": 3,
   "id": "67bc5366",
   "metadata": {},
   "outputs": [],
   "source": [
    "K,r,m, o,op,dop = sp.symbols(r'K r m omega \\Omega_{(+)} \\delta\\Omega',real = True, positive = True)"
   ]
  },
  {
   "cell_type": "code",
   "execution_count": 12,
   "id": "f4c87777",
   "metadata": {},
   "outputs": [
    {
     "data": {
      "text/latex": [
       "$\\displaystyle \\frac{\\sqrt{- K^{2} r^{2} + m^{2} \\omega^{4} + \\omega^{2}}}{\\sqrt{m^{2} \\omega^{2} + 1}}$"
      ],
      "text/plain": [
       "sqrt(-K**2*r**2 + m**2*omega**4 + omega**2)/sqrt(m**2*omega**2 + 1)"
      ]
     },
     "execution_count": 12,
     "metadata": {},
     "output_type": "execute_result"
    }
   ],
   "source": [
    "a =  1/sp.sqrt(K*r*m)\n",
    "b = (o )/(K*r)\n",
    "\n",
    "v0 = b/a\n",
    "v =sp.sqrt(v0**2 - (v0**2 + a**2)**-1)\n",
    "(v* sp.sqrt(K*r/m)).simplify()"
   ]
  },
  {
   "cell_type": "code",
   "execution_count": null,
   "id": "b8efc886",
   "metadata": {},
   "outputs": [],
   "source": []
  }
 ],
 "metadata": {
  "kernelspec": {
   "display_name": "Python 3",
   "language": "python",
   "name": "python3"
  },
  "language_info": {
   "codemirror_mode": {
    "name": "ipython",
    "version": 3
   },
   "file_extension": ".py",
   "mimetype": "text/x-python",
   "name": "python",
   "nbconvert_exporter": "python",
   "pygments_lexer": "ipython3",
   "version": "3.11.1"
  }
 },
 "nbformat": 4,
 "nbformat_minor": 5
}
