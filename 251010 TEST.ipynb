{
 "cells": [
  {
   "cell_type": "markdown",
   "id": "447f6c9c",
   "metadata": {},
   "source": [
    "![](PASTE_IMAGE/2025-10-10-17-48-01.png)![](PASTE_IMAGE/2025-10-10-17-48-23.png)![](PASTE_IMAGE/2025-10-10-17-48-28.png)"
   ]
  },
  {
   "cell_type": "code",
   "execution_count": 1,
   "id": "a59fe333",
   "metadata": {},
   "outputs": [],
   "source": [
    "import time"
   ]
  },
  {
   "cell_type": "markdown",
   "id": "5a8ad780",
   "metadata": {},
   "source": [
    "# Q1.\n",
    "\n",
    "(1) 하루의 총 초(0~86399)를 키보드로 입력\n",
    "받고, 시, 분, 초를 계산하여 출력하는 파이썬 소스\n",
    "코드를 작성합시다.\n",
    "\n",
    "`하루 내의 총초(0~86399)를 입력해주세요. 시분초를 계산합니다 : 67805\n",
    "67805 초는 18 시 50 분 5 초입니다`"
   ]
  },
  {
   "cell_type": "code",
   "execution_count": 3,
   "id": "49eb6e34",
   "metadata": {},
   "outputs": [
    {
     "name": "stdout",
     "output_type": "stream",
     "text": [
      "1000 초는 0 시 16 분 40 초입니다.\n"
     ]
    }
   ],
   "source": [
    "t = int(input('하루 내의 총초(0~86399)를 입력해주세요. 시분초를 계산합니다 :'))\n",
    "h = t // 3600\n",
    "m = (t % 3600) // 60\n",
    "s = t % 60\n",
    "print(f\"{t} 초는 {h} 시 {m} 분 {s} 초입니다.\")"
   ]
  },
  {
   "cell_type": "code",
   "execution_count": 13,
   "id": "41a58208",
   "metadata": {},
   "outputs": [
    {
     "data": {
      "text/plain": [
       "True"
      ]
     },
     "execution_count": 13,
     "metadata": {},
     "output_type": "execute_result"
    }
   ],
   "source": [
    "10 % 20 == 10"
   ]
  },
  {
   "cell_type": "markdown",
   "id": "44e9a7ff",
   "metadata": {},
   "source": [
    "# Q2\n",
    "(2) \"국어\", \"영어\", \"수학\"에 점수(0~100)을\n",
    "저장하고, 아래와 같이 저장된 값과 크기에 해당되\n",
    "는 #표식을 출력하는 파이썬 소스 코드를 작성하\n",
    "되 점수는 키보드에서 입력할 수 있도록 한다.\n",
    "(단, #은 10점 당 하나씩 출력하도록 한다 == >\n",
    "90점대이면 #을 9개, 80점대이면 #을 8개, ... )\n",
    "국어 점수: 90 #########\n",
    "영어 점수: 78 #######\n",
    "수학 점수: 98 #########"
   ]
  },
  {
   "cell_type": "code",
   "execution_count": 5,
   "id": "a02eb20b",
   "metadata": {},
   "outputs": [
    {
     "name": "stdout",
     "output_type": "stream",
     "text": [
      "국어 점수: 90 #########\n",
      "영어 점수: 78 #######\n",
      "수학 점수: 98 #########\n"
     ]
    }
   ],
   "source": [
    "Kor = 90\n",
    "Eng = 78\n",
    "Math = 98\n",
    "\n",
    "print(f\"국어 점수: {Kor} \"+\"#\"*(Kor//10))\n",
    "print(f\"영어 점수: {Eng} \"+\"#\"*(Eng//10))\n",
    "print(f\"수학 점수: {Math} \"+\"#\"*(Math//10))"
   ]
  },
  {
   "cell_type": "markdown",
   "id": "42cc1d38",
   "metadata": {},
   "source": [
    "# Q3\n",
    "(3) 4천만초(40000000)에 대해 결과로 \"00 년 00일 00시 00 분 00초\"를 계산하여 출력하는 파이썬 소스 코드를 작성합시다(단, 1년은 무조건 365일이라고 가정한다). 그리고 40000000는 키보드에서 입력 받도록 한다."
   ]
  },
  {
   "cell_type": "code",
   "execution_count": 7,
   "id": "3cd79bbd",
   "metadata": {},
   "outputs": [
    {
     "name": "stdout",
     "output_type": "stream",
     "text": [
      "1000000000 초는 31 년 259 일 1 시 46 분 40 초입니다.\n"
     ]
    }
   ],
   "source": [
    "NUM = int(input(\"최소 4천만초 이상의 초를 입력해주세요. 몇 년 몇 일 몇시 몇분 몇초 인지 계산 해봅니다:\"))\n",
    "Y = NUM // (365*24*60*60)\n",
    "D = (NUM % (365*24*60*60)) // (24*60*60)\n",
    "H = (NUM % (24*60*60)) // (60*60)\n",
    "M = (NUM % (60*60)) // 60\n",
    "S = NUM % 60\n",
    "print(f\"{NUM} 초는 {Y} 년 {D} 일 {H} 시 {M} 분 {S} 초입니다.\")\n"
   ]
  },
  {
   "cell_type": "markdown",
   "id": "d61f0de8",
   "metadata": {},
   "source": [
    "# Q4\n",
    "(4) 4200미터를 인치와 마일로 계산하여 각각 출력하는 파이썬 소스 코드를 작성합시다(1 마일은 1609.34 미터이며, 1 인치는 2.54 센티미터임). 그리고 4200을 키보드에서 입력 받도록 한\n",
    "다.\n",
    "\n",
    "거리(미터)를 입력해주세요. 인치와 마일로 변환해서 출력합니다 :4200\n",
    "4200 미터는 2.6097654939291886 마일이고 165354.3307086614 인치입니다"
   ]
  },
  {
   "cell_type": "code",
   "execution_count": 9,
   "id": "fc827f00",
   "metadata": {},
   "outputs": [
    {
     "name": "stdout",
     "output_type": "stream",
     "text": [
      "4200 미터는 2.6097654939291886 마일이고 165354.33070866144 인치입니다.\n"
     ]
    }
   ],
   "source": [
    "NUM = int(input(\"거리(미터)를 입력해주세요. 인치와 마일로 변환해서 출력합니다 :\"))\n",
    "mile_m = 1609.34\n",
    "inch_m = 2.54/100\n",
    "mile = NUM / mile_m\n",
    "inch = NUM / inch_m\n",
    "print(f\"{NUM} 미터는 {mile} 마일이고 {inch} 인치입니다.\")"
   ]
  },
  {
   "cell_type": "markdown",
   "id": "7975027a",
   "metadata": {},
   "source": [
    "# Q5\n",
    "(5) 아래와 같이 \"시속 km\" 속도를 키보드로 입력 받고, \"초속 몇 m(미터)\"의 속도인지 환산하여 출력하는 파이썬 소스 코드를 작성합시다."
   ]
  },
  {
   "cell_type": "code",
   "execution_count": 11,
   "id": "7d2d7c9d",
   "metadata": {},
   "outputs": [
    {
     "name": "stdout",
     "output_type": "stream",
     "text": [
      "시속 40 km/h속도를 초당미터 단위로 환산하면 11.11111111111111 m/s입니다\n"
     ]
    }
   ],
   "source": [
    "NUM = int(input(\"속도입력(km/h) :\"))\n",
    "m_per_s = NUM * 1000 / 3600\n",
    "print(f\"시속 {NUM} km/h속도를 초당미터 단위로 환산하면 {m_per_s} m/s입니다\")"
   ]
  }
 ],
 "metadata": {
  "kernelspec": {
   "display_name": "Python 3",
   "language": "python",
   "name": "python3"
  },
  "language_info": {
   "codemirror_mode": {
    "name": "ipython",
    "version": 3
   },
   "file_extension": ".py",
   "mimetype": "text/x-python",
   "name": "python",
   "nbconvert_exporter": "python",
   "pygments_lexer": "ipython3",
   "version": "3.11.9"
  }
 },
 "nbformat": 4,
 "nbformat_minor": 5
}
