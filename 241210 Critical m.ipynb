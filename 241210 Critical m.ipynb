{
 "cells": [
  {
   "cell_type": "code",
   "execution_count": 2,
   "metadata": {},
   "outputs": [],
   "source": [
    "from sympy import *"
   ]
  },
  {
   "cell_type": "code",
   "execution_count": 30,
   "metadata": {},
   "outputs": [],
   "source": [
    "# 정규 분포의 확률 밀도 함수 정의\n",
    "x = Symbol('x',real=True)\n",
    "K,r,m = symbols('K r m',real=True)"
   ]
  },
  {
   "cell_type": "code",
   "execution_count": 31,
   "metadata": {},
   "outputs": [
    {
     "data": {
      "text/latex": [
       "$\\displaystyle \\frac{1}{\\pi \\left(x^{2} + 1\\right)}$"
      ],
      "text/plain": [
       "1/(pi*(x**2 + 1))"
      ]
     },
     "execution_count": 31,
     "metadata": {},
     "output_type": "execute_result"
    }
   ],
   "source": [
    "from sympy.stats import Cauchy, density\n",
    "\n",
    "# Define Cauchy distribution\n",
    "X = Cauchy('X', 0, 1)\n",
    "\n",
    "# Get the probability density function\n",
    "pdf = density(X)(x)\n",
    "pdf"
   ]
  },
  {
   "cell_type": "code",
   "execution_count": 32,
   "metadata": {},
   "outputs": [],
   "source": [
    "from sympy.stats import Normal, density\n",
    "\n",
    "# 정규 분포 정의\n",
    "X = Normal('X', 0, 1)\n",
    "# 확률 밀도 함수 가져오기\n",
    "pdf = density(X)(x)"
   ]
  },
  {
   "cell_type": "code",
   "execution_count": 33,
   "metadata": {},
   "outputs": [],
   "source": [
    "from sympy.stats import Normal, density\n",
    "\n",
    "# 평균이 0이고 분산이 1인 정규 분포 정의\n",
    "X = Normal('X', 0, 1)\n",
    "\n",
    "# 확률 밀도 함수 가져오기\n",
    "pdf = density(X)(x)\n",
    "pdf = sqrt(2) * exp(-x**2 / 2) / (2 * sqrt(pi))\n",
    "# pdf_expr"
   ]
  },
  {
   "cell_type": "code",
   "execution_count": 34,
   "metadata": {},
   "outputs": [
    {
     "data": {
      "text/latex": [
       "$\\displaystyle \\frac{1}{\\pi \\left(x^{2} + 1\\right)}$"
      ],
      "text/plain": [
       "1/(pi*(x**2 + 1))"
      ]
     },
     "execution_count": 34,
     "metadata": {},
     "output_type": "execute_result"
    }
   ],
   "source": [
    "pdf = 1 / (pi * (1 + x**2))\n",
    "pdf"
   ]
  },
  {
   "cell_type": "code",
   "execution_count": 35,
   "metadata": {},
   "outputs": [],
   "source": [
    "\n",
    "Omega_p = 4/pi * sqrt(K*r/m) #- 0.3056*sqrt(1/(K*r*m**3))\n",
    "r0 = 2*integrate(pdf*sqrt(1-(x/(K*r))**2), (x, 0, Omega_p))\n",
    "# rd_h = integrate(pdf*(1/(2*(1+m**2*x**2))), (x, Omega_p, oo))"
   ]
  },
  {
   "cell_type": "code",
   "execution_count": 38,
   "metadata": {},
   "outputs": [
    {
     "data": {
      "text/latex": [
       "$\\displaystyle \\frac{2 \\int\\limits_{0}^{\\frac{4 \\sqrt{\\frac{K r}{m}}}{\\pi}} \\frac{\\sqrt{- \\left(-1 + \\frac{x}{K r}\\right) \\left(1 + \\frac{x}{K r}\\right)}}{x^{2} + 1}\\, dx}{\\pi}$"
      ],
      "text/plain": [
       "2*Integral(sqrt(-(-1 + x/(K*r))*(1 + x/(K*r)))/(x**2 + 1), (x, 0, 4*sqrt(K*r/m)/pi))/pi"
      ]
     },
     "execution_count": 38,
     "metadata": {},
     "output_type": "execute_result"
    }
   ],
   "source": [
    "r0.doit()#.simplify()"
   ]
  },
  {
   "cell_type": "code",
   "execution_count": 31,
   "metadata": {},
   "outputs": [
    {
     "ename": "NotImplementedError",
     "evalue": "multiple generators [r, log(4*sqrt(K*r/m) + I*pi), log(4*sqrt(K*r/m) + I*pi/m), log(4*sqrt(K*r/m) - I*pi), log(4*sqrt(K*r/m) - I*pi/m)]\nNo algorithms are implemented to solve equation _Dummy_29507/pi - r + I*(m*log((4*m*sqrt(K*r/m) - I*pi)/m) - m*log((4*m*sqrt(K*r/m) + I*pi)/m) - log(4*sqrt(K*r/m) - I*pi) + log(4*sqrt(K*r/m) + I*pi))/(4*pi*(m**2 - 1))",
     "output_type": "error",
     "traceback": [
      "\u001b[0;31m---------------------------------------------------------------------------\u001b[0m",
      "\u001b[0;31mNotImplementedError\u001b[0m                       Traceback (most recent call last)",
      "Cell \u001b[0;32mIn[31], line 1\u001b[0m\n\u001b[0;32m----> 1\u001b[0m \u001b[43msolve\u001b[49m\u001b[43m(\u001b[49m\u001b[43mr0\u001b[49m\u001b[38;5;241;43m.\u001b[39;49m\u001b[43msimplify\u001b[49m\u001b[43m(\u001b[49m\u001b[43m)\u001b[49m\u001b[43m \u001b[49m\u001b[38;5;241;43m+\u001b[39;49m\u001b[43mrd_h\u001b[49m\u001b[38;5;241;43m.\u001b[39;49m\u001b[43msimplify\u001b[49m\u001b[43m(\u001b[49m\u001b[43m)\u001b[49m\u001b[43m \u001b[49m\u001b[38;5;241;43m-\u001b[39;49m\u001b[43m \u001b[49m\u001b[43mr\u001b[49m\u001b[43m,\u001b[49m\u001b[43mr\u001b[49m\u001b[43m)\u001b[49m\n",
      "File \u001b[0;32m/Library/Frameworks/Python.framework/Versions/3.11/lib/python3.11/site-packages/sympy/solvers/solvers.py:1145\u001b[0m, in \u001b[0;36msolve\u001b[0;34m(f, *symbols, **flags)\u001b[0m\n\u001b[1;32m   1143\u001b[0m         solution \u001b[38;5;241m=\u001b[39m _solve_undetermined(f[\u001b[38;5;241m0\u001b[39m], symbols, flags)\n\u001b[1;32m   1144\u001b[0m     \u001b[38;5;28;01mif\u001b[39;00m \u001b[38;5;129;01mnot\u001b[39;00m solution:\n\u001b[0;32m-> 1145\u001b[0m         solution \u001b[38;5;241m=\u001b[39m \u001b[43m_solve\u001b[49m\u001b[43m(\u001b[49m\u001b[43mf\u001b[49m\u001b[43m[\u001b[49m\u001b[38;5;241;43m0\u001b[39;49m\u001b[43m]\u001b[49m\u001b[43m,\u001b[49m\u001b[43m \u001b[49m\u001b[38;5;241;43m*\u001b[39;49m\u001b[43msymbols\u001b[49m\u001b[43m,\u001b[49m\u001b[43m \u001b[49m\u001b[38;5;241;43m*\u001b[39;49m\u001b[38;5;241;43m*\u001b[39;49m\u001b[43mflags\u001b[49m\u001b[43m)\u001b[49m\n\u001b[1;32m   1146\u001b[0m \u001b[38;5;28;01melse\u001b[39;00m:\n\u001b[1;32m   1147\u001b[0m     linear, solution \u001b[38;5;241m=\u001b[39m _solve_system(f, symbols, \u001b[38;5;241m*\u001b[39m\u001b[38;5;241m*\u001b[39mflags)\n",
      "File \u001b[0;32m/Library/Frameworks/Python.framework/Versions/3.11/lib/python3.11/site-packages/sympy/solvers/solvers.py:1693\u001b[0m, in \u001b[0;36m_solve\u001b[0;34m(f, *symbols, **flags)\u001b[0m\n\u001b[1;32m   1690\u001b[0m \u001b[38;5;66;03m# ----------- end of fallback ----------------------------\u001b[39;00m\n\u001b[1;32m   1692\u001b[0m \u001b[38;5;28;01mif\u001b[39;00m result \u001b[38;5;129;01mis\u001b[39;00m \u001b[38;5;28;01mFalse\u001b[39;00m:\n\u001b[0;32m-> 1693\u001b[0m     \u001b[38;5;28;01mraise\u001b[39;00m \u001b[38;5;167;01mNotImplementedError\u001b[39;00m(\u001b[38;5;124m'\u001b[39m\u001b[38;5;130;01m\\n\u001b[39;00m\u001b[38;5;124m'\u001b[39m\u001b[38;5;241m.\u001b[39mjoin([msg, not_impl_msg \u001b[38;5;241m%\u001b[39m f]))\n\u001b[1;32m   1695\u001b[0m result \u001b[38;5;241m=\u001b[39m _remove_duplicate_solutions(result)\n\u001b[1;32m   1697\u001b[0m \u001b[38;5;28;01mif\u001b[39;00m flags\u001b[38;5;241m.\u001b[39mget(\u001b[38;5;124m'\u001b[39m\u001b[38;5;124msimplify\u001b[39m\u001b[38;5;124m'\u001b[39m, \u001b[38;5;28;01mTrue\u001b[39;00m):\n",
      "\u001b[0;31mNotImplementedError\u001b[0m: multiple generators [r, log(4*sqrt(K*r/m) + I*pi), log(4*sqrt(K*r/m) + I*pi/m), log(4*sqrt(K*r/m) - I*pi), log(4*sqrt(K*r/m) - I*pi/m)]\nNo algorithms are implemented to solve equation _Dummy_29507/pi - r + I*(m*log((4*m*sqrt(K*r/m) - I*pi)/m) - m*log((4*m*sqrt(K*r/m) + I*pi)/m) - log(4*sqrt(K*r/m) - I*pi) + log(4*sqrt(K*r/m) + I*pi))/(4*pi*(m**2 - 1))"
     ]
    }
   ],
   "source": [
    "solve(r0.simplify() +rd_h.simplify() - r,r)"
   ]
  }
 ],
 "metadata": {
  "kernelspec": {
   "display_name": "Python 3",
   "language": "python",
   "name": "python3"
  },
  "language_info": {
   "codemirror_mode": {
    "name": "ipython",
    "version": 3
   },
   "file_extension": ".py",
   "mimetype": "text/x-python",
   "name": "python",
   "nbconvert_exporter": "python",
   "pygments_lexer": "ipython3",
   "version": "3.11.1"
  }
 },
 "nbformat": 4,
 "nbformat_minor": 2
}
