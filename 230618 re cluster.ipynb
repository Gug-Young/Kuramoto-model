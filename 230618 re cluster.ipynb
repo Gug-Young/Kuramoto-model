{
 "cells": [
  {
   "cell_type": "code",
   "execution_count": 1,
   "metadata": {},
   "outputs": [],
   "source": [
    "import numpy as np\n",
    "import matplotlib.pyplot as plt\n",
    "import pandas as pd\n",
    "\n",
    "from TO_sim.Sol_Kuramoto import Sol_Kuramoto_mK as mK\n",
    "from TO_sim.Sol_Kuramoto import Sol_Kuramoto_mf2 as mf2\n",
    "from TO_sim.Get_groups import phase_diagram,make_meanr\n",
    "\n",
    "from TO_sim.To_Draw import Draw_avg_vel_r\n",
    "from TO_sim.gen_Distribution import Normal\n",
    "from TO_sim.gen_Distribution import Quantile_Normal as Q_Normal\n",
    "from mpl_toolkits.axes_grid1.axes_divider import make_axes_locatable\n",
    "from tqdm.notebook import tqdm\n",
    "from scipy.signal import find_peaks\n",
    "import parmap\n",
    "from pprint import pprint"
   ]
  },
  {
   "cell_type": "code",
   "execution_count": 254,
   "metadata": {},
   "outputs": [],
   "source": [
    "seed =10\n",
    "N = 500\n",
    "theta_random,omega,Kc = Normal(N,0,1,seed=seed)\n",
    "omega = omega - np.mean(omega)\n",
    "omega = np.sort(omega)\n",
    "m = 0.95\n",
    "dt = 0.1\n",
    "t = np.arange(0,10000,dt)\n",
    "K = 4.1\n",
    "to_ppi = lambda y: (y + np.pi)%(2*np.pi) - np.pi\n",
    "theta, dtheta,rs = mf2(K,N=N,m=m,t_array=t,p_theta=theta_random,p_dtheta= 0*omega,p_omega=omega)"
   ]
  },
  {
   "cell_type": "code",
   "execution_count": 255,
   "metadata": {},
   "outputs": [],
   "source": [
    "dtheta_c = np.cumsum(dtheta,axis=0)\n",
    "r_c = np.cumsum(rs,axis=0)\n",
    "sum_time = 5000\n",
    "t_sum = t[sum_time:]\n",
    "avg_dtheta = (dtheta_c[sum_time:]-dtheta_c[:-sum_time])/sum_time\n",
    "avg_r = (r_c[sum_time:]-r_c[:-sum_time])/sum_time"
   ]
  },
  {
   "cell_type": "code",
   "execution_count": 256,
   "metadata": {},
   "outputs": [
    {
     "data": {
      "image/png": "[encoded data removed]",
      "text/plain": [
       "<Figure size 640x200 with 2 Axes>"
      ]
     },
     "metadata": {},
     "output_type": "display_data"
    }
   ],
   "source": [
    "Draw_avg_vel_r(t_sum=t_sum,avg_r=avg_r,KmN=(K,m,N),avg_dtheta=avg_dtheta)"
   ]
  },
  {
   "cell_type": "code",
   "execution_count": 257,
   "metadata": {},
   "outputs": [
    {
     "ename": "IndexError",
     "evalue": "arrays used as indices must be of integer (or boolean) type",
     "output_type": "error",
     "traceback": [
      "\u001b[1;31m---------------------------------------------------------------------------\u001b[0m",
      "\u001b[1;31mIndexError\u001b[0m                                Traceback (most recent call last)",
      "\u001b[1;32mc:\\Users\\kim9y\\Desktop\\Kuramoto\\Kuramoto-model\\230618 re cluster.ipynb Cell 5\u001b[0m in \u001b[0;36m3\n\u001b[0;32m     <a href='vscode-notebook-cell:/c%3A/Users/kim9y/Desktop/Kuramoto/Kuramoto-model/230618%20re%20cluster.ipynb#W3sZmlsZQ%3D%3D?line=27'>28</a>\u001b[0m sort_psize \u001b[39m=\u001b[39m np\u001b[39m.\u001b[39msort(psize)[::\u001b[39m-\u001b[39m\u001b[39m1\u001b[39m]\n\u001b[0;32m     <a href='vscode-notebook-cell:/c%3A/Users/kim9y/Desktop/Kuramoto/Kuramoto-model/230618%20re%20cluster.ipynb#W3sZmlsZQ%3D%3D?line=28'>29</a>\u001b[0m clusters \u001b[39m=\u001b[39m np\u001b[39m.\u001b[39marray([to_cluster_barg(arg_psize[i],peaks_new) \u001b[39mfor\u001b[39;00m i \u001b[39min\u001b[39;00m \u001b[39mrange\u001b[39m(\u001b[39mlen\u001b[39m(arg_psize))],dtype\u001b[39m=\u001b[39m\u001b[39mobject\u001b[39m)[:\u001b[39m10\u001b[39m]\n\u001b[1;32m---> <a href='vscode-notebook-cell:/c%3A/Users/kim9y/Desktop/Kuramoto/Kuramoto-model/230618%20re%20cluster.ipynb#W3sZmlsZQ%3D%3D?line=29'>30</a>\u001b[0m c_stability \u001b[39m=\u001b[39m np\u001b[39m.\u001b[39marray(\u001b[39mlist\u001b[39;49m(\u001b[39mmap\u001b[39;49m(to_cstability,clusters)))\n\u001b[0;32m     <a href='vscode-notebook-cell:/c%3A/Users/kim9y/Desktop/Kuramoto/Kuramoto-model/230618%20re%20cluster.ipynb#W3sZmlsZQ%3D%3D?line=30'>31</a>\u001b[0m mean_omega \u001b[39m=\u001b[39m np\u001b[39m.\u001b[39marray(\u001b[39mlist\u001b[39m(\u001b[39mmap\u001b[39m(to_mean_avg_d_o,clusters)))\n\u001b[0;32m     <a href='vscode-notebook-cell:/c%3A/Users/kim9y/Desktop/Kuramoto/Kuramoto-model/230618%20re%20cluster.ipynb#W3sZmlsZQ%3D%3D?line=32'>33</a>\u001b[0m \u001b[39mif\u001b[39;00m num\u001b[39m==\u001b[39m\u001b[39m0\u001b[39m:\n",
      "\u001b[1;32mc:\\Users\\kim9y\\Desktop\\Kuramoto\\Kuramoto-model\\230618 re cluster.ipynb Cell 5\u001b[0m in \u001b[0;36m1\n\u001b[0;32m      <a href='vscode-notebook-cell:/c%3A/Users/kim9y/Desktop/Kuramoto/Kuramoto-model/230618%20re%20cluster.ipynb#W3sZmlsZQ%3D%3D?line=8'>9</a>\u001b[0m     cluster \u001b[39m=\u001b[39m np\u001b[39m.\u001b[39marange(arg_C[\u001b[39m0\u001b[39m],arg_C[\u001b[39m1\u001b[39m])\n\u001b[0;32m     <a href='vscode-notebook-cell:/c%3A/Users/kim9y/Desktop/Kuramoto/Kuramoto-model/230618%20re%20cluster.ipynb#W3sZmlsZQ%3D%3D?line=9'>10</a>\u001b[0m     \u001b[39mreturn\u001b[39;00m cluster\n\u001b[1;32m---> <a href='vscode-notebook-cell:/c%3A/Users/kim9y/Desktop/Kuramoto/Kuramoto-model/230618%20re%20cluster.ipynb#W3sZmlsZQ%3D%3D?line=10'>11</a>\u001b[0m to_cstability \u001b[39m=\u001b[39m \u001b[39mlambda\u001b[39;00m x: np\u001b[39m.\u001b[39mmean(diff_dtheta[x[\u001b[39m1\u001b[39;49m:]])\n\u001b[0;32m     <a href='vscode-notebook-cell:/c%3A/Users/kim9y/Desktop/Kuramoto/Kuramoto-model/230618%20re%20cluster.ipynb#W3sZmlsZQ%3D%3D?line=11'>12</a>\u001b[0m to_mean_avg_d_o \u001b[39m=\u001b[39m \u001b[39mlambda\u001b[39;00m x: np\u001b[39m.\u001b[39mmean(avg_dtheta[index][x])\n\u001b[0;32m     <a href='vscode-notebook-cell:/c%3A/Users/kim9y/Desktop/Kuramoto/Kuramoto-model/230618%20re%20cluster.ipynb#W3sZmlsZQ%3D%3D?line=12'>13</a>\u001b[0m iter_time \u001b[39m=\u001b[39m \u001b[39m200\u001b[39m\u001b[39m*\u001b[39m\u001b[39m5\u001b[39m\n",
      "\u001b[1;31mIndexError\u001b[0m: arrays used as indices must be of integer (or boolean) type"
     ]
    }
   ],
   "source": [
    "def to_cluster(idx,peaks_new,arg):\n",
    "    C = idx,idx+1\n",
    "    arg_C = peaks_new[C[0]],peaks_new[C[1]]\n",
    "    cluster = arg[arg_C[0]:arg_C[1]]\n",
    "    return cluster\n",
    "def to_cluster_barg(idx,peaks_new):\n",
    "    C = idx,idx+1\n",
    "    arg_C = peaks_new[C[0]],peaks_new[C[1]]\n",
    "    cluster = np.arange(arg_C[0],arg_C[1])\n",
    "    return cluster\n",
    "to_cstability = lambda x: np.mean(diff_dtheta[x[1:]])\n",
    "to_mean_avg_d_o = lambda x: np.mean(avg_dtheta[index][x])\n",
    "iter_time = 200*5\n",
    "num = 0\n",
    "for index in range(-iter_time,0):\n",
    "    arg = np.argsort(avg_dtheta[index])\n",
    "    SD = avg_dtheta[index][arg]\n",
    "    diff_dtheta = np.diff([SD[0],*SD])\n",
    "    peaks, P  = find_peaks(diff_dtheta, height=0.01)\n",
    "    peaks = peaks[np.where((peaks<N)&(peaks>1))]\n",
    "    try:\n",
    "        peaks_new = np.array([peaks[0],*peaks])\n",
    "    except IndexError:\n",
    "        peaks_new = np.array([0,N])\n",
    "\n",
    "    psize = np.diff(peaks_new)\n",
    "    arg_psize = np.argsort(psize)[::-1]\n",
    "    sort_psize = np.sort(psize)[::-1]\n",
    "    clusters = np.array([to_cluster_barg(arg_psize[i],peaks_new) for i in range(len(arg_psize))],dtype=object)[:10]\n",
    "    c_stability = np.array(list(map(to_cstability,clusters)))\n",
    "    mean_omega = np.array(list(map(to_mean_avg_d_o,clusters)))\n",
    "    \n",
    "    if num==0:\n",
    "        psize_array = sort_psize[:10]\n",
    "        cluster_array = clusters\n",
    "        c_stability_array = c_stability\n",
    "        mean_omega_array = mean_omega\n",
    "        num+=1\n",
    "    else:\n",
    "        cluster_array = np.c_[cluster_array,clusters]\n",
    "        psize_array = np.c_[psize_array,sort_psize[:10]]\n",
    "        c_stability_array = np.c_[c_stability_array,c_stability]\n",
    "        mean_omega_array = np.c_[mean_omega_array,mean_omega]\n",
    "\n",
    "\n",
    "# Is_group = np.where((np.std(psize_array,axis=1) == 0))#&(psize_array[:,-1]>10))\n",
    "Is_group = np.where((np.std(mean_omega_array,axis=1) < 1e-2))#&(psize_array[:,-1]>10)) # 그룹을 개수로 판별하기 때문에 개수가 같아 그룹이 이동하면 그룹이 아닌걸로 판별해야 한다.\n",
    "mean_group_s = np.mean(c_stability_array,axis=1)\n",
    "Is_group_s = np.where((mean_group_s<5e-4))#&(psize_array[:,-1]>10))\n",
    "print(Is_group,mean_group_s,Is_group_s)"
   ]
  },
  {
   "cell_type": "code",
   "execution_count": 245,
   "metadata": {},
   "outputs": [
    {
     "data": {
      "text/plain": [
       "array([237.   ,  88.   ,  39.421,  18.   ,  13.   ,   8.491,   7.491,\n",
       "         6.482,   5.717,   5.014])"
      ]
     },
     "execution_count": 245,
     "metadata": {},
     "output_type": "execute_result"
    }
   ],
   "source": [
    "np.mean(psize_array,axis=1)"
   ]
  },
  {
   "cell_type": "code",
   "execution_count": 246,
   "metadata": {},
   "outputs": [
    {
     "data": {
      "text/plain": [
       "array([ True, False, False, False, False, False, False, False, False,\n",
       "       False])"
      ]
     },
     "execution_count": 246,
     "metadata": {},
     "output_type": "execute_result"
    }
   ],
   "source": [
    "np.std(mean_omega_array,axis=1) < 1e-3"
   ]
  },
  {
   "cell_type": "code",
   "execution_count": 247,
   "metadata": {},
   "outputs": [
    {
     "data": {
      "text/plain": [
       "array([2.59225314e-04, 1.43517412e-03, 1.74480692e-03, 2.97209320e-03,\n",
       "       1.14591996e-03, 1.52450248e+00, 1.62872922e+00, 1.42485931e+00,\n",
       "       1.34931901e+00, 1.17261714e+00])"
      ]
     },
     "execution_count": 247,
     "metadata": {},
     "output_type": "execute_result"
    }
   ],
   "source": [
    "np.std(mean_omega_array,axis=1) "
   ]
  },
  {
   "cell_type": "code",
   "execution_count": 248,
   "metadata": {},
   "outputs": [
    {
     "ename": "IndexError",
     "evalue": "arrays used as indices must be of integer (or boolean) type",
     "output_type": "error",
     "traceback": [
      "\u001b[1;31m---------------------------------------------------------------------------\u001b[0m",
      "\u001b[1;31mIndexError\u001b[0m                                Traceback (most recent call last)",
      "\u001b[1;32mc:\\Users\\kim9y\\Desktop\\Kuramoto\\Kuramoto-model\\230618 re cluster.ipynb Cell 9\u001b[0m in \u001b[0;36m1\n\u001b[1;32m----> <a href='vscode-notebook-cell:/c%3A/Users/kim9y/Desktop/Kuramoto/Kuramoto-model/230618%20re%20cluster.ipynb#X44sZmlsZQ%3D%3D?line=0'>1</a>\u001b[0m avg_dtheta[cluster_array[\u001b[39m0\u001b[39;49m]]\n",
      "\u001b[1;31mIndexError\u001b[0m: arrays used as indices must be of integer (or boolean) type"
     ]
    }
   ],
   "source": [
    "avg_dtheta[cluster_array[0]]"
   ]
  },
  {
   "cell_type": "code",
   "execution_count": 176,
   "metadata": {},
   "outputs": [
    {
     "data": {
      "text/plain": [
       "array([1, 2, 3, 4, 5])"
      ]
     },
     "execution_count": 176,
     "metadata": {},
     "output_type": "execute_result"
    }
   ],
   "source": [
    "np.sort([1,2,3,4,5],)"
   ]
  },
  {
   "cell_type": "code",
   "execution_count": 177,
   "metadata": {},
   "outputs": [
    {
     "data": {
      "text/plain": [
       "array([1.70875212e-06, 7.94050582e-05, 1.94742256e-03, 1.47799015e-03,\n",
       "       8.95894209e-04, 5.31795613e-03, 5.67710267e-03, 4.65081161e-03,\n",
       "       3.49874222e-03, 2.87975135e-03])"
      ]
     },
     "execution_count": 177,
     "metadata": {},
     "output_type": "execute_result"
    }
   ],
   "source": [
    "c_stability"
   ]
  },
  {
   "cell_type": "code",
   "execution_count": 190,
   "metadata": {},
   "outputs": [
    {
     "data": {
      "text/plain": [
       "[-0.4676969075853966, -0.2974418516186783, 0.15493626164862903]"
      ]
     },
     "execution_count": 190,
     "metadata": {},
     "output_type": "execute_result"
    }
   ],
   "source": [
    "RC = np.where((c_stability < 1e-3))\n",
    "RC_arg_psize = np.sort(arg_psize[RC])\n",
    "[len(to_cluster_barg(arg,peaks_new)) for arg in RC_arg_psize]\n",
    "[np.mean(avg_dtheta[-1][(to_cluster_barg(arg,peaks_new))]) for arg in RC_arg_psize]"
   ]
  },
  {
   "cell_type": "code",
   "execution_count": 80,
   "metadata": {},
   "outputs": [
    {
     "data": {
      "text/plain": [
       "array([  0,   2,   3,   8,  30,   2, 407,  24,   5,   4,   2,   3],\n",
       "      dtype=int64)"
      ]
     },
     "execution_count": 80,
     "metadata": {},
     "output_type": "execute_result"
    }
   ],
   "source": [
    "psize"
   ]
  },
  {
   "cell_type": "code",
   "execution_count": 151,
   "metadata": {},
   "outputs": [],
   "source": []
  },
  {
   "cell_type": "code",
   "execution_count": 152,
   "metadata": {},
   "outputs": [
    {
     "name": "stderr",
     "output_type": "stream",
     "text": [
      "c:\\Users\\kim9y\\AppData\\Local\\Programs\\Python\\Python311\\Lib\\site-packages\\numpy\\core\\fromnumeric.py:3432: RuntimeWarning: Mean of empty slice.\n",
      "  return _methods._mean(a, axis=axis, dtype=dtype,\n",
      "c:\\Users\\kim9y\\AppData\\Local\\Programs\\Python\\Python311\\Lib\\site-packages\\numpy\\core\\_methods.py:190: RuntimeWarning: invalid value encountered in double_scalars\n",
      "  ret = ret.dtype.type(ret / rcount)\n"
     ]
    }
   ],
   "source": [
    "c_stability = np.array([np.mean(diff_dtheta[to_cluster_barg(arg_psize[i],peaks_new)[1:]]) for i in range(len(arg_psize))])[:10]"
   ]
  },
  {
   "cell_type": "code",
   "execution_count": 159,
   "metadata": {},
   "outputs": [],
   "source": [
    "to_cluster_bargx = lambda x: to_cluster_barg(x,peaks_new=peaks_new)\n"
   ]
  },
  {
   "cell_type": "code",
   "execution_count": 249,
   "metadata": {},
   "outputs": [
    {
     "name": "stdout",
     "output_type": "stream",
     "text": [
      "237 88 40 18 13 8 7 6 5 5 5 5 5 4 4 4 4 3 3 3 3 3 3 3 3 3 2 2 2 2 2 0\n",
      "9.702416687000315e-06 1.0168986051023773e-05 0.0027602234678427992 5.2684815897198394e-05 0.0012610396171786609 0.021553731457835883 0.006424041407257534 0.0004006913799321055 0.015182903464416475 0.001487273472578099 0.017375295499704846 0.006444588892733749 0.0034405049147098743 0.029341996990687475 0.021031128109167 0.012092740156846915 0.0004031157928266656 0.03800153569613185 0.042109259403354304 0.011110914268935512 0.013614192565373329 0.0013128513924209884 0.0016148624034351133 0.018662424322107185 0.01728824875651913 0.008376301304611755 0.000789519365271607 0.02058200900339857 0.00018190393318073816 1.295843679693931e-06 0.10074598736836915 nan\n",
      "0.09141460473421623 -0.5396203269099754 0.799441984907364 -1.2999120751813695 1.130307163453322 -1.9825490279540428 1.297169652842581 -0.9483140563174582 -1.728047708418077 1.0748751429663845 2.3461672472550776 1.3478231971891654 1.4395103202995692 1.6475921924948211 -1.3639679439872023 -0.9948106703818034 -1.5635500852979343 -2.1631362773130745 1.8269415797983102 -1.6620872935767033 -1.6293504876852287 1.1604168619560136 1.0993852380112725 -1.098526598139669 2.190265979805521 1.5126864191677132 -1.5397626031752907 -1.2209570662878104 1.5553647174808458 1.951232573119606 -2.3746631403186735 nan\n"
     ]
    },
    {
     "data": {
      "image/png": "[encoded data removed]",
      "text/plain": [
       "<Figure size 640x480 with 1 Axes>"
      ]
     },
     "metadata": {},
     "output_type": "display_data"
    }
   ],
   "source": [
    "clusters = [to_cluster_barg(arg_psize[i],peaks_new) for i in range(len(arg_psize))]\n",
    "print(*list(map(len,clusters)))\n",
    "print(*list(map(to_cstability,clusters)))\n",
    "print(*list(map(to_mean_avg_d_o,clusters)))\n",
    "\n",
    "plt.plot(avg_dtheta[-1][arg])\n",
    "for i in range(5):\n",
    "    # i = 0\n",
    "    x = to_cluster_bargx(arg_psize[i])[:]\n",
    "    y = avg_dtheta[-1][arg][x]\n",
    "    plt.plot(x,y)\n",
    "    plt.text(np.mean(x),np.mean(y),f'{np.mean(diff_dtheta[x[1:]])}')"
   ]
  },
  {
   "cell_type": "code",
   "execution_count": 250,
   "metadata": {},
   "outputs": [
    {
     "data": {
      "image/png": "[encoded data removed]",
      "text/plain": [
       "<Figure size 640x480 with 1 Axes>"
      ]
     },
     "metadata": {},
     "output_type": "display_data"
    }
   ],
   "source": [
    "plt.scatter(np.array([np.arange(10) for i in range(1000)]),abs(mean_omega_array-mean_omega_array[0]).T,s=psize_array.T);"
   ]
  },
  {
   "cell_type": "code",
   "execution_count": 42,
   "metadata": {},
   "outputs": [
    {
     "data": {
      "text/plain": [
       "array([ 0.03495559, -1.49706609,  2.2668969 ,  1.37804924, -1.88075726,\n",
       "       -1.03196914, -1.77905668, -1.27398378,  1.65887824, -2.03190253])"
      ]
     },
     "execution_count": 42,
     "metadata": {},
     "output_type": "execute_result"
    }
   ],
   "source": [
    "mean_omega"
   ]
  },
  {
   "cell_type": "code",
   "execution_count": 252,
   "metadata": {},
   "outputs": [
    {
     "name": "stdout",
     "output_type": "stream",
     "text": [
      "(array([0, 1, 2, 3, 4], dtype=int64),)\n",
      "L 0 16 88 88\n",
      "L 1 10 18 18\n",
      "R 0 18 39 39\n",
      "R 1 20 13 13\n",
      "M 237\n",
      "(39, 579) 40\n",
      "(39, 579) 40\n",
      "(39, 579) 40\n",
      "(39, 579) 40\n",
      "(39, 579) 40\n",
      "(39, 579) 40\n",
      "(39, 579) 40\n",
      "(39, 579) 40\n",
      "(39, 579) 40\n",
      "(39, 579) 40\n",
      "(39, 579) 40\n",
      "(39, 579) 40\n",
      "(39, 579) 40\n",
      "(39, 579) 40\n",
      "(39, 579) 40\n",
      "(39, 579) 40\n",
      "(39, 579) 40\n",
      "(39, 579) 40\n",
      "(39, 579) 40\n",
      "(39, 579) 40\n",
      "(39, 579) 40\n",
      "(39, 579) 40\n",
      "(39, 579) 40\n",
      "(39, 579) 40\n",
      "(39, 579) 40\n",
      "(39, 579) 40\n",
      "(39, 579) 40\n",
      "(39, 579) 40\n",
      "(39, 579) 40\n",
      "(39, 579) 40\n",
      "(39, 579) 40\n",
      "(39, 579) 40\n",
      "(39, 579) 40\n",
      "(39, 579) 40\n",
      "(39, 579) 40\n",
      "(39, 579) 40\n",
      "(39, 579) 40\n",
      "(39, 579) 40\n",
      "(39, 579) 40\n",
      "(39, 579) 40\n",
      "(39, 579) 40\n",
      "(39, 579) 40\n",
      "(39, 579) 40\n",
      "(39, 579) 40\n",
      "(39, 579) 40\n",
      "(39, 579) 40\n",
      "(39, 579) 40\n",
      "(39, 579) 40\n",
      "(39, 579) 40\n",
      "(39, 579) 40\n",
      "(39, 579) 40\n",
      "(39, 579) 40\n",
      "(39, 579) 40\n",
      "(39, 579) 40\n",
      "(39, 579) 40\n",
      "(39, 579) 40\n",
      "(39, 579) 40\n",
      "(39, 579) 40\n",
      "(39, 579) 40\n",
      "(39, 579) 40\n",
      "(39, 579) 40\n",
      "(39, 579) 40\n",
      "(39, 579) 40\n",
      "(39, 579) 40\n",
      "(39, 579) 40\n",
      "(39, 579) 40\n",
      "(39, 579) 40\n",
      "(39, 579) 40\n",
      "(39, 579) 40\n",
      "(39, 579) 40\n",
      "(39, 579) 40\n",
      "(39, 579) 40\n",
      "(39, 579) 40\n",
      "(39, 579) 40\n",
      "(39, 579) 40\n",
      "(39, 579) 40\n",
      "(39, 579) 40\n",
      "(39, 579) 40\n",
      "(39, 579) 40\n",
      "(39, 579) 40\n",
      "(39, 579) 40\n",
      "(39, 579) 40\n",
      "(39, 579) 40\n",
      "(39, 579) 40\n",
      "(39, 579) 40\n",
      "(39, 579) 40\n",
      "(39, 579) 40\n",
      "(39, 579) 40\n",
      "(39, 579) 40\n",
      "(39, 579) 40\n",
      "(39, 579) 40\n",
      "(39, 579) 40\n",
      "(39, 579) 40\n",
      "(39, 579) 40\n",
      "(39, 579) 40\n",
      "(39, 579) 40\n",
      "(39, 579) 40\n",
      "(39, 579) 40\n",
      "(39, 579) 40\n",
      "(39, 579) 40\n",
      "(39, 579) 40\n",
      "(39, 579) 40\n",
      "(39, 579) 40\n",
      "(39, 579) 40\n",
      "(39, 579) 40\n",
      "(39, 579) 40\n",
      "(39, 579) 40\n",
      "(39, 579) 40\n",
      "(39, 579) 40\n",
      "(39, 579) 40\n",
      "(39, 579) 40\n",
      "(39, 579) 40\n",
      "(39, 579) 40\n",
      "(39, 579) 40\n",
      "(39, 579) 40\n",
      "(39, 579) 40\n",
      "(39, 579) 40\n",
      "(39, 579) 40\n",
      "(39, 579) 40\n",
      "(39, 579) 40\n",
      "(39, 579) 40\n",
      "(39, 579) 40\n",
      "(39, 579) 40\n",
      "(39, 579) 40\n",
      "(39, 579) 40\n",
      "(39, 579) 40\n",
      "(39, 579) 40\n",
      "(39, 579) 40\n",
      "(39, 579) 40\n",
      "(39, 579) 40\n",
      "(39, 579) 40\n",
      "(39, 579) 40\n",
      "(39, 579) 40\n",
      "(39, 579) 40\n",
      "(39, 579) 40\n",
      "(39, 579) 40\n",
      "(39, 579) 40\n",
      "(39, 579) 40\n",
      "(39, 579) 40\n",
      "(39, 579) 40\n",
      "(39, 579) 40\n",
      "(39, 579) 40\n",
      "(39, 579) 40\n",
      "(39, 579) 40\n",
      "(39, 579) 40\n",
      "(39, 579) 40\n",
      "(39, 579) 40\n",
      "(39, 579) 40\n",
      "(39, 579) 40\n",
      "(39, 579) 40\n",
      "(39, 579) 40\n",
      "(39, 579) 40\n",
      "(39, 579) 40\n",
      "(39, 579) 40\n",
      "(39, 579) 40\n",
      "(39, 579) 40\n",
      "(39, 579) 40\n",
      "(39, 579) 40\n",
      "(39, 579) 40\n",
      "(39, 579) 40\n",
      "(39, 579) 40\n",
      "(39, 579) 40\n",
      "(39, 579) 40\n",
      "(39, 579) 40\n",
      "(39, 579) 40\n",
      "(39, 579) 40\n",
      "(39, 579) 40\n",
      "(39, 579) 40\n",
      "(39, 579) 40\n",
      "(39, 579) 40\n",
      "(39, 579) 40\n",
      "(39, 579) 40\n",
      "(39, 579) 40\n",
      "(39, 579) 40\n",
      "(39, 579) 40\n",
      "(39, 579) 40\n",
      "(39, 579) 40\n",
      "(39, 579) 40\n",
      "(39, 579) 40\n",
      "(39, 579) 40\n",
      "(39, 579) 40\n",
      "(39, 579) 40\n",
      "(39, 579) 40\n",
      "(39, 579) 40\n",
      "(39, 579) 40\n",
      "(39, 579) 40\n",
      "(39, 579) 40\n",
      "(39, 579) 40\n",
      "(39, 579) 40\n",
      "(39, 579) 40\n",
      "(39, 579) 40\n",
      "(39, 579) 40\n",
      "(39, 579) 40\n",
      "(39, 579) 40\n",
      "(39, 579) 40\n",
      "(39, 579) 40\n",
      "(39, 579) 40\n",
      "(39, 579) 40\n",
      "(39, 579) 40\n",
      "(39, 579) 40\n",
      "(39, 579) 40\n",
      "(39, 579) 40\n",
      "(39, 579) 40\n",
      "(39, 579) 40\n",
      "(39, 579) 40\n",
      "(39, 579) 40\n",
      "(39, 579) 40\n",
      "(39, 579) 40\n",
      "(39, 579) 40\n",
      "(39, 579) 40\n",
      "(39, 579) 40\n",
      "(39, 579) 40\n",
      "(39, 579) 40\n",
      "(39, 579) 40\n",
      "(39, 579) 40\n",
      "(39, 579) 40\n",
      "(39, 579) 40\n",
      "(39, 579) 40\n",
      "(39, 579) 40\n",
      "(39, 579) 40\n",
      "(39, 579) 40\n",
      "(39, 579) 40\n",
      "(39, 579) 40\n",
      "(39, 579) 40\n",
      "(39, 579) 40\n",
      "(39, 579) 40\n",
      "(39, 579) 40\n",
      "(39, 579) 40\n",
      "(39, 579) 40\n",
      "(39, 579) 40\n",
      "(39, 579) 40\n",
      "(39, 579) 40\n",
      "(39, 579) 40\n",
      "(39, 579) 40\n",
      "(39, 579) 40\n",
      "(39, 579) 40\n",
      "(39, 579) 40\n",
      "(39, 579) 40\n",
      "(39, 579) 40\n",
      "(39, 579) 40\n",
      "(39, 579) 40\n",
      "(39, 579) 40\n",
      "(39, 579) 40\n",
      "(39, 579) 40\n",
      "(39, 579) 40\n",
      "(39, 579) 40\n",
      "(39, 579) 40\n",
      "(39, 579) 40\n",
      "(39, 579) 40\n",
      "(39, 579) 40\n",
      "(39, 579) 40\n",
      "(39, 579) 40\n",
      "(39, 579) 40\n",
      "(39, 579) 40\n",
      "(39, 579) 40\n",
      "(39, 579) 40\n",
      "(39, 579) 40\n",
      "(39, 579) 40\n",
      "(39, 579) 40\n",
      "(39, 579) 40\n",
      "(39, 579) 40\n",
      "(39, 579) 40\n",
      "(39, 579) 40\n",
      "(39, 579) 40\n",
      "(39, 579) 40\n",
      "(39, 579) 40\n",
      "(39, 579) 40\n",
      "(39, 579) 40\n",
      "(39, 579) 40\n",
      "(39, 579) 40\n",
      "(39, 579) 40\n",
      "(39, 579) 40\n",
      "(39, 579) 40\n",
      "(39, 579) 40\n",
      "(39, 579) 40\n",
      "(39, 579) 40\n",
      "(39, 579) 40\n",
      "(39, 579) 40\n",
      "(39, 579) 40\n",
      "(39, 579) 40\n",
      "(39, 579) 40\n",
      "(39, 579) 40\n",
      "(39, 579) 40\n",
      "(39, 579) 40\n",
      "(39, 579) 40\n",
      "(39, 579) 40\n",
      "(39, 579) 40\n",
      "(39, 579) 40\n",
      "(39, 579) 40\n",
      "(39, 579) 40\n",
      "(39, 579) 40\n",
      "(39, 579) 40\n",
      "(39, 579) 40\n",
      "(39, 579) 40\n",
      "(39, 579) 40\n",
      "(39, 579) 40\n",
      "(39, 579) 40\n",
      "(39, 579) 40\n",
      "(39, 579) 40\n",
      "(39, 579) 40\n",
      "(39, 579) 40\n",
      "(39, 579) 40\n",
      "(39, 579) 40\n",
      "(39, 579) 40\n",
      "(39, 579) 40\n",
      "(39, 579) 40\n",
      "(39, 579) 40\n",
      "(39, 579) 40\n",
      "(39, 579) 40\n",
      "(39, 579) 40\n",
      "(39, 579) 40\n",
      "(39, 579) 40\n",
      "(39, 579) 40\n",
      "(39, 579) 40\n",
      "(39, 579) 40\n",
      "(39, 579) 40\n",
      "(39, 579) 40\n",
      "(39, 579) 40\n",
      "(39, 579) 40\n",
      "(39, 579) 40\n",
      "(39, 579) 40\n",
      "(39, 579) 40\n",
      "(39, 579) 40\n",
      "(39, 579) 40\n",
      "(39, 579) 40\n",
      "(39, 579) 40\n",
      "(39, 579) 40\n",
      "(39, 579) 40\n",
      "(39, 579) 40\n",
      "(39, 579) 40\n",
      "(39, 579) 40\n",
      "(39, 579) 40\n",
      "(39, 579) 40\n",
      "(39, 579) 40\n",
      "(39, 579) 40\n",
      "(39, 579) 40\n",
      "(39, 579) 40\n",
      "(39, 579) 40\n",
      "(39, 579) 40\n",
      "(39, 579) 40\n",
      "(39, 579) 40\n",
      "(39, 579) 40\n",
      "(39, 579) 40\n",
      "(39, 579) 40\n",
      "(39, 579) 40\n",
      "(39, 579) 40\n",
      "(39, 579) 40\n",
      "(39, 579) 40\n",
      "(39, 579) 40\n",
      "(39, 579) 40\n",
      "(39, 579) 40\n",
      "(39, 579) 40\n",
      "(39, 579) 40\n",
      "(39, 579) 40\n",
      "(39, 579) 40\n",
      "(39, 579) 40\n",
      "(39, 579) 40\n",
      "(39, 579) 40\n",
      "(39, 579) 40\n",
      "(39, 579) 40\n",
      "(39, 579) 40\n",
      "(39, 579) 40\n",
      "(39, 579) 40\n",
      "(39, 579) 40\n",
      "(39, 579) 40\n",
      "(39, 579) 40\n",
      "(39, 579) 40\n",
      "(39, 579) 40\n",
      "(39, 579) 40\n",
      "(39, 579) 40\n",
      "(39, 579) 40\n",
      "(39, 579) 40\n",
      "(39, 579) 40\n",
      "(39, 579) 40\n",
      "(39, 579) 40\n",
      "(39, 579) 40\n",
      "(39, 579) 40\n",
      "(39, 579) 40\n",
      "(39, 579) 40\n",
      "(39, 579) 40\n",
      "(39, 579) 40\n",
      "(39, 579) 40\n",
      "(39, 579) 40\n",
      "(39, 579) 40\n",
      "(39, 579) 40\n",
      "(39, 579) 40\n",
      "(39, 579) 40\n",
      "(39, 579) 40\n",
      "(39, 579) 40\n",
      "(39, 579) 40\n",
      "(39, 579) 40\n",
      "(39, 579) 40\n",
      "(39, 579) 40\n",
      "(39, 579) 40\n",
      "(39, 579) 40\n",
      "(39, 579) 40\n",
      "(39, 579) 40\n",
      "(39, 579) 40\n",
      "(39, 579) 40\n",
      "(39, 579) 40\n",
      "(39, 579) 40\n",
      "(39, 579) 40\n",
      "(39, 579) 40\n",
      "(39, 579) 40\n",
      "(39, 579) 40\n",
      "(39, 579) 40\n",
      "(39, 579) 40\n",
      "(39, 579) 40\n",
      "(39, 579) 40\n",
      "(39, 579) 40\n",
      "(39, 579) 40\n",
      "(39, 579) 40\n",
      "(39, 579) 40\n",
      "(39, 579) 40\n",
      "(39, 579) 40\n",
      "(39, 579) 40\n",
      "(39, 579) 40\n",
      "(39, 579) 40\n",
      "(39, 579) 40\n",
      "(39, 579) 40\n",
      "(39, 579) 40\n"
     ]
    }
   ],
   "source": [
    "\n",
    "print(Is_group)\n",
    "L_cluster = {}\n",
    "R_cluster = {}\n",
    "M_cluster = []\n",
    "\n",
    "num = 0\n",
    "L_cluster_sort = {}\n",
    "R_cluster_sort = {}\n",
    "M_cluster_sort = []\n",
    "if len(Is_group[0]) !=0:\n",
    "    for index in range(-iter_time,0):\n",
    "        arg = np.argsort(avg_dtheta[index])\n",
    "        SD = avg_dtheta[index][arg]\n",
    "        diff_dtheta = np.diff([SD[0],*SD])\n",
    "        peaks, P  = find_peaks(diff_dtheta, height=0.01)\n",
    "        peaks = peaks[np.where((peaks<N)&(peaks>1))]\n",
    "\n",
    "        try:\n",
    "            peaks_new = np.array([peaks[0],*peaks])\n",
    "        except IndexError:\n",
    "            peaks_new = np.array([0,N])\n",
    "        psize = np.diff(peaks_new)\n",
    "        arg_psize = np.argsort(psize)[::-1]\n",
    "\n",
    "        if -iter_time == index:\n",
    "            sort_psize = np.sort(psize)[::-1]\n",
    "            \n",
    "            IS_main = []\n",
    "            for i in range(10):\n",
    "                C = arg_psize[i],arg_psize[i]+1\n",
    "                arg_C = peaks_new[C[0]],peaks_new[C[1]]\n",
    "                cluster = arg[arg_C[0]:arg_C[1]]\n",
    "                if (N//2 in cluster)&(num==0):\n",
    "                    main_i = i\n",
    "                    num+=1\n",
    "                IS_main.append(np.mean(abs(cluster -N//2)))\n",
    "            main_i = np.argmin(IS_main)\n",
    "            main_10 = arg_psize[:10][Is_group]\n",
    "            \n",
    "            M_cluster_idx = main_10[main_i]\n",
    "            L_cluster_idx = main_10[main_10<main_10[main_i]]\n",
    "            L_cluster_g = Is_group[0][main_10<main_10[main_i]]\n",
    "            R_cluster_idx = main_10[main_10>main_10[main_i]]\n",
    "            R_cluster_g = Is_group[0][main_10>main_10[main_i]]\n",
    "            for i,idx in enumerate(L_cluster_idx):\n",
    "                L_c = to_cluster(idx,peaks_new=peaks_new,arg=arg)\n",
    "                L_cluster[i] = L_c\n",
    "                print('L',i,idx,len(L_c),psize[idx])\n",
    "            for i,idx in enumerate(R_cluster_idx):\n",
    "                R_c = to_cluster(idx,peaks_new=peaks_new,arg=arg)\n",
    "                R_cluster[i] = R_c\n",
    "                print('R',i,idx,len(R_c),psize[idx])\n",
    "            M_cluster = to_cluster(M_cluster_idx,peaks_new=peaks_new,arg=arg)\n",
    "            print(\"M\",len(M_cluster))\n",
    "            # break\n",
    "        else:\n",
    "            main_10 = arg_psize[:10][Is_group]\n",
    "            M_cluster_idx = main_10[main_i]\n",
    "            L_cluster_idx = arg_psize[:10][L_cluster_g]\n",
    "            R_cluster_idx = arg_psize[:10][R_cluster_g]\n",
    "            M_cluster = np.c_[M_cluster,to_cluster(M_cluster_idx,peaks_new=peaks_new,arg=arg)]\n",
    "\n",
    "            for i,Lidx in enumerate(L_cluster_idx):\n",
    "                try:\n",
    "                    L_cluster[i] = np.c_[L_cluster[i],to_cluster(Lidx,peaks_new=peaks_new,arg=arg)]\n",
    "                except ValueError:\n",
    "                    print(L_cluster[i].shape,len(to_cluster(Lidx,peaks_new=peaks_new,arg=arg)))\n",
    "\n",
    "            for i,Ridx in enumerate(R_cluster_idx):\n",
    "                try:\n",
    "                    R_cluster[i] = np.c_[R_cluster[i],to_cluster(Ridx,peaks_new=peaks_new,arg=arg)]\n",
    "                except ValueError:\n",
    "                    print(R_cluster[i].shape,len(to_cluster(Ridx,peaks_new=peaks_new,arg=arg)))\n",
    "                    # break"
   ]
  },
  {
   "cell_type": "code",
   "execution_count": 143,
   "metadata": {},
   "outputs": [
    {
     "data": {
      "image/png": "[encoded data removed]",
      "text/plain": [
       "<Figure size 640x480 with 1 Axes>"
      ]
     },
     "metadata": {},
     "output_type": "display_data"
    }
   ],
   "source": [
    "plt.plot(abs(avg_dtheta[-100:].T),alpha=0.1,zorder=0,color ='tab:blue');\n"
   ]
  },
  {
   "cell_type": "code",
   "execution_count": 253,
   "metadata": {},
   "outputs": [
    {
     "data": {
      "image/png": "[encoded data removed]",
      "text/plain": [
       "<Figure size 640x480 with 1 Axes>"
      ]
     },
     "metadata": {},
     "output_type": "display_data"
    }
   ],
   "source": [
    "main_10 = arg_psize[:10]\n",
    "plt.plot(avg_dtheta[-100:].T,alpha=0.1,zorder=0,color ='tab:blue')\n",
    "cluster = M_cluster[:,-1]\n",
    "plt.plot(cluster,avg_dtheta[-1][cluster],color = 'tab:orange',lw=3,alpha=0.9,label = f'Main cluster size: {len(cluster)}',zorder=1)\n",
    "for i,idx in enumerate(R_cluster.keys()):\n",
    "    cluster = R_cluster[i][:,-1]\n",
    "    plt.plot(cluster,avg_dtheta[-1][cluster],color = 'tab:green',lw=3,alpha=0.9,label = f'Right cluster {i} size: {len(cluster)}',zorder=1)\n",
    "for i,idx in enumerate(L_cluster.keys()):\n",
    "    cluster = L_cluster[i][:,-1]\n",
    "    plt.plot(cluster,avg_dtheta[-1][cluster],color = 'tab:red',lw=3,alpha=0.9,label = f'Left cluster {i} size: {len(cluster)}',zorder=1)\n",
    "\n",
    "\n",
    "\n",
    "\n",
    "plt.title('After')\n",
    "plt.xlabel('Oscillator number')\n",
    "plt.ylabel('avg angular velocity')\n",
    "plt.legend()\n",
    "plt.tight_layout()"
   ]
  },
  {
   "cell_type": "code",
   "execution_count": null,
   "metadata": {},
   "outputs": [],
   "source": []
  }
 ],
 "metadata": {
  "kernelspec": {
   "display_name": "Python 3",
   "language": "python",
   "name": "python3"
  },
  "language_info": {
   "codemirror_mode": {
    "name": "ipython",
    "version": 3
   },
   "file_extension": ".py",
   "mimetype": "text/x-python",
   "name": "python",
   "nbconvert_exporter": "python",
   "pygments_lexer": "ipython3",
   "version": "3.11.0"
  },
  "orig_nbformat": 4
 },
 "nbformat": 4,
 "nbformat_minor": 2
}
