{
 "cells": [
  {
   "cell_type": "code",
   "execution_count": 153,
   "metadata": {},
   "outputs": [],
   "source": [
    "import TO_sim.Q_simul as QSIM\n",
    "# import TO_sim.analytical.order_sec_parameter as OSP\n",
    "import TO_sim.analytical.sec_order_parameter2 as OSP2\n",
    "import numpy as np\n",
    "import matplotlib.pyplot as plt\n",
    "from scipy.stats import norm\n",
    "import pandas as pd\n",
    "from scipy.integrate import quad\n",
    "from scipy import interpolate"
   ]
  },
  {
   "cell_type": "code",
   "execution_count": null,
   "metadata": {},
   "outputs": [
    {
     "data": {
      "text/plain": [
       "<module 'TO_sim.analytical.sec_order_parameter2' from 'c:\\\\Users\\\\kim9y\\\\Desktop\\\\Kuramoto\\\\Kuramoto-model\\\\TO_sim\\\\analytical\\\\sec_order_parameter2.py'>"
      ]
     },
     "metadata": {},
     "output_type": "display_data"
    }
   ],
   "source": [
    "import imp\n",
    "imp.reload(QSIM)\n",
    "imp.reload(OSP2)\n"
   ]
  },
  {
   "cell_type": "code",
   "execution_count": null,
   "metadata": {},
   "outputs": [],
   "source": [
    "K_ = np.linspace(0,15,1000)"
   ]
  },
  {
   "cell_type": "code",
   "execution_count": 193,
   "metadata": {},
   "outputs": [],
   "source": [
    "m = 7\n",
    "F_RMd,F_RMu,F_R0d,F_R0u =  OSP2.Make_R_function(m)\n",
    "N = 1000\n",
    "K = 5\n",
    "Qsimul = QSIM.Q_Norm_simul(N,K=K,m = m,t_end=1000,start_p=True)\n",
    "\n",
    "sol = Qsimul.solve()\n",
    "# cluster_info = Qsimul.get_cluster()\n",
    "# r_clu_info = Qsimul.get_r_clu()\n"
   ]
  },
  {
   "cell_type": "code",
   "execution_count": 194,
   "metadata": {},
   "outputs": [],
   "source": [
    "cluster_info = Qsimul.get_cluster()\n",
    "r_clu_info = Qsimul.get_r_clu()"
   ]
  },
  {
   "cell_type": "code",
   "execution_count": 195,
   "metadata": {},
   "outputs": [],
   "source": [
    "O_0 = Qsimul.omega[cluster_info['c_cluster']['0']].max()\n",
    "O_20 = Qsimul.omega[cluster_info['c_cluster']['+']].max()"
   ]
  },
  {
   "cell_type": "code",
   "execution_count": 238,
   "metadata": {},
   "outputs": [
    {
     "data": {
      "text/plain": [
       "(0.7729356931282201, 1.3989160405098888)"
      ]
     },
     "execution_count": 238,
     "metadata": {},
     "output_type": "execute_result"
    }
   ],
   "source": [
    "O_0 ,O_20"
   ]
  },
  {
   "cell_type": "code",
   "execution_count": 232,
   "metadata": {},
   "outputs": [
    {
     "name": "stdout",
     "output_type": "stream",
     "text": [
      "0.8110716484575914\n"
     ]
    }
   ],
   "source": [
    "RM = F_R0u(K)\n",
    "r0 = r_clu_info['r_clu_mean']['0'][-1]\n",
    "rp = r_clu_info['r_clu_mean']['+'][-1]\n",
    "O_O = 4/np.pi * np.sqrt(r0*K/m) - 0.3056*1/np.sqrt(K*r0*m**3)\n",
    "print(O_O)"
   ]
  },
  {
   "cell_type": "code",
   "execution_count": 233,
   "metadata": {},
   "outputs": [],
   "source": [
    "K_ = np.linspace(0,15,30000)"
   ]
  },
  {
   "cell_type": "code",
   "execution_count": 234,
   "metadata": {},
   "outputs": [],
   "source": [
    "cross_point = np.sign((F_R0u(K_)[0:-1]-RM)*(F_R0u(K_)[1:]-RM))*(-0.5) + 0.5\n",
    "arg_check, = np.where(cross_point==1)\n",
    "\n",
    "K_match = (K_[arg_check] +K_[arg_check+1])/2"
   ]
  },
  {
   "cell_type": "code",
   "execution_count": 235,
   "metadata": {},
   "outputs": [
    {
     "name": "stdout",
     "output_type": "stream",
     "text": [
      "[0.76374926]\n"
     ]
    }
   ],
   "source": [
    "# O_O = 4/np.pi * np.sqrt(F_RMu(K_match)*K_match/m) - 0.3056*1/np.sqrt(K_match*F_RMu(K_match)*m**3)\n",
    "O_O = 4/np.pi * np.sqrt(F_R0u(K_match)*K_match/m) - 0.3056*1/np.sqrt(K_match*F_R0u(K_match)*m**3)\n",
    "print(O_O)"
   ]
  },
  {
   "cell_type": "code",
   "execution_count": 236,
   "metadata": {},
   "outputs": [
    {
     "name": "stdout",
     "output_type": "stream",
     "text": [
      "[0.28722372]\n"
     ]
    }
   ],
   "source": [
    "RP = norm.cdf(O_20) - norm.cdf(O_0)\n",
    "R0 = norm.cdf(O_0) - norm.cdf(-O_0)\n",
    "shift_O = (K**2*R0*RP)/(2*m*(1/m**2+(O_O)**2)) + (K**2*RP*RP)/(2*m*(1/m**2+(O_O)**2))\n",
    "print(shift_O)"
   ]
  },
  {
   "cell_type": "code",
   "execution_count": 237,
   "metadata": {},
   "outputs": [
    {
     "name": "stdout",
     "output_type": "stream",
     "text": [
      "[0.28905734]\n"
     ]
    }
   ],
   "source": [
    "shift_O = (K**2*r0*rp)/(2*m*(1/m**2+(O_O)**2)) + (K**2*rp*rp)/(2*m*(1/m**2+(O_O)**2))\n",
    "print(shift_O)\n"
   ]
  },
  {
   "cell_type": "code",
   "execution_count": 231,
   "metadata": {},
   "outputs": [
    {
     "data": {
      "text/plain": [
       "array([4.99991666])"
      ]
     },
     "execution_count": 231,
     "metadata": {},
     "output_type": "execute_result"
    }
   ],
   "source": [
    "K_match"
   ]
  },
  {
   "cell_type": "code",
   "execution_count": 150,
   "metadata": {},
   "outputs": [],
   "source": [
    "K_ = 4.8"
   ]
  },
  {
   "cell_type": "code",
   "execution_count": 161,
   "metadata": {},
   "outputs": [],
   "source": [
    "b = 0.1\n",
    "x = np.linspace(0,shift_O,1000)\n",
    "RP_ = norm.cdf(x+K_*b+O_0) - norm.cdf(O_0)\n",
    "\n",
    "x_ = (K_**2*R0*RP_)/(2*m*(1/m**2+(O_O)**2)) + (K_**2*RP_*RP_)/(2*m*(1/m**2+(O_O)**2))\n",
    "# quad(lambda x: norm.pdf(x)*np.sqrt(1-x/(K_*R0)),-O_0,O_0)\n"
   ]
  },
  {
   "cell_type": "code",
   "execution_count": 162,
   "metadata": {},
   "outputs": [
    {
     "data": {
      "text/plain": [
       "[<matplotlib.lines.Line2D at 0x19dbd5fa690>]"
      ]
     },
     "execution_count": 162,
     "metadata": {},
     "output_type": "execute_result"
    },
    {
     "data": {
      "image/png": "[encoded data removed]",
      "text/plain": [
       "<Figure size 640x480 with 1 Axes>"
      ]
     },
     "metadata": {},
     "output_type": "display_data"
    }
   ],
   "source": [
    "plt.plot(x)\n",
    "plt.plot(x_)"
   ]
  },
  {
   "cell_type": "code",
   "execution_count": 164,
   "metadata": {},
   "outputs": [],
   "source": [
    "cross_point = np.sign((x[0:-1]-x_[0:-1])*(x[1:]-x_[1:]))*(-0.5) + 0.5\n",
    "try:\n",
    "    arg_check, = np.where(cross_point==1)[0]\n",
    "    arg_check\n",
    "    x[arg_check]\n",
    "    x__ = (x[arg_check] +x[arg_check+1])/2\n",
    "except ValueError:\n",
    "    x__ = 0"
   ]
  },
  {
   "cell_type": "code",
   "execution_count": 157,
   "metadata": {},
   "outputs": [],
   "source": [
    "F0_RMd,F0_RMu,F0_R0d,F0_R0u =  OSP2.Make_R0_function(m,O_0)"
   ]
  },
  {
   "cell_type": "code",
   "execution_count": 158,
   "metadata": {},
   "outputs": [],
   "source": [
    "Ks_back = np.arange(0,K,0.1)"
   ]
  },
  {
   "cell_type": "code",
   "execution_count": 239,
   "metadata": {},
   "outputs": [],
   "source": [
    "def g_sec(x,Or,Om):\n",
    "    g = norm.pdf(x,-Or,1)\n",
    "    dO = abs(Or-Om)\n",
    "    return np.where(x<-dO,1e-6,g)\n",
    "def F_sec0(r,r_last,K,shift_O,m,O_0,O_20,F_R0,g=g_sec):\n",
    "    X = K*r\n",
    "    a = 1/np.sqrt(X*m)\n",
    "    b = 4/np.pi * a - 0.3056*a**3\n",
    "    r_0 = F_R0(K)\n",
    "    bs = np.where(np.where(a>1.193,1,b)>=1,1,b)\n",
    "    a0 = 1/np.sqrt(K*r_0*m)\n",
    "    # O_pm = (4/np.pi * a0 - 0.3056*a0**3)*K*r_0\n",
    "    O_pm = O_0\n",
    "    O_d = O_20-(O_0-shift_O)\n",
    "    # if K*r<=O_d:\n",
    "    #     # r_last = norm.cdf(O_0)\n",
    "\n",
    "    #     # r_s = np.linspace(norm.cdf(O_0),norm.cdf(O_0)+r,10000,endpoint=False)\n",
    "    #     r_s = np.linspace(r_last/2+0.5,r_last/2+0.5+r,20000,endpoint=False)\n",
    "    #     # r_s = np.linspace(r_last,r_last+r,20000,endpoint=False)\n",
    "    #     A = norm.ppf(r_s)\n",
    "    #     O_r = np.mean(A)\n",
    "    #     # shift_O = -(K**2*r*r_last)/(2*m*(1/m**2+(O_pm)**2)) -(K**2*r*r)/(2*m*(1/m**2+(O_pm)**2))\n",
    "    #     shift_O = -abs(O_r-O_0)\n",
    "    #     # print(shift_O)\n",
    "    #     O_d = min(O_d,K*r)\n",
    "    # elif bs*K*r>O_d:\n",
    "    #     # r_last = norm.cdf(O_0)\n",
    "    #     r_s = np.linspace(r_last/2+0.5,r_last/2+0.5+r,20000,endpoint=False)\n",
    "    #     # r_s = np.linspace(r_last,r_last+r,20000,endpoint=False)\n",
    "    #     A = norm.ppf(r_s)\n",
    "    #     O_r = np.mean(A)\n",
    "    #     O_d = bs*K*r\n",
    "    # O_d2 = np.where(O_d<K*r,O_d,K*r)\n",
    "    O_SD =(K*r_0/2-(O_0-shift_O))\n",
    "    if O_SD<0:\n",
    "        O_d = 0\n",
    "    integrand_drift = lambda x:1/(2*(m*(x+O_pm-shift_O)**2+1/m))*g(x,O_pm-shift_O,O_pm)\n",
    "    integrand_lock = lambda x:g(x,O_pm-shift_O,O_pm)*np.sqrt(1-((x)/X)**2)\n",
    "\n",
    "    I_d,err = quad(integrand_drift,+O_d,np.inf,limit=200)\n",
    "    I_l,err = quad(integrand_lock, -O_d,+O_d,limit=200)\n",
    "    return I_l/X-I_d,I_l/X,-I_d\n",
    "\n",
    "get_F20 = np.vectorize(F_sec0)"
   ]
  },
  {
   "cell_type": "code",
   "execution_count": 172,
   "metadata": {},
   "outputs": [],
   "source": [
    "\n",
    "\n",
    "def F_sec0(r,r_last,K,shift_O,m,O_0,O_20,F_R0,g=g_sec):\n",
    "    X = K*r\n",
    "    a = 1/np.sqrt(X*m)\n",
    "    b = 4/np.pi * a - 0.3056*a**3\n",
    "    r_0 = F_R0(K)\n",
    "    bs = np.where(np.where(a>1.193,1,b)>=1,1,b)\n",
    "    a0 = 1/np.sqrt(K*r_0*m)\n",
    "    # O_pm = (4/np.pi * a0 - 0.3056*a0**3)*K*r_0\n",
    "    O_pm = O_0\n",
    "    O_d = O_20-(O_0-shift_O)\n",
    "    if K*r<=O_d:\n",
    "        x = np.linspace(0,-shift_O,1000)\n",
    "        RP_ = norm.cdf(x+K_*r+O_0) - norm.cdf(O_0)\n",
    "        x_ = (K_**2*R0*RP_)/(2*m*(1/m**2+(O_O)**2)) + (K_**2*RP_*RP_)/(2*m*(1/m**2+(O_O)**2))\n",
    "        cross_point = np.sign((x[0:-1]-x_[0:-1])*(x[1:]-x_[1:]))*(-0.5) + 0.5\n",
    "        try:\n",
    "            arg_check, = np.where(cross_point==1)[0]\n",
    "            arg_check\n",
    "            x[arg_check]\n",
    "            shift_O = - (x[arg_check] +x[arg_check+1])/2\n",
    "        except ValueError:\n",
    "            shift_O = np.nan\n",
    "        # print(shift_O)\n",
    "        O_d = min(O_d,K*r)\n",
    "    \n",
    "    O_d2 = np.where(O_d<K*r,O_d,K*r)\n",
    "    O_SD =(K*r_0/2-(O_0-shift_O))\n",
    "    if O_SD<0:\n",
    "        O_d = 0\n",
    "    integrand_drift = lambda x:1/(2*(m*(x+O_pm-shift_O)**2+1/m))*g(x,O_pm-shift_O,O_pm)\n",
    "    integrand_lock = lambda x:g(x,O_pm-shift_O,O_pm)*np.sqrt(1-((x)/X)**2)\n",
    "\n",
    "    I_d,err = quad(integrand_drift,+O_d,np.inf,limit=200)\n",
    "    I_l,err = quad(integrand_lock, -O_d,+O_d,limit=200)\n",
    "    return I_l/X-I_d,I_l/X,-I_d\n",
    "\n",
    "def get_r_sec0(K,r_last,shift_O,m,O_0,O_20,FR,samples=200):\n",
    "    r0_ =  FR(K)\n",
    "    r_sd,r_su = np.nan,np.nan\n",
    "    r_sd_l,r_su_l = np.nan,np.nan\n",
    "    mu = np.nan\n",
    "    md = np.nan\n",
    "    if (K == 0)or (m==0):\n",
    "        return r_sd,r_su,r_sd_l,r_su_l\n",
    "    r_test = np.linspace(1e-5,(1-r0_)/2,samples)\n",
    "    F2,Fl,Fd = get_F20(r_test,r_last,K,shift_O,m,O_0,O_20,FR)\n",
    "    R2_interpolate  = interpolate.interp1d(r_test,F2, kind='linear',bounds_error=False)\n",
    "    Rl_interpolate  = interpolate.interp1d(r_test,Fl, kind='linear',bounds_error=False)\n",
    "    r_test2 = np.linspace(1e-5,(1-r0_)/2,5000)\n",
    "    Fs = R2_interpolate(r_test2)\n",
    "    Fls = Rl_interpolate(r_test2)\n",
    "    cross_point = np.sign((Fs[0:-1]-1/K)*(Fs[1:]-1/K))*(-0.5) + 0.5\n",
    "    arg_check, = np.where(cross_point)\n",
    "\n",
    "    r_sec = (r_test2[arg_check] +r_test2[arg_check+1])/2\n",
    "    F_ls = (Fls[arg_check] +Fls[arg_check+1])/2\n",
    "    if len(r_sec)>=3:\n",
    "        r_su = r_sec[-1]\n",
    "        r_su_l = F_ls[-1]*K*r_su\n",
    "    if len(r_sec)==2:\n",
    "        r_sd,r_su = r_sec\n",
    "        r_sd_l,r_su_l = F_ls[0]*K*r_sd,F_ls[1]*K*r_su\n",
    "\n",
    "    if len(r_sec)==1:\n",
    "        r_su = r_sec\n",
    "        r_su_l = F_ls*K*r_su\n",
    "    return r_sd,r_su,r_sd_l,r_su_l\n",
    "get_r_sec0_np = np.vectorize(get_r_sec0)"
   ]
  },
  {
   "cell_type": "code",
   "execution_count": 155,
   "metadata": {},
   "outputs": [
    {
     "data": {
      "text/plain": [
       "array([0.07214885])"
      ]
     },
     "execution_count": 155,
     "metadata": {},
     "output_type": "execute_result"
    }
   ],
   "source": [
    "x__"
   ]
  },
  {
   "cell_type": "code",
   "execution_count": 125,
   "metadata": {},
   "outputs": [
    {
     "data": {
      "text/plain": [
       "array(0.66151813)"
      ]
     },
     "execution_count": 125,
     "metadata": {},
     "output_type": "execute_result"
    }
   ],
   "source": [
    "F_R0u(K)"
   ]
  },
  {
   "cell_type": "code",
   "execution_count": 178,
   "metadata": {},
   "outputs": [
    {
     "data": {
      "text/plain": [
       "array([-9.85698420e+03, -9.25509658e+03, -8.87921878e+03, ...,\n",
       "        2.94557871e+00,  3.10667172e+00,  3.45223213e+00])"
      ]
     },
     "execution_count": 178,
     "metadata": {},
     "output_type": "execute_result"
    }
   ],
   "source": [
    "Qsimul.Theta_last"
   ]
  },
  {
   "cell_type": "code",
   "execution_count": 216,
   "metadata": {},
   "outputs": [],
   "source": [
    "Theta_last = Qsimul.Theta_last\n",
    "TLO_back_info = Qsimul.TLO_back(Theta_last,K)"
   ]
  },
  {
   "cell_type": "code",
   "execution_count": 217,
   "metadata": {},
   "outputs": [],
   "source": [
    "Ks_back = TLO_back_info['Ks']\n",
    "r_info_back = TLO_back_info['r_info']\n",
    "cluster_info_back = TLO_back_info['r_info']"
   ]
  },
  {
   "cell_type": "code",
   "execution_count": 223,
   "metadata": {},
   "outputs": [],
   "source": [
    "_,_,rs_d,rs_u,_,_= OSP2.get_r_sec_np(Ks_back+3,m,F_RMu,samples=30) "
   ]
  },
  {
   "cell_type": "code",
   "execution_count": 225,
   "metadata": {},
   "outputs": [
    {
     "data": {
      "text/plain": [
       "(array([28, 29, 30, 31, 32, 33, 34, 35, 36, 37, 38, 39, 40, 41, 42, 43, 44,\n",
       "        45, 46, 47, 48, 49, 50], dtype=int64),)"
      ]
     },
     "execution_count": 225,
     "metadata": {},
     "output_type": "execute_result"
    }
   ],
   "source": [
    "np.where(rs_u - rp<0)"
   ]
  },
  {
   "cell_type": "code",
   "execution_count": 226,
   "metadata": {},
   "outputs": [
    {
     "data": {
      "text/plain": [
       "5.800000000000001"
      ]
     },
     "execution_count": 226,
     "metadata": {},
     "output_type": "execute_result"
    }
   ],
   "source": [
    "Ks_back[28]+3"
   ]
  },
  {
   "cell_type": "code",
   "execution_count": 224,
   "metadata": {},
   "outputs": [
    {
     "data": {
      "text/plain": [
       "<matplotlib.lines.Line2D at 0x19dbd6d41d0>"
      ]
     },
     "execution_count": 224,
     "metadata": {},
     "output_type": "execute_result"
    },
    {
     "data": {
      "image/png": "[encoded data removed]",
      "text/plain": [
       "<Figure size 640x480 with 1 Axes>"
      ]
     },
     "metadata": {},
     "output_type": "display_data"
    }
   ],
   "source": [
    "plt.plot(Ks_back[28]+3,rs_u)\n",
    "plt.axhline(rp)"
   ]
  },
  {
   "cell_type": "code",
   "execution_count": 240,
   "metadata": {},
   "outputs": [],
   "source": [
    "d,u,rs_db2,rs_ub2= get_r_sec0_np(Ks_back,r0,-shift_O,m,O_O,O_20,F0_R0u,samples=30)"
   ]
  },
  {
   "cell_type": "code",
   "execution_count": 214,
   "metadata": {},
   "outputs": [],
   "source": [
    "d,u,rs_db3,rs_ub3= OSP2.get_r_sec0_np(Ks_back,r0,-shift_O,m,O_O,O_20,F0_R0u,samples=30)\n"
   ]
  },
  {
   "cell_type": "code",
   "execution_count": 246,
   "metadata": {},
   "outputs": [
    {
     "data": {
      "text/plain": [
       "<matplotlib.collections.PolyCollection at 0x19db997b750>"
      ]
     },
     "execution_count": 246,
     "metadata": {},
     "output_type": "execute_result"
    },
    {
     "data": {
      "image/png": "[encoded data removed]",
      "text/plain": [
       "<Figure size 640x480 with 1 Axes>"
      ]
     },
     "metadata": {},
     "output_type": "display_data"
    }
   ],
   "source": [
    "plt.plot(Ks_back,rs_ub2)\n",
    "plt.plot(Ks_back,rs_ub3)\n",
    "# plt.plot(Ks_back,rs_db2)\n",
    "plt.plot(r_info_back[['r+','r-']],marker='s',markersize=3)\n",
    "# plt.plot(r_info_back[['r+_total','r-_total']],marker='s',markersize=3)\n",
    "plt.fill_between(r_info_back['r+'].index,(r_info_back['r+']-r_info_back['sig+']).to_numpy(float),\n",
    "                 (r_info_back['r+']+r_info_back['sig+']).to_numpy(float),color='tab:blue',alpha=0.3)\n",
    "\n",
    "plt.fill_between(r_info_back['r-'].index,(r_info_back['r-']-r_info_back['sig-']).to_numpy(float),\n",
    "                 (r_info_back['r-']+r_info_back['sig-']).to_numpy(float),color='tab:orange',alpha=0.3)"
   ]
  },
  {
   "cell_type": "code",
   "execution_count": 115,
   "metadata": {},
   "outputs": [
    {
     "data": {
      "text/plain": [
       "0.681112286313424"
      ]
     },
     "execution_count": 115,
     "metadata": {},
     "output_type": "execute_result"
    }
   ],
   "source": [
    "RM"
   ]
  },
  {
   "cell_type": "code",
   "execution_count": 117,
   "metadata": {},
   "outputs": [
    {
     "data": {
      "text/plain": [
       "-0.13798226838054573"
      ]
     },
     "execution_count": 117,
     "metadata": {},
     "output_type": "execute_result"
    }
   ],
   "source": [
    "-(K**2*R0*Rp)/(2*m*(1/m**2+(O_O)**2)) -(K**2*Rp*Rp)/(2*m*(1/m**2+(O_O)**2))"
   ]
  },
  {
   "cell_type": "code",
   "execution_count": 109,
   "metadata": {},
   "outputs": [
    {
     "data": {
      "text/plain": [
       "-0.16591935948263253"
      ]
     },
     "execution_count": 109,
     "metadata": {},
     "output_type": "execute_result"
    }
   ],
   "source": [
    "shift_O"
   ]
  },
  {
   "cell_type": "code",
   "execution_count": 76,
   "metadata": {},
   "outputs": [
    {
     "data": {
      "text/plain": [
       "(array([3474], dtype=int64),)"
      ]
     },
     "execution_count": 76,
     "metadata": {},
     "output_type": "execute_result"
    }
   ],
   "source": [
    "np.where(cross_point==1)"
   ]
  },
  {
   "cell_type": "code",
   "execution_count": 78,
   "metadata": {},
   "outputs": [
    {
     "data": {
      "text/plain": [
       "array([5.21227123])"
      ]
     },
     "execution_count": 78,
     "metadata": {},
     "output_type": "execute_result"
    }
   ],
   "source": [
    "K_match"
   ]
  },
  {
   "cell_type": "code",
   "execution_count": 67,
   "metadata": {},
   "outputs": [
    {
     "data": {
      "text/plain": [
       "0.9967462095870031"
      ]
     },
     "execution_count": 67,
     "metadata": {},
     "output_type": "execute_result"
    }
   ],
   "source": [
    "norm.ppf(RM/2+0.5)"
   ]
  },
  {
   "cell_type": "code",
   "execution_count": 66,
   "metadata": {},
   "outputs": [
    {
     "data": {
      "text/plain": [
       "1.0359869081298256"
      ]
     },
     "execution_count": 66,
     "metadata": {},
     "output_type": "execute_result"
    }
   ],
   "source": [
    "O_O"
   ]
  },
  {
   "cell_type": "code",
   "execution_count": 99,
   "metadata": {},
   "outputs": [],
   "source": [
    "_,_,rs_d,rs_u,_,_= OSP2.get_r_sec_np(K,m,F_RMu,samples=30) \n"
   ]
  },
  {
   "cell_type": "code",
   "execution_count": 100,
   "metadata": {},
   "outputs": [
    {
     "data": {
      "text/plain": [
       "(0.08061271388455603, array([0.08277836]))"
      ]
     },
     "execution_count": 100,
     "metadata": {},
     "output_type": "execute_result"
    }
   ],
   "source": [
    "r_clu_info['r_clu_mean']['-'][-1],rs_u"
   ]
  },
  {
   "cell_type": "code",
   "execution_count": 101,
   "metadata": {},
   "outputs": [
    {
     "data": {
      "image/png": "[encoded data removed]",
      "text/plain": [
       "<Figure size 640x480 with 1 Axes>"
      ]
     },
     "metadata": {},
     "output_type": "display_data"
    }
   ],
   "source": [
    "plt.plot(r_clu_info['r_clu_mean']['-'])\n",
    "plt.axhline(rs_u)\n",
    "plt.ylim(0)\n",
    "plt.show()\n"
   ]
  },
  {
   "cell_type": "code",
   "execution_count": 19,
   "metadata": {},
   "outputs": [
    {
     "data": {
      "text/plain": [
       "{'0': array([0.02757801, 0.02758344, 0.02758615, ..., 0.60905884, 0.60905467,\n",
       "        0.60905097]),\n",
       " '+_total': array([0.0123671 , 0.01235182, 0.01233835, ..., 0.03667878, 0.03664274,\n",
       "        0.03660761]),\n",
       " '-_total': array([0.01330191, 0.01329543, 0.01328871, ..., 0.03972352, 0.03971624,\n",
       "        0.03970582])}"
      ]
     },
     "execution_count": 19,
     "metadata": {},
     "output_type": "execute_result"
    }
   ],
   "source": [
    "r_clu_info['r_clu_mean']"
   ]
  },
  {
   "cell_type": "code",
   "execution_count": null,
   "metadata": {},
   "outputs": [],
   "source": []
  }
 ],
 "metadata": {
  "kernelspec": {
   "display_name": "Python 3",
   "language": "python",
   "name": "python3"
  },
  "language_info": {
   "codemirror_mode": {
    "name": "ipython",
    "version": 3
   },
   "file_extension": ".py",
   "mimetype": "text/x-python",
   "name": "python",
   "nbconvert_exporter": "python",
   "pygments_lexer": "ipython3",
   "version": "3.11.0"
  }
 },
 "nbformat": 4,
 "nbformat_minor": 2
}
