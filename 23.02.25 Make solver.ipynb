{
 "cells": [
  {
   "cell_type": "code",
   "execution_count": 1,
   "metadata": {},
   "outputs": [],
   "source": [
    "import numpy as np\n",
    "import matplotlib.pyplot as plt\n",
    "import pandas as pd"
   ]
  },
  {
   "cell_type": "code",
   "execution_count": 27,
   "metadata": {},
   "outputs": [],
   "source": [
    "def get_order_parameter(theta,N):\n",
    "    ''' get theta and return r and theta'''\n",
    "    rpsi = 1/N*np.sum(np.exp(1j*theta))\n",
    "    r = np.abs(rpsi)\n",
    "    psi = np.angle(rpsi)\n",
    "    return r,psi"
   ]
  },
  {
   "cell_type": "code",
   "execution_count": null,
   "metadata": {},
   "outputs": [],
   "source": [
    "def RK4(f, y0, t, args=()):\n"
   ]
  },
  {
   "cell_type": "code",
   "execution_count": 47,
   "metadata": {},
   "outputs": [],
   "source": [
    "    \n",
    "def Sol_Kuramoto_r(K,N,m,t_array,p_theta = [], p_dtheta = [], p_omega = []):\n",
    "    \"\"\"\n",
    "    멀티프로세스를 효율적으로 돌리기 위한 시스템 경량화\n",
    "    \"\"\"\n",
    "    theta, dtheta, omega  =  p_theta, p_dtheta,p_omega\n",
    "    n = len(t_array)\n",
    "    rs = np.zeros((n))\n",
    "    r,psi = get_order_parameter(theta,N)\n",
    "    rs[0] = r\n",
    "    h = t_array[i + 1] - t_array[i]\n",
    "    args=(omega,N,m,K)\n",
    "    y_temp = np.r_[theta,dtheta,r,psi]\n",
    "    if m==0:\n",
    "        f = Kuramoto_1st_mf\n",
    "    else:\n",
    "        f = Kuramoto_2nd_mf\n",
    "    for i in range(n - 1):\n",
    "        \n",
    "        t_temp = t_array[i]\n",
    "        k1 = f(y_temp, t_temp, *args)\n",
    "        k2 = f(y_temp + k1 * h / 2.0, t_temp + h / 2.0, *args)\n",
    "        k3 = f(y_temp + k2 * h / 2.0, t_temp + h / 2.0, *args)\n",
    "        k4 = f(y_temp + k3 * h, t_temp + h, *args)\n",
    "        y_temp= y_temp + (h / 6.0) * (k1 + 2 * k2 + 2 * k3 + k4)\n",
    "        rs[i] = y_temp[-2]\n",
    "\n",
    "    return rs\n",
    "def Kuramoto_2nd_mf(Theta,t,omega,N,m,K):\n",
    "    # print(f\"Case m = {m}\") \n",
    "    theta,dtheta,r,psi = Theta[:N],Theta[N:2*N],Theta[-2],Theta[-1]\n",
    "    ddtheta = (-dtheta + omega + K*r*np.sin(psi - theta))\n",
    "    r,psi = get_order_parameter(dtheta,N)\n",
    "    return np.r_[dtheta,ddtheta,r,psi]\n",
    "\n",
    "def Kuramoto_1st_mf(Theta,t,omega,N,m,K):\n",
    "    # print(\"Case m = 0\")\n",
    "    theta,r,psi = Theta[:N],Theta[-2],Theta[-1]\n",
    "    dtheta = omega + K*r*np.sin(psi - theta)\n",
    "    r,psi = get_order_parameter(dtheta,N)\n",
    "    return np.r_[dtheta,np.zeros(N),r,psi]\n",
    "\n",
    "def Sol_Kuramoto_sampling(N,K,m,t_array,t_sample_idx,p_theta = [], p_dtheta = [], p_omega = []):\n",
    "    \"\"\"\n",
    "    멀티프로세스를 효율적으로 돌리기 위한 시스템 경량화\n",
    "    \"\"\"\n",
    "    theta, dtheta, omega  =  p_theta, p_dtheta,p_omega\n",
    "            \n",
    "    result = RK4_sampling(Kuramoto_2nd_mf,np.r_[theta,dtheta],t_array,t_sample_idx,args=(omega,N,m,K))\n",
    "    theta_s = result[:,:N]\n",
    "    dtheta_s = result[:,N:]\n",
    "    return theta_s,dtheta_s"
   ]
  },
  {
   "cell_type": "code",
   "execution_count": 2,
   "metadata": {},
   "outputs": [],
   "source": [
    "import numpy as np\n",
    "import matplotlib.pyplot as plt\n",
    "from TO_sim.Sol_Kuramoto import Sol_Kuramoto_theta_dtheta as sim\n",
    "from TO_sim.Sol_Kuramoto import Sol_Kuramoto_sampling as sampling\n",
    "from TO_sim.Sol_Kuramoto import Make_order_parameter as make_r\n",
    "from TO_sim.Utility import Create_Folder\n",
    "from TO_sim.Kuramoto_model import Kuramoto_2nd_mf as func\n",
    "from TO_sim.gen_Distribution import Normal\n",
    "import scipy.integrate as SI\n",
    "import parmap\n",
    "import pandas as pd\n",
    "from mpl_toolkits.axes_grid1.axes_divider import make_axes_locatable\n"
   ]
  },
  {
   "cell_type": "code",
   "execution_count": 42,
   "metadata": {},
   "outputs": [],
   "source": [
    "N =5000\n",
    "theta,omega,Kc = Normal(N,0,1,seed=10)\n",
    "omega = np.sort(omega)\n",
    "theta0 = np.ones_like(theta_random)"
   ]
  },
  {
   "cell_type": "code",
   "execution_count": 43,
   "metadata": {},
   "outputs": [
    {
     "name": "stdout",
     "output_type": "stream",
     "text": [
      "378 µs ± 3.61 µs per loop (mean ± std. dev. of 7 runs, 1,000 loops each)\n"
     ]
    }
   ],
   "source": [
    "%timeit np.array([*theta,*omega])"
   ]
  },
  {
   "cell_type": "code",
   "execution_count": 44,
   "metadata": {},
   "outputs": [
    {
     "name": "stdout",
     "output_type": "stream",
     "text": [
      "7.2 µs ± 26.7 ns per loop (mean ± std. dev. of 7 runs, 100,000 loops each)\n"
     ]
    }
   ],
   "source": [
    "%timeit np.r_[theta,omega]"
   ]
  },
  {
   "cell_type": "code",
   "execution_count": 46,
   "metadata": {},
   "outputs": [
    {
     "data": {
      "text/plain": [
       "(10002,)"
      ]
     },
     "execution_count": 46,
     "metadata": {},
     "output_type": "execute_result"
    }
   ],
   "source": [
    "np.r_[theta,omega,0,1].shape"
   ]
  },
  {
   "cell_type": "code",
   "execution_count": 35,
   "metadata": {},
   "outputs": [],
   "source": [
    "A = np.r_[theta,omega]"
   ]
  },
  {
   "cell_type": "code",
   "execution_count": 24,
   "metadata": {},
   "outputs": [
    {
     "name": "stdout",
     "output_type": "stream",
     "text": [
      "146 ns ± 0.933 ns per loop (mean ± std. dev. of 7 runs, 10,000,000 loops each)\n"
     ]
    }
   ],
   "source": [
    "%timeit a,b = A[:N],A[N:2*N]"
   ]
  },
  {
   "cell_type": "code",
   "execution_count": 36,
   "metadata": {},
   "outputs": [],
   "source": [
    "theta,dtheta = A[:N],A[N:2*N]\n",
    "r,psi = get_order_parameter(theta,N)\n",
    "ddtheta = (-dtheta + omega + K*r*np.sin(psi - theta))\n",
    "A = np.r_[dtheta,ddtheta,r,psi]"
   ]
  },
  {
   "cell_type": "code",
   "execution_count": 37,
   "metadata": {},
   "outputs": [
    {
     "data": {
      "text/plain": [
       "0.01999916553513436"
      ]
     },
     "execution_count": 37,
     "metadata": {},
     "output_type": "execute_result"
    }
   ],
   "source": [
    "A[-2]"
   ]
  },
  {
   "cell_type": "code",
   "execution_count": 38,
   "metadata": {},
   "outputs": [
    {
     "name": "stdout",
     "output_type": "stream",
     "text": [
      "9.95 µs ± 143 ns per loop (mean ± std. dev. of 7 runs, 100,000 loops each)\n"
     ]
    }
   ],
   "source": [
    "%timeit r,psi = get_order_parameter(theta,N)"
   ]
  },
  {
   "cell_type": "code",
   "execution_count": 39,
   "metadata": {},
   "outputs": [
    {
     "name": "stdout",
     "output_type": "stream",
     "text": [
      "4.97 µs ± 23.9 ns per loop (mean ± std. dev. of 7 runs, 100,000 loops each)\n"
     ]
    }
   ],
   "source": [
    "%timeit V = np.var(dtheta)"
   ]
  },
  {
   "cell_type": "code",
   "execution_count": 40,
   "metadata": {},
   "outputs": [
    {
     "name": "stdout",
     "output_type": "stream",
     "text": [
      "38.9 µs ± 1.2 µs per loop (mean ± std. dev. of 7 runs, 10,000 loops each)\n"
     ]
    }
   ],
   "source": [
    "%timeit np.array([*theta,*dtheta])"
   ]
  },
  {
   "cell_type": "code",
   "execution_count": 41,
   "metadata": {},
   "outputs": [
    {
     "name": "stdout",
     "output_type": "stream",
     "text": [
      "5.79 µs ± 24.2 ns per loop (mean ± std. dev. of 7 runs, 100,000 loops each)\n"
     ]
    }
   ],
   "source": [
    "%timeit np.r_[theta,dtheta]\n"
   ]
  },
  {
   "cell_type": "code",
   "execution_count": null,
   "metadata": {},
   "outputs": [],
   "source": [
    "Sol_Kuramoto_r()"
   ]
  }
 ],
 "metadata": {
  "kernelspec": {
   "display_name": "Python 3",
   "language": "python",
   "name": "python3"
  },
  "language_info": {
   "codemirror_mode": {
    "name": "ipython",
    "version": 3
   },
   "file_extension": ".py",
   "mimetype": "text/x-python",
   "name": "python",
   "nbconvert_exporter": "python",
   "pygments_lexer": "ipython3",
   "version": "3.11.1"
  },
  "orig_nbformat": 4,
  "vscode": {
   "interpreter": {
    "hash": "aee8b7b246df8f9039afb4144a1f6fd8d2ca17a180786b69acc140d282b71a49"
   }
  }
 },
 "nbformat": 4,
 "nbformat_minor": 2
}
