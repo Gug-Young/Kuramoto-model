{
 "cells": [
  {
   "attachments": {},
   "cell_type": "markdown",
   "metadata": {},
   "source": [
    "# **최적화** (완료) "
   ]
  },
  {
   "cell_type": "code",
   "execution_count": 41,
   "metadata": {},
   "outputs": [],
   "source": [
    "import numpy as np\n",
    "import matplotlib.pyplot as plt\n",
    "import pandas as pd"
   ]
  },
  {
   "cell_type": "code",
   "execution_count": 42,
   "metadata": {},
   "outputs": [],
   "source": [
    "def get_order_parameter(theta,N):\n",
    "    ''' get theta and return r and theta'''\n",
    "    rpsi = 1/N*np.sum(np.exp(1j*theta))\n",
    "    r = np.abs(rpsi)\n",
    "    psi = np.angle(rpsi)\n",
    "    return r,psi"
   ]
  },
  {
   "cell_type": "code",
   "execution_count": 43,
   "metadata": {},
   "outputs": [],
   "source": [
    "def Sol_Kuramoto_r(K,N,m,t_array,p_theta = [], p_dtheta = [], p_omega = []):\n",
    "    \"\"\"\n",
    "    멀티프로세스를 효율적으로 돌리기 위한 시스템 경량화\n",
    "    \"\"\"\n",
    "    theta, dtheta, omega  =  p_theta, p_dtheta,p_omega\n",
    "    n = len(t_array)\n",
    "    rs = np.zeros((n))\n",
    "    r,psi = get_order_parameter(theta,N)\n",
    "    rs[0] = r\n",
    "    h = t_array[1] - t_array[0]\n",
    "    args=(omega,N,m,K)\n",
    "    y_temp = np.r_[theta,dtheta]\n",
    "    if m==0:\n",
    "        f = Kuramoto_1st_mf_r\n",
    "    else:\n",
    "        f = Kuramoto_2nd_mf_r\n",
    "    for i in range(n - 1):\n",
    "        t_temp = t_array[i]\n",
    "        k1,r = f(y_temp, t_temp, *args)\n",
    "        k2,_ = f(y_temp + k1 * h * 0.5, t_temp + h * 0.5, *args)\n",
    "        k3,_ = f(y_temp + k2 * h * 0.5, t_temp + h * 0.5, *args)\n",
    "        k4,_ = f(y_temp + k3 * h, t_temp + h, *args)\n",
    "        y_temp= y_temp + (h / 6.0) * (k1 + 2 * k2 + 2 * k3 + k4)\n",
    "        rs[i+1] = r\n",
    "\n",
    "    return rs\n",
    "\n",
    "def Sol_Kuramoto_rV(K,N,m,t_array,p_theta = [], p_dtheta = [], p_omega = []):\n",
    "    \"\"\"\n",
    "    멀티프로세스를 효율적으로 돌리기 위한 시스템 경량화\n",
    "    \"\"\"\n",
    "    theta, dtheta, omega  =  p_theta, p_dtheta,p_omega\n",
    "    n = len(t_array)\n",
    "    rs = np.zeros((n))\n",
    "    Vs = np.zeros((n))\n",
    "    r,psi = get_order_parameter(theta,N)\n",
    "    rs[0] = r\n",
    "    Vs[0] = np.var(dtheta)\n",
    "    h = t_array[1] - t_array[0]\n",
    "    args=(omega,N,m,K)\n",
    "    y_temp = np.r_[theta,dtheta]\n",
    "    if m==0:\n",
    "        f = Kuramoto_1st_mf_r\n",
    "    else:\n",
    "        f = Kuramoto_2nd_mf_r\n",
    "    for i in range(n - 1):\n",
    "        t_temp = t_array[i]\n",
    "        k1,r = f(y_temp, t_temp, *args)\n",
    "        k2,_ = f(y_temp + k1 * h * 0.5, t_temp + h * 0.5, *args)\n",
    "        k3,_ = f(y_temp + k2 * h * 0.5, t_temp + h * 0.5, *args)\n",
    "        k4,_ = f(y_temp + k3 * h, t_temp + h, *args)\n",
    "        y_temp= y_temp + (h / 6.0) * (k1 + 2 * k2 + 2 * k3 + k4)\n",
    "        rs[i+1] = r\n",
    "        Vs[i+1] = np.var(y_temp[N:2*N])\n",
    "    return rs,Vs\n",
    "\n",
    "def Kuramoto_2nd_mf_r(Theta,t,omega,N,m,K):\n",
    "    # print(f\"Case m = {m}\") \n",
    "    theta,dtheta = Theta[:N],Theta[N:2*N]\n",
    "    r,psi = get_order_parameter(theta,N)\n",
    "    ddtheta = (1/m)*(-dtheta + omega + K*r*np.sin(psi - theta))\n",
    "    return np.r_[dtheta,ddtheta],r\n",
    "\n",
    "def Kuramoto_1st_mf_r(Theta,t,omega,N,m,K):\n",
    "    # print(\"Case m = 0\")\n",
    "    theta= Theta[:N]\n",
    "    r,psi = get_order_parameter(theta,N)\n",
    "    dtheta = omega + K*r*np.sin(psi - theta)\n",
    "    return np.r_[dtheta,np.zeros(N)],r"
   ]
  },
  {
   "cell_type": "code",
   "execution_count": 44,
   "metadata": {},
   "outputs": [],
   "source": [
    "def RK4_r(f, y0, t, args=()):\n",
    "    n = len(t)\n",
    "    y = np.zeros((n, len(y0)))\n",
    "    rs = np.zeros(n)\n",
    "    y[0] = y0\n",
    "    _,N,_,_ = args\n",
    "    rs[0] = abs(1/N*np.sum(np.exp(1j*y0[:N])))\n",
    "\n",
    "    for i in range(n - 1):\n",
    "        h = t[i + 1] - t[i]\n",
    "        k1,r = f(y[i], t[i], *args)\n",
    "        k2,_ = f(y[i] + k1 * h / 2.0, t[i] + h / 2.0, *args)\n",
    "        k3,_ = f(y[i] + k2 * h / 2.0, t[i] + h / 2.0, *args)\n",
    "        k4,_ = f(y[i] + k3 * h, t[i] + h, *args)\n",
    "        y[i + 1] = y[i] + (h / 6.0) * (k1 + 2 * k2 + 2 * k3 + k4)\n",
    "        rs[i+1] = r\n",
    "    return y,rs\n"
   ]
  },
  {
   "attachments": {},
   "cell_type": "markdown",
   "metadata": {},
   "source": [
    "## 시뮬레이션"
   ]
  },
  {
   "cell_type": "code",
   "execution_count": 45,
   "metadata": {},
   "outputs": [],
   "source": [
    "import numpy as np\n",
    "import matplotlib.pyplot as plt\n",
    "from TO_sim.Sol_Kuramoto import Sol_Kuramoto_theta_dtheta as sim\n",
    "from TO_sim.Sol_Kuramoto import Sol_Kuramoto_sampling as sampling\n",
    "from TO_sim.Sol_Kuramoto import Make_order_parameter as make_r\n",
    "from TO_sim.Utility import Create_Folder\n",
    "from TO_sim.Kuramoto_model import Kuramoto_2nd_mf as func\n",
    "from TO_sim.gen_Distribution import Normal\n",
    "import scipy.integrate as SI\n",
    "import parmap\n",
    "import pandas as pd\n",
    "from mpl_toolkits.axes_grid1.axes_divider import make_axes_locatable\n"
   ]
  },
  {
   "cell_type": "code",
   "execution_count": 46,
   "metadata": {},
   "outputs": [],
   "source": [
    "N =500\n",
    "theta,omega,Kc = Normal(N,0,1,seed=10)\n",
    "omega = np.sort(omega)\n",
    "theta0 = np.ones_like(theta)"
   ]
  },
  {
   "cell_type": "code",
   "execution_count": 47,
   "metadata": {},
   "outputs": [],
   "source": [
    "dt = 0.1\n",
    "\n",
    "m = 0.95\n",
    "t = np.arange(0,500+dt/2,dt)"
   ]
  },
  {
   "cell_type": "code",
   "execution_count": 50,
   "metadata": {},
   "outputs": [
    {
     "name": "stdout",
     "output_type": "stream",
     "text": [
      "521 ms ± 4.52 ms per loop (mean ± std. dev. of 7 runs, 1 loop each)\n"
     ]
    }
   ],
   "source": [
    "K = 15\n",
    "%timeit rs,Vs =Sol_Kuramoto_rV(K,N=N,m=m,t_array=t,p_theta=theta,p_dtheta= omega,p_omega=omega)"
   ]
  },
  {
   "cell_type": "code",
   "execution_count": 49,
   "metadata": {},
   "outputs": [
    {
     "data": {
      "image/png": "[encoded data removed]",
      "text/plain": [
       "<Figure size 640x480 with 1 Axes>"
      ]
     },
     "metadata": {},
     "output_type": "display_data"
    },
    {
     "data": {
      "image/png": "[encoded data removed]",
      "text/plain": [
       "<Figure size 640x480 with 1 Axes>"
      ]
     },
     "metadata": {},
     "output_type": "display_data"
    }
   ],
   "source": [
    "plt.plot(t,rs)\n",
    "\n",
    "plt.figure()\n",
    "plt.plot(t[1:],Vs[1:])\n",
    "plt.xscale('log')\n",
    "plt.yscale('log')"
   ]
  },
  {
   "cell_type": "code",
   "execution_count": null,
   "metadata": {},
   "outputs": [],
   "source": [
    "\n",
    "\n",
    "%timeit sim(K,N=N,m=m,t_array=t,p_theta=theta_random,p_dtheta= omega,p_omega=omega)"
   ]
  },
  {
   "cell_type": "code",
   "execution_count": 43,
   "metadata": {},
   "outputs": [
    {
     "name": "stdout",
     "output_type": "stream",
     "text": [
      "378 µs ± 3.61 µs per loop (mean ± std. dev. of 7 runs, 1,000 loops each)\n"
     ]
    }
   ],
   "source": [
    "%timeit np.array([*theta,*omega])"
   ]
  },
  {
   "cell_type": "code",
   "execution_count": 44,
   "metadata": {},
   "outputs": [
    {
     "name": "stdout",
     "output_type": "stream",
     "text": [
      "7.2 µs ± 26.7 ns per loop (mean ± std. dev. of 7 runs, 100,000 loops each)\n"
     ]
    }
   ],
   "source": [
    "%timeit np.r_[theta,omega]"
   ]
  },
  {
   "cell_type": "code",
   "execution_count": 46,
   "metadata": {},
   "outputs": [
    {
     "data": {
      "text/plain": [
       "(10002,)"
      ]
     },
     "execution_count": 46,
     "metadata": {},
     "output_type": "execute_result"
    }
   ],
   "source": [
    "np.r_[theta,omega,0,1].shape"
   ]
  },
  {
   "cell_type": "code",
   "execution_count": 35,
   "metadata": {},
   "outputs": [],
   "source": [
    "A = np.r_[theta,omega]"
   ]
  },
  {
   "cell_type": "code",
   "execution_count": 24,
   "metadata": {},
   "outputs": [
    {
     "name": "stdout",
     "output_type": "stream",
     "text": [
      "146 ns ± 0.933 ns per loop (mean ± std. dev. of 7 runs, 10,000,000 loops each)\n"
     ]
    }
   ],
   "source": [
    "%timeit a,b = A[:N],A[N:2*N]"
   ]
  },
  {
   "cell_type": "code",
   "execution_count": 36,
   "metadata": {},
   "outputs": [],
   "source": [
    "theta,dtheta = A[:N],A[N:2*N]\n",
    "r,psi = get_order_parameter(theta,N)\n",
    "ddtheta = (-dtheta + omega + K*r*np.sin(psi - theta))\n",
    "A = np.r_[dtheta,ddtheta,r,psi]"
   ]
  },
  {
   "cell_type": "code",
   "execution_count": 37,
   "metadata": {},
   "outputs": [
    {
     "data": {
      "text/plain": [
       "0.01999916553513436"
      ]
     },
     "execution_count": 37,
     "metadata": {},
     "output_type": "execute_result"
    }
   ],
   "source": [
    "A[-2]"
   ]
  },
  {
   "cell_type": "code",
   "execution_count": 38,
   "metadata": {},
   "outputs": [
    {
     "name": "stdout",
     "output_type": "stream",
     "text": [
      "9.95 µs ± 143 ns per loop (mean ± std. dev. of 7 runs, 100,000 loops each)\n"
     ]
    }
   ],
   "source": [
    "%timeit r,psi = get_order_parameter(theta,N)"
   ]
  },
  {
   "cell_type": "code",
   "execution_count": 39,
   "metadata": {},
   "outputs": [
    {
     "name": "stdout",
     "output_type": "stream",
     "text": [
      "4.97 µs ± 23.9 ns per loop (mean ± std. dev. of 7 runs, 100,000 loops each)\n"
     ]
    }
   ],
   "source": [
    "%timeit V = np.var(dtheta)"
   ]
  },
  {
   "cell_type": "code",
   "execution_count": 40,
   "metadata": {},
   "outputs": [
    {
     "name": "stdout",
     "output_type": "stream",
     "text": [
      "38.9 µs ± 1.2 µs per loop (mean ± std. dev. of 7 runs, 10,000 loops each)\n"
     ]
    }
   ],
   "source": [
    "%timeit np.array([*theta,*dtheta])"
   ]
  },
  {
   "cell_type": "code",
   "execution_count": 41,
   "metadata": {},
   "outputs": [
    {
     "name": "stdout",
     "output_type": "stream",
     "text": [
      "5.79 µs ± 24.2 ns per loop (mean ± std. dev. of 7 runs, 100,000 loops each)\n"
     ]
    }
   ],
   "source": [
    "%timeit np.r_[theta,dtheta]\n"
   ]
  },
  {
   "cell_type": "code",
   "execution_count": null,
   "metadata": {},
   "outputs": [],
   "source": [
    "Sol_Kuramoto_r()"
   ]
  }
 ],
 "metadata": {
  "kernelspec": {
   "display_name": "Python 3",
   "language": "python",
   "name": "python3"
  },
  "language_info": {
   "codemirror_mode": {
    "name": "ipython",
    "version": 3
   },
   "file_extension": ".py",
   "mimetype": "text/x-python",
   "name": "python",
   "nbconvert_exporter": "python",
   "pygments_lexer": "ipython3",
   "version": "3.11.1"
  },
  "orig_nbformat": 4,
  "vscode": {
   "interpreter": {
    "hash": "21a01b84f5cead7e656f1026db60532b8029050ae6a24704fb78e62a69b6d6aa"
   }
  }
 },
 "nbformat": 4,
 "nbformat_minor": 2
}
