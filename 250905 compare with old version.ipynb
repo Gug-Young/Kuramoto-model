{
 "cells": [
  {
   "cell_type": "code",
   "execution_count": 4,
   "id": "e6322ebc",
   "metadata": {},
   "outputs": [],
   "source": [
    "import sympy as sp\n",
    "import numpy as np"
   ]
  },
  {
   "cell_type": "code",
   "execution_count": 12,
   "id": "40bda0cf",
   "metadata": {},
   "outputs": [
    {
     "data": {
      "text/plain": [
       "array([[10.,  1.,  1.,  1.,  1.,  1.,  1.,  1.,  1.,  1.],\n",
       "       [ 1., 10.,  1.,  1.,  1.,  1.,  1.,  1.,  1.,  1.],\n",
       "       [ 1.,  1., 10.,  1.,  1.,  1.,  1.,  1.,  1.,  1.],\n",
       "       [ 1.,  1.,  1., 10.,  1.,  1.,  1.,  1.,  1.,  1.],\n",
       "       [ 1.,  1.,  1.,  1., 10.,  1.,  1.,  1.,  1.,  1.],\n",
       "       [ 1.,  1.,  1.,  1.,  1., 10.,  1.,  1.,  1.,  1.],\n",
       "       [ 1.,  1.,  1.,  1.,  1.,  1., 10.,  1.,  1.,  1.],\n",
       "       [ 1.,  1.,  1.,  1.,  1.,  1.,  1., 10.,  1.,  1.],\n",
       "       [ 1.,  1.,  1.,  1.,  1.,  1.,  1.,  1., 10.,  1.],\n",
       "       [ 1.,  1.,  1.,  1.,  1.,  1.,  1.,  1.,  1., 10.]])"
      ]
     },
     "execution_count": 12,
     "metadata": {},
     "output_type": "execute_result"
    }
   ],
   "source": [
    "Z = np.zeros((10,10)) +1 \n",
    "a = np.ones(10) *10\n",
    "\n",
    "np.fill_diagonal(Z,a)\n",
    "\n",
    "Z"
   ]
  },
  {
   "cell_type": "code",
   "execution_count": 28,
   "id": "a3715cb7",
   "metadata": {},
   "outputs": [
    {
     "data": {
      "text/latex": [
       "$\\displaystyle \\left[\\begin{matrix}- \\frac{K dt \\left(\\cos{\\left(\\theta_{1} - \\theta_{2} \\right)} + \\cos{\\left(\\theta_{1} - \\theta_{3} \\right)} + 1\\right)}{3} + 1 & \\frac{K dt \\cos{\\left(\\theta_{1} - \\theta_{2} \\right)}}{3} & \\frac{K dt \\cos{\\left(\\theta_{1} - \\theta_{3} \\right)}}{3} & \\frac{dt \\left(- \\sin{\\left(\\theta_{1} - \\theta_{2} \\right)} - \\sin{\\left(\\theta_{1} - \\theta_{3} \\right)}\\right)}{3}\\\\\\frac{K dt \\cos{\\left(\\theta_{1} - \\theta_{2} \\right)}}{3} & - \\frac{K dt \\left(\\cos{\\left(\\theta_{1} - \\theta_{2} \\right)} + \\cos{\\left(\\theta_{2} - \\theta_{3} \\right)} + 1\\right)}{3} + 1 & \\frac{K dt \\cos{\\left(\\theta_{2} - \\theta_{3} \\right)}}{3} & \\frac{dt \\left(\\sin{\\left(\\theta_{1} - \\theta_{2} \\right)} - \\sin{\\left(\\theta_{2} - \\theta_{3} \\right)}\\right)}{3}\\\\\\frac{K dt \\cos{\\left(\\theta_{1} - \\theta_{3} \\right)}}{3} & \\frac{K dt \\cos{\\left(\\theta_{2} - \\theta_{3} \\right)}}{3} & - \\frac{K dt \\left(\\cos{\\left(\\theta_{1} - \\theta_{3} \\right)} + \\cos{\\left(\\theta_{2} - \\theta_{3} \\right)} + 1\\right)}{3} + 1 & \\frac{dt \\left(\\sin{\\left(\\theta_{1} - \\theta_{3} \\right)} + \\sin{\\left(\\theta_{2} - \\theta_{3} \\right)}\\right)}{3}\\\\\\frac{dt \\left(- \\sin{\\left(\\theta_{1} - \\theta_{2} \\right)} - \\sin{\\left(\\theta_{1} - \\theta_{3} \\right)}\\right)}{3} & \\frac{dt \\left(\\sin{\\left(\\theta_{1} - \\theta_{2} \\right)} - \\sin{\\left(\\theta_{2} - \\theta_{3} \\right)}\\right)}{3} & \\frac{dt \\left(\\sin{\\left(\\theta_{1} - \\theta_{3} \\right)} + \\sin{\\left(\\theta_{2} - \\theta_{3} \\right)}\\right)}{3} & 1\\end{matrix}\\right]$"
      ],
      "text/plain": [
       "Matrix([\n",
       "[-K*dt*(cos(theta1 - theta2) + cos(theta1 - theta3) + 1)/3 + 1,                                   K*dt*cos(theta1 - theta2)/3,                                   K*dt*cos(theta1 - theta3)/3, dt*(-sin(theta1 - theta2) - sin(theta1 - theta3))/3],\n",
       "[                                  K*dt*cos(theta1 - theta2)/3, -K*dt*(cos(theta1 - theta2) + cos(theta2 - theta3) + 1)/3 + 1,                                   K*dt*cos(theta2 - theta3)/3,  dt*(sin(theta1 - theta2) - sin(theta2 - theta3))/3],\n",
       "[                                  K*dt*cos(theta1 - theta3)/3,                                   K*dt*cos(theta2 - theta3)/3, -K*dt*(cos(theta1 - theta3) + cos(theta2 - theta3) + 1)/3 + 1,  dt*(sin(theta1 - theta3) + sin(theta2 - theta3))/3],\n",
       "[          dt*(-sin(theta1 - theta2) - sin(theta1 - theta3))/3,            dt*(sin(theta1 - theta2) - sin(theta2 - theta3))/3,            dt*(sin(theta1 - theta3) + sin(theta2 - theta3))/3,                                                   1]])"
      ]
     },
     "execution_count": 28,
     "metadata": {},
     "output_type": "execute_result"
    }
   ],
   "source": [
    "import sympy as sp\n",
    "\n",
    "# 심볼 정의\n",
    "theta = sp.symbols('theta1:4')   # theta1, theta2, theta3\n",
    "K, dt = sp.symbols('K dt')\n",
    "\n",
    "N = 3\n",
    "\n",
    "# θ_i, θ_j 차이를 위한 meshgrid\n",
    "Ti, Tj = sp.symbols('Ti Tj')  # 임시용\n",
    "# 실제는 pairwise difference로 구성\n",
    "CC = sp.Matrix([[sp.cos(theta[j]-theta[i]) for j in range(N)] for i in range(N)])\n",
    "SC = [sum(sp.cos(theta[j]-theta[i]) for j in range(N)) for i in range(N)]\n",
    "SS = [sum(sp.sin(theta[j]-theta[i]) for j in range(N)) for i in range(N)]\n",
    "\n",
    "# 대각 원소 (Dii)\n",
    "Dii = [1 - K*dt/N*SC[i] for i in range(N)]\n",
    "\n",
    "# 빈 행렬 (N+1)x(N+1)\n",
    "F = sp.eye(N+1)\n",
    "\n",
    "# F[:-1,:-1] = (K/N)*dt * CC\n",
    "for i in range(N):\n",
    "    for j in range(N):\n",
    "        F[i,j] = (K/N)*dt * CC[i,j]\n",
    "\n",
    "# F[-1,:-1] = dt/N * SS\n",
    "for j in range(N):\n",
    "    F[N,j] = (dt/N) * SS[j]\n",
    "\n",
    "# F[:-1,-1] = dt/N * SS\n",
    "for i in range(N):\n",
    "    F[i,N] = (dt/N) * SS[i]\n",
    "\n",
    "# 대각 채우기\n",
    "for i in range(N):\n",
    "    F[i,i] = Dii[i]\n",
    "F[N,N] = 1\n",
    "\n",
    "F\n"
   ]
  },
  {
   "cell_type": "code",
   "execution_count": 32,
   "id": "8ba5a2c5",
   "metadata": {},
   "outputs": [
    {
     "data": {
      "text/latex": [
       "$\\displaystyle \\left[\\begin{matrix}- \\frac{K dt \\left(\\cos{\\left(\\theta_{1} - \\theta_{2} \\right)} + \\cos{\\left(\\theta_{1} - \\theta_{3} \\right)} + 1\\right)}{3} + 1 & \\frac{K dt \\cos{\\left(\\theta_{1} - \\theta_{2} \\right)}}{3} & \\frac{K dt \\cos{\\left(\\theta_{1} - \\theta_{3} \\right)}}{3} & \\frac{dt \\left(- \\sin{\\left(\\theta_{1} - \\theta_{2} \\right)} - \\sin{\\left(\\theta_{1} - \\theta_{3} \\right)}\\right)}{3}\\\\\\frac{K dt \\cos{\\left(\\theta_{1} - \\theta_{2} \\right)}}{3} & - \\frac{K dt \\left(\\cos{\\left(\\theta_{1} - \\theta_{2} \\right)} + \\cos{\\left(\\theta_{2} - \\theta_{3} \\right)} + 1\\right)}{3} + 1 & \\frac{K dt \\cos{\\left(\\theta_{2} - \\theta_{3} \\right)}}{3} & \\frac{dt \\left(\\sin{\\left(\\theta_{1} - \\theta_{2} \\right)} - \\sin{\\left(\\theta_{2} - \\theta_{3} \\right)}\\right)}{3}\\\\\\frac{K dt \\cos{\\left(\\theta_{1} - \\theta_{3} \\right)}}{3} & \\frac{K dt \\cos{\\left(\\theta_{2} - \\theta_{3} \\right)}}{3} & - \\frac{K dt \\left(\\cos{\\left(\\theta_{1} - \\theta_{3} \\right)} + \\cos{\\left(\\theta_{2} - \\theta_{3} \\right)} + 1\\right)}{3} + 1 & \\frac{dt \\left(\\sin{\\left(\\theta_{1} - \\theta_{3} \\right)} + \\sin{\\left(\\theta_{2} - \\theta_{3} \\right)}\\right)}{3}\\\\\\frac{dt \\left(- \\sin{\\left(\\theta_{1} - \\theta_{2} \\right)} - \\sin{\\left(\\theta_{1} - \\theta_{3} \\right)}\\right)}{3} & \\frac{dt \\left(\\sin{\\left(\\theta_{1} - \\theta_{2} \\right)} - \\sin{\\left(\\theta_{2} - \\theta_{3} \\right)}\\right)}{3} & \\frac{dt \\left(\\sin{\\left(\\theta_{1} - \\theta_{3} \\right)} + \\sin{\\left(\\theta_{2} - \\theta_{3} \\right)}\\right)}{3} & 1\\end{matrix}\\right]$"
      ],
      "text/plain": [
       "Matrix([\n",
       "[-K*dt*(cos(theta1 - theta2) + cos(theta1 - theta3) + 1)/3 + 1,                                   K*dt*cos(theta1 - theta2)/3,                                   K*dt*cos(theta1 - theta3)/3, dt*(-sin(theta1 - theta2) - sin(theta1 - theta3))/3],\n",
       "[                                  K*dt*cos(theta1 - theta2)/3, -K*dt*(cos(theta1 - theta2) + cos(theta2 - theta3) + 1)/3 + 1,                                   K*dt*cos(theta2 - theta3)/3,  dt*(sin(theta1 - theta2) - sin(theta2 - theta3))/3],\n",
       "[                                  K*dt*cos(theta1 - theta3)/3,                                   K*dt*cos(theta2 - theta3)/3, -K*dt*(cos(theta1 - theta3) + cos(theta2 - theta3) + 1)/3 + 1,  dt*(sin(theta1 - theta3) + sin(theta2 - theta3))/3],\n",
       "[          dt*(-sin(theta1 - theta2) - sin(theta1 - theta3))/3,            dt*(sin(theta1 - theta2) - sin(theta2 - theta3))/3,            dt*(sin(theta1 - theta3) + sin(theta2 - theta3))/3,                                                   1]])"
      ]
     },
     "execution_count": 32,
     "metadata": {},
     "output_type": "execute_result"
    }
   ],
   "source": [
    "import sympy as sp\n",
    "\n",
    "# 심볼 정의\n",
    "theta = sp.symbols('theta1:4')   # theta1, theta2, theta3\n",
    "K, dt = sp.symbols('K dt')\n",
    "\n",
    "N = 3\n",
    "\n",
    "# θ_i, θ_j 차이를 위한 meshgrid\n",
    "Ti, Tj = sp.symbols('Ti Tj')  # 임시용\n",
    "# 실제는 pairwise difference로 구성\n",
    "CC = sp.Matrix([[sp.cos(theta[j]-theta[i]) for j in range(N)] for i in range(N)])\n",
    "SC = [sum(sp.cos(theta[j]-theta[i]) for j in range(N)) for i in range(N)]\n",
    "SS = [sum(sp.sin(theta[j]-theta[i]) for j in range(N)) for i in range(N)]\n",
    "\n",
    "# 대각 원소 (Dii)\n",
    "Dii = [1 - K*dt/N*SC[i] for i in range(N)]\n",
    "\n",
    "# 빈 행렬 (N+1)x(N+1)\n",
    "F = sp.eye(N+1)\n",
    "\n",
    "# F[:-1,:-1] = (K/N)*dt * CC\n",
    "for i in range(N):\n",
    "    for j in range(N):\n",
    "        F[i,j] = (K/N)*dt * CC[i,j]\n",
    "\n",
    "# F[-1,:-1] = dt/N * SS\n",
    "for j in range(N):\n",
    "    F[N,j] = (dt/N) * SS[j]\n",
    "\n",
    "# F[:-1,-1] = dt/N * SS\n",
    "for i in range(N):\n",
    "    F[i,N] = (dt/N) * SS[i]\n",
    "\n",
    "# 대각 채우기\n",
    "for i in range(N):\n",
    "    F[i,i] = Dii[i]\n",
    "F[N,N] = 1\n",
    "\n",
    "F\n"
   ]
  },
  {
   "cell_type": "code",
   "execution_count": null,
   "id": "2954e320",
   "metadata": {},
   "outputs": [],
   "source": [
    "@njit(fastmath=True, cache=True)\n",
    "def f_fast_jit(x, omega, dt):\n",
    "    N = omega.size\n",
    "    T = x[:N]\n",
    "    K = x[N]\n",
    "    c = np.cos(T); s = np.sin(T)\n",
    "    X = np.mean(c); Y = np.mean(s)\n",
    "    dtheta = omega + K*(Y*c - X*s)\n",
    "    T_new = T + dt*dtheta\n",
    "    for i in range(N):\n",
    "        T_new[i] = _wrap_angle_scalar(T_new[i])\n",
    "    out = np.empty_like(x)\n",
    "    out[:N] = T_new\n",
    "    out[N] = K\n",
    "    return out"
   ]
  },
  {
   "cell_type": "code",
   "execution_count": null,
   "id": "3f7d0b13",
   "metadata": {},
   "outputs": [],
   "source": [
    "def f(x,omega):\n",
    "    x = x.copy()\n",
    "    T = x[:N]\n",
    "    K = x[-1]\n",
    "    Ti,Tj = np.meshgrid(T,T)\n",
    "    C = np.mean(np.sin(Ti-Tj),axis=1)\n",
    "    dtheta = omega + K/N*np.sum(np.sin(Tj - Ti),axis=0) \n",
    "    T_new = T + dtheta*dt\n",
    "    T_new = (T_new+np.pi)%(2*np.pi) -  np.pi\n",
    "    return np.r_[T_new,K]\n",
    "\n",
    "# 이부분은 f는 정확하게 작동한다.\n",
    "\n",
    "def F_j(x,omega):\n",
    "    x = x.copy()\n",
    "    T = x[:N]\n",
    "    K = x[-1]\n",
    "    F = np.eye(N+1)\n",
    "    Ti,Tj = np.meshgrid(T,T)\n",
    "    CC = np.cos(Tj-Ti)\n",
    "    SC = np.sum(CC,axis=0)\n",
    "    SS = np.sum(np.sin(Tj-Ti),axis=0)\n",
    "\n",
    "    Dii = 1 -K*dt/N*SC # 일치하는 경우\n",
    "    D = np.r_[Dii,1]\n",
    "    F[:-1,:-1] = K/N*dt * CC\n",
    "    F[-1,:-1] = dt/N * SS\n",
    "    F[:-1,-1] = dt/N * SS \n",
    "    np.fill_diagonal(F,D) # 마지막에 대각선을 채우는 용도\n",
    "    return F\n",
    "\n",
    "def h(x):\n",
    "    x = x.copy()\n",
    "    T = x[:N]\n",
    "    R = np.abs(np.mean(np.exp(1j*T)))\n",
    "    return np.array([R])\n",
    "\n",
    "def H_j(x):\n",
    "    x = x.copy()\n",
    "    H = np.zeros((1,N+1))\n",
    "    T = x[:N]\n",
    "    CT = np.cos(T)\n",
    "    ST = np.sin(T)\n",
    "    X = np.sum(CT)\n",
    "    Y = np.sum(ST)\n",
    "    # denom = max(1/np.sqrt(N),1/(N*np.sqrt(X**2+Y**2)))\n",
    "    denom = 1/(N*np.sqrt(X**2+Y**2))\n",
    "    # denom = 1/(N*np.sqrt(X**2+Y**2))\n",
    "    num = -X*ST + Y*CT\n",
    "    H[0,:-1] = num*denom\n",
    "    return H\n"
   ]
  },
  {
   "cell_type": "code",
   "execution_count": 33,
   "id": "44b92915",
   "metadata": {},
   "outputs": [
    {
     "data": {
      "text/plain": [
       "array([[1., 0., 0.],\n",
       "       [0., 1., 0.],\n",
       "       [0., 0., 1.]])"
      ]
     },
     "execution_count": 33,
     "metadata": {},
     "output_type": "execute_result"
    }
   ],
   "source": [
    "np.eye(3)"
   ]
  }
 ],
 "metadata": {
  "kernelspec": {
   "display_name": "Python 3",
   "language": "python",
   "name": "python3"
  },
  "language_info": {
   "codemirror_mode": {
    "name": "ipython",
    "version": 3
   },
   "file_extension": ".py",
   "mimetype": "text/x-python",
   "name": "python",
   "nbconvert_exporter": "python",
   "pygments_lexer": "ipython3",
   "version": "3.11.9"
  }
 },
 "nbformat": 4,
 "nbformat_minor": 5
}
