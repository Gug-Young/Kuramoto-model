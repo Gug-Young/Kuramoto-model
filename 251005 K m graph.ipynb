{
 "cells": [
  {
   "cell_type": "code",
   "execution_count": 1,
   "id": "ec6d9b3c",
   "metadata": {},
   "outputs": [],
   "source": [
    "import matplotlib.pyplot as plt\n",
    "import numpy as np\n",
    "import pandas as pd\n",
    "import numba\n",
    "from TO_sim.gen_Distribution import Quantile_Normal as Q_Normal, Quantile_Lorentzian as Q_Lorentzian\n",
    "\n",
    "from TO_sim.Sol_Kuramoto import Sol_Kuramoto_mK as mK, Sol_Kuramoto_mf2 as mf2\n",
    "from parfor import parfor\n",
    "from scipy import interpolate\n",
    "from tqdm import tqdm"
   ]
  },
  {
   "cell_type": "code",
   "execution_count": 3,
   "id": "794412df",
   "metadata": {},
   "outputs": [],
   "source": [
    "import numba as nb\n",
    "import numpy as np\n",
    "\n",
    "# --- r, psi (복소수 없이) ---\n",
    "@nb.njit(fastmath=True, cache=True)\n",
    "def _order_param(theta):\n",
    "    c = 0.0\n",
    "    s = 0.0\n",
    "    for i in range(theta.size):\n",
    "        c += np.cos(theta[i])\n",
    "        s += np.sin(theta[i])\n",
    "    invN = 1.0 / theta.size\n",
    "    c *= invN; s *= invN\n",
    "    r = np.sqrt(c*c + s*s)\n",
    "    psi = np.arctan2(s, c)\n",
    "    return r, psi\n",
    "\n",
    "# --- 커라모토 RHS: state와 같은 길이 반환 ---\n",
    "@nb.njit(fastmath=True, cache=True)\n",
    "def Kuramoto_mf_rhs(Theta, t_scalar, omega, N, m, K):\n",
    "    # Theta: len N (m=0) 또는 len 2N (m>0)\n",
    "    out = np.empty_like(Theta)\n",
    "    if m == 0.0:\n",
    "        theta = Theta[:N]\n",
    "        r, psi = _order_param(theta)\n",
    "        for i in range(N):\n",
    "            out[i] = omega[i] + K * r * np.sin(psi - theta[i])\n",
    "    else:\n",
    "        theta = Theta[:N]\n",
    "        dtheta = Theta[N:2*N]\n",
    "        r, psi = _order_param(theta)\n",
    "        invm = 1.0/m\n",
    "        # θ' = dθ,  dθ' = ( -dθ + ω + K r sin(ψ-θ) ) / m\n",
    "        for i in range(N):\n",
    "            out[i] = dtheta[i]\n",
    "        for i in range(N):\n",
    "            out[N+i] = invm * (-dtheta[i] + omega[i] + K * r * np.sin(psi - theta[i]))\n",
    "    return out\n",
    "\n",
    "# --- RK4 + r 저장: 결과 shape = (n_save(eff), N+1) ---\n",
    "@nb.njit(fastmath=True, cache=True)\n",
    "def RK4_short_theta_store_r(y0, t, omega, N, m, K, sum_range=2010):\n",
    "    save_time = sum_range\n",
    "    integ_steps = t.size - save_time\n",
    "    h = t[1] - t[0]\n",
    "\n",
    "    # 저장 간격\n",
    "    save_stride = 10 if h <= 0.01 else 1\n",
    "    n_save_raw = save_time if h > 0.01 else save_time * 10\n",
    "    n_save_eff = n_save_raw // save_stride\n",
    "\n",
    "    # 출력: [r, theta...]\n",
    "    out = np.empty((n_save_eff, N + 1), dtype=np.float64)\n",
    "\n",
    "    # 상태 길이 확인\n",
    "    state_len = y0.size\n",
    "    twoN = 2 * N\n",
    "    if m == 0.0 and state_len != N:\n",
    "        # 1차인데 2N 형태로 들어왔으면 앞의 N만 사용\n",
    "        y_ = y0[:N].copy()\n",
    "    else:\n",
    "        # 2차면 길이 2N 가정\n",
    "        y_ = y0.copy()\n",
    "\n",
    "    # 워밍업\n",
    "    t0 = t[0]\n",
    "    for k in range(integ_steps):\n",
    "        tk = t0 + k*h\n",
    "        k1 = Kuramoto_mf_rhs(y_, tk,      omega, N, m, K)\n",
    "        k2 = Kuramoto_mf_rhs(y_ + 0.5*h*k1, tk+0.5*h, omega, N, m, K)\n",
    "        k3 = Kuramoto_mf_rhs(y_ + 0.5*h*k2, tk+0.5*h, omega, N, m, K)\n",
    "        k4 = Kuramoto_mf_rhs(y_ + h*k3,     tk+h,     omega, N, m, K)\n",
    "        y_ = y_ + (h/6.0)*(k1 + 2.0*k2 + 2.0*k3 + k4)\n",
    "        # 필요 시 래핑 (속도↑ 위해 주기적으로만 해도 됨)\n",
    "        # if (k & 31) == 0:\n",
    "        #     _wrap_angles_inplace(y_, N, m)\n",
    "\n",
    "    # 저장 루프\n",
    "    idx = 0\n",
    "    for i in range(n_save_raw):\n",
    "        ti = t0 + (integ_steps + i)*h\n",
    "        k1 = Kuramoto_mf_rhs(y_, ti,      omega, N, m, K)\n",
    "        k2 = Kuramoto_mf_rhs(y_ + 0.5*h*k1, ti+0.5*h, omega, N, m, K)\n",
    "        k3 = Kuramoto_mf_rhs(y_ + 0.5*h*k2, ti+0.5*h, omega, N, m, K)\n",
    "        k4 = Kuramoto_mf_rhs(y_ + h*k3,     ti+h,     omega, N, m, K)\n",
    "        y_ = y_ + (h/6.0)*(k1 + 2.0*k2 + 2.0*k3 + k4)\n",
    "\n",
    "        if (i % save_stride) == 0:\n",
    "            # r 계산 후 [r, theta] 저장\n",
    "            if m == 0.0:\n",
    "                theta = y_\n",
    "            else:\n",
    "                theta = y_[:N]\n",
    "            r, _ = _order_param(theta)\n",
    "            out[idx, 0] = r\n",
    "            for j in range(N):\n",
    "                out[idx, 1 + j] = theta[j]\n",
    "            idx += 1\n",
    "\n",
    "    return out\n"
   ]
  },
  {
   "cell_type": "code",
   "execution_count": 4,
   "id": "db53d6d2",
   "metadata": {},
   "outputs": [
    {
     "name": "stdout",
     "output_type": "stream",
     "text": [
      "16\n"
     ]
    }
   ],
   "source": [
    "K = 7\n",
    "ms_ = np.linspace(0,10,101)\n",
    "Ks_ = np.linspace(0,10,101)\n",
    "seed = 9\n",
    "N = 5000\n",
    "K_set = []\n",
    "import multiprocessing\n",
    "N_cpu = multiprocessing.cpu_count()\n",
    "print(N_cpu)\n",
    "for i in range(len(Ks_[::N_cpu])):\n",
    "    try:\n",
    "        K_set.append(Ks_[N_cpu*i:N_cpu*i+N_cpu])\n",
    "    except:\n",
    "        K_set.append(Ks_[N_cpu*i:])\n"
   ]
  },
  {
   "cell_type": "code",
   "execution_count": 5,
   "id": "3edab878",
   "metadata": {},
   "outputs": [],
   "source": [
    "N_R0s = np.nan*np.ones((len(Ks_),len(ms_)))\n",
    "N_Rs = np.nan*np.ones((len(Ks_),len(ms_)))\n",
    "N_RPs = np.nan*np.ones((len(Ks_),len(ms_)))\n",
    "N_RMs = np.nan*np.ones((len(Ks_),len(ms_)))\n",
    "N_RPLs = np.nan*np.ones((len(Ks_),len(ms_)))\n",
    "N_RMLs = np.nan*np.ones((len(Ks_),len(ms_)))\n",
    "N_0s = np.nan*np.ones((len(Ks_),len(ms_)))\n",
    "N_Ps = np.nan*np.ones((len(Ks_),len(ms_)))\n",
    "N_Ms = np.nan*np.ones((len(Ks_),len(ms_)))\n",
    "N_rstd = np.nan*np.ones((len(Ks_),len(ms_)))"
   ]
  },
  {
   "cell_type": "code",
   "execution_count": 11,
   "id": "06ea9842",
   "metadata": {},
   "outputs": [
    {
     "name": "stderr",
     "output_type": "stream",
     "text": [
      " 21%|██        | 21/101 [1:51:40<7:21:07, 330.84s/it]C:\\Users\\kim9y\\AppData\\Local\\Packages\\PythonSoftwareFoundation.Python.3.11_qbz5n2kfra8p0\\LocalCache\\local-packages\\Python311\\site-packages\\parfor\\gil.py:229: UserWarning: Task 15 was restarted because the process working on it was probably killed.\n",
      "  warn(f'Task {handle} was restarted because the process working on it was probably killed.')\n",
      "100%|██████████| 101/101 [9:40:34<00:00, 344.89s/it] \n"
     ]
    }
   ],
   "source": [
    "seeds =np.arange(1,16,1)\n",
    "# ms = [4.3,4.4,4.5,4.6,4.7,4.8,4.9,5,5.1,5.2,5.3]\n",
    "\n",
    "K = 7\n",
    "ms_ = np.linspace(0,10,101)\n",
    "Ks_ = np.linspace(0,10,101)\n",
    "seed = 10\n",
    "N = 5000\n",
    "theta_random,omega,Kc = Q_Normal(N,0,1,seed=seed)\n",
    "omega = omega - np.mean(omega)\n",
    "omega = np.sort(omega)\n",
    "Y = np.r_[theta_random,theta_random]\n",
    "for m_num,m in enumerate(tqdm(ms_)):\n",
    "    for K_num,Ks in enumerate(K_set):\n",
    "        @parfor(Ks,(m,), bar=False)\n",
    "        def get_r(K,m):\n",
    "            dt = 0.1\n",
    "            t = np.arange(0,10100,dt)\n",
    "\n",
    "            T1 = RK4_short_theta_store_r(y0=Y, t=t, omega=omega, N=N, m=m, K=K, sum_range=1001)\n",
    "            rs = T1[:,0]\n",
    "            theta = T1[:,1:]\n",
    "            avg_theta = (theta[1000] - theta[0])/(t[1000] - t[0])\n",
    "            v_t = avg_theta\n",
    "            expj = np.exp(1j*theta[-500:])\n",
    "\n",
    "            con0 = np.abs(v_t - v_t[N//2]) < 0.15\n",
    "            c_0, = np.where(con0)\n",
    "            c_p, = np.where(np.logical_and(~con0, omega > 0))\n",
    "            c_m, = np.where(np.logical_and(~con0, omega < 0))\n",
    "            if len(c_p) > 0:\n",
    "                conp = np.abs(v_t - np.min(v_t[c_p])) < 0.02\n",
    "                c_p0, = np.where(conp)\n",
    "                rp = np.mean(np.abs(np.sum(expj[:,c_p],axis=1)/N))\n",
    "                if len(c_p0) > 0:\n",
    "                    rpl = np.mean(np.abs(np.sum(expj[:,c_p0],axis=1)/N))\n",
    "                else:\n",
    "                    rpl = 0\n",
    "                NP = len(c_p0)\n",
    "            else:\n",
    "                rp = 0\n",
    "                rpl = 0\n",
    "                NP = 0\n",
    "\n",
    "\n",
    "\n",
    "            if len(c_m) > 0:\n",
    "                conm = np.abs(v_t - np.max(v_t[c_m])) < 0.02\n",
    "                c_m0, = np.where(conm)\n",
    "                rm = np.mean(np.abs(np.sum(expj[:,c_m],axis=1)/N))\n",
    "                if len(c_m0) > 0:\n",
    "                    rml = np.mean(np.abs(np.sum(expj[:,c_m0],axis=1)/N))\n",
    "                else:\n",
    "                    rml = 0\n",
    "                NM = len(c_m0)\n",
    "            else:\n",
    "                rm = 0\n",
    "                rml = 0\n",
    "                NM = 0\n",
    "            r0 = np.mean(np.abs(np.sum(expj[:,c_0],axis=1)/N))\n",
    "            rstd = np.std(rs[-500:])\n",
    "            rs = np.mean(rs[-500:])\n",
    "            N0 = len(c_0)\n",
    "            return r0,rp,rm,rs,rpl,rml,N0,NP,NM,rstd\n",
    "        r0,rp,rm,rs,rpl,rml,N0,NP,NM,rstd = zip(*get_r)\n",
    "        try:\n",
    "            N_R0s[N_cpu*K_num:N_cpu*(K_num+1),m_num] = r0\n",
    "            N_Rs[N_cpu*K_num:N_cpu*(K_num+1),m_num] = rs\n",
    "            N_RPs[N_cpu*K_num:N_cpu*(K_num+1),m_num] = rp\n",
    "            N_RMs[N_cpu*K_num:N_cpu*(K_num+1),m_num] = rm\n",
    "            N_RPLs[N_cpu*K_num:N_cpu*(K_num+1),m_num] = rpl\n",
    "            N_RMLs[N_cpu*K_num:N_cpu*(K_num+1),m_num] = rml\n",
    "            N_0s[N_cpu*K_num:N_cpu*(K_num+1),m_num] = N0    \n",
    "            N_Ps[N_cpu*K_num:N_cpu*(K_num+1),m_num] = NP\n",
    "            N_Ms[N_cpu*K_num:N_cpu*(K_num+1),m_num] = NM\n",
    "            N_rstd[N_cpu*K_num:N_cpu*(K_num+1),m_num] = rstd\n",
    "        except:\n",
    "            N_R0s[N_cpu*K_num:,m_num] = r0\n",
    "            N_Rs[N_cpu*K_num:,m_num] = rs\n",
    "            N_RPs[N_cpu*K_num:,m_num] = rp\n",
    "            N_RMs[N_cpu*K_num:,m_num] = rm\n",
    "            N_RPLs[N_cpu*K_num:,m_num] = rpl\n",
    "            N_RMLs[N_cpu*K_num:,m_num] = rml\n",
    "            N_0s[N_cpu*K_num:,m_num] = N0    \n",
    "            N_Ps[N_cpu*K_num:,m_num] = NP\n",
    "            N_Ms[N_cpu*K_num:,m_num] = NM\n",
    "            N_rstd[N_cpu*K_num:,m_num] = rstd\n",
    "np.savez(f'RS_{seed}.npz',N_R0s=N_R0s,N_Rs=N_Rs,N_RPs=N_RPs,N_RMs=N_RMs,N_RPLs=N_RPLs,N_RMLs=N_RMLs,N_0s=N_0s,N_Ps=N_Ps,N_Ms=N_Ms,N_rstd=N_rstd)"
   ]
  },
  {
   "cell_type": "code",
   "execution_count": 12,
   "id": "28869f7e",
   "metadata": {},
   "outputs": [
    {
     "name": "stderr",
     "output_type": "stream",
     "text": [
      "100%|██████████| 101/101 [9:39:01<00:00, 343.97s/it] \n"
     ]
    }
   ],
   "source": [
    "seeds =np.arange(1,16,1)\n",
    "# ms = [4.3,4.4,4.5,4.6,4.7,4.8,4.9,5,5.1,5.2,5.3]\n",
    "\n",
    "K = 7\n",
    "ms_ = np.linspace(0,10,101)\n",
    "Ks_ = np.linspace(0,10,101)\n",
    "seed = 11\n",
    "N = 5000\n",
    "theta_random,omega,Kc = Q_Normal(N,0,1,seed=seed)\n",
    "omega = omega - np.mean(omega)\n",
    "omega = np.sort(omega)\n",
    "Y = np.r_[theta_random,theta_random]\n",
    "for m_num,m in enumerate(tqdm(ms_)):\n",
    "    for K_num,Ks in enumerate(K_set):\n",
    "        @parfor(Ks,(m,), bar=False)\n",
    "        def get_r(K,m):\n",
    "            dt = 0.1\n",
    "            t = np.arange(0,10100,dt)\n",
    "\n",
    "            T1 = RK4_short_theta_store_r(y0=Y, t=t, omega=omega, N=N, m=m, K=K, sum_range=1001)\n",
    "            rs = T1[:,0]\n",
    "            theta = T1[:,1:]\n",
    "            avg_theta = (theta[1000] - theta[0])/(t[1000] - t[0])\n",
    "            v_t = avg_theta\n",
    "            expj = np.exp(1j*theta[-500:])\n",
    "\n",
    "            con0 = np.abs(v_t - v_t[N//2]) < 0.15\n",
    "            c_0, = np.where(con0)\n",
    "            c_p, = np.where(np.logical_and(~con0, omega > 0))\n",
    "            c_m, = np.where(np.logical_and(~con0, omega < 0))\n",
    "            if len(c_p) > 0:\n",
    "                conp = np.abs(v_t - np.min(v_t[c_p])) < 0.02\n",
    "                c_p0, = np.where(conp)\n",
    "                rp = np.mean(np.abs(np.sum(expj[:,c_p],axis=1)/N))\n",
    "                if len(c_p0) > 0:\n",
    "                    rpl = np.mean(np.abs(np.sum(expj[:,c_p0],axis=1)/N))\n",
    "                else:\n",
    "                    rpl = 0\n",
    "                NP = len(c_p0)\n",
    "            else:\n",
    "                rp = 0\n",
    "                rpl = 0\n",
    "                NP = 0\n",
    "\n",
    "\n",
    "\n",
    "            if len(c_m) > 0:\n",
    "                conm = np.abs(v_t - np.max(v_t[c_m])) < 0.02\n",
    "                c_m0, = np.where(conm)\n",
    "                rm = np.mean(np.abs(np.sum(expj[:,c_m],axis=1)/N))\n",
    "                if len(c_m0) > 0:\n",
    "                    rml = np.mean(np.abs(np.sum(expj[:,c_m0],axis=1)/N))\n",
    "                else:\n",
    "                    rml = 0\n",
    "                NM = len(c_m0)\n",
    "            else:\n",
    "                rm = 0\n",
    "                rml = 0\n",
    "                NM = 0\n",
    "            r0 = np.mean(np.abs(np.sum(expj[:,c_0],axis=1)/N))\n",
    "            rstd = np.std(rs[-500:])\n",
    "            rs = np.mean(rs[-500:])\n",
    "            N0 = len(c_0)\n",
    "            return r0,rp,rm,rs,rpl,rml,N0,NP,NM,rstd\n",
    "        r0,rp,rm,rs,rpl,rml,N0,NP,NM,rstd = zip(*get_r)\n",
    "        try:\n",
    "            N_R0s[N_cpu*K_num:N_cpu*(K_num+1),m_num] = r0\n",
    "            N_Rs[N_cpu*K_num:N_cpu*(K_num+1),m_num] = rs\n",
    "            N_RPs[N_cpu*K_num:N_cpu*(K_num+1),m_num] = rp\n",
    "            N_RMs[N_cpu*K_num:N_cpu*(K_num+1),m_num] = rm\n",
    "            N_RPLs[N_cpu*K_num:N_cpu*(K_num+1),m_num] = rpl\n",
    "            N_RMLs[N_cpu*K_num:N_cpu*(K_num+1),m_num] = rml\n",
    "            N_0s[N_cpu*K_num:N_cpu*(K_num+1),m_num] = N0    \n",
    "            N_Ps[N_cpu*K_num:N_cpu*(K_num+1),m_num] = NP\n",
    "            N_Ms[N_cpu*K_num:N_cpu*(K_num+1),m_num] = NM\n",
    "            N_rstd[N_cpu*K_num:N_cpu*(K_num+1),m_num] = rstd\n",
    "        except:\n",
    "            N_R0s[N_cpu*K_num:,m_num] = r0\n",
    "            N_Rs[N_cpu*K_num:,m_num] = rs\n",
    "            N_RPs[N_cpu*K_num:,m_num] = rp\n",
    "            N_RMs[N_cpu*K_num:,m_num] = rm\n",
    "            N_RPLs[N_cpu*K_num:,m_num] = rpl\n",
    "            N_RMLs[N_cpu*K_num:,m_num] = rml\n",
    "            N_0s[N_cpu*K_num:,m_num] = N0    \n",
    "            N_Ps[N_cpu*K_num:,m_num] = NP\n",
    "            N_Ms[N_cpu*K_num:,m_num] = NM\n",
    "            N_rstd[N_cpu*K_num:,m_num] = rstd\n",
    "np.savez(f'RS_{seed}.npz',N_R0s=N_R0s,N_Rs=N_Rs,N_RPs=N_RPs,N_RMs=N_RMs,N_RPLs=N_RPLs,N_RMLs=N_RMLs,N_0s=N_0s,N_Ps=N_Ps,N_Ms=N_Ms,N_rstd=N_rstd)"
   ]
  },
  {
   "cell_type": "code",
   "execution_count": 7,
   "id": "d7a61d77",
   "metadata": {},
   "outputs": [],
   "source": [
    "mcs_rp0 = np.load('Simul/mcs_rp0.npz',allow_pickle=True)\n",
    "mcs_rpdh = np.load('Simul/mcs_rpdh.npz',allow_pickle=True)\n",
    "\n",
    "ms_rp0=mcs_rp0['ms']\n",
    "K_rp0u=mcs_rp0['K_u']\n",
    "K_rp0d=mcs_rp0['K_d']\n",
    "\n",
    "ms_rpdh=mcs_rpdh['ms']\n",
    "K_rpdhu=mcs_rpdh['K_u']\n",
    "K_rpdhd=mcs_rpdh['K_d']"
   ]
  },
  {
   "cell_type": "code",
   "execution_count": 8,
   "id": "27c4b8dd",
   "metadata": {},
   "outputs": [
    {
     "ename": "NameError",
     "evalue": "name 'mcolors' is not defined",
     "output_type": "error",
     "traceback": [
      "\u001b[31m---------------------------------------------------------------------------\u001b[39m",
      "\u001b[31mNameError\u001b[39m                                 Traceback (most recent call last)",
      "\u001b[36mCell\u001b[39m\u001b[36m \u001b[39m\u001b[32mIn[8]\u001b[39m\u001b[32m, line 1\u001b[39m\n\u001b[32m----> \u001b[39m\u001b[32m1\u001b[39m plt.hist2d(N_RPs.flatten(),N_RMs.flatten(),bins=\u001b[32m100\u001b[39m,norm=\u001b[43mmcolors\u001b[49m.LogNorm());\n\u001b[32m      2\u001b[39m plt.plot((\u001b[32m0\u001b[39m,\u001b[32m0.2\u001b[39m),(\u001b[32m0\u001b[39m,\u001b[32m0.2\u001b[39m),\u001b[33m'\u001b[39m\u001b[33mr-\u001b[39m\u001b[33m'\u001b[39m)\n",
      "\u001b[31mNameError\u001b[39m: name 'mcolors' is not defined"
     ]
    }
   ],
   "source": [
    "plt.hist2d(N_RPs.flatten(),N_RMs.flatten(),bins=100,norm=mcolors.LogNorm());\n",
    "plt.plot((0,0.2),(0,0.2),'r-')"
   ]
  },
  {
   "cell_type": "code",
   "execution_count": 10,
   "id": "edf72fbb",
   "metadata": {},
   "outputs": [
    {
     "data": {
      "text/plain": [
       "<matplotlib.colorbar.Colorbar at 0x2f1e689a490>"
      ]
     },
     "execution_count": 10,
     "metadata": {},
     "output_type": "execute_result"
    },
    {
     "data": {
      "image/png": "[encoded data removed]",
      "text/plain": [
       "<Figure size 640x480 with 2 Axes>"
      ]
     },
     "metadata": {},
     "output_type": "display_data"
    }
   ],
   "source": [
    "import matplotlib.colors as mcolors\n",
    "plt.pcolormesh(Ks_,ms_,N_Ps.T)\n",
    "# plt.pcolormesh(Ks_,ms_,N_RMLs.T)\n",
    "plt.plot(K_rp0d,ms_rp0,'r-',label=r'$r_{+}=0^+$')\n",
    "plt.plot(K_rp0u,ms_rp0,'r-')\n",
    "\n",
    "plt.plot(K_rpdhd,ms_rpdh,'b--',label=r'$r_{+}=R^{drift}/2$')\n",
    "plt.plot(K_rpdhu,ms_rpdh,'b--')\n",
    "# plt.gca().set_aspect('equal')\n",
    "plt.xlim(0,10)\n",
    "plt.ylim(0,10)\n",
    "# plt.ylim(4,5)\n",
    "plt.colorbar()"
   ]
  },
  {
   "cell_type": "code",
   "execution_count": 55,
   "id": "f3b473db",
   "metadata": {},
   "outputs": [
    {
     "data": {
      "text/plain": [
       "array([], dtype=float64)"
      ]
     },
     "execution_count": 55,
     "metadata": {},
     "output_type": "execute_result"
    }
   ],
   "source": [
    "N_R0s[N_cpu*K_num:N_cpu*(K_num+1),m_num]"
   ]
  },
  {
   "cell_type": "code",
   "execution_count": 54,
   "id": "5650e117",
   "metadata": {},
   "outputs": [
    {
     "ename": "ValueError",
     "evalue": "could not broadcast input array from shape (16,) into shape (0,)",
     "output_type": "error",
     "traceback": [
      "\u001b[31m---------------------------------------------------------------------------\u001b[39m",
      "\u001b[31mValueError\u001b[39m                                Traceback (most recent call last)",
      "\u001b[36mCell\u001b[39m\u001b[36m \u001b[39m\u001b[32mIn[54]\u001b[39m\u001b[32m, line 1\u001b[39m\n\u001b[32m----> \u001b[39m\u001b[32m1\u001b[39m \u001b[43mN_R0s\u001b[49m\u001b[43m[\u001b[49m\u001b[43mN_cpu\u001b[49m\u001b[43m*\u001b[49m\u001b[43mK_num\u001b[49m\u001b[43m:\u001b[49m\u001b[43mN_cpu\u001b[49m\u001b[43m*\u001b[49m\u001b[43m(\u001b[49m\u001b[43mK_num\u001b[49m\u001b[43m+\u001b[49m\u001b[32;43m1\u001b[39;49m\u001b[43m)\u001b[49m\u001b[43m,\u001b[49m\u001b[43mm_num\u001b[49m\u001b[43m]\u001b[49m = np.array(\u001b[38;5;28mlist\u001b[39m(r0)).T\n",
      "\u001b[31mValueError\u001b[39m: could not broadcast input array from shape (16,) into shape (0,)"
     ]
    }
   ],
   "source": [
    "N_R0s[N_cpu*K_num:N_cpu*(K_num+1),m_num] = np.array(list(r0)).T"
   ]
  },
  {
   "cell_type": "code",
   "execution_count": 62,
   "id": "4681e011",
   "metadata": {},
   "outputs": [],
   "source": [
    "m_num = 0\n",
    "try:\n",
    "    N_R0s[N_cpu*K_num:N_cpu*(K_num+1),m_num] =r0\n",
    "    N_Rs[N_cpu*K_num:N_cpu*(K_num+1),m_num] =rs\n",
    "    N_RPs[N_cpu*K_num:N_cpu*(K_num+1),m_num] =rp\n",
    "    N_RMs[N_cpu*K_num:N_cpu*(K_num+1),m_num] =rm\n",
    "    N_RPLs[N_cpu*K_num:N_cpu*(K_num+1),m_num] =rpl\n",
    "    N_RMLs[N_cpu*K_num:N_cpu*(K_num+1),m_num] =rml\n",
    "    N_0s[N_cpu*K_num:N_cpu*(K_num+1),m_num] =N0\n",
    "    N_Ps[N_cpu*K_num:N_cpu*(K_num+1),m_num] =NP\n",
    "    N_Ms[N_cpu*K_num:N_cpu*(K_num+1),m_num] =NM\n",
    "except:\n",
    "    N_R0s[N_cpu*K_num:,m_num] =r0\n",
    "    N_Rs[N_cpu*K_num:,m_num] =rs\n",
    "    N_RPs[N_cpu*K_num:,m_num] =rp\n",
    "    N_RMs[N_cpu*K_num:,m_num] =rm\n",
    "    N_RPLs[N_cpu*K_num:,m_num] =rpl\n",
    "    N_RMLs[N_cpu*K_num:,m_num] =rml\n",
    "    N_0s[N_cpu*K_num:,m_num] =N0\n",
    "    N_Ps[N_cpu*K_num:,m_num] =NP\n",
    "    N_Ms[N_cpu*K_num:,m_num] =NM"
   ]
  },
  {
   "cell_type": "code",
   "execution_count": 61,
   "id": "e191a86f",
   "metadata": {},
   "outputs": [],
   "source": [
    "m_num = 0\n",
    "try:\n",
    "    N_R0s[N_cpu*K_num:N_cpu*(K_num+1),m_num] = np.array(list(r0))\n",
    "    N_Rs[N_cpu*K_num:N_cpu*(K_num+1),m_num] = np.array(list(rs))\n",
    "    N_RPs[N_cpu*K_num:N_cpu*(K_num+1),m_num] = np.array(list(rp))\n",
    "    N_RMs[N_cpu*K_num:N_cpu*(K_num+1),m_num] = np.array(list(rm))\n",
    "    N_RPLs[N_cpu*K_num:N_cpu*(K_num+1),m_num] = np.array(list(rpl))\n",
    "    N_RMLs[N_cpu*K_num:N_cpu*(K_num+1),m_num] = np.array(list(rml))\n",
    "    N_0s[N_cpu*K_num:N_cpu*(K_num+1),m_num] = np.array(list(N0))\n",
    "    N_Ps[N_cpu*K_num:N_cpu*(K_num+1),m_num] = np.array(list(NP))\n",
    "    N_Ms[N_cpu*K_num:N_cpu*(K_num+1),m_num] = np.array(list(NM))\n",
    "except:\n",
    "    N_R0s[N_cpu*K_num:,m_num] = np.array(list(r0))\n",
    "    N_Rs[N_cpu*K_num:,m_num] = np.array(list(rs))\n",
    "    N_RPs[N_cpu*K_num:,m_num] = np.array(list(rp))\n",
    "    N_RMs[N_cpu*K_num:,m_num] = np.array(list(rm))\n",
    "    N_RPLs[N_cpu*K_num:,m_num] = np.array(list(rpl))\n",
    "    N_RMLs[N_cpu*K_num:,m_num] = np.array(list(rml))\n",
    "    N_0s[N_cpu*K_num:,m_num] = np.array(list(N0))\n",
    "    N_Ps[N_cpu*K_num:,m_num] = np.array(list(NP))\n",
    "    N_Ms[N_cpu*K_num:,m_num] = np.array(list(NM))"
   ]
  },
  {
   "cell_type": "code",
   "execution_count": null,
   "id": "4617fb14",
   "metadata": {},
   "outputs": [
    {
     "ename": "NameError",
     "evalue": "name 'conm' is not defined",
     "output_type": "error",
     "traceback": [
      "\u001b[31m---------------------------------------------------------------------------\u001b[39m",
      "\u001b[31mNameError\u001b[39m                                 Traceback (most recent call last)",
      "\u001b[36mCell\u001b[39m\u001b[36m \u001b[39m\u001b[32mIn[26]\u001b[39m\u001b[32m, line 45\u001b[39m\n\u001b[32m     43\u001b[39m     rml = np.nan\n\u001b[32m     44\u001b[39m     NM = \u001b[32m0\u001b[39m\n\u001b[32m---> \u001b[39m\u001b[32m45\u001b[39m c_m0, = np.where(\u001b[43mconm\u001b[49m)\n\u001b[32m     46\u001b[39m r0 = np.mean(np.abs(np.sum(expj[:,c_0],axis=\u001b[32m1\u001b[39m)/N))\n\u001b[32m     47\u001b[39m rs = np.mean(rs[-\u001b[32m500\u001b[39m:])\n",
      "\u001b[31mNameError\u001b[39m: name 'conm' is not defined"
     ]
    }
   ],
   "source": [
    "K = 3.7\n",
    "dt = 0.1\n",
    "t = np.arange(0,10100,dt)\n",
    "\n",
    "T1 = RK4_short_theta_store_r(y0=Y, t=t, omega=omega, N=N, m=m, K=K, sum_range=1001)\n",
    "rs = T1[:,0]\n",
    "theta = T1[:,1:]\n",
    "avg_theta = (theta[1000] - theta[0])/(t[1000] - t[0])\n",
    "v_t = avg_theta\n",
    "expj = np.exp(1j*theta[-500:])\n",
    "\n",
    "con0 = np.abs(v_t - v_t[N//2]) < 0.15\n",
    "c_0, = np.where(con0)\n",
    "c_p, = np.where(np.logical_and(~con0, omega > 0))\n",
    "c_m, = np.where(np.logical_and(~con0, omega < 0))\n",
    "if len(c_p) > 0:\n",
    "    conp = np.abs(v_t - np.min(v_t[c_p])) < 0.02\n",
    "    c_p0, = np.where(conp)\n",
    "    rp = np.mean(np.abs(np.sum(expj[:,c_p],axis=1)/N))\n",
    "    if len(c_p0) > 0:\n",
    "        rpl = np.mean(np.abs(np.sum(expj[:,c_p0],axis=1)/N))\n",
    "    else:\n",
    "        rpl = np.nan\n",
    "    NP = len(c_p0)\n",
    "else:\n",
    "    rp = 0\n",
    "    rpl = np.nan\n",
    "    NP = 0\n",
    "\n",
    "if len(c_m) > 0:\n",
    "    conm = np.abs(v_t - np.max(v_t[c_m])) < 0.02\n",
    "    c_m0, = np.where(conm)\n",
    "    rm = np.mean(np.abs(np.sum(expj[:,c_m],axis=1)/N))\n",
    "    if len(c_m0) > 0:\n",
    "        rml = np.mean(np.abs(np.sum(expj[:,c_m0],axis=1)/N))\n",
    "    else:\n",
    "        rml = np.nan\n",
    "    NM = len(c_m0)\n",
    "else:\n",
    "    rm = 0\n",
    "    rml = np.nan\n",
    "    NM = 0\n",
    "r0 = np.mean(np.abs(np.sum(expj[:,c_0],axis=1)/N))\n",
    "rs = np.mean(rs[-500:])\n",
    "N0 = len(c_0)"
   ]
  },
  {
   "cell_type": "code",
   "execution_count": 24,
   "id": "2547b241",
   "metadata": {},
   "outputs": [
    {
     "data": {
      "text/plain": [
       "0"
      ]
     },
     "execution_count": 24,
     "metadata": {},
     "output_type": "execute_result"
    }
   ],
   "source": [
    "len(c_p)"
   ]
  },
  {
   "cell_type": "code",
   "execution_count": 20,
   "id": "b863a660",
   "metadata": {},
   "outputs": [
    {
     "data": {
      "text/plain": [
       "[<matplotlib.lines.Line2D at 0x2d5ed630350>]"
      ]
     },
     "execution_count": 20,
     "metadata": {},
     "output_type": "execute_result"
    },
    {
     "data": {
      "image/png": "[encoded data removed]",
      "text/plain": [
       "<Figure size 640x480 with 1 Axes>"
      ]
     },
     "metadata": {},
     "output_type": "display_data"
    }
   ],
   "source": [
    "plt.plot(avg_theta)"
   ]
  }
 ],
 "metadata": {
  "kernelspec": {
   "display_name": "Python 3",
   "language": "python",
   "name": "python3"
  },
  "language_info": {
   "codemirror_mode": {
    "name": "ipython",
    "version": 3
   },
   "file_extension": ".py",
   "mimetype": "text/x-python",
   "name": "python",
   "nbconvert_exporter": "python",
   "pygments_lexer": "ipython3",
   "version": "3.11.1"
  }
 },
 "nbformat": 4,
 "nbformat_minor": 5
}
