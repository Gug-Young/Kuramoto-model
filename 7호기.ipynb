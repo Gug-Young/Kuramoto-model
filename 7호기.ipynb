{
 "cells": [
  {
   "cell_type": "markdown",
   "metadata": {},
   "source": [
    "# 231026 7"
   ]
  },
  {
   "cell_type": "code",
   "execution_count": 1,
   "metadata": {},
   "outputs": [],
   "source": [
    "from TO_sim.analytical.sec_order_parameter import *\n",
    "from parmap import parmap\n",
    "from tqdm.notebook import tqdm_notebook as tqdm\n",
    "import pandas as pd\n",
    "import numpy as np\n",
    "import matplotlib.pyplot as plt\n",
    "\n",
    "import warnings\n",
    "warnings.filterwarnings(action='ignore')\n"
   ]
  },
  {
   "cell_type": "code",
   "execution_count": 3,
   "metadata": {},
   "outputs": [],
   "source": [
    "df_read = pd.read_excel('Order parameter and secondary cluster2.xlsm',index_col=[0,1])\n",
    "ms = df_read['r_mean_d'].unstack().columns\n",
    "core = 14\n",
    "index_ = 0\n",
    "Ks = np.arange(0.1,10+0.05,0.1)\n",
    "m_set = [] \n",
    "for i in range(len(ms)//core +1):\n",
    "    m_set.append(ms[index_:index_+core])\n",
    "    index_ += core\n",
    "num = 7\n",
    "len(m_set)\n",
    "df = pd.DataFrame(columns=['K','m','r_mean_u','r_mean_d','r_main_u','r_main_d','r_sec_u','r_sec_d','r_sec_ul','r_sec_ud'])\n",
    "df = df.set_index(['K','m'])"
   ]
  },
  {
   "cell_type": "code",
   "execution_count": 4,
   "metadata": {},
   "outputs": [
    {
     "data": {
      "application/vnd.jupyter.widget-view+json": {
       "model_id": "3b9e5b52b19d4bdabe594c0c57e6409e",
       "version_major": 2,
       "version_minor": 0
      },
      "text/plain": [
       "  0%|          | 0/2 [00:00<?, ?it/s]"
      ]
     },
     "metadata": {},
     "output_type": "display_data"
    }
   ],
   "source": [
    "for m in tqdm(m_set[num][:]):\n",
    "    # m = round(m,2)\n",
    "    r_ds = df_read['r_mean_d'].unstack()[m].to_numpy()\n",
    "    r_us  = df_read['r_mean_u'].unstack()[m].to_numpy()\n",
    "    r_mds = df_read['r_main_d'].unstack()[m].to_numpy()\n",
    "    r_mus = df_read['r_main_u'].unstack()[m].to_numpy()\n",
    "    r_sds,r_sus,r_su_ls,r_su_ds = rs_N_numpy(Ks,m,r_mus,samples=100)\n",
    "    for K,r_d,r_u,r_md,r_mu,r_sd,r_su,r_su_l,r_su_d in zip(Ks,r_ds,r_us,r_mds,r_mus,r_sds,r_sus,r_su_ls,r_su_ds):\n",
    "        df.loc[(K,m),'r_mean_d'] = r_d\n",
    "        df.loc[(K,m),'r_mean_u'] = r_u\n",
    "        df.loc[(K,m),'r_main_d'] = r_md\n",
    "        df.loc[(K,m),'r_main_u'] = r_mu\n",
    "        df.loc[(K,m),'r_sec_d'] = r_sd\n",
    "        df.loc[(K,m),'r_sec_u'] = r_su\n",
    "        df.loc[(K,m),'r_sec_ul'] = r_su_l\n",
    "        df.loc[(K,m),'r_sec_ud'] = r_su_d"
   ]
  },
  {
   "cell_type": "code",
   "execution_count": 5,
   "metadata": {},
   "outputs": [],
   "source": [
    "df.sort_index().to_excel(f'231026 MULTI/{num} Order parameter and secondary cluster.xlsm')"
   ]
  },
  {
   "cell_type": "code",
   "execution_count": null,
   "metadata": {},
   "outputs": [],
   "source": []
  }
 ],
 "metadata": {
  "kernelspec": {
   "display_name": "Python 3",
   "language": "python",
   "name": "python3"
  },
  "language_info": {
   "codemirror_mode": {
    "name": "ipython",
    "version": 3
   },
   "file_extension": ".py",
   "mimetype": "text/x-python",
   "name": "python",
   "nbconvert_exporter": "python",
   "pygments_lexer": "ipython3",
   "version": "3.11.1"
  }
 },
 "nbformat": 4,
 "nbformat_minor": 2
}
