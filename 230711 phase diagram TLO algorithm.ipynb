{
 "cells": [
  {
   "cell_type": "code",
   "execution_count": 1,
   "metadata": {},
   "outputs": [],
   "source": [
    "import numpy as np\n",
    "import matplotlib.pyplot as plt\n",
    "import pandas as pd\n",
    "\n",
    "from TO_sim.Sol_Kuramoto import Sol_Kuramoto_mf2 as mf2\n",
    "from TO_sim.Sol_Kuramoto import Sol_Kuramoto_mf2_sets as mf2_sets\n",
    "from TO_sim.Sol_Kuramoto import Sol_Kuramoto_mf2_sets_not0 as mf2_sets_TLO\n",
    "from TO_sim.get_cluster import cluster_os_new2\n",
    "\n",
    "\n",
    "from TO_sim.get_cluster import C_rsmso,cluster_os,C_rsmso_set_new\n",
    "from TO_sim.To_Draw import Draw_avg_vel_r\n",
    "\n",
    "from TO_sim.gen_Distribution import Normal\n",
    "from TO_sim.gen_Distribution import Quantile_Normal as Q_Normal\n",
    "import parmap\n",
    "from scipy.signal import find_peaks\n",
    "from TO_sim.To_Draw import Draw_avg_vel_r\n",
    "from tqdm.notebook import tqdm"
   ]
  },
  {
   "cell_type": "code",
   "execution_count": 55,
   "metadata": {},
   "outputs": [],
   "source": [
    "m_set = np.arange(0.1,10+0.1/2,0.1).reshape(-1,1)\n",
    "K = 0\n",
    "seed = 11\n",
    "N = 500\n",
    "theta_init,omega,Kc = Normal(N,0,1,seed=seed)\n",
    "N_set = len(m_set)\n",
    "omega = np.sort(omega) - np.mean(omega)\n",
    "theta_sets = (np.ones((N_set,1))*theta_init)\n",
    "# theta_sets = (np.ones((N_set,1))*np.ones_like(theta_init))\n",
    "omega_sets = (np.ones((N_set,1))*omega)\n",
    "\n",
    "\n",
    "# m = 10\n",
    "t_end = 500\n",
    "dt =0.1\n",
    "t = np.arange(0,t_end,dt)\n",
    "theta_set, dtheta_set,rs = mf2_sets_TLO(m_set = m_set,N=N,K=K,t_array=t,p_theta=theta_sets,p_dtheta= 0*omega_sets,p_omega=omega_sets,result_time=int((t_end-350)*(1/dt)))"
   ]
  },
  {
   "cell_type": "code",
   "execution_count": 150,
   "metadata": {},
   "outputs": [],
   "source": [
    "def make_new_df(K_start,m_start,N = 500):\n",
    "    cols ={'r':[0],'rstd':[0],'rMM':[0],'error':[0]}\n",
    "    theta_col = []\n",
    "    dtheta_col = []\n",
    "    for i in range(10):\n",
    "        cols[f'c{i}'] = np.nan\n",
    "    for i in range(10):\n",
    "        cols[f'c{i} phase vel'] = np.nan\n",
    "    for i in range(10):\n",
    "        cols[f'c{i} omega'] = np.nan\n",
    "    for i in range(10):\n",
    "        cols[f'c{i} list'] = np.nan\n",
    "\n",
    "    for i in range(N):\n",
    "        s = 'theta'+f'{i}'.zfill(3)\n",
    "        theta_col.append(s)\n",
    "        cols[s]= np.nan\n",
    "\n",
    "    for i in range(N):\n",
    "        s = 'dtheta'+f'{i}'.zfill(3)\n",
    "        dtheta_col.append(s)\n",
    "        cols[s]= np.nan\n",
    "\n",
    "    cols['K'] = K_start\n",
    "    cols['m'] = m_start\n",
    "    df = pd.DataFrame(cols)\n",
    "    df_Km = df.set_index(['K','m'])\n",
    "    for i in range(10):\n",
    "        df_Km[f'c{i} list'] =df_Km[f'c{i} list'].astype(object)\n",
    "    return df_Km,theta_col,dtheta_col"
   ]
  },
  {
   "cell_type": "code",
   "execution_count": 109,
   "metadata": {},
   "outputs": [],
   "source": [
    "def hysterisis_col(df_Km,sets,theta_col,dtheta_col,K,m_set):\n",
    "    theta_set,dtheta_set,rs = sets\n",
    "    r_duration = rs[-5000:,:]\n",
    "    r = np.mean(r_duration,axis=0)\n",
    "    rstd = np.std(r_duration,axis=0)\n",
    "    rMM = (np.max(r_duration,axis=0)-np.min(r_duration,axis=0))\n",
    "\n",
    "    sum_time = 1500\n",
    "    dtheta_c = np.cumsum(dtheta_set,axis=0)\n",
    "    avg_dtheta_set = (dtheta_c[sum_time:]-dtheta_c[:-sum_time])/sum_time\n",
    "\n",
    "    r_duration = rs.T[0].T[-sum_time:]\n",
    "    mean_rs = np.mean(r_duration,axis=0)\n",
    "    mean_rs_std = np.std(r_duration,axis=0)\n",
    "    rMM = (np.max(r_duration,axis=0)-np.min(r_duration,axis=0)).reshape(-1)\n",
    "    N_set = len(m_set)\n",
    "\n",
    "    dtype = [('cluster size', int), ('cluster mean phase velocity', float)]\n",
    "    dtype2 = [('cluster size', int), ('cluster mean natural frequency', float)]\n",
    "\n",
    "    c_threshold = np.where(mean_rs<0.05,1e-5,5e-4)\n",
    "    last_theta = theta_set[-1]\n",
    "    last_dtheta = dtheta_set[-1]\n",
    "    for i,m in enumerate(m_set.reshape(-1)):\n",
    "            AVG = avg_dtheta_set[-1500:,i]\n",
    "            df_Km.loc[(K,m),\"r\"] = r[i]\n",
    "            df_Km.loc[(K,m),\"rstd\"] = rstd[i]\n",
    "            df_Km.loc[(K,m),\"rMM\"] = rMM[i]\n",
    "            c_check = c_threshold[i]\n",
    "            CS,CMP,cluster,omega_s,omega_e,CMO,Is_group,C_s,C_e = cluster_os_new2(AVG=AVG,check=c_check,c_size=5,N=N,omega=omega)\n",
    "            CSMP = np.array([(S,P) for S,P in zip(CS,CMP)],dtype=dtype)\n",
    "            CSMO = np.array([(S,O) for S,O in zip(CS,CMO)],dtype=dtype2)\n",
    "            for i in range(len(CSMP)):\n",
    "                    df_Km.loc[(K,m),f'c{i}'] = CSMP['cluster size'][i]\n",
    "                    df_Km.loc[(K,m),f'c{i} phase vel'] = CSMP['cluster mean phase velocity'][i]\n",
    "                    df_Km.loc[(K,m),f'c{i} omega'] = CSMO['cluster mean natural frequency'][i]\n",
    "            df_Km.loc[(K,m),theta_col] = last_theta[i]\n",
    "            df_Km.loc[(K,m),dtheta_col] = last_dtheta[i]\n",
    "    return (last_theta,last_dtheta)"
   ]
  },
  {
   "cell_type": "code",
   "execution_count": 58,
   "metadata": {},
   "outputs": [],
   "source": [
    "df_Km,theta_col,dtheta_col = make_new_df(K,m_set[0],N = 500)"
   ]
  },
  {
   "cell_type": "code",
   "execution_count": 59,
   "metadata": {},
   "outputs": [],
   "source": [
    "(last_theta,last_dtheta) = hysterisis_col(df_Km,(theta_set, dtheta_set,rs),theta_col,dtheta_col)"
   ]
  },
  {
   "cell_type": "code",
   "execution_count": 80,
   "metadata": {},
   "outputs": [
    {
     "data": {
      "application/vnd.jupyter.widget-view+json": {
       "model_id": "0d48453454f746609a2bfbc2beba9915",
       "version_major": 2,
       "version_minor": 0
      },
      "text/plain": [
       "  0%|          | 0/28 [00:00<?, ?it/s]"
      ]
     },
     "metadata": {},
     "output_type": "display_data"
    }
   ],
   "source": [
    "for _ in tqdm(list(range(28))):\n",
    "    K = K +0.1\n",
    "    theta_set, dtheta_set,rs = mf2_sets_TLO(m_set = m_set,N=N,K=K,t_array=t,p_theta=last_theta,p_dtheta=last_dtheta,p_omega=omega_sets,result_time=int((t_end-350)*(1/dt)))\n",
    "    (last_theta,last_dtheta) = hysterisis_col(df_Km,(theta_set, dtheta_set,rs),theta_col,dtheta_col,K,m_set)"
   ]
  },
  {
   "cell_type": "code",
   "execution_count": 40,
   "metadata": {},
   "outputs": [
    {
     "data": {
      "text/plain": [
       "(500,)"
      ]
     },
     "execution_count": 40,
     "metadata": {},
     "output_type": "execute_result"
    }
   ],
   "source": [
    "dtheta_set[-1][0].shape"
   ]
  },
  {
   "cell_type": "code",
   "execution_count": 78,
   "metadata": {},
   "outputs": [
    {
     "data": {
      "text/plain": [
       "7.099999999999991"
      ]
     },
     "execution_count": 78,
     "metadata": {},
     "output_type": "execute_result"
    }
   ],
   "source": [
    "Ks[-1]"
   ]
  },
  {
   "cell_type": "code",
   "execution_count": 97,
   "metadata": {},
   "outputs": [
    {
     "data": {
      "image/png": "[encoded data removed]",
      "text/plain": [
       "<Figure size 640x480 with 1 Axes>"
      ]
     },
     "metadata": {},
     "output_type": "display_data"
    }
   ],
   "source": [
    "for i in range(30,40):\n",
    "    plt.plot(df_Km.sort_index().r.unstack().to_numpy()[:,i]);"
   ]
  },
  {
   "cell_type": "code",
   "execution_count": 79,
   "metadata": {},
   "outputs": [
    {
     "data": {
      "text/plain": [
       "28"
      ]
     },
     "execution_count": 79,
     "metadata": {},
     "output_type": "execute_result"
    }
   ],
   "source": [
    "100 -72"
   ]
  },
  {
   "cell_type": "code",
   "execution_count": 245,
   "metadata": {},
   "outputs": [],
   "source": [
    "check_list_m = []\n",
    "check_list_K = []\n",
    "\n",
    "for i in range(0):\n",
    "    ms = df_Km.reset_index().m.unique()\n",
    "    re_df = df_Km.reset_index()\n",
    "\n",
    "    df_m = re_df[re_df.m == ms[i]]\n",
    "    Ks = df_m.K.to_numpy()\n",
    "    rs = df_m.r.to_numpy()\n",
    "    rstd = df_m.rstd.to_numpy()\n",
    "    rMM= df_m.rMM.to_numpy()\n",
    "    cluster_s = df_m.iloc[:,5:15]\n",
    "    cluster_o = df_m.iloc[:,15:25]\n",
    "    len_cluster = (~cluster_o.isna()).sum(axis=1).to_numpy()\n",
    "    plt.scatter(np.ones((10,72))*Ks,cluster_s.to_numpy().T,alpha=0.9,\n",
    "                c=np.ones((10,72))*(len_cluster),s=5*np.ones((10,72))*(len_cluster))\n",
    "    # plt.colorbar()\n",
    "    len_cluster = (~cluster_o.isna()).sum(axis=1)\n",
    "    is_na = df_m.K.loc[df_m.K>2][len_cluster ==0].to_numpy()\n",
    "    if len(is_na) !=0:\n",
    "        # print(ms[i],is_na)\n",
    "        for K in is_na:\n",
    "            check_list_K.append(K)\n",
    "            check_list_m.append(ms[i])\n",
    "\n"
   ]
  },
  {
   "cell_type": "code",
   "execution_count": 246,
   "metadata": {},
   "outputs": [
    {
     "data": {
      "text/plain": [
       "array([0.])"
      ]
     },
     "execution_count": 246,
     "metadata": {},
     "output_type": "execute_result"
    }
   ],
   "source": [
    "Ks"
   ]
  },
  {
   "cell_type": "code",
   "execution_count": 38,
   "metadata": {},
   "outputs": [
    {
     "data": {
      "text/plain": [
       "(6, 10)"
      ]
     },
     "execution_count": 38,
     "metadata": {},
     "output_type": "execute_result"
    }
   ],
   "source": [
    "cluster_o.to_numpy().shape"
   ]
  },
  {
   "cell_type": "code",
   "execution_count": 33,
   "metadata": {},
   "outputs": [
    {
     "data": {
      "text/plain": [
       "99"
      ]
     },
     "execution_count": 33,
     "metadata": {},
     "output_type": "execute_result"
    }
   ],
   "source": [
    "len(m_set)"
   ]
  },
  {
   "cell_type": "code",
   "execution_count": 11,
   "metadata": {},
   "outputs": [
    {
     "data": {
      "text/plain": [
       "(99, 500)"
      ]
     },
     "execution_count": 11,
     "metadata": {},
     "output_type": "execute_result"
    }
   ],
   "source": [
    "theta_sets.shape"
   ]
  },
  {
   "cell_type": "code",
   "execution_count": 8,
   "metadata": {},
   "outputs": [
    {
     "data": {
      "text/plain": [
       "(99, 500)"
      ]
     },
     "execution_count": 8,
     "metadata": {},
     "output_type": "execute_result"
    }
   ],
   "source": [
    "theta_set[-1].shape"
   ]
  },
  {
   "cell_type": "code",
   "execution_count": 46,
   "metadata": {},
   "outputs": [
    {
     "data": {
      "image/png": "[encoded data removed]",
      "text/plain": [
       "<Figure size 640x480 with 1 Axes>"
      ]
     },
     "metadata": {},
     "output_type": "display_data"
    }
   ],
   "source": [
    "plt.plot(rs.T[0].T);"
   ]
  },
  {
   "cell_type": "code",
   "execution_count": 32,
   "metadata": {},
   "outputs": [],
   "source": [
    "m = 0"
   ]
  },
  {
   "cell_type": "code",
   "execution_count": null,
   "metadata": {},
   "outputs": [],
   "source": [
    "theta, dtheta,rs = mf2(K,N=N,m=m,t_array=t,p_theta=theta_init,p_dtheta= 0*omega,p_omega=omega,result_time = int((t_end)-(350))*int(1/dt))\n",
    "if m == 0:\n",
    "        dtheta = np.c_[dtheta[0],dtheta.T].T\n",
    "r_c = np.cumsum(rs,axis=0)\n",
    "sum_time = 150*int(1/dt)\n",
    "t_sum = t[sum_time:]\n",
    "avg_r_set = (r_c[sum_time:]-r_c[:-sum_time])/sum_time\n",
    "\n",
    "r_duration = rs[-5000:]\n",
    "r = np.mean(r_duration,axis=0)\n",
    "rstd = np.std(r_duration,axis=0)\n",
    "rMM = (np.max(r_duration,axis=0)-np.min(r_duration,axis=0))\n",
    "\n",
    "sum_time = 1500\n",
    "dtheta_c = np.cumsum(dtheta,axis=0)\n",
    "avg_dtheta = (dtheta_c[sum_time:]-dtheta_c[:-sum_time])/sum_time\n",
    "\n",
    "c_threshold = np.where(r<0.1,1e-5,3e-4)\n",
    "CS,CMP,cluster,omega_s,omega_e,CMO,Is_group,C_s,C_e = cluster_os_new2(AVG=avg_dtheta,check=c_threshold,c_size=5,N=N,omega=omega)\n",
    "dtype = [('cluster size', int), ('cluster mean phase velocity', float)]\n",
    "dtype2 = [('cluster size', int), ('cluster mean natural frequency', float)]\n",
    "CSMP = np.array([(S,P) for S,P in zip(CS,CMP)],dtype=dtype)\n",
    "CSMO = np.array([(S,O) for S,O in zip(CS,CMO)],dtype=dtype2)\n",
    "\n",
    "\n",
    "df_Km.loc[(K,m),\"r\"] = r\n",
    "df_Km.loc[(K,m),\"rstd\"] = rstd\n",
    "df_Km.loc[(K,m),\"rMM\"] = rMM\n",
    "df_Km.loc[(K,m),'error'] = np.nan\n",
    "for i in range(len(CSMO)):\n",
    "        df_Km.loc[(K,m),f'c{i}'] = CSMP['cluster size'][i]\n",
    "        df_Km.loc[(K,m),f'c{i} phase vel'] = CSMP['cluster mean phase velocity'][i]\n",
    "        df_Km.loc[(K,m),f'c{i} omega'] = CSMO['cluster mean natural frequency'][i]\n",
    "df_Km.loc[(K,m),theta_col] = last_theta[i]\n",
    "df_Km.loc[(K,m),dtheta_col] = last_dtheta[i]\n",
    "df_Km.loc[(K,m),cluster] = cluster"
   ]
  },
  {
   "cell_type": "code",
   "execution_count": 183,
   "metadata": {},
   "outputs": [],
   "source": [
    "def hysterisis(df_Km,sets,theta_col,dtheta_col,K,m):\n",
    "    theta,dtheta,rs = sets\n",
    "    r_duration = rs[-5000:]\n",
    "    r = np.mean(r_duration,axis=0)\n",
    "    rstd = np.std(r_duration,axis=0)\n",
    "    rMM = (np.max(r_duration,axis=0)-np.min(r_duration,axis=0))\n",
    "\n",
    "    sum_time = 1500\n",
    "    dtheta_c = np.cumsum(dtheta,axis=0)\n",
    "    avg_dtheta = (dtheta_c[sum_time:]-dtheta_c[:-sum_time])/sum_time\n",
    "\n",
    "    c_threshold = np.where(r<0.1,1e-5,1e-4)\n",
    "    CS,CMP,cluster,omega_s,omega_e,CMO,Is_group,C_s,C_e = cluster_os_new2(AVG=avg_dtheta,check=c_threshold,c_size=5,N=N,omega=omega)\n",
    "    dtype = [('cluster size', int), ('cluster mean phase velocity', float)]\n",
    "    dtype2 = [('cluster size', int), ('cluster mean natural frequency', float)]\n",
    "    CSMP = np.array([(S,P) for S,P in zip(CS,CMP)],dtype=dtype)\n",
    "    CSMO = np.array([(S,O) for S,O in zip(CS,CMO)],dtype=dtype2)\n",
    "    cluster = np.array(cluster)\n",
    "    last_theta = theta[-1]\n",
    "    last_dtheta = dtheta[-1]\n",
    "    df_Km.loc[(K,m),\"r\"] = r\n",
    "    df_Km.loc[(K,m),\"rstd\"] = rstd\n",
    "    df_Km.loc[(K,m),\"rMM\"] = rMM\n",
    "    df_Km.loc[(K,m),'error'] = np.nan\n",
    "    for i in range(len(CSMO)):\n",
    "        df_Km.loc[(K,m),f'c{i}'] = CSMP['cluster size'][i]\n",
    "        df_Km.loc[(K,m),f'c{i} phase vel'] = CSMP['cluster mean phase velocity'][i]\n",
    "        df_Km.loc[(K,m),f'c{i} omega'] = CSMO['cluster mean natural frequency'][i]\n",
    "        df_Km.loc[(K,m),f'c{i} list'] = ' '.join(map(str,cluster[i]))\n",
    "    df_Km.loc[(K,m),theta_col] = last_theta\n",
    "    df_Km.loc[(K,m),dtheta_col] = last_dtheta\n",
    "    return (last_theta,last_dtheta) "
   ]
  },
  {
   "cell_type": "code",
   "execution_count": 280,
   "metadata": {},
   "outputs": [],
   "source": [
    "seed = 10\n",
    "N = 500\n",
    "theta_init,omega,Kc = Normal(N,0,1,seed=seed)\n",
    "omega = np.sort(omega) - np.mean(omega)\n",
    "\n",
    "K = 0\n",
    "m = 0\n",
    "dK = 0.1\n",
    "K_end = 10\n",
    "Ks = np.arange(0,K_end+dK/2,dK)\n",
    "\n",
    "df_Km,theta_col,dtheta_col = make_new_df(0,m,N = N)\n",
    "\n",
    "def TLO(m,theta_init,omega,Ks,N,df_Km,theta_col,dtheta_col):\n",
    "    t_end = 500\n",
    "    dt =0.1\n",
    "    t = np.arange(0,t_end,dt)\n",
    "    K = Ks[0]\n",
    "    theta, dtheta,rs = mf2(K,N=N,m=m,t_array=t,p_theta=theta_init,p_dtheta= 0*omega,p_omega=omega,result_time = int((t_end)-(350))*int(1/dt))\n",
    "    if m == 0:\n",
    "        dtheta = np.c_[dtheta[0],dtheta.T].T\n",
    "    last_theta,last_dtheta = hysterisis(df_Km,(theta, dtheta,rs),theta_col,dtheta_col,K,m)\n",
    "    for K in Ks[1:]:\n",
    "        theta, dtheta,rs = mf2(K,N=N,m=m,t_array=t,p_theta=last_theta,p_dtheta= last_dtheta,p_omega=omega,result_time = int((t_end)-(350))*int(1/dt))\n",
    "        if m == 0:\n",
    "            dtheta = np.c_[dtheta[0],dtheta.T].T\n",
    "        last_theta,last_dtheta = hysterisis(df_Km,(theta, dtheta,rs),theta_col,dtheta_col,K,m)"
   ]
  },
  {
   "cell_type": "code",
   "execution_count": 282,
   "metadata": {},
   "outputs": [],
   "source": [
    "TLO(0,theta_init,omega,Ks,N,df_Km,theta_col,dtheta_col)\n",
    "TLO(0.1,theta_init,omega,Ks,N,df_Km,theta_col,dtheta_col)"
   ]
  },
  {
   "cell_type": "code",
   "execution_count": 271,
   "metadata": {},
   "outputs": [
    {
     "name": "stderr",
     "output_type": "stream",
     "text": [
      "/var/folders/lj/v2s5sd8n1cv2xdh0yw2kf0x00000gn/T/ipykernel_82666/1917162146.py:1: UserWarning: You are merging on int and float columns where the float values are not equal to their int representation.\n",
      "  pd.merge(df_Km.reset_index(),df_Km1.reset_index(),how='outer').set_index(['K','m'])\n",
      "/var/folders/lj/v2s5sd8n1cv2xdh0yw2kf0x00000gn/T/ipykernel_82666/1917162146.py:1: FutureWarning: In a future version, the Index constructor will not infer numeric dtypes when passed object-dtype sequences (matching Series behavior)\n",
      "  pd.merge(df_Km.reset_index(),df_Km1.reset_index(),how='outer').set_index(['K','m'])\n"
     ]
    },
    {
     "data": {
      "text/html": [
       "<div>\n",
       "<style scoped>\n",
       "    .dataframe tbody tr th:only-of-type {\n",
       "        vertical-align: middle;\n",
       "    }\n",
       "\n",
       "    .dataframe tbody tr th {\n",
       "        vertical-align: top;\n",
       "    }\n",
       "\n",
       "    .dataframe thead th {\n",
       "        text-align: right;\n",
       "    }\n",
       "</style>\n",
       "<table border=\"1\" class=\"dataframe\">\n",
       "  <thead>\n",
       "    <tr style=\"text-align: right;\">\n",
       "      <th></th>\n",
       "      <th></th>\n",
       "      <th>r</th>\n",
       "      <th>rstd</th>\n",
       "      <th>rMM</th>\n",
       "      <th>error</th>\n",
       "      <th>c0</th>\n",
       "      <th>c1</th>\n",
       "      <th>c2</th>\n",
       "      <th>c3</th>\n",
       "      <th>c4</th>\n",
       "      <th>c5</th>\n",
       "      <th>...</th>\n",
       "      <th>dtheta490</th>\n",
       "      <th>dtheta491</th>\n",
       "      <th>dtheta492</th>\n",
       "      <th>dtheta493</th>\n",
       "      <th>dtheta494</th>\n",
       "      <th>dtheta495</th>\n",
       "      <th>dtheta496</th>\n",
       "      <th>dtheta497</th>\n",
       "      <th>dtheta498</th>\n",
       "      <th>dtheta499</th>\n",
       "    </tr>\n",
       "    <tr>\n",
       "      <th>K</th>\n",
       "      <th>m</th>\n",
       "      <th></th>\n",
       "      <th></th>\n",
       "      <th></th>\n",
       "      <th></th>\n",
       "      <th></th>\n",
       "      <th></th>\n",
       "      <th></th>\n",
       "      <th></th>\n",
       "      <th></th>\n",
       "      <th></th>\n",
       "      <th></th>\n",
       "      <th></th>\n",
       "      <th></th>\n",
       "      <th></th>\n",
       "      <th></th>\n",
       "      <th></th>\n",
       "      <th></th>\n",
       "      <th></th>\n",
       "      <th></th>\n",
       "      <th></th>\n",
       "      <th></th>\n",
       "    </tr>\n",
       "  </thead>\n",
       "  <tbody>\n",
       "    <tr>\n",
       "      <th>0.0</th>\n",
       "      <th>0.0</th>\n",
       "      <td>0.036970</td>\n",
       "      <td>0.019776</td>\n",
       "      <td>0.120249</td>\n",
       "      <td>NaN</td>\n",
       "      <td>NaN</td>\n",
       "      <td>NaN</td>\n",
       "      <td>NaN</td>\n",
       "      <td>NaN</td>\n",
       "      <td>NaN</td>\n",
       "      <td>NaN</td>\n",
       "      <td>...</td>\n",
       "      <td>2.194040e+00</td>\n",
       "      <td>2.210857e+00</td>\n",
       "      <td>2.288117e+00</td>\n",
       "      <td>2.353115e+00</td>\n",
       "      <td>2.353957e+00</td>\n",
       "      <td>2.363694e+00</td>\n",
       "      <td>2.373316e+00</td>\n",
       "      <td>2.434315e+00</td>\n",
       "      <td>2.436641e+00</td>\n",
       "      <td>2.648900e+00</td>\n",
       "    </tr>\n",
       "    <tr>\n",
       "      <th>0.1</th>\n",
       "      <th>0.0</th>\n",
       "      <td>0.039411</td>\n",
       "      <td>0.021245</td>\n",
       "      <td>0.131108</td>\n",
       "      <td>NaN</td>\n",
       "      <td>NaN</td>\n",
       "      <td>NaN</td>\n",
       "      <td>NaN</td>\n",
       "      <td>NaN</td>\n",
       "      <td>NaN</td>\n",
       "      <td>NaN</td>\n",
       "      <td>...</td>\n",
       "      <td>2.187057e+00</td>\n",
       "      <td>2.219361e+00</td>\n",
       "      <td>2.295720e+00</td>\n",
       "      <td>2.357850e+00</td>\n",
       "      <td>2.345866e+00</td>\n",
       "      <td>2.354958e+00</td>\n",
       "      <td>2.364766e+00</td>\n",
       "      <td>2.430126e+00</td>\n",
       "      <td>2.438150e+00</td>\n",
       "      <td>2.657339e+00</td>\n",
       "    </tr>\n",
       "    <tr>\n",
       "      <th>0.2</th>\n",
       "      <th>0.0</th>\n",
       "      <td>0.043170</td>\n",
       "      <td>0.022297</td>\n",
       "      <td>0.116606</td>\n",
       "      <td>NaN</td>\n",
       "      <td>NaN</td>\n",
       "      <td>NaN</td>\n",
       "      <td>NaN</td>\n",
       "      <td>NaN</td>\n",
       "      <td>NaN</td>\n",
       "      <td>NaN</td>\n",
       "      <td>...</td>\n",
       "      <td>2.196710e+00</td>\n",
       "      <td>2.213769e+00</td>\n",
       "      <td>2.288149e+00</td>\n",
       "      <td>2.350176e+00</td>\n",
       "      <td>2.356857e+00</td>\n",
       "      <td>2.363053e+00</td>\n",
       "      <td>2.371049e+00</td>\n",
       "      <td>2.436473e+00</td>\n",
       "      <td>2.437525e+00</td>\n",
       "      <td>2.650167e+00</td>\n",
       "    </tr>\n",
       "    <tr>\n",
       "      <th>0.3</th>\n",
       "      <th>0.0</th>\n",
       "      <td>0.044332</td>\n",
       "      <td>0.024213</td>\n",
       "      <td>0.134112</td>\n",
       "      <td>NaN</td>\n",
       "      <td>NaN</td>\n",
       "      <td>NaN</td>\n",
       "      <td>NaN</td>\n",
       "      <td>NaN</td>\n",
       "      <td>NaN</td>\n",
       "      <td>NaN</td>\n",
       "      <td>...</td>\n",
       "      <td>2.209600e+00</td>\n",
       "      <td>2.206677e+00</td>\n",
       "      <td>2.284615e+00</td>\n",
       "      <td>2.362632e+00</td>\n",
       "      <td>2.347011e+00</td>\n",
       "      <td>2.369321e+00</td>\n",
       "      <td>2.361638e+00</td>\n",
       "      <td>2.434130e+00</td>\n",
       "      <td>2.420832e+00</td>\n",
       "      <td>2.665639e+00</td>\n",
       "    </tr>\n",
       "    <tr>\n",
       "      <th>0.4</th>\n",
       "      <th>0.0</th>\n",
       "      <td>0.047506</td>\n",
       "      <td>0.025753</td>\n",
       "      <td>0.157875</td>\n",
       "      <td>NaN</td>\n",
       "      <td>NaN</td>\n",
       "      <td>NaN</td>\n",
       "      <td>NaN</td>\n",
       "      <td>NaN</td>\n",
       "      <td>NaN</td>\n",
       "      <td>NaN</td>\n",
       "      <td>...</td>\n",
       "      <td>2.183567e+00</td>\n",
       "      <td>2.224400e+00</td>\n",
       "      <td>2.271649e+00</td>\n",
       "      <td>2.367540e+00</td>\n",
       "      <td>2.350504e+00</td>\n",
       "      <td>2.379926e+00</td>\n",
       "      <td>2.379610e+00</td>\n",
       "      <td>2.430202e+00</td>\n",
       "      <td>2.452889e+00</td>\n",
       "      <td>2.632705e+00</td>\n",
       "    </tr>\n",
       "    <tr>\n",
       "      <th>...</th>\n",
       "      <th>...</th>\n",
       "      <td>...</td>\n",
       "      <td>...</td>\n",
       "      <td>...</td>\n",
       "      <td>...</td>\n",
       "      <td>...</td>\n",
       "      <td>...</td>\n",
       "      <td>...</td>\n",
       "      <td>...</td>\n",
       "      <td>...</td>\n",
       "      <td>...</td>\n",
       "      <td>...</td>\n",
       "      <td>...</td>\n",
       "      <td>...</td>\n",
       "      <td>...</td>\n",
       "      <td>...</td>\n",
       "      <td>...</td>\n",
       "      <td>...</td>\n",
       "      <td>...</td>\n",
       "      <td>...</td>\n",
       "      <td>...</td>\n",
       "      <td>...</td>\n",
       "    </tr>\n",
       "    <tr>\n",
       "      <th>9.6</th>\n",
       "      <th>0.1</th>\n",
       "      <td>0.995062</td>\n",
       "      <td>0.000002</td>\n",
       "      <td>0.000123</td>\n",
       "      <td>NaN</td>\n",
       "      <td>500.0</td>\n",
       "      <td>NaN</td>\n",
       "      <td>NaN</td>\n",
       "      <td>NaN</td>\n",
       "      <td>NaN</td>\n",
       "      <td>NaN</td>\n",
       "      <td>...</td>\n",
       "      <td>-1.397320e-11</td>\n",
       "      <td>6.014432e-12</td>\n",
       "      <td>1.802515e-11</td>\n",
       "      <td>1.465191e-11</td>\n",
       "      <td>-2.538557e-13</td>\n",
       "      <td>6.727431e-12</td>\n",
       "      <td>1.079028e-11</td>\n",
       "      <td>-5.676700e-12</td>\n",
       "      <td>-1.181002e-11</td>\n",
       "      <td>-1.564906e-11</td>\n",
       "    </tr>\n",
       "    <tr>\n",
       "      <th>9.7</th>\n",
       "      <th>0.1</th>\n",
       "      <td>0.995165</td>\n",
       "      <td>0.000002</td>\n",
       "      <td>0.000119</td>\n",
       "      <td>NaN</td>\n",
       "      <td>500.0</td>\n",
       "      <td>NaN</td>\n",
       "      <td>NaN</td>\n",
       "      <td>NaN</td>\n",
       "      <td>NaN</td>\n",
       "      <td>NaN</td>\n",
       "      <td>...</td>\n",
       "      <td>1.567908e-11</td>\n",
       "      <td>1.817781e-11</td>\n",
       "      <td>8.688753e-13</td>\n",
       "      <td>6.577775e-12</td>\n",
       "      <td>1.047334e-11</td>\n",
       "      <td>-2.126895e-12</td>\n",
       "      <td>2.922356e-12</td>\n",
       "      <td>-9.150071e-12</td>\n",
       "      <td>4.154633e-13</td>\n",
       "      <td>3.067226e-11</td>\n",
       "    </tr>\n",
       "    <tr>\n",
       "      <th>9.8</th>\n",
       "      <th>0.1</th>\n",
       "      <td>0.995265</td>\n",
       "      <td>0.000002</td>\n",
       "      <td>0.000115</td>\n",
       "      <td>NaN</td>\n",
       "      <td>500.0</td>\n",
       "      <td>NaN</td>\n",
       "      <td>NaN</td>\n",
       "      <td>NaN</td>\n",
       "      <td>NaN</td>\n",
       "      <td>NaN</td>\n",
       "      <td>...</td>\n",
       "      <td>1.570150e-11</td>\n",
       "      <td>-7.226087e-12</td>\n",
       "      <td>1.266085e-11</td>\n",
       "      <td>1.677843e-11</td>\n",
       "      <td>1.697644e-11</td>\n",
       "      <td>-7.458777e-12</td>\n",
       "      <td>1.190228e-11</td>\n",
       "      <td>1.068562e-11</td>\n",
       "      <td>-1.130250e-11</td>\n",
       "      <td>2.414807e-11</td>\n",
       "    </tr>\n",
       "    <tr>\n",
       "      <th>9.9</th>\n",
       "      <th>0.1</th>\n",
       "      <td>0.995361</td>\n",
       "      <td>0.000002</td>\n",
       "      <td>0.000112</td>\n",
       "      <td>NaN</td>\n",
       "      <td>500.0</td>\n",
       "      <td>NaN</td>\n",
       "      <td>NaN</td>\n",
       "      <td>NaN</td>\n",
       "      <td>NaN</td>\n",
       "      <td>NaN</td>\n",
       "      <td>...</td>\n",
       "      <td>-1.673581e-11</td>\n",
       "      <td>-2.650561e-12</td>\n",
       "      <td>3.249046e-12</td>\n",
       "      <td>6.234494e-12</td>\n",
       "      <td>1.107279e-11</td>\n",
       "      <td>-2.426357e-12</td>\n",
       "      <td>3.726972e-12</td>\n",
       "      <td>7.363313e-12</td>\n",
       "      <td>9.249876e-12</td>\n",
       "      <td>-2.845881e-11</td>\n",
       "    </tr>\n",
       "    <tr>\n",
       "      <th>10.0</th>\n",
       "      <th>0.1</th>\n",
       "      <td>0.995455</td>\n",
       "      <td>0.000002</td>\n",
       "      <td>0.000109</td>\n",
       "      <td>NaN</td>\n",
       "      <td>500.0</td>\n",
       "      <td>NaN</td>\n",
       "      <td>NaN</td>\n",
       "      <td>NaN</td>\n",
       "      <td>NaN</td>\n",
       "      <td>NaN</td>\n",
       "      <td>...</td>\n",
       "      <td>-7.337183e-12</td>\n",
       "      <td>1.264631e-11</td>\n",
       "      <td>-4.089896e-12</td>\n",
       "      <td>-1.772760e-11</td>\n",
       "      <td>2.606006e-12</td>\n",
       "      <td>-1.190544e-11</td>\n",
       "      <td>2.130916e-12</td>\n",
       "      <td>-1.579039e-11</td>\n",
       "      <td>-6.899650e-12</td>\n",
       "      <td>-1.185617e-11</td>\n",
       "    </tr>\n",
       "  </tbody>\n",
       "</table>\n",
       "<p>202 rows × 1044 columns</p>\n",
       "</div>"
      ],
      "text/plain": [
       "                 r      rstd       rMM  error     c0  c1  c2  c3  c4  c5  ...  \\\n",
       "K    m                                                                    ...   \n",
       "0.0  0.0  0.036970  0.019776  0.120249    NaN    NaN NaN NaN NaN NaN NaN  ...   \n",
       "0.1  0.0  0.039411  0.021245  0.131108    NaN    NaN NaN NaN NaN NaN NaN  ...   \n",
       "0.2  0.0  0.043170  0.022297  0.116606    NaN    NaN NaN NaN NaN NaN NaN  ...   \n",
       "0.3  0.0  0.044332  0.024213  0.134112    NaN    NaN NaN NaN NaN NaN NaN  ...   \n",
       "0.4  0.0  0.047506  0.025753  0.157875    NaN    NaN NaN NaN NaN NaN NaN  ...   \n",
       "...            ...       ...       ...    ...    ...  ..  ..  ..  ..  ..  ...   \n",
       "9.6  0.1  0.995062  0.000002  0.000123    NaN  500.0 NaN NaN NaN NaN NaN  ...   \n",
       "9.7  0.1  0.995165  0.000002  0.000119    NaN  500.0 NaN NaN NaN NaN NaN  ...   \n",
       "9.8  0.1  0.995265  0.000002  0.000115    NaN  500.0 NaN NaN NaN NaN NaN  ...   \n",
       "9.9  0.1  0.995361  0.000002  0.000112    NaN  500.0 NaN NaN NaN NaN NaN  ...   \n",
       "10.0 0.1  0.995455  0.000002  0.000109    NaN  500.0 NaN NaN NaN NaN NaN  ...   \n",
       "\n",
       "             dtheta490     dtheta491     dtheta492     dtheta493  \\\n",
       "K    m                                                             \n",
       "0.0  0.0  2.194040e+00  2.210857e+00  2.288117e+00  2.353115e+00   \n",
       "0.1  0.0  2.187057e+00  2.219361e+00  2.295720e+00  2.357850e+00   \n",
       "0.2  0.0  2.196710e+00  2.213769e+00  2.288149e+00  2.350176e+00   \n",
       "0.3  0.0  2.209600e+00  2.206677e+00  2.284615e+00  2.362632e+00   \n",
       "0.4  0.0  2.183567e+00  2.224400e+00  2.271649e+00  2.367540e+00   \n",
       "...                ...           ...           ...           ...   \n",
       "9.6  0.1 -1.397320e-11  6.014432e-12  1.802515e-11  1.465191e-11   \n",
       "9.7  0.1  1.567908e-11  1.817781e-11  8.688753e-13  6.577775e-12   \n",
       "9.8  0.1  1.570150e-11 -7.226087e-12  1.266085e-11  1.677843e-11   \n",
       "9.9  0.1 -1.673581e-11 -2.650561e-12  3.249046e-12  6.234494e-12   \n",
       "10.0 0.1 -7.337183e-12  1.264631e-11 -4.089896e-12 -1.772760e-11   \n",
       "\n",
       "             dtheta494     dtheta495     dtheta496     dtheta497  \\\n",
       "K    m                                                             \n",
       "0.0  0.0  2.353957e+00  2.363694e+00  2.373316e+00  2.434315e+00   \n",
       "0.1  0.0  2.345866e+00  2.354958e+00  2.364766e+00  2.430126e+00   \n",
       "0.2  0.0  2.356857e+00  2.363053e+00  2.371049e+00  2.436473e+00   \n",
       "0.3  0.0  2.347011e+00  2.369321e+00  2.361638e+00  2.434130e+00   \n",
       "0.4  0.0  2.350504e+00  2.379926e+00  2.379610e+00  2.430202e+00   \n",
       "...                ...           ...           ...           ...   \n",
       "9.6  0.1 -2.538557e-13  6.727431e-12  1.079028e-11 -5.676700e-12   \n",
       "9.7  0.1  1.047334e-11 -2.126895e-12  2.922356e-12 -9.150071e-12   \n",
       "9.8  0.1  1.697644e-11 -7.458777e-12  1.190228e-11  1.068562e-11   \n",
       "9.9  0.1  1.107279e-11 -2.426357e-12  3.726972e-12  7.363313e-12   \n",
       "10.0 0.1  2.606006e-12 -1.190544e-11  2.130916e-12 -1.579039e-11   \n",
       "\n",
       "             dtheta498     dtheta499  \n",
       "K    m                                \n",
       "0.0  0.0  2.436641e+00  2.648900e+00  \n",
       "0.1  0.0  2.438150e+00  2.657339e+00  \n",
       "0.2  0.0  2.437525e+00  2.650167e+00  \n",
       "0.3  0.0  2.420832e+00  2.665639e+00  \n",
       "0.4  0.0  2.452889e+00  2.632705e+00  \n",
       "...                ...           ...  \n",
       "9.6  0.1 -1.181002e-11 -1.564906e-11  \n",
       "9.7  0.1  4.154633e-13  3.067226e-11  \n",
       "9.8  0.1 -1.130250e-11  2.414807e-11  \n",
       "9.9  0.1  9.249876e-12 -2.845881e-11  \n",
       "10.0 0.1 -6.899650e-12 -1.185617e-11  \n",
       "\n",
       "[202 rows x 1044 columns]"
      ]
     },
     "execution_count": 271,
     "metadata": {},
     "output_type": "execute_result"
    }
   ],
   "source": [
    "pd.merge(df_Km.reset_index(),df_Km1.reset_index(),how='outer').set_index(['K','m'])"
   ]
  },
  {
   "cell_type": "code",
   "execution_count": 251,
   "metadata": {},
   "outputs": [],
   "source": [
    "df_Km,theta_col,dtheta_col = make_new_df(0,0,N = 500)"
   ]
  },
  {
   "cell_type": "code",
   "execution_count": 252,
   "metadata": {},
   "outputs": [],
   "source": []
  },
  {
   "cell_type": "code",
   "execution_count": 253,
   "metadata": {},
   "outputs": [
    {
     "data": {
      "application/vnd.jupyter.widget-view+json": {
       "model_id": "d1baa72079954080aea6524aa5d508f5",
       "version_major": 2,
       "version_minor": 0
      },
      "text/plain": [
       "  0%|          | 0/10 [00:00<?, ?it/s]"
      ]
     },
     "metadata": {},
     "output_type": "display_data"
    },
    {
     "name": "stdout",
     "output_type": "stream",
     "text": [
      "now K = 0.00 m = 0.00\n",
      "10.09999999999998 0\n",
      "now K = 0.00 m = 0.10\n",
      "10.09999999999998 0.1\n",
      "now K = 0.00 m = 0.20\n"
     ]
    },
    {
     "ename": "KeyboardInterrupt",
     "evalue": "",
     "output_type": "error",
     "traceback": [
      "\u001b[0;31m---------------------------------------------------------------------------\u001b[0m",
      "\u001b[0;31mKeyboardInterrupt\u001b[0m                         Traceback (most recent call last)",
      "Cell \u001b[0;32mIn[253], line 11\u001b[0m\n\u001b[1;32m      9\u001b[0m \u001b[39mwhile\u001b[39;00m K \u001b[39m<\u001b[39m\u001b[39m=\u001b[39m K_end:\n\u001b[1;32m     10\u001b[0m     K \u001b[39m+\u001b[39m\u001b[39m=\u001b[39m\u001b[39m0.1\u001b[39m\n\u001b[0;32m---> 11\u001b[0m     theta, dtheta,rs \u001b[39m=\u001b[39m mf2(K,N\u001b[39m=\u001b[39;49mN,m\u001b[39m=\u001b[39;49mm,t_array\u001b[39m=\u001b[39;49mt,p_theta\u001b[39m=\u001b[39;49mlast_theta,p_dtheta\u001b[39m=\u001b[39;49m last_dtheta,p_omega\u001b[39m=\u001b[39;49momega,result_time \u001b[39m=\u001b[39;49m \u001b[39mint\u001b[39;49m((t_end)\u001b[39m-\u001b[39;49m(\u001b[39m350\u001b[39;49m))\u001b[39m*\u001b[39;49m\u001b[39mint\u001b[39;49m(\u001b[39m1\u001b[39;49m\u001b[39m/\u001b[39;49mdt))\n\u001b[1;32m     12\u001b[0m     \u001b[39mif\u001b[39;00m m \u001b[39m==\u001b[39m \u001b[39m0\u001b[39m:\n\u001b[1;32m     13\u001b[0m         dtheta \u001b[39m=\u001b[39m np\u001b[39m.\u001b[39mc_[dtheta[\u001b[39m0\u001b[39m],dtheta\u001b[39m.\u001b[39mT]\u001b[39m.\u001b[39mT\n",
      "File \u001b[0;32m~/Desktop/KURAMOTO 1st order/Kuramoto-model/TO_sim/Sol_Kuramoto.py:42\u001b[0m, in \u001b[0;36mSol_Kuramoto_mf2\u001b[0;34m(K, N, m, t_array, p_theta, p_dtheta, p_omega, result_time)\u001b[0m\n\u001b[1;32m     40\u001b[0m \u001b[39melse\u001b[39;00m:\n\u001b[1;32m     41\u001b[0m     function \u001b[39m=\u001b[39m Kuramoto_2nd_mf_r\n\u001b[0;32m---> 42\u001b[0m result,rs \u001b[39m=\u001b[39m RK4_r(function,np\u001b[39m.\u001b[39;49mr_[theta,dtheta],t_array,args\u001b[39m=\u001b[39;49m(omega,N,m,K),result_time\u001b[39m=\u001b[39;49mresult_time)\n\u001b[1;32m     43\u001b[0m theta_s \u001b[39m=\u001b[39m result[:,:N]\n\u001b[1;32m     44\u001b[0m dtheta_s \u001b[39m=\u001b[39m result[:,N:\u001b[39m2\u001b[39m\u001b[39m*\u001b[39mN]\n",
      "File \u001b[0;32m~/Desktop/KURAMOTO 1st order/Kuramoto-model/TO_sim/Integrator.py:66\u001b[0m, in \u001b[0;36mRK4_r\u001b[0;34m(f, y0, t, args, result_time)\u001b[0m\n\u001b[1;32m     64\u001b[0m     y[i \u001b[39m+\u001b[39m \u001b[39m1\u001b[39m] \u001b[39m=\u001b[39m y[i] \u001b[39m+\u001b[39m (h \u001b[39m/\u001b[39m \u001b[39m6.0\u001b[39m) \u001b[39m*\u001b[39m (k1 \u001b[39m+\u001b[39m \u001b[39m2\u001b[39m \u001b[39m*\u001b[39m k2 \u001b[39m+\u001b[39m \u001b[39m2\u001b[39m \u001b[39m*\u001b[39m k3 \u001b[39m+\u001b[39m k4)\n\u001b[1;32m     65\u001b[0m     rs[j\u001b[39m+\u001b[39m\u001b[39m1\u001b[39m] \u001b[39m=\u001b[39m r\n\u001b[0;32m---> 66\u001b[0m     j\u001b[39m+\u001b[39m\u001b[39m=\u001b[39m\u001b[39m1\u001b[39m\n\u001b[1;32m     67\u001b[0m \u001b[39mreturn\u001b[39;00m y,rs\n",
      "\u001b[0;31mKeyboardInterrupt\u001b[0m: "
     ]
    }
   ],
   "source": [
    "for i in tqdm(list(range(10))):\n",
    "    K = Ks[0]\n",
    "    # clear_output(wait=True)\n",
    "    theta, dtheta,rs = mf2(K,N=N,m=m,t_array=t,p_theta=theta_init,p_dtheta= 0*omega,p_omega=omega,result_time = int((t_end)-(350))*int(1/dt))\n",
    "    if m == 0:\n",
    "        dtheta = np.c_[dtheta[0],dtheta.T].T\n",
    "    last_theta,last_dtheta = hysterisis(df_Km,(theta, dtheta,rs),theta_col,dtheta_col,K,m)\n",
    "    for K in Ks[1:]:\n",
    "        theta, dtheta,rs = mf2(K,N=N,m=m,t_array=t,p_theta=last_theta,p_dtheta= last_dtheta,p_omega=omega,result_time = int((t_end)-(350))*int(1/dt))\n",
    "        if m == 0:\n",
    "            dtheta = np.c_[dtheta[0],dtheta.T].T\n",
    "        last_theta,last_dtheta = hysterisis(df_Km,(theta, dtheta,rs),theta_col,dtheta_col,K,m)\n",
    "    print(K,m)\n",
    "    m +=0.1"
   ]
  },
  {
   "cell_type": "code",
   "execution_count": 201,
   "metadata": {},
   "outputs": [],
   "source": [
    "df_Km['c0 list']\n",
    "from IPython.display import clear_output\n",
    "clear_output(wait=True)"
   ]
  },
  {
   "cell_type": "code",
   "execution_count": 239,
   "metadata": {},
   "outputs": [
    {
     "data": {
      "text/plain": [
       "(102, 4)"
      ]
     },
     "execution_count": 239,
     "metadata": {},
     "output_type": "execute_result"
    }
   ],
   "source": [
    "df_Km.sort_index().r.unstack().to_numpy().shape"
   ]
  },
  {
   "cell_type": "code",
   "execution_count": 254,
   "metadata": {},
   "outputs": [
    {
     "data": {
      "image/png": "[encoded data removed]",
      "text/plain": [
       "<Figure size 640x480 with 1 Axes>"
      ]
     },
     "metadata": {},
     "output_type": "display_data"
    }
   ],
   "source": [
    "plt.plot(df_Km.sort_index().r.unstack().to_numpy()[:,0],'.');\n"
   ]
  },
  {
   "cell_type": "code",
   "execution_count": 247,
   "metadata": {},
   "outputs": [
    {
     "data": {
      "text/plain": [
       "0       0.0\n",
       "1       0.0\n",
       "2       0.0\n",
       "3       0.0\n",
       "4       0.1\n",
       "       ... \n",
       "231     9.9\n",
       "232    10.0\n",
       "233    10.0\n",
       "234    10.1\n",
       "235    10.1\n",
       "Name: K, Length: 236, dtype: float64"
      ]
     },
     "execution_count": 247,
     "metadata": {},
     "output_type": "execute_result"
    }
   ],
   "source": [
    "df_Km.sort_index().reset_index().K"
   ]
  },
  {
   "cell_type": "code",
   "execution_count": 242,
   "metadata": {},
   "outputs": [
    {
     "ename": "IndexError",
     "evalue": "index 4 is out of bounds for axis 1 with size 4",
     "output_type": "error",
     "traceback": [
      "\u001b[0;31m---------------------------------------------------------------------------\u001b[0m",
      "\u001b[0;31mIndexError\u001b[0m                                Traceback (most recent call last)",
      "Cell \u001b[0;32mIn[242], line 2\u001b[0m\n\u001b[1;32m      1\u001b[0m \u001b[39mfor\u001b[39;00m i \u001b[39min\u001b[39;00m \u001b[39mrange\u001b[39m(\u001b[39m10\u001b[39m):\n\u001b[0;32m----> 2\u001b[0m     plt\u001b[39m.\u001b[39mplot(df_Km\u001b[39m.\u001b[39;49msort_index()\u001b[39m.\u001b[39;49mr\u001b[39m.\u001b[39;49munstack()\u001b[39m.\u001b[39;49mto_numpy()[:,i],\u001b[39m'\u001b[39m\u001b[39m.\u001b[39m\u001b[39m'\u001b[39m);\n",
      "\u001b[0;31mIndexError\u001b[0m: index 4 is out of bounds for axis 1 with size 4"
     ]
    },
    {
     "data": {
      "image/png": "[encoded data removed]",
      "text/plain": [
       "<Figure size 640x480 with 1 Axes>"
      ]
     },
     "metadata": {},
     "output_type": "display_data"
    }
   ],
   "source": [
    "for i in range(10):\n",
    "    plt.plot(df_Km.sort_index().r.unstack().to_numpy()[:,i],'.');"
   ]
  },
  {
   "attachments": {},
   "cell_type": "markdown",
   "metadata": {},
   "source": [
    "## paramap test"
   ]
  },
  {
   "cell_type": "code",
   "execution_count": 14,
   "metadata": {},
   "outputs": [],
   "source": [
    "import numpy as np\n",
    "import pandas as pd\n",
    "from TO_sim.TLO import TLO,make_new_df\n",
    "from TO_sim.gen_Distribution import Normal\n",
    "from parmap import parmap\n",
    "from parmap import starmap\n",
    "import matplotlib.pyplot as plt\n",
    "from tqdm.notebook import tqdm"
   ]
  },
  {
   "cell_type": "code",
   "execution_count": 15,
   "metadata": {},
   "outputs": [
    {
     "data": {
      "text/plain": [
       "<function TO_sim.TLO.TLO(m, theta_init, dtheta_init, omega, Ks, N, t_end=500, dt=0.1)>"
      ]
     },
     "execution_count": 15,
     "metadata": {},
     "output_type": "execute_result"
    }
   ],
   "source": [
    "TLO"
   ]
  },
  {
   "cell_type": "code",
   "execution_count": 16,
   "metadata": {},
   "outputs": [],
   "source": [
    "K_start = 0\n",
    "m_start = 0\n",
    "df_Km,theta_col,dtheta_col = make_new_df(K_start,m_start,N = 500)"
   ]
  },
  {
   "cell_type": "code",
   "execution_count": 17,
   "metadata": {},
   "outputs": [],
   "source": [
    "seed = 10\n",
    "N = 500\n",
    "theta_init,omega,Kc = Normal(N,0,1,seed=seed)\n",
    "omega = np.sort(omega) - np.mean(omega)\n",
    "ms = np.arange(0,10+0.05,0.1)\n",
    "K = 0\n",
    "m = 0\n",
    "dK = 0.1\n",
    "K_end = 10\n",
    "Ks = np.arange(0,K_end+dK/2,dK)\n",
    "\n",
    "df_Km,theta_col,dtheta_col = make_new_df(0,m,N = N)\n",
    "df_Km = df_Km.reset_index()"
   ]
  },
  {
   "cell_type": "code",
   "execution_count": 18,
   "metadata": {},
   "outputs": [],
   "source": [
    "import warnings\n",
    "warnings.simplefilter(action='ignore', category=FutureWarning)\n",
    "num = 1"
   ]
  },
  {
   "cell_type": "code",
   "execution_count": 5,
   "metadata": {},
   "outputs": [],
   "source": [
    "\n",
    "m_set = []\n",
    "core = 15\n",
    "index_ = 0\n",
    "for i in range(len(ms)//core +1):\n",
    "    m_set.append(ms[index_:index_+core])\n",
    "    index_ += core\n",
    "core_set = [len(ms) for ms in m_set]"
   ]
  },
  {
   "cell_type": "code",
   "execution_count": 35,
   "metadata": {},
   "outputs": [],
   "source": [
    "dtheta_init = 0*omega"
   ]
  },
  {
   "cell_type": "code",
   "execution_count": 7,
   "metadata": {},
   "outputs": [
    {
     "data": {
      "application/vnd.jupyter.widget-view+json": {
       "model_id": "9b13bbbe58d94a76a423904ddf0412c3",
       "version_major": 2,
       "version_minor": 0
      },
      "text/plain": [
       "  0%|          | 0/15 [00:00<?, ?it/s]"
      ]
     },
     "metadata": {},
     "output_type": "display_data"
    },
    {
     "data": {
      "application/vnd.jupyter.widget-view+json": {
       "model_id": "d8cc32109f5946da8dd2de3d96d5c2aa",
       "version_major": 2,
       "version_minor": 0
      },
      "text/plain": [
       "  0%|          | 0/15 [00:00<?, ?it/s]"
      ]
     },
     "metadata": {},
     "output_type": "display_data"
    },
    {
     "data": {
      "application/vnd.jupyter.widget-view+json": {
       "model_id": "c1ddaf464aa04cdabe205dd50c54f0c7",
       "version_major": 2,
       "version_minor": 0
      },
      "text/plain": [
       "  0%|          | 0/15 [00:00<?, ?it/s]"
      ]
     },
     "metadata": {},
     "output_type": "display_data"
    },
    {
     "data": {
      "application/vnd.jupyter.widget-view+json": {
       "model_id": "0457d686ae9f41aa8a34bc4a36bb5924",
       "version_major": 2,
       "version_minor": 0
      },
      "text/plain": [
       "  0%|          | 0/15 [00:00<?, ?it/s]"
      ]
     },
     "metadata": {},
     "output_type": "display_data"
    },
    {
     "data": {
      "application/vnd.jupyter.widget-view+json": {
       "model_id": "c0176d04990b4e268c3c4dbf851b99ba",
       "version_major": 2,
       "version_minor": 0
      },
      "text/plain": [
       "  0%|          | 0/15 [00:00<?, ?it/s]"
      ]
     },
     "metadata": {},
     "output_type": "display_data"
    },
    {
     "data": {
      "application/vnd.jupyter.widget-view+json": {
       "model_id": "721694ff20b64d7fa37c15f7121c7a47",
       "version_major": 2,
       "version_minor": 0
      },
      "text/plain": [
       "  0%|          | 0/15 [00:00<?, ?it/s]"
      ]
     },
     "metadata": {},
     "output_type": "display_data"
    },
    {
     "data": {
      "application/vnd.jupyter.widget-view+json": {
       "model_id": "74387350375841c9be3750a23b613005",
       "version_major": 2,
       "version_minor": 0
      },
      "text/plain": [
       "  0%|          | 0/11 [00:00<?, ?it/s]"
      ]
     },
     "metadata": {},
     "output_type": "display_data"
    }
   ],
   "source": [
    "for core,ms in zip(core_set,m_set):\n",
    "    for df in parmap.map(TLO,ms,\n",
    "                        theta_init=theta_init,dtheta_init = dtheta_init,omega=omega,Ks=Ks,N=N,\n",
    "                        t_end=500,dt = 0.1,pm_pbar=True, pm_processes=core):\n",
    "        df_Km = df_Km.merge(df.reset_index(),how='outer')"
   ]
  },
  {
   "cell_type": "code",
   "execution_count": 46,
   "metadata": {},
   "outputs": [],
   "source": [
    "df = pd.read_excel('N = 500 seed = 10 dt = 0.1 win TLO.xlsm',index_col=[0,1])\n"
   ]
  },
  {
   "cell_type": "code",
   "execution_count": 11,
   "metadata": {},
   "outputs": [],
   "source": [
    "df_Km = df_Km.set_index(['K','m']).sort_index()"
   ]
  },
  {
   "cell_type": "code",
   "execution_count": 9,
   "metadata": {},
   "outputs": [
    {
     "data": {
      "text/html": [
       "<div>\n",
       "<style scoped>\n",
       "    .dataframe tbody tr th:only-of-type {\n",
       "        vertical-align: middle;\n",
       "    }\n",
       "\n",
       "    .dataframe tbody tr th {\n",
       "        vertical-align: top;\n",
       "    }\n",
       "\n",
       "    .dataframe thead th {\n",
       "        text-align: right;\n",
       "    }\n",
       "</style>\n",
       "<table border=\"1\" class=\"dataframe\">\n",
       "  <thead>\n",
       "    <tr style=\"text-align: right;\">\n",
       "      <th></th>\n",
       "      <th>r</th>\n",
       "      <th>rstd</th>\n",
       "      <th>rMM</th>\n",
       "    </tr>\n",
       "  </thead>\n",
       "  <tbody>\n",
       "  </tbody>\n",
       "</table>\n",
       "</div>"
      ],
      "text/plain": [
       "Empty DataFrame\n",
       "Columns: [r, rstd, rMM]\n",
       "Index: []"
      ]
     },
     "execution_count": 9,
     "metadata": {},
     "output_type": "execute_result"
    }
   ],
   "source": [
    "pd.DataFrame(columns = ['r','rstd','rMM'])"
   ]
  },
  {
   "cell_type": "code",
   "execution_count": 10,
   "metadata": {},
   "outputs": [],
   "source": [
    "a = {'in':[],'dsaf':[]}"
   ]
  },
  {
   "cell_type": "code",
   "execution_count": 12,
   "metadata": {},
   "outputs": [
    {
     "data": {
      "text/html": [
       "<div>\n",
       "<style scoped>\n",
       "    .dataframe tbody tr th:only-of-type {\n",
       "        vertical-align: middle;\n",
       "    }\n",
       "\n",
       "    .dataframe tbody tr th {\n",
       "        vertical-align: top;\n",
       "    }\n",
       "\n",
       "    .dataframe thead th {\n",
       "        text-align: right;\n",
       "    }\n",
       "</style>\n",
       "<table border=\"1\" class=\"dataframe\">\n",
       "  <thead>\n",
       "    <tr style=\"text-align: right;\">\n",
       "      <th></th>\n",
       "      <th>in</th>\n",
       "      <th>dsaf</th>\n",
       "    </tr>\n",
       "  </thead>\n",
       "  <tbody>\n",
       "  </tbody>\n",
       "</table>\n",
       "</div>"
      ],
      "text/plain": [
       "Empty DataFrame\n",
       "Columns: [in, dsaf]\n",
       "Index: []"
      ]
     },
     "execution_count": 12,
     "metadata": {},
     "output_type": "execute_result"
    }
   ],
   "source": [
    "pd.DataFrame(columns=a.keys())"
   ]
  },
  {
   "cell_type": "code",
   "execution_count": 72,
   "metadata": {},
   "outputs": [
    {
     "ename": "ValueError",
     "evalue": "index must be a MultiIndex to unstack, <class 'pandas.core.indexes.numeric.Int64Index'> was passed",
     "output_type": "error",
     "traceback": [
      "\u001b[1;31m---------------------------------------------------------------------------\u001b[0m",
      "\u001b[1;31mValueError\u001b[0m                                Traceback (most recent call last)",
      "\u001b[1;32mc:\\Users\\kim9y\\Desktop\\Kuramoto\\Kuramoto-model\\230711 phase diagram TLO algorithm.ipynb Cell 47\u001b[0m in \u001b[0;36m2\n\u001b[0;32m      <a href='vscode-notebook-cell:/c%3A/Users/kim9y/Desktop/Kuramoto/Kuramoto-model/230711%20phase%20diagram%20TLO%20algorithm.ipynb#X62sZmlsZQ%3D%3D?line=0'>1</a>\u001b[0m \u001b[39mfor\u001b[39;00m i \u001b[39min\u001b[39;00m \u001b[39mrange\u001b[39m(\u001b[39m100\u001b[39m):\n\u001b[1;32m----> <a href='vscode-notebook-cell:/c%3A/Users/kim9y/Desktop/Kuramoto/Kuramoto-model/230711%20phase%20diagram%20TLO%20algorithm.ipynb#X62sZmlsZQ%3D%3D?line=1'>2</a>\u001b[0m     plt\u001b[39m.\u001b[39mplot(df_Km\u001b[39m.\u001b[39;49mr\u001b[39m.\u001b[39;49munstack()\u001b[39m.\u001b[39mto_numpy()[:,i],\u001b[39m'\u001b[39m\u001b[39m.-\u001b[39m\u001b[39m'\u001b[39m);\n",
      "File \u001b[1;32mc:\\Users\\kim9y\\AppData\\Local\\Programs\\Python\\Python311\\Lib\\site-packages\\pandas\\core\\series.py:4455\u001b[0m, in \u001b[0;36mSeries.unstack\u001b[1;34m(self, level, fill_value)\u001b[0m\n\u001b[0;32m   4412\u001b[0m \u001b[39m\"\"\"\u001b[39;00m\n\u001b[0;32m   4413\u001b[0m \u001b[39mUnstack, also known as pivot, Series with MultiIndex to produce DataFrame.\u001b[39;00m\n\u001b[0;32m   4414\u001b[0m \n\u001b[1;32m   (...)\u001b[0m\n\u001b[0;32m   4451\u001b[0m \u001b[39mb    2    4\u001b[39;00m\n\u001b[0;32m   4452\u001b[0m \u001b[39m\"\"\"\u001b[39;00m\n\u001b[0;32m   4453\u001b[0m \u001b[39mfrom\u001b[39;00m \u001b[39mpandas\u001b[39;00m\u001b[39m.\u001b[39;00m\u001b[39mcore\u001b[39;00m\u001b[39m.\u001b[39;00m\u001b[39mreshape\u001b[39;00m\u001b[39m.\u001b[39;00m\u001b[39mreshape\u001b[39;00m \u001b[39mimport\u001b[39;00m unstack\n\u001b[1;32m-> 4455\u001b[0m \u001b[39mreturn\u001b[39;00m unstack(\u001b[39mself\u001b[39;49m, level, fill_value)\n",
      "File \u001b[1;32mc:\\Users\\kim9y\\AppData\\Local\\Programs\\Python\\Python311\\Lib\\site-packages\\pandas\\core\\reshape\\reshape.py:483\u001b[0m, in \u001b[0;36munstack\u001b[1;34m(obj, level, fill_value)\u001b[0m\n\u001b[0;32m    478\u001b[0m         \u001b[39mreturn\u001b[39;00m obj\u001b[39m.\u001b[39mT\u001b[39m.\u001b[39mstack(dropna\u001b[39m=\u001b[39m\u001b[39mFalse\u001b[39;00m)\n\u001b[0;32m    479\u001b[0m \u001b[39melif\u001b[39;00m \u001b[39mnot\u001b[39;00m \u001b[39misinstance\u001b[39m(obj\u001b[39m.\u001b[39mindex, MultiIndex):\n\u001b[0;32m    480\u001b[0m     \u001b[39m# GH 36113\u001b[39;00m\n\u001b[0;32m    481\u001b[0m     \u001b[39m# Give nicer error messages when unstack a Series whose\u001b[39;00m\n\u001b[0;32m    482\u001b[0m     \u001b[39m# Index is not a MultiIndex.\u001b[39;00m\n\u001b[1;32m--> 483\u001b[0m     \u001b[39mraise\u001b[39;00m \u001b[39mValueError\u001b[39;00m(\n\u001b[0;32m    484\u001b[0m         \u001b[39mf\u001b[39m\u001b[39m\"\u001b[39m\u001b[39mindex must be a MultiIndex to unstack, \u001b[39m\u001b[39m{\u001b[39;00m\u001b[39mtype\u001b[39m(obj\u001b[39m.\u001b[39mindex)\u001b[39m}\u001b[39;00m\u001b[39m was passed\u001b[39m\u001b[39m\"\u001b[39m\n\u001b[0;32m    485\u001b[0m     )\n\u001b[0;32m    486\u001b[0m \u001b[39melse\u001b[39;00m:\n\u001b[0;32m    487\u001b[0m     \u001b[39mif\u001b[39;00m is_1d_only_ea_dtype(obj\u001b[39m.\u001b[39mdtype):\n",
      "\u001b[1;31mValueError\u001b[0m: index must be a MultiIndex to unstack, <class 'pandas.core.indexes.numeric.Int64Index'> was passed"
     ]
    }
   ],
   "source": [
    "for i in range(100):\n",
    "    plt.plot(df_Km.r.unstack().to_numpy()[:,i],'.-');"
   ]
  },
  {
   "cell_type": "code",
   "execution_count": 39,
   "metadata": {},
   "outputs": [],
   "source": [
    "df_Km = df_Km.set_index(['K','m']).sort_index()"
   ]
  },
  {
   "cell_type": "code",
   "execution_count": null,
   "metadata": {},
   "outputs": [],
   "source": [
    "ㅇㄹ"
   ]
  },
  {
   "cell_type": "code",
   "execution_count": 11,
   "metadata": {},
   "outputs": [
    {
     "ename": "NameError",
     "evalue": "name 'df_Km' is not defined",
     "output_type": "error",
     "traceback": [
      "\u001b[1;31m---------------------------------------------------------------------------\u001b[0m",
      "\u001b[1;31mNameError\u001b[0m                                 Traceback (most recent call last)",
      "\u001b[1;32mc:\\Users\\kim9y\\Desktop\\Kuramoto\\Kuramoto-model\\230711 phase diagram TLO algorithm.ipynb Cell 50\u001b[0m in \u001b[0;36m5\n\u001b[0;32m      <a href='vscode-notebook-cell:/c%3A/Users/kim9y/Desktop/Kuramoto/Kuramoto-model/230711%20phase%20diagram%20TLO%20algorithm.ipynb#Y100sZmlsZQ%3D%3D?line=1'>2</a>\u001b[0m check_list_K \u001b[39m=\u001b[39m []\n\u001b[0;32m      <a href='vscode-notebook-cell:/c%3A/Users/kim9y/Desktop/Kuramoto/Kuramoto-model/230711%20phase%20diagram%20TLO%20algorithm.ipynb#Y100sZmlsZQ%3D%3D?line=3'>4</a>\u001b[0m \u001b[39mfor\u001b[39;00m i \u001b[39min\u001b[39;00m \u001b[39mrange\u001b[39m(\u001b[39m100\u001b[39m):\n\u001b[1;32m----> <a href='vscode-notebook-cell:/c%3A/Users/kim9y/Desktop/Kuramoto/Kuramoto-model/230711%20phase%20diagram%20TLO%20algorithm.ipynb#Y100sZmlsZQ%3D%3D?line=4'>5</a>\u001b[0m     ms \u001b[39m=\u001b[39m df_Km\u001b[39m.\u001b[39mreset_index()\u001b[39m.\u001b[39mm\u001b[39m.\u001b[39munique()\n\u001b[0;32m      <a href='vscode-notebook-cell:/c%3A/Users/kim9y/Desktop/Kuramoto/Kuramoto-model/230711%20phase%20diagram%20TLO%20algorithm.ipynb#Y100sZmlsZQ%3D%3D?line=5'>6</a>\u001b[0m     re_df \u001b[39m=\u001b[39m df_Km\u001b[39m.\u001b[39mreset_index()\n\u001b[0;32m      <a href='vscode-notebook-cell:/c%3A/Users/kim9y/Desktop/Kuramoto/Kuramoto-model/230711%20phase%20diagram%20TLO%20algorithm.ipynb#Y100sZmlsZQ%3D%3D?line=7'>8</a>\u001b[0m     df_m \u001b[39m=\u001b[39m re_df[re_df\u001b[39m.\u001b[39mm \u001b[39m==\u001b[39m ms[i]]\n",
      "\u001b[1;31mNameError\u001b[0m: name 'df_Km' is not defined"
     ]
    }
   ],
   "source": [
    "check_list_m = []\n",
    "check_list_K = []\n",
    "\n",
    "for i in range(100):\n",
    "    ms = df_Km.reset_index().m.unique()\n",
    "    re_df = df_Km.reset_index()\n",
    "\n",
    "    df_m = re_df[re_df.m == ms[i]]\n",
    "    Ks = df_m.K.to_numpy()\n",
    "    rs = df_m.r.to_numpy()\n",
    "    rstd = df_m.rstd.to_numpy()\n",
    "    rMM= df_m.rMM.to_numpy()\n",
    "    cluster_s = df_m.iloc[:,5:15]\n",
    "    cluster_o = df_m.iloc[:,15:25]\n",
    "    len_cluster = (~cluster_o.isna()).sum(axis=1).to_numpy()\n",
    "    plt.scatter(np.ones((10,151))*Ks,cluster_s.to_numpy().T,alpha=0.9,\n",
    "                c=np.ones((10,151))*(len_cluster),s=5)\n",
    "    # plt.colorbar()\n",
    "    len_cluster = (~cluster_o.isna()).sum(axis=1)\n",
    "    is_na = df_m.K.loc[df_m.K>2][len_cluster ==0].to_numpy()\n",
    "    if len(is_na) !=0:\n",
    "        # print(ms[i],is_na)\n",
    "        for K in is_na:\n",
    "            check_list_K.append(K)\n",
    "            check_list_m.append(ms[i])\n",
    "\n"
   ]
  },
  {
   "cell_type": "code",
   "execution_count": 47,
   "metadata": {},
   "outputs": [],
   "source": [
    "re_df = df.reset_index()"
   ]
  },
  {
   "cell_type": "code",
   "execution_count": 48,
   "metadata": {},
   "outputs": [],
   "source": [
    "df_m = re_df[re_df.K == 10]\n"
   ]
  },
  {
   "cell_type": "code",
   "execution_count": 49,
   "metadata": {},
   "outputs": [],
   "source": [
    "theta_s = df_m[theta_col].to_numpy()\n",
    "dtheta_s = df_m[dtheta_col].to_numpy()\n",
    "last_K = df_m['K'].to_numpy()"
   ]
  },
  {
   "cell_type": "code",
   "execution_count": null,
   "metadata": {},
   "outputs": [],
   "source": [
    "m,theta_init,omega,Ks,N,t_end=500,dt = 0.1\n"
   ]
  },
  {
   "cell_type": "code",
   "execution_count": 33,
   "metadata": {},
   "outputs": [
    {
     "data": {
      "text/plain": [
       "array([[-46216.411319587794, -40737.44994712659, -28315.531595573015,\n",
       "        ..., 28466.107320752217, 28472.390747042442, 32738.695625634442],\n",
       "       [-46659.715175750556, -41086.50602368165, -28538.92396598449, ...,\n",
       "        28688.821107150492, 28695.104533440714, 32992.82533856862],\n",
       "       [-48106.56938917604, -42143.802748062, -28999.318086182775, ...,\n",
       "        29158.338412414785, 29170.905024012187, 33613.139091205216],\n",
       "       ...,\n",
       "       [-163186.43845172256, -151870.43787335645, -122413.31718516984,\n",
       "        ..., 120070.52792081502, 120057.96841713061, 133364.66494158085],\n",
       "       [-163208.78122235826, -151851.7888817882, -121262.62978701232,\n",
       "        ..., 120369.94526983381, 120338.53730530365, 133344.94195432437],\n",
       "       [-163195.73635893446, -151799.51397603456, -122099.97163050684,\n",
       "        ..., 121363.98938456469, 121370.3058150149, 133455.44541306378]],\n",
       "      dtype=object)"
      ]
     },
     "execution_count": 33,
     "metadata": {},
     "output_type": "execute_result"
    }
   ],
   "source": [
    "starmap(TLO,)"
   ]
  },
  {
   "cell_type": "code",
   "execution_count": 27,
   "metadata": {},
   "outputs": [
    {
     "data": {
      "text/plain": [
       "(151, 500)"
      ]
     },
     "execution_count": 27,
     "metadata": {},
     "output_type": "execute_result"
    }
   ],
   "source": [
    "dtheta_s.shape"
   ]
  },
  {
   "cell_type": "code",
   "execution_count": 18,
   "metadata": {},
   "outputs": [],
   "source": [
    "dt = 0.1"
   ]
  },
  {
   "cell_type": "code",
   "execution_count": 19,
   "metadata": {},
   "outputs": [],
   "source": [
    "df_Km.sort_index().to_excel(f'N = {N} seed = {seed} dt = {dt} win TLO.xlsm')"
   ]
  },
  {
   "cell_type": "code",
   "execution_count": 47,
   "metadata": {},
   "outputs": [],
   "source": [
    "df = df_Km.copy()"
   ]
  },
  {
   "cell_type": "code",
   "execution_count": 75,
   "metadata": {},
   "outputs": [
    {
     "ename": "KeyError",
     "evalue": "\"None of [('K', 'm')] are in the columns\"",
     "output_type": "error",
     "traceback": [
      "\u001b[1;31m---------------------------------------------------------------------------\u001b[0m",
      "\u001b[1;31mKeyError\u001b[0m                                  Traceback (most recent call last)",
      "\u001b[1;32mc:\\Users\\kim9y\\Desktop\\Kuramoto\\Kuramoto-model\\230711 phase diagram TLO algorithm.ipynb Cell 60\u001b[0m in \u001b[0;36m1\n\u001b[1;32m----> <a href='vscode-notebook-cell:/c%3A/Users/kim9y/Desktop/Kuramoto/Kuramoto-model/230711%20phase%20diagram%20TLO%20algorithm.ipynb#Y220sZmlsZQ%3D%3D?line=0'>1</a>\u001b[0m df_Km \u001b[39m=\u001b[39m df_Km\u001b[39m.\u001b[39;49mset_index([(\u001b[39m'\u001b[39;49m\u001b[39mK\u001b[39;49m\u001b[39m'\u001b[39;49m,\u001b[39m'\u001b[39;49m\u001b[39mm\u001b[39;49m\u001b[39m'\u001b[39;49m)])\n",
      "File \u001b[1;32mc:\\Users\\kim9y\\AppData\\Local\\Programs\\Python\\Python311\\Lib\\site-packages\\pandas\\util\\_decorators.py:331\u001b[0m, in \u001b[0;36mdeprecate_nonkeyword_arguments.<locals>.decorate.<locals>.wrapper\u001b[1;34m(*args, **kwargs)\u001b[0m\n\u001b[0;32m    325\u001b[0m \u001b[39mif\u001b[39;00m \u001b[39mlen\u001b[39m(args) \u001b[39m>\u001b[39m num_allow_args:\n\u001b[0;32m    326\u001b[0m     warnings\u001b[39m.\u001b[39mwarn(\n\u001b[0;32m    327\u001b[0m         msg\u001b[39m.\u001b[39mformat(arguments\u001b[39m=\u001b[39m_format_argument_list(allow_args)),\n\u001b[0;32m    328\u001b[0m         \u001b[39mFutureWarning\u001b[39;00m,\n\u001b[0;32m    329\u001b[0m         stacklevel\u001b[39m=\u001b[39mfind_stack_level(),\n\u001b[0;32m    330\u001b[0m     )\n\u001b[1;32m--> 331\u001b[0m \u001b[39mreturn\u001b[39;00m func(\u001b[39m*\u001b[39;49margs, \u001b[39m*\u001b[39;49m\u001b[39m*\u001b[39;49mkwargs)\n",
      "File \u001b[1;32mc:\\Users\\kim9y\\AppData\\Local\\Programs\\Python\\Python311\\Lib\\site-packages\\pandas\\core\\frame.py:6001\u001b[0m, in \u001b[0;36mDataFrame.set_index\u001b[1;34m(self, keys, drop, append, inplace, verify_integrity)\u001b[0m\n\u001b[0;32m   5998\u001b[0m                 missing\u001b[39m.\u001b[39mappend(col)\n\u001b[0;32m   6000\u001b[0m \u001b[39mif\u001b[39;00m missing:\n\u001b[1;32m-> 6001\u001b[0m     \u001b[39mraise\u001b[39;00m \u001b[39mKeyError\u001b[39;00m(\u001b[39mf\u001b[39m\u001b[39m\"\u001b[39m\u001b[39mNone of \u001b[39m\u001b[39m{\u001b[39;00mmissing\u001b[39m}\u001b[39;00m\u001b[39m are in the columns\u001b[39m\u001b[39m\"\u001b[39m)\n\u001b[0;32m   6003\u001b[0m \u001b[39mif\u001b[39;00m inplace:\n\u001b[0;32m   6004\u001b[0m     frame \u001b[39m=\u001b[39m \u001b[39mself\u001b[39m\n",
      "\u001b[1;31mKeyError\u001b[0m: \"None of [('K', 'm')] are in the columns\""
     ]
    }
   ],
   "source": [
    "df_Km = df_Km.set_index([('K','m')])"
   ]
  },
  {
   "cell_type": "code",
   "execution_count": 14,
   "metadata": {},
   "outputs": [],
   "source": [
    "df = df_Km.reset_index()"
   ]
  },
  {
   "cell_type": "code",
   "execution_count": 17,
   "metadata": {},
   "outputs": [
    {
     "name": "stdout",
     "output_type": "stream",
     "text": [
      "22\n",
      "20\n",
      "23\n",
      "25\n",
      "24\n",
      "22\n",
      "22\n",
      "25\n",
      "24\n"
     ]
    },
    {
     "data": {
      "text/plain": [
       "Text(0.5, 0, 'Coupling constant : $K$')"
      ]
     },
     "execution_count": 17,
     "metadata": {},
     "output_type": "execute_result"
    },
    {
     "data": {
      "image/png": "[encoded data removed]",
      "text/plain": [
       "<Figure size 640x480 with 2 Axes>"
      ]
     },
     "metadata": {},
     "output_type": "display_data"
    }
   ],
   "source": [
    "m_i,m_end = 71,80\n",
    "for i in range(m_i,m_end):\n",
    "    m_idx = i\n",
    "    ms = df.reset_index().m.unique()\n",
    "    re_df = df.reset_index()\n",
    "\n",
    "    df_m = re_df[re_df.m == ms[m_idx]]\n",
    "    Ks = df_m.K.to_numpy()\n",
    "    rs = df_m.r.to_numpy()\n",
    "    rstd = df_m.rstd.to_numpy(dtype=float)\n",
    "    rMM= df_m.rMM.to_numpy()\n",
    "    cluster_s = df_m.iloc[:,5:15]\n",
    "    cluster_o = df_m.iloc[:,15:25]\n",
    "    print(len(cluster_s['c1'].dropna()))\n",
    "    plt.scatter(np.ones((10,51))*Ks,(cluster_o.to_numpy().T),c=cluster_s.to_numpy().T,alpha=0.5,\n",
    "                s=50*np.ones((10,51))*rstd)\n",
    "cbar = plt.colorbar()\n",
    "cbar.set_label('cluster size')\n",
    "plt.title(f'$m$ = [{ms[m_i]:.01f},{ms[m_end-1]:.01f}]')\n",
    "plt.ylabel(r'cluster avg phase velocity')\n",
    "plt.xlabel(r'Coupling constant : $K$')"
   ]
  },
  {
   "cell_type": "code",
   "execution_count": null,
   "metadata": {},
   "outputs": [],
   "source": [
    "num = 0 \n",
    "for K,CSO in zip(K_set.reshape(-1),CSO_set):\n",
    "    try:\n",
    "        if (len(CSO) > 0)&(num==0):\n",
    "            num +=1\n",
    "            print('start',K)\n",
    "\n",
    "        x = CSO['cluster mean phase velocity']\n",
    "        s = CSO['cluster size']\n",
    "        if (K>2)&(len(s)==0):\n",
    "            print('empty',K)\n",
    "        if (K>2)&(len(s)>1):\n",
    "            print('len',len(s),K)\n",
    "        if (K<2)&(len(s)!=0):\n",
    "            print('Nope',K)\n",
    "        plt.scatter([K]*len(x),x,s=0.5*s,c=len(s)*np.ones_like(s),vmin=0,vmax=10)\n",
    "    except ValueError:\n",
    "        print('ValueError',K)\n",
    "    # plt.xlim(2,3)"
   ]
  },
  {
   "cell_type": "markdown",
   "metadata": {},
   "source": [
    "### Backward"
   ]
  },
  {
   "cell_type": "code",
   "execution_count": 1,
   "metadata": {},
   "outputs": [],
   "source": [
    "import numpy as np\n",
    "import pandas as pd\n",
    "from TO_sim.TLO import TLO,make_new_df\n",
    "from TO_sim.gen_Distribution import Normal\n",
    "from parmap import parmap\n",
    "from parmap import starmap\n",
    "import matplotlib.pyplot as plt\n",
    "from tqdm.notebook import tqdm"
   ]
  },
  {
   "cell_type": "code",
   "execution_count": 2,
   "metadata": {},
   "outputs": [
    {
     "data": {
      "text/plain": [
       "<function TO_sim.TLO.TLO(m, theta_init, dtheta_init, omega, Ks, N, t_end=500, dt=0.1)>"
      ]
     },
     "execution_count": 2,
     "metadata": {},
     "output_type": "execute_result"
    }
   ],
   "source": [
    "TLO"
   ]
  },
  {
   "cell_type": "code",
   "execution_count": 22,
   "metadata": {},
   "outputs": [],
   "source": [
    "K_start = 0\n",
    "m_start = 0\n",
    "df_Km,theta_col,dtheta_col = make_new_df(K_start,m_start,N = 500)"
   ]
  },
  {
   "cell_type": "code",
   "execution_count": 50,
   "metadata": {},
   "outputs": [],
   "source": [
    "seed = 10\n",
    "N = 500\n",
    "theta_init,omega,Kc = Normal(N,0,1,seed=seed)\n",
    "omega = np.sort(omega) - np.mean(omega)\n",
    "ms = np.arange(0,10+0.05,0.1)\n",
    "K = 0\n",
    "m = 0\n",
    "dK = 0.1\n",
    "K_end = 3.5\n",
    "Ks = np.arange(0,K_end+dK/2,dK)\n",
    "Ks = Ks[::-1]\n",
    "df_Km,theta_col,dtheta_col = make_new_df(Ks[0],m,N = N)\n",
    "df_Km = df_Km.reset_index()"
   ]
  },
  {
   "cell_type": "code",
   "execution_count": 8,
   "metadata": {},
   "outputs": [
    {
     "ename": "NameError",
     "evalue": "name 'df_Km' is not defined",
     "output_type": "error",
     "traceback": [
      "\u001b[1;31m---------------------------------------------------------------------------\u001b[0m",
      "\u001b[1;31mNameError\u001b[0m                                 Traceback (most recent call last)",
      "\u001b[1;32mc:\\Users\\kim9y\\Desktop\\Kuramoto\\Kuramoto-model\\230711 phase diagram TLO algorithm.ipynb Cell 69\u001b[0m in \u001b[0;36m1\n\u001b[1;32m----> <a href='vscode-notebook-cell:/c%3A/Users/kim9y/Desktop/Kuramoto/Kuramoto-model/230711%20phase%20diagram%20TLO%20algorithm.ipynb#Y125sZmlsZQ%3D%3D?line=0'>1</a>\u001b[0m df_Km\n",
      "\u001b[1;31mNameError\u001b[0m: name 'df_Km' is not defined"
     ]
    }
   ],
   "source": [
    "df_to_read"
   ]
  },
  {
   "cell_type": "code",
   "execution_count": 35,
   "metadata": {},
   "outputs": [],
   "source": [
    "# df_to_read = pd.read_excel('N = 500 seed = 10 dt = 0.1 win TLO.xlsm',index_col=[0,1])\n",
    "name = 'N = 500 seed = 10 dt = 0.1 win cluster TLO.xlsm'\n",
    "df_to_read = pd.read_excel(name,index_col=[0,1])"
   ]
  },
  {
   "cell_type": "code",
   "execution_count": 30,
   "metadata": {},
   "outputs": [],
   "source": [
    "# newcol = df_to_read.columns[1:]\n",
    "# df_to_read = df_to_read[newcol]"
   ]
  },
  {
   "cell_type": "code",
   "execution_count": 51,
   "metadata": {},
   "outputs": [],
   "source": [
    "re_df = df_to_read.reset_index()"
   ]
  },
  {
   "cell_type": "code",
   "execution_count": 52,
   "metadata": {},
   "outputs": [],
   "source": [
    "df_m = re_df[re_df.K == K_end]\n",
    "theta_s = df_m[theta_col].to_numpy()\n",
    "dtheta_s = df_m[dtheta_col].to_numpy()\n",
    "last_K = df_m['K'].to_numpy()            "
   ]
  },
  {
   "cell_type": "code",
   "execution_count": 53,
   "metadata": {},
   "outputs": [],
   "source": [
    "import warnings\n",
    "warnings.simplefilter(action='ignore', category=FutureWarning)\n",
    "num = 1"
   ]
  },
  {
   "cell_type": "code",
   "execution_count": 54,
   "metadata": {},
   "outputs": [],
   "source": [
    "iter_sets = []\n",
    "core = 15\n",
    "index_ = 0\n",
    "for i in range(len(ms)//core +1):\n",
    "    iter_set =list(zip(ms[index_:index_+core],theta_s[index_:index_+core],dtheta_s[index_:index_+core]))\n",
    "    iter_sets.append(iter_set)\n",
    "    index_ += core\n",
    "core_set = [len(ms) for ms in iter_sets]"
   ]
  },
  {
   "cell_type": "code",
   "execution_count": 55,
   "metadata": {},
   "outputs": [
    {
     "data": {
      "application/vnd.jupyter.widget-view+json": {
       "model_id": "15ba8793efb64f66b821f2c21b009e87",
       "version_major": 2,
       "version_minor": 0
      },
      "text/plain": [
       "  0%|          | 0/7 [00:00<?, ?it/s]"
      ]
     },
     "metadata": {},
     "output_type": "display_data"
    },
    {
     "data": {
      "application/vnd.jupyter.widget-view+json": {
       "model_id": "0831bef2e5634788b7a303ba2bbe7b9f",
       "version_major": 2,
       "version_minor": 0
      },
      "text/plain": [
       "  0%|          | 0/15 [00:00<?, ?it/s]"
      ]
     },
     "metadata": {},
     "output_type": "display_data"
    },
    {
     "data": {
      "application/vnd.jupyter.widget-view+json": {
       "model_id": "277c714cb4464887a2c725a78f85ca28",
       "version_major": 2,
       "version_minor": 0
      },
      "text/plain": [
       "  0%|          | 0/15 [00:00<?, ?it/s]"
      ]
     },
     "metadata": {},
     "output_type": "display_data"
    },
    {
     "data": {
      "application/vnd.jupyter.widget-view+json": {
       "model_id": "bcb072e4e61645c297e9a8939cf65749",
       "version_major": 2,
       "version_minor": 0
      },
      "text/plain": [
       "  0%|          | 0/15 [00:00<?, ?it/s]"
      ]
     },
     "metadata": {},
     "output_type": "display_data"
    },
    {
     "data": {
      "application/vnd.jupyter.widget-view+json": {
       "model_id": "73a2b406247d42029088708fdcd85c17",
       "version_major": 2,
       "version_minor": 0
      },
      "text/plain": [
       "  0%|          | 0/15 [00:00<?, ?it/s]"
      ]
     },
     "metadata": {},
     "output_type": "display_data"
    },
    {
     "data": {
      "application/vnd.jupyter.widget-view+json": {
       "model_id": "5bfd011cf3a7405fb4bc5c021c774adb",
       "version_major": 2,
       "version_minor": 0
      },
      "text/plain": [
       "  0%|          | 0/15 [00:00<?, ?it/s]"
      ]
     },
     "metadata": {},
     "output_type": "display_data"
    },
    {
     "data": {
      "application/vnd.jupyter.widget-view+json": {
       "model_id": "a3c67b26c9d742509854c58902a95203",
       "version_major": 2,
       "version_minor": 0
      },
      "text/plain": [
       "  0%|          | 0/15 [00:00<?, ?it/s]"
      ]
     },
     "metadata": {},
     "output_type": "display_data"
    },
    {
     "data": {
      "application/vnd.jupyter.widget-view+json": {
       "model_id": "acb367ca57a3481bbc36da5289f4331d",
       "version_major": 2,
       "version_minor": 0
      },
      "text/plain": [
       "  0%|          | 0/11 [00:00<?, ?it/s]"
      ]
     },
     "metadata": {},
     "output_type": "display_data"
    }
   ],
   "source": [
    "for core,iter_set in tqdm(list(zip(core_set,iter_sets))):\n",
    "    for df in parmap.starmap(TLO,iter_set\n",
    "                             ,omega=omega,Ks=Ks,N=N,\n",
    "                                t_end=500,dt = 0.1,pm_pbar=True, pm_processes=core):\n",
    "        df_Km = df_Km.merge(df.reset_index(),how='outer')"
   ]
  },
  {
   "cell_type": "code",
   "execution_count": 56,
   "metadata": {},
   "outputs": [],
   "source": [
    "dt = 0.1\n",
    "df_Km = df_Km.set_index(['K','m'])"
   ]
  },
  {
   "cell_type": "code",
   "execution_count": 31,
   "metadata": {},
   "outputs": [],
   "source": [
    "df_Km = df_to_read"
   ]
  },
  {
   "cell_type": "code",
   "execution_count": 47,
   "metadata": {},
   "outputs": [],
   "source": [
    "not_col = [i for i in df_Km.columns if ('list'  in i) or ('theta' in i)]\n",
    "yes_col = [i for i in df_Km.columns if i not in not_col]"
   ]
  },
  {
   "cell_type": "code",
   "execution_count": 26,
   "metadata": {},
   "outputs": [],
   "source": [
    "K_end = 10\n",
    "N = 500\n",
    "seed = 10\n",
    "dt = 0.1\n",
    "K_end = 7.5"
   ]
  },
  {
   "cell_type": "code",
   "execution_count": 33,
   "metadata": {},
   "outputs": [],
   "source": [
    "df_Km.sort_index()[yes_col].to_excel(f'N = {N} seed = {seed} dt = {dt} win TLO.xlsm')\n",
    "df_Km.sort_index()[not_col].to_excel(f'N = {N} seed = {seed} dt = {dt} win cluster TLO.xlsm')"
   ]
  },
  {
   "cell_type": "code",
   "execution_count": 57,
   "metadata": {},
   "outputs": [],
   "source": [
    "df_Km.sort_index()[yes_col].to_excel(f'N = {N} seed = {seed} dt = {dt} win {K_end}-0 TLO.xlsm')\n",
    "df_Km.sort_index()[not_col].to_excel(f'N = {N} seed = {seed} dt = {dt} win {K_end}-0 cluster TLO.xlsm')"
   ]
  },
  {
   "cell_type": "code",
   "execution_count": 47,
   "metadata": {},
   "outputs": [
    {
     "data": {
      "text/plain": [
       "5"
      ]
     },
     "execution_count": 47,
     "metadata": {},
     "output_type": "execute_result"
    }
   ],
   "source": [
    "K_end"
   ]
  },
  {
   "cell_type": "code",
   "execution_count": 43,
   "metadata": {},
   "outputs": [
    {
     "data": {
      "text/html": [
       "<div>\n",
       "<style scoped>\n",
       "    .dataframe tbody tr th:only-of-type {\n",
       "        vertical-align: middle;\n",
       "    }\n",
       "\n",
       "    .dataframe tbody tr th {\n",
       "        vertical-align: top;\n",
       "    }\n",
       "\n",
       "    .dataframe thead th {\n",
       "        text-align: right;\n",
       "    }\n",
       "</style>\n",
       "<table border=\"1\" class=\"dataframe\">\n",
       "  <thead>\n",
       "    <tr style=\"text-align: right;\">\n",
       "      <th></th>\n",
       "      <th></th>\n",
       "      <th>c0 list</th>\n",
       "      <th>c1 list</th>\n",
       "      <th>c2 list</th>\n",
       "      <th>c3 list</th>\n",
       "      <th>c4 list</th>\n",
       "      <th>c5 list</th>\n",
       "      <th>c6 list</th>\n",
       "      <th>c7 list</th>\n",
       "      <th>c8 list</th>\n",
       "      <th>c9 list</th>\n",
       "    </tr>\n",
       "    <tr>\n",
       "      <th>K</th>\n",
       "      <th>m</th>\n",
       "      <th></th>\n",
       "      <th></th>\n",
       "      <th></th>\n",
       "      <th></th>\n",
       "      <th></th>\n",
       "      <th></th>\n",
       "      <th></th>\n",
       "      <th></th>\n",
       "      <th></th>\n",
       "      <th></th>\n",
       "    </tr>\n",
       "  </thead>\n",
       "  <tbody>\n",
       "    <tr>\n",
       "      <th rowspan=\"5\" valign=\"top\">0.0</th>\n",
       "      <th>0.0</th>\n",
       "      <td>NaN</td>\n",
       "      <td>NaN</td>\n",
       "      <td>NaN</td>\n",
       "      <td>NaN</td>\n",
       "      <td>NaN</td>\n",
       "      <td>NaN</td>\n",
       "      <td>NaN</td>\n",
       "      <td>NaN</td>\n",
       "      <td>NaN</td>\n",
       "      <td>NaN</td>\n",
       "    </tr>\n",
       "    <tr>\n",
       "      <th>0.1</th>\n",
       "      <td>NaN</td>\n",
       "      <td>NaN</td>\n",
       "      <td>NaN</td>\n",
       "      <td>NaN</td>\n",
       "      <td>NaN</td>\n",
       "      <td>NaN</td>\n",
       "      <td>NaN</td>\n",
       "      <td>NaN</td>\n",
       "      <td>NaN</td>\n",
       "      <td>NaN</td>\n",
       "    </tr>\n",
       "    <tr>\n",
       "      <th>0.2</th>\n",
       "      <td>NaN</td>\n",
       "      <td>NaN</td>\n",
       "      <td>NaN</td>\n",
       "      <td>NaN</td>\n",
       "      <td>NaN</td>\n",
       "      <td>NaN</td>\n",
       "      <td>NaN</td>\n",
       "      <td>NaN</td>\n",
       "      <td>NaN</td>\n",
       "      <td>NaN</td>\n",
       "    </tr>\n",
       "    <tr>\n",
       "      <th>0.3</th>\n",
       "      <td>NaN</td>\n",
       "      <td>NaN</td>\n",
       "      <td>NaN</td>\n",
       "      <td>NaN</td>\n",
       "      <td>NaN</td>\n",
       "      <td>NaN</td>\n",
       "      <td>NaN</td>\n",
       "      <td>NaN</td>\n",
       "      <td>NaN</td>\n",
       "      <td>NaN</td>\n",
       "    </tr>\n",
       "    <tr>\n",
       "      <th>0.4</th>\n",
       "      <td>NaN</td>\n",
       "      <td>NaN</td>\n",
       "      <td>NaN</td>\n",
       "      <td>NaN</td>\n",
       "      <td>NaN</td>\n",
       "      <td>NaN</td>\n",
       "      <td>NaN</td>\n",
       "      <td>NaN</td>\n",
       "      <td>NaN</td>\n",
       "      <td>NaN</td>\n",
       "    </tr>\n",
       "    <tr>\n",
       "      <th>...</th>\n",
       "      <th>...</th>\n",
       "      <td>...</td>\n",
       "      <td>...</td>\n",
       "      <td>...</td>\n",
       "      <td>...</td>\n",
       "      <td>...</td>\n",
       "      <td>...</td>\n",
       "      <td>...</td>\n",
       "      <td>...</td>\n",
       "      <td>...</td>\n",
       "      <td>...</td>\n",
       "    </tr>\n",
       "    <tr>\n",
       "      <th rowspan=\"5\" valign=\"top\">5.0</th>\n",
       "      <th>9.6</th>\n",
       "      <td>59 60 61 62 63 64 65 66 67 68 69 70 71 72 73 7...</td>\n",
       "      <td>399 400 401 402 403 404 405 406 407 408 409 41...</td>\n",
       "      <td>NaN</td>\n",
       "      <td>NaN</td>\n",
       "      <td>NaN</td>\n",
       "      <td>NaN</td>\n",
       "      <td>NaN</td>\n",
       "      <td>NaN</td>\n",
       "      <td>NaN</td>\n",
       "      <td>NaN</td>\n",
       "    </tr>\n",
       "    <tr>\n",
       "      <th>9.7</th>\n",
       "      <td>82 83 84 85 86 87 88 89 90 91 92 93 94 95 96 9...</td>\n",
       "      <td>401 402 403 404 405 406 407 408 409 410 411 41...</td>\n",
       "      <td>41 42 43 44 45 46 47 48 49 50 51 52 53 54 55 5...</td>\n",
       "      <td>NaN</td>\n",
       "      <td>NaN</td>\n",
       "      <td>NaN</td>\n",
       "      <td>NaN</td>\n",
       "      <td>NaN</td>\n",
       "      <td>NaN</td>\n",
       "      <td>NaN</td>\n",
       "    </tr>\n",
       "    <tr>\n",
       "      <th>9.8</th>\n",
       "      <td>57 58 59 60 61 62 63 64 65 66 67 68 69 70 71 7...</td>\n",
       "      <td>400 401 402 403 404 405 406 407 408 409 410 41...</td>\n",
       "      <td>NaN</td>\n",
       "      <td>NaN</td>\n",
       "      <td>NaN</td>\n",
       "      <td>NaN</td>\n",
       "      <td>NaN</td>\n",
       "      <td>NaN</td>\n",
       "      <td>NaN</td>\n",
       "      <td>NaN</td>\n",
       "    </tr>\n",
       "    <tr>\n",
       "      <th>9.9</th>\n",
       "      <td>48 49 50 51 52 53 54 55 56 57 58 59 60 61 62 6...</td>\n",
       "      <td>NaN</td>\n",
       "      <td>NaN</td>\n",
       "      <td>NaN</td>\n",
       "      <td>NaN</td>\n",
       "      <td>NaN</td>\n",
       "      <td>NaN</td>\n",
       "      <td>NaN</td>\n",
       "      <td>NaN</td>\n",
       "      <td>NaN</td>\n",
       "    </tr>\n",
       "    <tr>\n",
       "      <th>10.0</th>\n",
       "      <td>NaN</td>\n",
       "      <td>NaN</td>\n",
       "      <td>NaN</td>\n",
       "      <td>NaN</td>\n",
       "      <td>NaN</td>\n",
       "      <td>NaN</td>\n",
       "      <td>NaN</td>\n",
       "      <td>NaN</td>\n",
       "      <td>NaN</td>\n",
       "      <td>NaN</td>\n",
       "    </tr>\n",
       "  </tbody>\n",
       "</table>\n",
       "<p>5151 rows × 10 columns</p>\n",
       "</div>"
      ],
      "text/plain": [
       "                                                    c0 list  \\\n",
       "K   m                                                         \n",
       "0.0 0.0                                                 NaN   \n",
       "    0.1                                                 NaN   \n",
       "    0.2                                                 NaN   \n",
       "    0.3                                                 NaN   \n",
       "    0.4                                                 NaN   \n",
       "...                                                     ...   \n",
       "5.0 9.6   59 60 61 62 63 64 65 66 67 68 69 70 71 72 73 7...   \n",
       "    9.7   82 83 84 85 86 87 88 89 90 91 92 93 94 95 96 9...   \n",
       "    9.8   57 58 59 60 61 62 63 64 65 66 67 68 69 70 71 7...   \n",
       "    9.9   48 49 50 51 52 53 54 55 56 57 58 59 60 61 62 6...   \n",
       "    10.0                                                NaN   \n",
       "\n",
       "                                                    c1 list  \\\n",
       "K   m                                                         \n",
       "0.0 0.0                                                 NaN   \n",
       "    0.1                                                 NaN   \n",
       "    0.2                                                 NaN   \n",
       "    0.3                                                 NaN   \n",
       "    0.4                                                 NaN   \n",
       "...                                                     ...   \n",
       "5.0 9.6   399 400 401 402 403 404 405 406 407 408 409 41...   \n",
       "    9.7   401 402 403 404 405 406 407 408 409 410 411 41...   \n",
       "    9.8   400 401 402 403 404 405 406 407 408 409 410 41...   \n",
       "    9.9                                                 NaN   \n",
       "    10.0                                                NaN   \n",
       "\n",
       "                                                    c2 list c3 list c4 list  \\\n",
       "K   m                                                                         \n",
       "0.0 0.0                                                 NaN     NaN     NaN   \n",
       "    0.1                                                 NaN     NaN     NaN   \n",
       "    0.2                                                 NaN     NaN     NaN   \n",
       "    0.3                                                 NaN     NaN     NaN   \n",
       "    0.4                                                 NaN     NaN     NaN   \n",
       "...                                                     ...     ...     ...   \n",
       "5.0 9.6                                                 NaN     NaN     NaN   \n",
       "    9.7   41 42 43 44 45 46 47 48 49 50 51 52 53 54 55 5...     NaN     NaN   \n",
       "    9.8                                                 NaN     NaN     NaN   \n",
       "    9.9                                                 NaN     NaN     NaN   \n",
       "    10.0                                                NaN     NaN     NaN   \n",
       "\n",
       "         c5 list c6 list c7 list c8 list c9 list  \n",
       "K   m                                             \n",
       "0.0 0.0      NaN     NaN     NaN     NaN     NaN  \n",
       "    0.1      NaN     NaN     NaN     NaN     NaN  \n",
       "    0.2      NaN     NaN     NaN     NaN     NaN  \n",
       "    0.3      NaN     NaN     NaN     NaN     NaN  \n",
       "    0.4      NaN     NaN     NaN     NaN     NaN  \n",
       "...          ...     ...     ...     ...     ...  \n",
       "5.0 9.6      NaN     NaN     NaN     NaN     NaN  \n",
       "    9.7      NaN     NaN     NaN     NaN     NaN  \n",
       "    9.8      NaN     NaN     NaN     NaN     NaN  \n",
       "    9.9      NaN     NaN     NaN     NaN     NaN  \n",
       "    10.0     NaN     NaN     NaN     NaN     NaN  \n",
       "\n",
       "[5151 rows x 10 columns]"
      ]
     },
     "execution_count": 43,
     "metadata": {},
     "output_type": "execute_result"
    }
   ],
   "source": [
    "df_Km.sort_index()[not_col]"
   ]
  },
  {
   "attachments": {},
   "cell_type": "markdown",
   "metadata": {},
   "source": [
    "## By column"
   ]
  },
  {
   "cell_type": "code",
   "execution_count": 12,
   "metadata": {},
   "outputs": [],
   "source": [
    "from TO_sim.Sol_Kuramoto import Sol_Kuramoto_mf2_sets_not0 as mf2_sets_TLO\n",
    "from TO_sim.get_cluster import cluster_os_new2\n",
    "import numpy as np\n",
    "import pandas as pd\n",
    "import matplotlib.pyplot as plt\n",
    "from TO_sim.gen_Distribution import Normal"
   ]
  },
  {
   "cell_type": "code",
   "execution_count": 13,
   "metadata": {},
   "outputs": [],
   "source": [
    "m_set = np.arange(0.1,10+0.1/2,0.1).reshape(-1,1)\n",
    "K = 0\n",
    "seed = 10\n",
    "N = 500\n",
    "theta_init,omega,Kc = Normal(N,0,1,seed=seed)\n",
    "N_set = len(m_set)\n",
    "omega = np.sort(omega) - np.mean(omega)\n",
    "theta_sets = (np.ones((N_set,1))*theta_init)\n",
    "# theta_sets = (np.ones((N_set,1))*np.ones_like(theta_init))\n",
    "omega_sets = (np.ones((N_set,1))*omega)\n",
    "\n",
    "\n",
    "# m = 10\n",
    "t_end = 500\n",
    "dt =0.1\n",
    "t = np.arange(0,t_end,dt)\n",
    "dK = 1\n",
    "K_end = 10\n",
    "Ks = np.arange(0,K_end+dK/2,dK)\n",
    "# theta_set, dtheta_set,rs = mf2_sets_TLO(m_set = m_set,N=N,K=K,t_array=t,p_theta=theta_sets,p_dtheta= 0*omega_sets,p_omega=omega_sets,result_time=int((t_end-350)*(1/dt)))"
   ]
  },
  {
   "cell_type": "code",
   "execution_count": 8,
   "metadata": {},
   "outputs": [],
   "source": [
    "def make_new_df(K_start,m_start,N = 500):\n",
    "    cols ={'r':[0],'rstd':[0],'rMM':[0],'error':[0]}\n",
    "    theta_col = []\n",
    "    dtheta_col = []\n",
    "    for i in range(10):\n",
    "        cols[f'c{i}'] = np.nan\n",
    "    for i in range(10):\n",
    "        cols[f'c{i} phase vel'] = np.nan\n",
    "    for i in range(10):\n",
    "        cols[f'c{i} omega'] = np.nan\n",
    "    for i in range(10):\n",
    "        cols[f'c{i} list'] = np.nan\n",
    "\n",
    "    for i in range(N):\n",
    "        s = 'theta'+f'{i}'.zfill(3)\n",
    "        theta_col.append(s)\n",
    "        cols[s]= np.nan\n",
    "\n",
    "    for i in range(N):\n",
    "        s = 'dtheta'+f'{i}'.zfill(3)\n",
    "        dtheta_col.append(s)\n",
    "        cols[s]= np.nan\n",
    "\n",
    "    cols['K'] = K_start\n",
    "    cols['m'] = m_start\n",
    "    df = pd.DataFrame(columns=cols.keys())\n",
    "    df_Km = df.set_index(['K','m'])\n",
    "    for i in range(10):\n",
    "        df_Km[f'c{i} list'] =df_Km[f'c{i} list'].astype(object)\n",
    "    return df_Km,theta_col,dtheta_col"
   ]
  },
  {
   "cell_type": "code",
   "execution_count": 60,
   "metadata": {},
   "outputs": [],
   "source": [
    "def hysterisis_col(df_Km,sets,theta_col,dtheta_col,K,m_set,N,omega):\n",
    "    theta_set,dtheta_set,rs = sets\n",
    "    r_duration = rs[-5000:,:]\n",
    "    r = np.mean(r_duration,axis=0)\n",
    "    rstd = np.std(r_duration,axis=0)\n",
    "    rMM = (np.max(r_duration,axis=0)-np.min(r_duration,axis=0))\n",
    "\n",
    "    sum_time = 1500\n",
    "    dtheta_c = np.cumsum(dtheta_set,axis=0)\n",
    "    avg_dtheta_set = (dtheta_c[sum_time:]-dtheta_c[:-sum_time])/sum_time\n",
    "\n",
    "    r_duration = rs.T[0].T[-sum_time:]\n",
    "    mean_rs = np.mean(r_duration,axis=0)\n",
    "\n",
    "    dtype = [('cluster size', int), ('cluster mean phase velocity', float)]\n",
    "    dtype2 = [('cluster size', int), ('cluster mean natural frequency', float)]\n",
    "\n",
    "    c_threshold = np.where(mean_rs<0.05,1e-5,1e-4)\n",
    "    last_theta = theta_set[-1]\n",
    "    last_dtheta = dtheta_set[-1]\n",
    "    for i,m in enumerate(m_set.reshape(-1)):\n",
    "            AVG = avg_dtheta_set[-1500:,i]\n",
    "            df_Km.loc[(K,m),\"r\"] = r[i]\n",
    "            df_Km.loc[(K,m),\"rstd\"] = rstd[i]\n",
    "            df_Km.loc[(K,m),\"rMM\"] = rMM[i]\n",
    "            c_check = c_threshold[i]\n",
    "            CS,CMP,cluster,omega_s,omega_e,CMO,Is_group,C_s,C_e = cluster_os_new2(AVG=AVG,check=c_check,c_size=5,N=N,omega=omega)\n",
    "            CSMP = np.array([(S,P) for S,P in zip(CS,CMP)],dtype=dtype)\n",
    "            CSMO = np.array([(S,O) for S,O in zip(CS,CMO)],dtype=dtype2)\n",
    "            for i in range(len(CSMP)):\n",
    "                    df_Km.loc[(K,m),f'c{i}'] = CSMP['cluster size'][i]\n",
    "                    df_Km.loc[(K,m),f'c{i} phase vel'] = CSMP['cluster mean phase velocity'][i]\n",
    "                    df_Km.loc[(K,m),f'c{i} omega'] = CSMO['cluster mean natural frequency'][i]\n",
    "                    df_Km.loc[(K,m),f'c{i} list'] = ' '.join(map(str,cluster[i]))\n",
    "            df_Km.loc[(K,m),theta_col] = last_theta[i]\n",
    "            df_Km.loc[(K,m),dtheta_col] = last_dtheta[i]\n",
    "    return (last_theta,last_dtheta)"
   ]
  },
  {
   "cell_type": "code",
   "execution_count": null,
   "metadata": {},
   "outputs": [],
   "source": [
    "df_Km,theta_col,dtheta_col = make_new_df(K,m_set[0],N = 500)\n",
    "theta_set, dtheta_set,rs = mf2_sets_TLO(m_set = m_set,N=N,K=K,t_array=t,p_theta=theta_sets,p_dtheta= 0*omega_sets,p_omega=omega_sets,result_time=int((t_end-350)*(1/dt)))\n",
    "(last_theta,last_dtheta) = hysterisis_col(df_Km,(theta_set, dtheta_set,rs),theta_col,dtheta_col)\n"
   ]
  },
  {
   "cell_type": "code",
   "execution_count": 82,
   "metadata": {},
   "outputs": [],
   "source": [
    "def TLO_col(m_set,theta_init_set,omega_set,Ks,N,t_end=500,dt = 0.1):\n",
    "    df_Km,theta_col,dtheta_col = make_new_df(0,m_set.reshape(-1)[0],N = N)\n",
    "    t = np.arange(0,t_end,dt)\n",
    "    K = Ks[0]\n",
    "    theta_set, dtheta_set,rs = mf2_sets_TLO(m_set = m_set,N=N,K=K,t_array=t,p_theta=theta_init_set,p_dtheta= 0*omega_set,p_omega=omega_set,result_time=int((t_end-350)*(1/dt)))\n",
    "    last_theta,last_dtheta = hysterisis_col(df_Km,(theta_set,dtheta_set,rs),theta_col,dtheta_col,K,m_set,N,omega)\n",
    "    for K in Ks[1:]:\n",
    "        theta_set,dtheta_set,rs = mf2_sets_TLO(m_set = m_set,N=N,K=K,t_array=t,p_theta=last_theta,p_dtheta= last_dtheta,p_omega=omega_set,result_time = int((t_end)-(350))*int(1/dt))\n",
    "        last_theta,last_dtheta = hysterisis_col(df_Km,(theta_set,dtheta_set,rs),theta_col,dtheta_col,K,m_set,N,omega)\n",
    "    return df_Km"
   ]
  },
  {
   "cell_type": "code",
   "execution_count": null,
   "metadata": {},
   "outputs": [],
   "source": []
  },
  {
   "cell_type": "code",
   "execution_count": 74,
   "metadata": {},
   "outputs": [
    {
     "data": {
      "text/plain": [
       "11"
      ]
     },
     "execution_count": 74,
     "metadata": {},
     "output_type": "execute_result"
    }
   ],
   "source": [
    "len(Ks)"
   ]
  },
  {
   "cell_type": "code",
   "execution_count": null,
   "metadata": {},
   "outputs": [],
   "source": []
  },
  {
   "cell_type": "code",
   "execution_count": 85,
   "metadata": {},
   "outputs": [],
   "source": [
    "df_Km_2 = TLO_col(m_set,theta_init_set=theta_sets,omega_set=omega_sets,Ks=Ks,N=N,t_end=500,dt=0.1)"
   ]
  },
  {
   "cell_type": "code",
   "execution_count": 2,
   "metadata": {},
   "outputs": [],
   "source": [
    "import matplotlib.pyplot as plt"
   ]
  },
  {
   "cell_type": "code",
   "execution_count": 3,
   "metadata": {},
   "outputs": [
    {
     "ename": "NameError",
     "evalue": "name 'df_Km' is not defined",
     "output_type": "error",
     "traceback": [
      "\u001b[1;31m---------------------------------------------------------------------------\u001b[0m",
      "\u001b[1;31mNameError\u001b[0m                                 Traceback (most recent call last)",
      "\u001b[1;32mc:\\Users\\kim9y\\Desktop\\Kuramoto\\Kuramoto-model\\230711 phase diagram TLO algorithm.ipynb Cell 91\u001b[0m in \u001b[0;36m2\n\u001b[0;32m      <a href='vscode-notebook-cell:/c%3A/Users/kim9y/Desktop/Kuramoto/Kuramoto-model/230711%20phase%20diagram%20TLO%20algorithm.ipynb#Y160sZmlsZQ%3D%3D?line=0'>1</a>\u001b[0m \u001b[39mfor\u001b[39;00m i \u001b[39min\u001b[39;00m \u001b[39mrange\u001b[39m(\u001b[39m100\u001b[39m):\n\u001b[1;32m----> <a href='vscode-notebook-cell:/c%3A/Users/kim9y/Desktop/Kuramoto/Kuramoto-model/230711%20phase%20diagram%20TLO%20algorithm.ipynb#Y160sZmlsZQ%3D%3D?line=1'>2</a>\u001b[0m     plt\u001b[39m.\u001b[39mplot(df_Km\u001b[39m.\u001b[39mr\u001b[39m.\u001b[39munstack()\u001b[39m.\u001b[39mto_numpy()[:,i],\u001b[39m'\u001b[39m\u001b[39m.-\u001b[39m\u001b[39m'\u001b[39m);\n",
      "\u001b[1;31mNameError\u001b[0m: name 'df_Km' is not defined"
     ]
    }
   ],
   "source": [
    "for i in range(100):\n",
    "    plt.plot(df_Km.r.unstack().to_numpy()[:,i],'.-');"
   ]
  },
  {
   "cell_type": "code",
   "execution_count": null,
   "metadata": {},
   "outputs": [
    {
     "data": {
      "application/vnd.jupyter.widget-view+json": {
       "model_id": "0d48453454f746609a2bfbc2beba9915",
       "version_major": 2,
       "version_minor": 0
      },
      "text/plain": [
       "  0%|          | 0/28 [00:00<?, ?it/s]"
      ]
     },
     "metadata": {},
     "output_type": "display_data"
    }
   ],
   "source": [
    "for _ in tqdm(list(range(28))):\n",
    "    K = K +0.1\n",
    "    theta_set, dtheta_set,rs = mf2_sets_TLO(m_set = m_set,N=N,K=K,t_array=t,p_theta=last_theta,p_dtheta=last_dtheta,p_omega=omega_sets,result_time=int((t_end-350)*(1/dt)))\n",
    "    (last_theta,last_dtheta) = hysterisis_col(df_Km,(theta_set, dtheta_set,rs),theta_col,dtheta_col,K,m_set)"
   ]
  },
  {
   "attachments": {},
   "cell_type": "markdown",
   "metadata": {},
   "source": [
    "### TLO col test"
   ]
  },
  {
   "cell_type": "code",
   "execution_count": 1,
   "metadata": {},
   "outputs": [],
   "source": [
    "import numpy as np\n",
    "import pandas as pd\n",
    "from TO_sim.TLO import TLO_col,make_new_df\n",
    "from TO_sim.gen_Distribution import Normal\n",
    "from parmap import parmap\n",
    "import matplotlib.pyplot as plt"
   ]
  },
  {
   "cell_type": "code",
   "execution_count": 2,
   "metadata": {},
   "outputs": [],
   "source": [
    "K_start = 0\n",
    "m_start = 0\n",
    "df_Km,theta_col,dtheta_col = make_new_df(K_start,m_start,N = 500)"
   ]
  },
  {
   "cell_type": "code",
   "execution_count": 5,
   "metadata": {},
   "outputs": [
    {
     "ename": "NameError",
     "evalue": "name 'np' is not defined",
     "output_type": "error",
     "traceback": [
      "\u001b[1;31m---------------------------------------------------------------------------\u001b[0m",
      "\u001b[1;31mNameError\u001b[0m                                 Traceback (most recent call last)",
      "\u001b[1;32mc:\\Users\\kim9y\\Desktop\\Kuramoto\\Kuramoto-model\\230711 phase diagram TLO algorithm.ipynb Cell 96\u001b[0m in \u001b[0;36m1\n\u001b[1;32m----> <a href='vscode-notebook-cell:/c%3A/Users/kim9y/Desktop/Kuramoto/Kuramoto-model/230711%20phase%20diagram%20TLO%20algorithm.ipynb#Y165sZmlsZQ%3D%3D?line=0'>1</a>\u001b[0m m_set \u001b[39m=\u001b[39m np\u001b[39m.\u001b[39marange(\u001b[39m0.1\u001b[39m,\u001b[39m10\u001b[39m\u001b[39m+\u001b[39m\u001b[39m0.1\u001b[39m\u001b[39m/\u001b[39m\u001b[39m2\u001b[39m,\u001b[39m0.1\u001b[39m)\u001b[39m.\u001b[39mreshape(\u001b[39m-\u001b[39m\u001b[39m1\u001b[39m,\u001b[39m1\u001b[39m)\n\u001b[0;32m      <a href='vscode-notebook-cell:/c%3A/Users/kim9y/Desktop/Kuramoto/Kuramoto-model/230711%20phase%20diagram%20TLO%20algorithm.ipynb#Y165sZmlsZQ%3D%3D?line=1'>2</a>\u001b[0m K \u001b[39m=\u001b[39m \u001b[39m0\u001b[39m\n\u001b[0;32m      <a href='vscode-notebook-cell:/c%3A/Users/kim9y/Desktop/Kuramoto/Kuramoto-model/230711%20phase%20diagram%20TLO%20algorithm.ipynb#Y165sZmlsZQ%3D%3D?line=2'>3</a>\u001b[0m seed \u001b[39m=\u001b[39m \u001b[39m10\u001b[39m\n",
      "\u001b[1;31mNameError\u001b[0m: name 'np' is not defined"
     ]
    }
   ],
   "source": [
    "m_set = np.arange(0.1,10+0.1/2,0.1).reshape(-1,1)\n",
    "K = 0\n",
    "seed = 10\n",
    "N = 500\n",
    "theta_init,omega,Kc = Normal(N,0,1,seed=seed)\n",
    "N_set = len(m_set)\n",
    "omega = np.sort(omega) - np.mean(omega)\n",
    "theta_sets = (np.ones((N_set,1))*theta_init)\n",
    "# theta_sets = (np.ones((N_set,1))*np.ones_like(theta_init))\n",
    "omega_sets = (np.ones((N_set,1))*omega)\n",
    "\n",
    "\n",
    "# m = 10\n",
    "t_end = 500\n",
    "dt =0.1\n",
    "t = np.arange(0,t_end,dt)\n",
    "dK = 0.1\n",
    "K_end = 10\n",
    "Ks = np.arange(0,K_end+dK/2,dK)"
   ]
  },
  {
   "cell_type": "code",
   "execution_count": 4,
   "metadata": {},
   "outputs": [],
   "source": [
    "import warnings\n",
    "warnings.simplefilter(action='ignore', category=FutureWarning)\n",
    "num = 1"
   ]
  },
  {
   "cell_type": "code",
   "execution_count": 5,
   "metadata": {},
   "outputs": [],
   "source": [
    "\n",
    "ms_set = []\n",
    "core = 15\n",
    "index_ = 0\n",
    "for i in range(len(m_set)//core +1):\n",
    "    ms_set.append(m_set[index_:index_+core])\n",
    "    index_ += core\n",
    "core_set = [len(ms) for ms in ms_set]"
   ]
  },
  {
   "cell_type": "code",
   "execution_count": 6,
   "metadata": {},
   "outputs": [
    {
     "data": {
      "text/plain": [
       "[15, 15, 15, 15, 15, 15, 10]"
      ]
     },
     "execution_count": 6,
     "metadata": {},
     "output_type": "execute_result"
    }
   ],
   "source": [
    "core_set"
   ]
  },
  {
   "cell_type": "code",
   "execution_count": 7,
   "metadata": {},
   "outputs": [],
   "source": [
    "df_Km = df_Km.reset_index()"
   ]
  },
  {
   "cell_type": "code",
   "execution_count": 8,
   "metadata": {},
   "outputs": [
    {
     "data": {
      "application/vnd.jupyter.widget-view+json": {
       "model_id": "28683a20390d41119b4bd98c66f81805",
       "version_major": 2,
       "version_minor": 0
      },
      "text/plain": [
       "  0%|          | 0/15 [00:00<?, ?it/s]"
      ]
     },
     "metadata": {},
     "output_type": "display_data"
    }
   ],
   "source": [
    "for core,m_set in zip(core_set,ms_set):\n",
    "    for df in parmap.map(TLO_col,m_set,theta_init_set=theta_sets,omega_set=omega_sets,Ks=Ks,N=N,t_end=1000,dt=0.1\n",
    "                         ,pm_pbar=True, pm_processes=core):\n",
    "        df_Km = df_Km.merge(df.reset_index(),how='outer')"
   ]
  },
  {
   "cell_type": "code",
   "execution_count": null,
   "metadata": {},
   "outputs": [],
   "source": [
    "df_Km = df_Km.set_index(['K','m']).sort_index()"
   ]
  },
  {
   "cell_type": "code",
   "execution_count": null,
   "metadata": {},
   "outputs": [],
   "source": [
    "df_Km.sort_index().to_excel(f'N = {N} seed = {seed} dt = {dt} col TLO.xlsm')"
   ]
  },
  {
   "cell_type": "code",
   "execution_count": null,
   "metadata": {},
   "outputs": [],
   "source": [
    "df_Km"
   ]
  }
 ],
 "metadata": {
  "kernelspec": {
   "display_name": "Python 3",
   "language": "python",
   "name": "python3"
  },
  "language_info": {
   "codemirror_mode": {
    "name": "ipython",
    "version": 3
   },
   "file_extension": ".py",
   "mimetype": "text/x-python",
   "name": "python",
   "nbconvert_exporter": "python",
   "pygments_lexer": "ipython3",
   "version": "3.11.0"
  },
  "orig_nbformat": 4
 },
 "nbformat": 4,
 "nbformat_minor": 2
}
