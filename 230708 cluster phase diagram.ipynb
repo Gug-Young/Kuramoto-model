{
 "cells": [
  {
   "cell_type": "code",
   "execution_count": 2,
   "metadata": {},
   "outputs": [],
   "source": [
    "import numpy as np\n",
    "import matplotlib.pyplot as plt\n",
    "import pandas as pd\n",
    "\n",
    "from TO_sim.Sol_Kuramoto import Sol_Kuramoto_mf2 as mf2\n",
    "from TO_sim.Sol_Kuramoto import Sol_Kuramoto_mf2_sets as mf2_sets\n",
    "from TO_sim.get_cluster import C_rsmso,cluster_os,C_rsmso_set_new\n",
    "from TO_sim.To_Draw import Draw_avg_vel_r\n",
    "\n",
    "from TO_sim.gen_Distribution import Normal\n",
    "from TO_sim.gen_Distribution import Quantile_Normal as Q_Normal\n",
    "import parmap\n",
    "from scipy.signal import find_peaks\n",
    "from TO_sim.To_Draw import Draw_avg_vel_r\n",
    "from tqdm.notebook import tqdm\n"
   ]
  },
  {
   "cell_type": "code",
   "execution_count": 3,
   "metadata": {},
   "outputs": [],
   "source": [
    "import warnings\n",
    "warnings.filterwarnings(\"ignore\", category=np.VisibleDeprecationWarning) "
   ]
  },
  {
   "cell_type": "code",
   "execution_count": 4,
   "metadata": {},
   "outputs": [],
   "source": [
    "df = pd.read_excel('N = 1000 Q_Normal seed = 10 dt = 0.1 230821 ver3.xlsm',index_col=[0,1])\n",
    "ms = df.reset_index().m.unique()"
   ]
  },
  {
   "cell_type": "code",
   "execution_count": 5,
   "metadata": {},
   "outputs": [],
   "source": [
    "dK = 0.1\n",
    "dm = 0.1\n",
    "N = 1000\n",
    "seed = 10\n",
    "dt = 0.1\n",
    "theta_init,omega,Kc = Q_Normal(N,0,1,seed=seed)\n",
    "K_set = np.arange(0,5,dK).reshape(-1,1)\n",
    "\n",
    "N_set = len(K_set)\n",
    "omega = np.sort(omega) - np.mean(omega)\n",
    "ms = np.arange(0,10+dm/2,dm)\n",
    "m_set = []\n",
    "core = 15\n",
    "index_ = 0\n",
    "for i in range(len(ms)//core +1):\n",
    "    m_set.append(ms[index_:index_+core])\n",
    "    index_ += core\n",
    "core_set = [len(ms) for ms in m_set]\n",
    "N_set = len(K_set)\n",
    "theta_init_set = (np.ones((N_set,1))*theta_init)\n",
    "pdtheta_set = 0*(np.ones((N_set,1))*omega)\n",
    "omega_set = (np.ones((N_set,1))*omega)"
   ]
  },
  {
   "cell_type": "code",
   "execution_count": 6,
   "metadata": {},
   "outputs": [
    {
     "data": {
      "text/plain": [
       "[15, 15, 15, 15, 15, 15, 11]"
      ]
     },
     "execution_count": 6,
     "metadata": {},
     "output_type": "execute_result"
    }
   ],
   "source": [
    "core_set"
   ]
  },
  {
   "cell_type": "code",
   "execution_count": 7,
   "metadata": {},
   "outputs": [],
   "source": [
    "cols ={'r':[0],'rstd':[0],'rMM':[0],'error':[0]}\n",
    "for i in range(10):\n",
    "    cols[f'c{i}'] = np.nan\n",
    "for i in range(10):\n",
    "    cols[f'c{i} phase vel'] = np.nan\n",
    "for i in range(10):\n",
    "    cols[f'c{i} omega'] = np.nan\n",
    "\n",
    "cols['K'] = K_set.reshape(-1)[0]\n",
    "cols['m'] = ms[0]\n",
    "df = pd.DataFrame(cols)\n",
    "df_Km = df.set_index(['K','m'])"
   ]
  },
  {
   "cell_type": "code",
   "execution_count": 9,
   "metadata": {},
   "outputs": [],
   "source": [
    "df_Km = df.copy()"
   ]
  },
  {
   "cell_type": "code",
   "execution_count": 8,
   "metadata": {},
   "outputs": [
    {
     "data": {
      "application/vnd.jupyter.widget-view+json": {
       "model_id": "a8d6589b755f4c048f4f08599d3e2155",
       "version_major": 2,
       "version_minor": 0
      },
      "text/plain": [
       "  0%|          | 0/15 [00:00<?, ?it/s]"
      ]
     },
     "metadata": {},
     "output_type": "display_data"
    },
    {
     "data": {
      "application/vnd.jupyter.widget-view+json": {
       "model_id": "ba01ac4640e54406a6bdfc3394147b91",
       "version_major": 2,
       "version_minor": 0
      },
      "text/plain": [
       "  0%|          | 0/15 [00:00<?, ?it/s]"
      ]
     },
     "metadata": {},
     "output_type": "display_data"
    },
    {
     "data": {
      "application/vnd.jupyter.widget-view+json": {
       "model_id": "6f70e624d7cc4a83a4a669c81d44842f",
       "version_major": 2,
       "version_minor": 0
      },
      "text/plain": [
       "  0%|          | 0/15 [00:00<?, ?it/s]"
      ]
     },
     "metadata": {},
     "output_type": "display_data"
    },
    {
     "data": {
      "application/vnd.jupyter.widget-view+json": {
       "model_id": "9c52d64c106245d4abbde223140cb1e8",
       "version_major": 2,
       "version_minor": 0
      },
      "text/plain": [
       "  0%|          | 0/15 [00:00<?, ?it/s]"
      ]
     },
     "metadata": {},
     "output_type": "display_data"
    },
    {
     "data": {
      "application/vnd.jupyter.widget-view+json": {
       "model_id": "0926caa3431140839b1a31f36f7692cd",
       "version_major": 2,
       "version_minor": 0
      },
      "text/plain": [
       "  0%|          | 0/15 [00:00<?, ?it/s]"
      ]
     },
     "metadata": {},
     "output_type": "display_data"
    },
    {
     "data": {
      "application/vnd.jupyter.widget-view+json": {
       "model_id": "0baf96e1a9f54968af6e3b52981ccdd3",
       "version_major": 2,
       "version_minor": 0
      },
      "text/plain": [
       "  0%|          | 0/15 [00:00<?, ?it/s]"
      ]
     },
     "metadata": {},
     "output_type": "display_data"
    },
    {
     "data": {
      "application/vnd.jupyter.widget-view+json": {
       "model_id": "b3991cc3ae304a2399c6500086afd37c",
       "version_major": 2,
       "version_minor": 0
      },
      "text/plain": [
       "  0%|          | 0/11 [00:00<?, ?it/s]"
      ]
     },
     "metadata": {},
     "output_type": "display_data"
    }
   ],
   "source": [
    "for core,ms in zip(core_set,m_set):\n",
    "    for m,(r,rstd,rMM,CSMP_set,CSMO_set,error_set,C_s_set,C_e_set) in zip(ms,parmap.map(C_rsmso_set_new,ms,K_set=K_set,N=N,theta_init_set=theta_init_set,\n",
    "                                                        omega_set=omega_set,pdtheta_set = pdtheta_set,t_end=2000,dt=dt,\n",
    "                                                        pm_pbar=True, pm_processes=core)):\n",
    "        for i,K in enumerate(K_set.reshape(-1)):\n",
    "            df_Km.loc[(K,m),\"r\"] = r[i]\n",
    "            df_Km.loc[(K,m),\"rstd\"] = rstd[i]\n",
    "            df_Km.loc[(K,m),\"rMM\"] = rMM[i]\n",
    "            df_Km.loc[(K,m),'error'] = error_set[i]\n",
    "            CSMP = CSMP_set[i]\n",
    "            CSMO = CSMO_set[i]\n",
    "            for i in range(len(CSMP_set[i])):\n",
    "                    df_Km.loc[(K,m),f'c{i}'] = CSMP['cluster size'][i]\n",
    "                    df_Km.loc[(K,m),f'c{i} phase vel'] = CSMP['cluster mean phase velocity'][i]\n",
    "                    df_Km.loc[(K,m),f'c{i} omega'] = CSMO['cluster mean natural frequency'][i]"
   ]
  },
  {
   "cell_type": "code",
   "execution_count": 8,
   "metadata": {},
   "outputs": [
    {
     "data": {
      "text/plain": [
       "[15, 15, 15, 15, 1]"
      ]
     },
     "execution_count": 8,
     "metadata": {},
     "output_type": "execute_result"
    }
   ],
   "source": [
    "core_set"
   ]
  },
  {
   "cell_type": "code",
   "execution_count": 10,
   "metadata": {},
   "outputs": [
    {
     "data": {
      "application/vnd.jupyter.widget-view+json": {
       "model_id": "6f77a5f74880497f8e1a0a44f1c442a0",
       "version_major": 2,
       "version_minor": 0
      },
      "text/plain": [
       "  0%|          | 0/15 [00:00<?, ?it/s]"
      ]
     },
     "metadata": {},
     "output_type": "display_data"
    },
    {
     "data": {
      "application/vnd.jupyter.widget-view+json": {
       "model_id": "d6692c529fc54f4ab194eb16985377d2",
       "version_major": 2,
       "version_minor": 0
      },
      "text/plain": [
       "  0%|          | 0/15 [00:00<?, ?it/s]"
      ]
     },
     "metadata": {},
     "output_type": "display_data"
    },
    {
     "data": {
      "application/vnd.jupyter.widget-view+json": {
       "model_id": "c514a8158d374a9a97bac3b2c103004b",
       "version_major": 2,
       "version_minor": 0
      },
      "text/plain": [
       "  0%|          | 0/15 [00:00<?, ?it/s]"
      ]
     },
     "metadata": {},
     "output_type": "display_data"
    },
    {
     "data": {
      "application/vnd.jupyter.widget-view+json": {
       "model_id": "0ca1aeb67b9a4d2e95b80040fe345c9e",
       "version_major": 2,
       "version_minor": 0
      },
      "text/plain": [
       "  0%|          | 0/15 [00:00<?, ?it/s]"
      ]
     },
     "metadata": {},
     "output_type": "display_data"
    },
    {
     "data": {
      "application/vnd.jupyter.widget-view+json": {
       "model_id": "293e02b2c8fa487698f77a610bc60941",
       "version_major": 2,
       "version_minor": 0
      },
      "text/plain": [
       "  0%|          | 0/1 [00:00<?, ?it/s]"
      ]
     },
     "metadata": {},
     "output_type": "display_data"
    }
   ],
   "source": [
    "K_set = np.arange(4,10+dK/2,dK).reshape(-1,1)\n",
    "N_set = len(K_set)\n",
    "omega = np.sort(omega) - np.mean(omega)\n",
    "ms = np.arange(4,10+dm/2,dm)\n",
    "m_set = []\n",
    "core = 15\n",
    "index_ = 0\n",
    "for i in range(len(ms)//core +1):\n",
    "    m_set.append(ms[index_:index_+core])\n",
    "    index_ += core\n",
    "core_set = [len(ms) for ms in m_set]\n",
    "N_set = len(K_set)\n",
    "theta_init_set = (np.ones((N_set,1))*theta_init)\n",
    "pdtheta_set = 0*(np.ones((N_set,1))*omega)\n",
    "omega_set = (np.ones((N_set,1))*omega)\n",
    "for core,ms in zip(core_set,m_set):\n",
    "    for m,(r,rstd,rMM,CSMP_set,CSMO_set,error_set,C_s_set,C_e_set) in zip(ms,parmap.map(C_rsmso_set_new,ms,K_set=K_set,N=N,theta_init_set=theta_init_set,\n",
    "                                                        omega_set=omega_set,pdtheta_set = pdtheta_set,t_end=5000,dt=dt,\n",
    "                                                        pm_pbar=True, pm_processes=core)):\n",
    "        for i,K in enumerate(K_set.reshape(-1)):\n",
    "            df_Km.loc[(K,m),\"r\"] = r[i]\n",
    "            df_Km.loc[(K,m),\"rstd\"] = rstd[i]\n",
    "            df_Km.loc[(K,m),\"rMM\"] = rMM[i]\n",
    "            df_Km.loc[(K,m),'error'] = error_set[i]\n",
    "            CSMP = CSMP_set[i]\n",
    "            CSMO = CSMO_set[i]\n",
    "            for i in range(len(CSMP_set[i])):\n",
    "                    df_Km.loc[(K,m),f'c{i}'] = CSMP['cluster size'][i]\n",
    "                    df_Km.loc[(K,m),f'c{i} phase vel'] = CSMP['cluster mean phase velocity'][i]\n",
    "                    df_Km.loc[(K,m),f'c{i} omega'] = CSMO['cluster mean natural frequency'][i]"
   ]
  },
  {
   "cell_type": "code",
   "execution_count": 26,
   "metadata": {},
   "outputs": [
    {
     "data": {
      "text/plain": [
       "array([[ 4. ],\n",
       "       [ 4.1],\n",
       "       [ 4.2],\n",
       "       [ 4.3],\n",
       "       [ 4.4],\n",
       "       [ 4.5],\n",
       "       [ 4.6],\n",
       "       [ 4.7],\n",
       "       [ 4.8],\n",
       "       [ 4.9],\n",
       "       [ 5. ],\n",
       "       [ 5.1],\n",
       "       [ 5.2],\n",
       "       [ 5.3],\n",
       "       [ 5.4],\n",
       "       [ 5.5],\n",
       "       [ 5.6],\n",
       "       [ 5.7],\n",
       "       [ 5.8],\n",
       "       [ 5.9],\n",
       "       [ 6. ],\n",
       "       [ 6.1],\n",
       "       [ 6.2],\n",
       "       [ 6.3],\n",
       "       [ 6.4],\n",
       "       [ 6.5],\n",
       "       [ 6.6],\n",
       "       [ 6.7],\n",
       "       [ 6.8],\n",
       "       [ 6.9],\n",
       "       [ 7. ],\n",
       "       [ 7.1],\n",
       "       [ 7.2],\n",
       "       [ 7.3],\n",
       "       [ 7.4],\n",
       "       [ 7.5],\n",
       "       [ 7.6],\n",
       "       [ 7.7],\n",
       "       [ 7.8],\n",
       "       [ 7.9],\n",
       "       [ 8. ],\n",
       "       [ 8.1],\n",
       "       [ 8.2],\n",
       "       [ 8.3],\n",
       "       [ 8.4],\n",
       "       [ 8.5],\n",
       "       [ 8.6],\n",
       "       [ 8.7],\n",
       "       [ 8.8],\n",
       "       [ 8.9],\n",
       "       [ 9. ],\n",
       "       [ 9.1],\n",
       "       [ 9.2],\n",
       "       [ 9.3],\n",
       "       [ 9.4],\n",
       "       [ 9.5],\n",
       "       [ 9.6],\n",
       "       [ 9.7],\n",
       "       [ 9.8],\n",
       "       [ 9.9],\n",
       "       [10. ]])"
      ]
     },
     "execution_count": 26,
     "metadata": {},
     "output_type": "execute_result"
    }
   ],
   "source": [
    "K_set"
   ]
  },
  {
   "cell_type": "code",
   "execution_count": 11,
   "metadata": {},
   "outputs": [
    {
     "data": {
      "text/plain": [
       "'N = 1000 seed = 10 dt = 0.1 230708 ver3.xlsm'"
      ]
     },
     "execution_count": 11,
     "metadata": {},
     "output_type": "execute_result"
    }
   ],
   "source": [
    "f'N = {N} seed = {seed} dt = {dt} 230708 ver3.xlsm'"
   ]
  },
  {
   "cell_type": "code",
   "execution_count": 33,
   "metadata": {},
   "outputs": [
    {
     "data": {
      "text/html": [
       "<div>\n",
       "<style scoped>\n",
       "    .dataframe tbody tr th:only-of-type {\n",
       "        vertical-align: middle;\n",
       "    }\n",
       "\n",
       "    .dataframe tbody tr th {\n",
       "        vertical-align: top;\n",
       "    }\n",
       "\n",
       "    .dataframe thead th {\n",
       "        text-align: right;\n",
       "    }\n",
       "</style>\n",
       "<table border=\"1\" class=\"dataframe\">\n",
       "  <thead>\n",
       "    <tr style=\"text-align: right;\">\n",
       "      <th></th>\n",
       "      <th></th>\n",
       "      <th>r</th>\n",
       "      <th>rstd</th>\n",
       "      <th>rMM</th>\n",
       "      <th>error</th>\n",
       "      <th>c0</th>\n",
       "      <th>c1</th>\n",
       "      <th>c2</th>\n",
       "      <th>c3</th>\n",
       "      <th>c4</th>\n",
       "      <th>c5</th>\n",
       "      <th>...</th>\n",
       "      <th>c0 omega</th>\n",
       "      <th>c1 omega</th>\n",
       "      <th>c2 omega</th>\n",
       "      <th>c3 omega</th>\n",
       "      <th>c4 omega</th>\n",
       "      <th>c5 omega</th>\n",
       "      <th>c6 omega</th>\n",
       "      <th>c7 omega</th>\n",
       "      <th>c8 omega</th>\n",
       "      <th>c9 omega</th>\n",
       "    </tr>\n",
       "    <tr>\n",
       "      <th>K</th>\n",
       "      <th>m</th>\n",
       "      <th></th>\n",
       "      <th></th>\n",
       "      <th></th>\n",
       "      <th></th>\n",
       "      <th></th>\n",
       "      <th></th>\n",
       "      <th></th>\n",
       "      <th></th>\n",
       "      <th></th>\n",
       "      <th></th>\n",
       "      <th></th>\n",
       "      <th></th>\n",
       "      <th></th>\n",
       "      <th></th>\n",
       "      <th></th>\n",
       "      <th></th>\n",
       "      <th></th>\n",
       "      <th></th>\n",
       "      <th></th>\n",
       "      <th></th>\n",
       "      <th></th>\n",
       "    </tr>\n",
       "  </thead>\n",
       "  <tbody>\n",
       "    <tr>\n",
       "      <th rowspan=\"5\" valign=\"top\">0.0</th>\n",
       "      <th>0.0</th>\n",
       "      <td>0.026198</td>\n",
       "      <td>0.014298</td>\n",
       "      <td>0.089169</td>\n",
       "      <td>NaN</td>\n",
       "      <td>NaN</td>\n",
       "      <td>NaN</td>\n",
       "      <td>NaN</td>\n",
       "      <td>NaN</td>\n",
       "      <td>NaN</td>\n",
       "      <td>NaN</td>\n",
       "      <td>...</td>\n",
       "      <td>NaN</td>\n",
       "      <td>NaN</td>\n",
       "      <td>NaN</td>\n",
       "      <td>NaN</td>\n",
       "      <td>NaN</td>\n",
       "      <td>NaN</td>\n",
       "      <td>NaN</td>\n",
       "      <td>NaN</td>\n",
       "      <td>NaN</td>\n",
       "      <td>NaN</td>\n",
       "    </tr>\n",
       "    <tr>\n",
       "      <th>0.1</th>\n",
       "      <td>0.026197</td>\n",
       "      <td>0.014298</td>\n",
       "      <td>0.089169</td>\n",
       "      <td>NaN</td>\n",
       "      <td>NaN</td>\n",
       "      <td>NaN</td>\n",
       "      <td>NaN</td>\n",
       "      <td>NaN</td>\n",
       "      <td>NaN</td>\n",
       "      <td>NaN</td>\n",
       "      <td>...</td>\n",
       "      <td>NaN</td>\n",
       "      <td>NaN</td>\n",
       "      <td>NaN</td>\n",
       "      <td>NaN</td>\n",
       "      <td>NaN</td>\n",
       "      <td>NaN</td>\n",
       "      <td>NaN</td>\n",
       "      <td>NaN</td>\n",
       "      <td>NaN</td>\n",
       "      <td>NaN</td>\n",
       "    </tr>\n",
       "    <tr>\n",
       "      <th>0.2</th>\n",
       "      <td>0.026197</td>\n",
       "      <td>0.014298</td>\n",
       "      <td>0.089169</td>\n",
       "      <td>NaN</td>\n",
       "      <td>NaN</td>\n",
       "      <td>NaN</td>\n",
       "      <td>NaN</td>\n",
       "      <td>NaN</td>\n",
       "      <td>NaN</td>\n",
       "      <td>NaN</td>\n",
       "      <td>...</td>\n",
       "      <td>NaN</td>\n",
       "      <td>NaN</td>\n",
       "      <td>NaN</td>\n",
       "      <td>NaN</td>\n",
       "      <td>NaN</td>\n",
       "      <td>NaN</td>\n",
       "      <td>NaN</td>\n",
       "      <td>NaN</td>\n",
       "      <td>NaN</td>\n",
       "      <td>NaN</td>\n",
       "    </tr>\n",
       "    <tr>\n",
       "      <th>0.3</th>\n",
       "      <td>0.026195</td>\n",
       "      <td>0.014298</td>\n",
       "      <td>0.089169</td>\n",
       "      <td>NaN</td>\n",
       "      <td>NaN</td>\n",
       "      <td>NaN</td>\n",
       "      <td>NaN</td>\n",
       "      <td>NaN</td>\n",
       "      <td>NaN</td>\n",
       "      <td>NaN</td>\n",
       "      <td>...</td>\n",
       "      <td>NaN</td>\n",
       "      <td>NaN</td>\n",
       "      <td>NaN</td>\n",
       "      <td>NaN</td>\n",
       "      <td>NaN</td>\n",
       "      <td>NaN</td>\n",
       "      <td>NaN</td>\n",
       "      <td>NaN</td>\n",
       "      <td>NaN</td>\n",
       "      <td>NaN</td>\n",
       "    </tr>\n",
       "    <tr>\n",
       "      <th>0.4</th>\n",
       "      <td>0.026192</td>\n",
       "      <td>0.014299</td>\n",
       "      <td>0.089169</td>\n",
       "      <td>NaN</td>\n",
       "      <td>NaN</td>\n",
       "      <td>NaN</td>\n",
       "      <td>NaN</td>\n",
       "      <td>NaN</td>\n",
       "      <td>NaN</td>\n",
       "      <td>NaN</td>\n",
       "      <td>...</td>\n",
       "      <td>NaN</td>\n",
       "      <td>NaN</td>\n",
       "      <td>NaN</td>\n",
       "      <td>NaN</td>\n",
       "      <td>NaN</td>\n",
       "      <td>NaN</td>\n",
       "      <td>NaN</td>\n",
       "      <td>NaN</td>\n",
       "      <td>NaN</td>\n",
       "      <td>NaN</td>\n",
       "    </tr>\n",
       "    <tr>\n",
       "      <th>...</th>\n",
       "      <th>...</th>\n",
       "      <td>...</td>\n",
       "      <td>...</td>\n",
       "      <td>...</td>\n",
       "      <td>...</td>\n",
       "      <td>...</td>\n",
       "      <td>...</td>\n",
       "      <td>...</td>\n",
       "      <td>...</td>\n",
       "      <td>...</td>\n",
       "      <td>...</td>\n",
       "      <td>...</td>\n",
       "      <td>...</td>\n",
       "      <td>...</td>\n",
       "      <td>...</td>\n",
       "      <td>...</td>\n",
       "      <td>...</td>\n",
       "      <td>...</td>\n",
       "      <td>...</td>\n",
       "      <td>...</td>\n",
       "      <td>...</td>\n",
       "      <td>...</td>\n",
       "    </tr>\n",
       "    <tr>\n",
       "      <th rowspan=\"5\" valign=\"top\">10.0</th>\n",
       "      <th>9.6</th>\n",
       "      <td>0.892879</td>\n",
       "      <td>0.005973</td>\n",
       "      <td>0.035209</td>\n",
       "      <td>NaN</td>\n",
       "      <td>909.0</td>\n",
       "      <td>NaN</td>\n",
       "      <td>NaN</td>\n",
       "      <td>NaN</td>\n",
       "      <td>NaN</td>\n",
       "      <td>NaN</td>\n",
       "      <td>...</td>\n",
       "      <td>0.009942</td>\n",
       "      <td>NaN</td>\n",
       "      <td>NaN</td>\n",
       "      <td>NaN</td>\n",
       "      <td>NaN</td>\n",
       "      <td>NaN</td>\n",
       "      <td>NaN</td>\n",
       "      <td>NaN</td>\n",
       "      <td>NaN</td>\n",
       "      <td>NaN</td>\n",
       "    </tr>\n",
       "    <tr>\n",
       "      <th>9.7</th>\n",
       "      <td>0.891870</td>\n",
       "      <td>0.005588</td>\n",
       "      <td>0.030404</td>\n",
       "      <td>NaN</td>\n",
       "      <td>908.0</td>\n",
       "      <td>NaN</td>\n",
       "      <td>NaN</td>\n",
       "      <td>NaN</td>\n",
       "      <td>NaN</td>\n",
       "      <td>NaN</td>\n",
       "      <td>...</td>\n",
       "      <td>0.009942</td>\n",
       "      <td>NaN</td>\n",
       "      <td>NaN</td>\n",
       "      <td>NaN</td>\n",
       "      <td>NaN</td>\n",
       "      <td>NaN</td>\n",
       "      <td>NaN</td>\n",
       "      <td>NaN</td>\n",
       "      <td>NaN</td>\n",
       "      <td>NaN</td>\n",
       "    </tr>\n",
       "    <tr>\n",
       "      <th>9.8</th>\n",
       "      <td>0.890725</td>\n",
       "      <td>0.006224</td>\n",
       "      <td>0.037913</td>\n",
       "      <td>NaN</td>\n",
       "      <td>907.0</td>\n",
       "      <td>NaN</td>\n",
       "      <td>NaN</td>\n",
       "      <td>NaN</td>\n",
       "      <td>NaN</td>\n",
       "      <td>NaN</td>\n",
       "      <td>...</td>\n",
       "      <td>0.009942</td>\n",
       "      <td>NaN</td>\n",
       "      <td>NaN</td>\n",
       "      <td>NaN</td>\n",
       "      <td>NaN</td>\n",
       "      <td>NaN</td>\n",
       "      <td>NaN</td>\n",
       "      <td>NaN</td>\n",
       "      <td>NaN</td>\n",
       "      <td>NaN</td>\n",
       "    </tr>\n",
       "    <tr>\n",
       "      <th>9.9</th>\n",
       "      <td>0.889750</td>\n",
       "      <td>0.006621</td>\n",
       "      <td>0.039076</td>\n",
       "      <td>NaN</td>\n",
       "      <td>906.0</td>\n",
       "      <td>NaN</td>\n",
       "      <td>NaN</td>\n",
       "      <td>NaN</td>\n",
       "      <td>NaN</td>\n",
       "      <td>NaN</td>\n",
       "      <td>...</td>\n",
       "      <td>0.009942</td>\n",
       "      <td>NaN</td>\n",
       "      <td>NaN</td>\n",
       "      <td>NaN</td>\n",
       "      <td>NaN</td>\n",
       "      <td>NaN</td>\n",
       "      <td>NaN</td>\n",
       "      <td>NaN</td>\n",
       "      <td>NaN</td>\n",
       "      <td>NaN</td>\n",
       "    </tr>\n",
       "    <tr>\n",
       "      <th>10.0</th>\n",
       "      <td>0.889907</td>\n",
       "      <td>0.005489</td>\n",
       "      <td>0.037329</td>\n",
       "      <td>NaN</td>\n",
       "      <td>906.0</td>\n",
       "      <td>NaN</td>\n",
       "      <td>NaN</td>\n",
       "      <td>NaN</td>\n",
       "      <td>NaN</td>\n",
       "      <td>NaN</td>\n",
       "      <td>...</td>\n",
       "      <td>0.009942</td>\n",
       "      <td>NaN</td>\n",
       "      <td>NaN</td>\n",
       "      <td>NaN</td>\n",
       "      <td>NaN</td>\n",
       "      <td>NaN</td>\n",
       "      <td>NaN</td>\n",
       "      <td>NaN</td>\n",
       "      <td>NaN</td>\n",
       "      <td>NaN</td>\n",
       "    </tr>\n",
       "  </tbody>\n",
       "</table>\n",
       "<p>13921 rows × 34 columns</p>\n",
       "</div>"
      ],
      "text/plain": [
       "                  r      rstd       rMM  error     c0  c1  c2  c3  c4  c5  \\\n",
       "K    m                                                                      \n",
       "0.0  0.0   0.026198  0.014298  0.089169    NaN    NaN NaN NaN NaN NaN NaN   \n",
       "     0.1   0.026197  0.014298  0.089169    NaN    NaN NaN NaN NaN NaN NaN   \n",
       "     0.2   0.026197  0.014298  0.089169    NaN    NaN NaN NaN NaN NaN NaN   \n",
       "     0.3   0.026195  0.014298  0.089169    NaN    NaN NaN NaN NaN NaN NaN   \n",
       "     0.4   0.026192  0.014299  0.089169    NaN    NaN NaN NaN NaN NaN NaN   \n",
       "...             ...       ...       ...    ...    ...  ..  ..  ..  ..  ..   \n",
       "10.0 9.6   0.892879  0.005973  0.035209    NaN  909.0 NaN NaN NaN NaN NaN   \n",
       "     9.7   0.891870  0.005588  0.030404    NaN  908.0 NaN NaN NaN NaN NaN   \n",
       "     9.8   0.890725  0.006224  0.037913    NaN  907.0 NaN NaN NaN NaN NaN   \n",
       "     9.9   0.889750  0.006621  0.039076    NaN  906.0 NaN NaN NaN NaN NaN   \n",
       "     10.0  0.889907  0.005489  0.037329    NaN  906.0 NaN NaN NaN NaN NaN   \n",
       "\n",
       "           ...  c0 omega  c1 omega  c2 omega  c3 omega  c4 omega  c5 omega  \\\n",
       "K    m     ...                                                               \n",
       "0.0  0.0   ...       NaN       NaN       NaN       NaN       NaN       NaN   \n",
       "     0.1   ...       NaN       NaN       NaN       NaN       NaN       NaN   \n",
       "     0.2   ...       NaN       NaN       NaN       NaN       NaN       NaN   \n",
       "     0.3   ...       NaN       NaN       NaN       NaN       NaN       NaN   \n",
       "     0.4   ...       NaN       NaN       NaN       NaN       NaN       NaN   \n",
       "...        ...       ...       ...       ...       ...       ...       ...   \n",
       "10.0 9.6   ...  0.009942       NaN       NaN       NaN       NaN       NaN   \n",
       "     9.7   ...  0.009942       NaN       NaN       NaN       NaN       NaN   \n",
       "     9.8   ...  0.009942       NaN       NaN       NaN       NaN       NaN   \n",
       "     9.9   ...  0.009942       NaN       NaN       NaN       NaN       NaN   \n",
       "     10.0  ...  0.009942       NaN       NaN       NaN       NaN       NaN   \n",
       "\n",
       "           c6 omega  c7 omega  c8 omega  c9 omega  \n",
       "K    m                                             \n",
       "0.0  0.0        NaN       NaN       NaN       NaN  \n",
       "     0.1        NaN       NaN       NaN       NaN  \n",
       "     0.2        NaN       NaN       NaN       NaN  \n",
       "     0.3        NaN       NaN       NaN       NaN  \n",
       "     0.4        NaN       NaN       NaN       NaN  \n",
       "...             ...       ...       ...       ...  \n",
       "10.0 9.6        NaN       NaN       NaN       NaN  \n",
       "     9.7        NaN       NaN       NaN       NaN  \n",
       "     9.8        NaN       NaN       NaN       NaN  \n",
       "     9.9        NaN       NaN       NaN       NaN  \n",
       "     10.0       NaN       NaN       NaN       NaN  \n",
       "\n",
       "[13921 rows x 34 columns]"
      ]
     },
     "execution_count": 33,
     "metadata": {},
     "output_type": "execute_result"
    }
   ],
   "source": [
    "df_Km.sort_index()"
   ]
  },
  {
   "cell_type": "code",
   "execution_count": 12,
   "metadata": {},
   "outputs": [],
   "source": [
    "df_Km.sort_index().to_excel(f'N = {N} Q_Normal seed = {seed} dt = {dt} 230821 ver3.xlsm')"
   ]
  },
  {
   "cell_type": "code",
   "execution_count": 8,
   "metadata": {},
   "outputs": [
    {
     "data": {
      "text/plain": [
       "'N = 500 Q_Normal seed = 10 dt = 0.1 230821 ver3.xlsm'"
      ]
     },
     "execution_count": 8,
     "metadata": {},
     "output_type": "execute_result"
    }
   ],
   "source": [
    "f'N = {N} Q_Normal seed = {seed} dt = {dt} 230821 ver3.xlsm'"
   ]
  },
  {
   "cell_type": "code",
   "execution_count": 10,
   "metadata": {},
   "outputs": [
    {
     "data": {
      "text/plain": [
       "'N = 500 seed = 10 dt = 0.1 230720 ver3.xlsm'"
      ]
     },
     "execution_count": 10,
     "metadata": {},
     "output_type": "execute_result"
    }
   ],
   "source": [
    "f'N = {N} seed = {seed} dt = {dt} 230720 ver3.xlsm'"
   ]
  },
  {
   "cell_type": "code",
   "execution_count": null,
   "metadata": {},
   "outputs": [],
   "source": [
    "for seed in [10]:\n",
    "    dK = 0.1\n",
    "    dm = 0.1\n",
    "    N = 500\n",
    "\n",
    "    theta_init,omega,Kc = Normal(N,0,1,seed=seed)\n",
    "    K_set = np.arange(0,5,dK).reshape(-1,1)\n",
    "\n",
    "    N_set = len(K_set)\n",
    "    omega = np.sort(omega) - np.mean(omega)\n",
    "    ms = np.arange(0,10+dm/2,dm)\n",
    "    m_set = []\n",
    "    core = 8\n",
    "    index_ = 0\n",
    "    for i in range(len(ms)//core +1):\n",
    "        m_set.append(ms[index_:index_+core])\n",
    "        index_ += core\n",
    "    core_set = [len(ms) for ms in m_set]\n",
    "    N_set = len(K_set)\n",
    "    theta_init_set = (np.ones((N_set,1))*theta_init)\n",
    "    pdtheta_set = 0*(np.ones((N_set,1))*omega)\n",
    "    omega_set = (np.ones((N_set,1))*omega)\n",
    "    core_set\n",
    "    cols ={'r':[0],'rstd':[0],'rMM':[0],'error':[0]}\n",
    "    for i in range(10):\n",
    "        cols[f'c{i}'] = np.nan\n",
    "    for i in range(10):\n",
    "        cols[f'c{i} phase vel'] = np.nan\n",
    "    for i in range(10):\n",
    "        cols[f'c{i} omega'] = np.nan\n",
    "\n",
    "    cols['K'] = K_set.reshape(-1)[0]\n",
    "    cols['m'] = ms[0]\n",
    "    df = pd.DataFrame(cols)\n",
    "    df_Km = df.set_index(['K','m'])\n",
    "    for core,ms in tqdm(list(zip(core_set,m_set))):pass\n",
    "    for core,ms in zip(core_set,m_set):\n",
    "        for m,(r,rstd,rMM,CSMP_set,CSMO_set,error_set,C_s_set,C_e_set) in zip(ms,parmap.map(C_rsmso_set_new,ms,K_set=K_set,N=N,theta_init_set=theta_init_set,\n",
    "                                                            omega_set=omega_set,pdtheta_set = pdtheta_set,t_end=2000,dt=0.1,\n",
    "                                                            pm_pbar=True, pm_processes=core)):\n",
    "            for i,K in enumerate(K_set.reshape(-1)):\n",
    "                df_Km.loc[(K,m),\"r\"] = r[i]\n",
    "                df_Km.loc[(K,m),\"rstd\"] = rstd[i]\n",
    "                df_Km.loc[(K,m),\"rMM\"] = rMM[i]\n",
    "                df_Km.loc[(K,m),'error'] = error_set[i]\n",
    "                CSMP = CSMP_set[i]\n",
    "                CSMO = CSMO_set[i]\n",
    "                for i in range(len(CSMP_set[i])):\n",
    "                        df_Km.loc[(K,m),f'c{i}'] = CSMP['cluster size'][i]\n",
    "                        df_Km.loc[(K,m),f'c{i} phase vel'] = CSMP['cluster mean phase velocity'][i]\n",
    "                        df_Km.loc[(K,m),f'c{i} omega'] = CSMO['cluster mean natural frequency'][i]\n",
    "    K_set = np.arange(5,10+dK/2,dK).reshape(-1,1)\n",
    "    N_set = len(K_set)\n",
    "    omega = np.sort(omega) - np.mean(omega)\n",
    "    ms = np.arange(0,10+dm/2,dm)\n",
    "    m_set = []\n",
    "    core = 8\n",
    "    index_ = 0\n",
    "    for i in range(len(ms)//core +1):\n",
    "        m_set.append(ms[index_:index_+core])\n",
    "        index_ += core\n",
    "    core_set = [len(ms) for ms in m_set]\n",
    "    N_set = len(K_set)\n",
    "    theta_init_set = (np.ones((N_set,1))*theta_init)\n",
    "    pdtheta_set = 0*(np.ones((N_set,1))*omega)\n",
    "    omega_set = (np.ones((N_set,1))*omega)\n",
    "    for core,ms in zip(core_set,m_set):\n",
    "        for m,(r,rstd,rMM,CSMP_set,CSMO_set,error_set,C_s_set,C_e_set) in zip(ms,parmap.map(C_rsmso_set_new,ms,K_set=K_set,N=N,theta_init_set=theta_init_set,\n",
    "                                                            omega_set=omega_set,pdtheta_set = pdtheta_set,t_end=2000,dt=0.1,\n",
    "                                                            pm_pbar=True, pm_processes=core)):\n",
    "            for i,K in enumerate(K_set.reshape(-1)):\n",
    "                df_Km.loc[(K,m),\"r\"] = r[i]\n",
    "                df_Km.loc[(K,m),\"rstd\"] = rstd[i]\n",
    "                df_Km.loc[(K,m),\"rMM\"] = rMM[i]\n",
    "                df_Km.loc[(K,m),'error'] = error_set[i]\n",
    "                CSMP = CSMP_set[i]\n",
    "                CSMO = CSMO_set[i]\n",
    "                for i in range(len(CSMP_set[i])):\n",
    "                        df_Km.loc[(K,m),f'c{i}'] = CSMP['cluster size'][i]\n",
    "                        df_Km.loc[(K,m),f'c{i} phase vel'] = CSMP['cluster mean phase velocity'][i]\n",
    "                        df_Km.loc[(K,m),f'c{i} omega'] = CSMO['cluster mean natural frequency'][i]\n",
    "    df_Km.sort_index().to_excel(f'N = {N} seed = {seed} test 230708 ver3.xlsm')\n"
   ]
  },
  {
   "cell_type": "code",
   "execution_count": null,
   "metadata": {},
   "outputs": [],
   "source": []
  }
 ],
 "metadata": {
  "kernelspec": {
   "display_name": "Python 3",
   "language": "python",
   "name": "python3"
  },
  "language_info": {
   "codemirror_mode": {
    "name": "ipython",
    "version": 3
   },
   "file_extension": ".py",
   "mimetype": "text/x-python",
   "name": "python",
   "nbconvert_exporter": "python",
   "pygments_lexer": "ipython3",
   "version": "3.11.1"
  },
  "orig_nbformat": 4
 },
 "nbformat": 4,
 "nbformat_minor": 2
}
