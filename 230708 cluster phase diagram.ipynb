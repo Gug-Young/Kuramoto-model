{
 "cells": [
  {
   "cell_type": "code",
   "execution_count": 1,
   "metadata": {},
   "outputs": [],
   "source": [
    "import numpy as np\n",
    "import matplotlib.pyplot as plt\n",
    "import pandas as pd\n",
    "\n",
    "from TO_sim.Sol_Kuramoto import Sol_Kuramoto_mf2 as mf2\n",
    "from TO_sim.Sol_Kuramoto import Sol_Kuramoto_mf2_sets as mf2_sets\n",
    "from TO_sim.get_cluster import C_rsmso,cluster_os,C_rsmso_set_new\n",
    "from TO_sim.To_Draw import Draw_avg_vel_r\n",
    "\n",
    "from TO_sim.gen_Distribution import Normal\n",
    "from TO_sim.gen_Distribution import Quantile_Normal as Q_Normal\n",
    "import parmap\n",
    "from scipy.signal import find_peaks\n",
    "from TO_sim.To_Draw import Draw_avg_vel_r\n",
    "from tqdm.notebook import tqdm\n"
   ]
  },
  {
   "cell_type": "code",
   "execution_count": 2,
   "metadata": {},
   "outputs": [],
   "source": [
    "import warnings\n",
    "warnings.filterwarnings(\"ignore\", category=np.VisibleDeprecationWarning) "
   ]
  },
  {
   "cell_type": "code",
   "execution_count": 19,
   "metadata": {},
   "outputs": [],
   "source": [
    "dK = 0.1\n",
    "dm = 0.1\n",
    "N = 1000\n",
    "seed = 10\n",
    "dt = 0.1\n",
    "theta_init,omega,Kc = Q_Normal(N,0,1,seed=seed)\n",
    "K_set = np.arange(0,5,dK).reshape(-1,1)\n",
    "\n",
    "N_set = len(K_set)\n",
    "omega = np.sort(omega) - np.mean(omega)\n",
    "ms = np.arange(0,10+dm/2,dm)\n",
    "m_set = []\n",
    "core = 8\n",
    "index_ = 0\n",
    "for i in range(len(ms)//core +1):\n",
    "    m_set.append(ms[index_:index_+core])\n",
    "    index_ += core\n",
    "core_set = [len(ms) for ms in m_set]\n",
    "N_set = len(K_set)\n",
    "theta_init_set = (np.ones((N_set,1))*theta_init)\n",
    "pdtheta_set = 0*(np.ones((N_set,1))*omega)\n",
    "omega_set = (np.ones((N_set,1))*omega)"
   ]
  },
  {
   "cell_type": "code",
   "execution_count": 4,
   "metadata": {},
   "outputs": [
    {
     "data": {
      "text/plain": [
       "[8, 8, 8, 8, 8, 8, 8, 8, 8, 8, 8, 8, 5]"
      ]
     },
     "execution_count": 4,
     "metadata": {},
     "output_type": "execute_result"
    }
   ],
   "source": [
    "core_set"
   ]
  },
  {
   "cell_type": "code",
   "execution_count": 20,
   "metadata": {},
   "outputs": [],
   "source": [
    "cols ={'r':[0],'rstd':[0],'rMM':[0],'error':[0]}\n",
    "for i in range(10):\n",
    "    cols[f'c{i}'] = np.nan\n",
    "for i in range(10):\n",
    "    cols[f'c{i} phase vel'] = np.nan\n",
    "for i in range(10):\n",
    "    cols[f'c{i} omega'] = np.nan\n",
    "\n",
    "cols['K'] = K_set.reshape(-1)[0]\n",
    "cols['m'] = ms[0]\n",
    "df = pd.DataFrame(cols)\n",
    "df_Km = df.set_index(['K','m'])"
   ]
  },
  {
   "cell_type": "code",
   "execution_count": 21,
   "metadata": {},
   "outputs": [
    {
     "data": {
      "application/vnd.jupyter.widget-view+json": {
       "model_id": "cdf4ee0aaf9749998ac89b669686b5f7",
       "version_major": 2,
       "version_minor": 0
      },
      "text/plain": [
       "  0%|          | 0/8 [00:00<?, ?it/s]"
      ]
     },
     "metadata": {},
     "output_type": "display_data"
    },
    {
     "data": {
      "application/vnd.jupyter.widget-view+json": {
       "model_id": "e53dfedca6814dc38080b0366cd3b0b6",
       "version_major": 2,
       "version_minor": 0
      },
      "text/plain": [
       "  0%|          | 0/8 [00:00<?, ?it/s]"
      ]
     },
     "metadata": {},
     "output_type": "display_data"
    },
    {
     "data": {
      "application/vnd.jupyter.widget-view+json": {
       "model_id": "b7662d2d57c648fe9b8499328b0e60fd",
       "version_major": 2,
       "version_minor": 0
      },
      "text/plain": [
       "  0%|          | 0/8 [00:00<?, ?it/s]"
      ]
     },
     "metadata": {},
     "output_type": "display_data"
    },
    {
     "data": {
      "application/vnd.jupyter.widget-view+json": {
       "model_id": "6056a34dbcc740c687098e55840da663",
       "version_major": 2,
       "version_minor": 0
      },
      "text/plain": [
       "  0%|          | 0/8 [00:00<?, ?it/s]"
      ]
     },
     "metadata": {},
     "output_type": "display_data"
    },
    {
     "data": {
      "application/vnd.jupyter.widget-view+json": {
       "model_id": "b9d878f18e5643aeb9abca441d5c2843",
       "version_major": 2,
       "version_minor": 0
      },
      "text/plain": [
       "  0%|          | 0/8 [00:00<?, ?it/s]"
      ]
     },
     "metadata": {},
     "output_type": "display_data"
    },
    {
     "data": {
      "application/vnd.jupyter.widget-view+json": {
       "model_id": "f595f744cdba478293cc99403a68fb3f",
       "version_major": 2,
       "version_minor": 0
      },
      "text/plain": [
       "  0%|          | 0/8 [00:00<?, ?it/s]"
      ]
     },
     "metadata": {},
     "output_type": "display_data"
    }
   ],
   "source": [
    "for core,ms in zip(core_set,m_set):\n",
    "    for m,(r,rstd,rMM,CSMP_set,CSMO_set,error_set,C_s_set,C_e_set) in zip(ms,parmap.map(C_rsmso_set_new,ms,K_set=K_set,N=N,theta_init_set=theta_init_set,\n",
    "                                                        omega_set=omega_set,pdtheta_set = pdtheta_set,t_end=3000,dt=dt,\n",
    "                                                        pm_pbar=True, pm_processes=core)):\n",
    "        for i,K in enumerate(K_set.reshape(-1)):\n",
    "            df_Km.loc[(K,m),\"r\"] = r[i]\n",
    "            df_Km.loc[(K,m),\"rstd\"] = rstd[i]\n",
    "            df_Km.loc[(K,m),\"rMM\"] = rMM[i]\n",
    "            df_Km.loc[(K,m),'error'] = error_set[i]\n",
    "            CSMP = CSMP_set[i]\n",
    "            CSMO = CSMO_set[i]\n",
    "            for i in range(len(CSMP_set[i])):\n",
    "                    df_Km.loc[(K,m),f'c{i}'] = CSMP['cluster size'][i]\n",
    "                    df_Km.loc[(K,m),f'c{i} phase vel'] = CSMP['cluster mean phase velocity'][i]\n",
    "                    df_Km.loc[(K,m),f'c{i} omega'] = CSMO['cluster mean natural frequency'][i]"
   ]
  },
  {
   "cell_type": "code",
   "execution_count": 17,
   "metadata": {},
   "outputs": [
    {
     "ename": "AttributeError",
     "evalue": "'DataFrame' object has no attribute 'sort'",
     "output_type": "error",
     "traceback": [
      "\u001b[0;31m---------------------------------------------------------------------------\u001b[0m",
      "\u001b[0;31mAttributeError\u001b[0m                            Traceback (most recent call last)",
      "Cell \u001b[0;32mIn[17], line 1\u001b[0m\n\u001b[0;32m----> 1\u001b[0m df_Km\u001b[39m.\u001b[39;49msort()\n",
      "File \u001b[0;32m/Library/Frameworks/Python.framework/Versions/3.11/lib/python3.11/site-packages/pandas/core/generic.py:5902\u001b[0m, in \u001b[0;36mNDFrame.__getattr__\u001b[0;34m(self, name)\u001b[0m\n\u001b[1;32m   5895\u001b[0m \u001b[39mif\u001b[39;00m (\n\u001b[1;32m   5896\u001b[0m     name \u001b[39mnot\u001b[39;00m \u001b[39min\u001b[39;00m \u001b[39mself\u001b[39m\u001b[39m.\u001b[39m_internal_names_set\n\u001b[1;32m   5897\u001b[0m     \u001b[39mand\u001b[39;00m name \u001b[39mnot\u001b[39;00m \u001b[39min\u001b[39;00m \u001b[39mself\u001b[39m\u001b[39m.\u001b[39m_metadata\n\u001b[1;32m   5898\u001b[0m     \u001b[39mand\u001b[39;00m name \u001b[39mnot\u001b[39;00m \u001b[39min\u001b[39;00m \u001b[39mself\u001b[39m\u001b[39m.\u001b[39m_accessors\n\u001b[1;32m   5899\u001b[0m     \u001b[39mand\u001b[39;00m \u001b[39mself\u001b[39m\u001b[39m.\u001b[39m_info_axis\u001b[39m.\u001b[39m_can_hold_identifiers_and_holds_name(name)\n\u001b[1;32m   5900\u001b[0m ):\n\u001b[1;32m   5901\u001b[0m     \u001b[39mreturn\u001b[39;00m \u001b[39mself\u001b[39m[name]\n\u001b[0;32m-> 5902\u001b[0m \u001b[39mreturn\u001b[39;00m \u001b[39mobject\u001b[39;49m\u001b[39m.\u001b[39;49m\u001b[39m__getattribute__\u001b[39;49m(\u001b[39mself\u001b[39;49m, name)\n",
      "\u001b[0;31mAttributeError\u001b[0m: 'DataFrame' object has no attribute 'sort'"
     ]
    }
   ],
   "source": [
    "df_Km.sort()"
   ]
  },
  {
   "cell_type": "code",
   "execution_count": 6,
   "metadata": {},
   "outputs": [
    {
     "data": {
      "application/vnd.jupyter.widget-view+json": {
       "model_id": "31dc5b1c344e42e1a19eb229cf007766",
       "version_major": 2,
       "version_minor": 0
      },
      "text/plain": [
       "  0%|          | 0/8 [00:00<?, ?it/s]"
      ]
     },
     "metadata": {},
     "output_type": "display_data"
    },
    {
     "data": {
      "application/vnd.jupyter.widget-view+json": {
       "model_id": "7136991a65414aec90c43138d053deb4",
       "version_major": 2,
       "version_minor": 0
      },
      "text/plain": [
       "  0%|          | 0/8 [00:00<?, ?it/s]"
      ]
     },
     "metadata": {},
     "output_type": "display_data"
    },
    {
     "data": {
      "application/vnd.jupyter.widget-view+json": {
       "model_id": "62f8907ece4d45cba6c454c2562fac1f",
       "version_major": 2,
       "version_minor": 0
      },
      "text/plain": [
       "  0%|          | 0/8 [00:00<?, ?it/s]"
      ]
     },
     "metadata": {},
     "output_type": "display_data"
    },
    {
     "data": {
      "application/vnd.jupyter.widget-view+json": {
       "model_id": "bab08f7c32624a4fab6c6b6f1be61b1d",
       "version_major": 2,
       "version_minor": 0
      },
      "text/plain": [
       "  0%|          | 0/8 [00:00<?, ?it/s]"
      ]
     },
     "metadata": {},
     "output_type": "display_data"
    },
    {
     "data": {
      "application/vnd.jupyter.widget-view+json": {
       "model_id": "ad2d2374bc5e4c7d99c3d45cacfcd4fd",
       "version_major": 2,
       "version_minor": 0
      },
      "text/plain": [
       "  0%|          | 0/8 [00:00<?, ?it/s]"
      ]
     },
     "metadata": {},
     "output_type": "display_data"
    },
    {
     "data": {
      "application/vnd.jupyter.widget-view+json": {
       "model_id": "aaded067fc9a456fbdb823c946b987b4",
       "version_major": 2,
       "version_minor": 0
      },
      "text/plain": [
       "  0%|          | 0/8 [00:00<?, ?it/s]"
      ]
     },
     "metadata": {},
     "output_type": "display_data"
    },
    {
     "data": {
      "application/vnd.jupyter.widget-view+json": {
       "model_id": "c97b5b866142491d9c484929d1dc3a0f",
       "version_major": 2,
       "version_minor": 0
      },
      "text/plain": [
       "  0%|          | 0/8 [00:00<?, ?it/s]"
      ]
     },
     "metadata": {},
     "output_type": "display_data"
    },
    {
     "data": {
      "application/vnd.jupyter.widget-view+json": {
       "model_id": "9260735508a64d34a1a7a7d2f99c2b0e",
       "version_major": 2,
       "version_minor": 0
      },
      "text/plain": [
       "  0%|          | 0/8 [00:00<?, ?it/s]"
      ]
     },
     "metadata": {},
     "output_type": "display_data"
    },
    {
     "data": {
      "application/vnd.jupyter.widget-view+json": {
       "model_id": "5ab11ce99254456183996966c16ef474",
       "version_major": 2,
       "version_minor": 0
      },
      "text/plain": [
       "  0%|          | 0/8 [00:00<?, ?it/s]"
      ]
     },
     "metadata": {},
     "output_type": "display_data"
    },
    {
     "data": {
      "application/vnd.jupyter.widget-view+json": {
       "model_id": "7022c4ec848f4423a5451ca39cf1bd20",
       "version_major": 2,
       "version_minor": 0
      },
      "text/plain": [
       "  0%|          | 0/8 [00:00<?, ?it/s]"
      ]
     },
     "metadata": {},
     "output_type": "display_data"
    },
    {
     "data": {
      "application/vnd.jupyter.widget-view+json": {
       "model_id": "29815a2129064c478fe6d74b6ee382d3",
       "version_major": 2,
       "version_minor": 0
      },
      "text/plain": [
       "  0%|          | 0/8 [00:00<?, ?it/s]"
      ]
     },
     "metadata": {},
     "output_type": "display_data"
    },
    {
     "data": {
      "application/vnd.jupyter.widget-view+json": {
       "model_id": "4cfd99e3c6f84f829c5bb460745da4d4",
       "version_major": 2,
       "version_minor": 0
      },
      "text/plain": [
       "  0%|          | 0/8 [00:00<?, ?it/s]"
      ]
     },
     "metadata": {},
     "output_type": "display_data"
    },
    {
     "data": {
      "application/vnd.jupyter.widget-view+json": {
       "model_id": "47b6b770d9f8443281687c0c88eb2317",
       "version_major": 2,
       "version_minor": 0
      },
      "text/plain": [
       "  0%|          | 0/5 [00:00<?, ?it/s]"
      ]
     },
     "metadata": {},
     "output_type": "display_data"
    }
   ],
   "source": [
    "K_set = np.arange(5,10+dK/2,dK).reshape(-1,1)\n",
    "N_set = len(K_set)\n",
    "omega = np.sort(omega) - np.mean(omega)\n",
    "ms = np.arange(0,10+dm/2,dm)\n",
    "m_set = []\n",
    "core = 8\n",
    "index_ = 0\n",
    "for i in range(len(ms)//core +1):\n",
    "    m_set.append(ms[index_:index_+core])\n",
    "    index_ += core\n",
    "core_set = [len(ms) for ms in m_set]\n",
    "N_set = len(K_set)\n",
    "theta_init_set = (np.ones((N_set,1))*theta_init)\n",
    "pdtheta_set = 0*(np.ones((N_set,1))*omega)\n",
    "omega_set = (np.ones((N_set,1))*omega)\n",
    "for core,ms in zip(core_set,m_set):\n",
    "    for m,(r,rstd,rMM,CSMP_set,CSMO_set,error_set,C_s_set,C_e_set) in zip(ms,parmap.map(C_rsmso_set_new,ms,K_set=K_set,N=N,theta_init_set=theta_init_set,\n",
    "                                                        omega_set=omega_set,pdtheta_set = pdtheta_set,t_end=2000,dt=dt,\n",
    "                                                        pm_pbar=True, pm_processes=core)):\n",
    "        for i,K in enumerate(K_set.reshape(-1)):\n",
    "            df_Km.loc[(K,m),\"r\"] = r[i]\n",
    "            df_Km.loc[(K,m),\"rstd\"] = rstd[i]\n",
    "            df_Km.loc[(K,m),\"rMM\"] = rMM[i]\n",
    "            df_Km.loc[(K,m),'error'] = error_set[i]\n",
    "            CSMP = CSMP_set[i]\n",
    "            CSMO = CSMO_set[i]\n",
    "            for i in range(len(CSMP_set[i])):\n",
    "                    df_Km.loc[(K,m),f'c{i}'] = CSMP['cluster size'][i]\n",
    "                    df_Km.loc[(K,m),f'c{i} phase vel'] = CSMP['cluster mean phase velocity'][i]\n",
    "                    df_Km.loc[(K,m),f'c{i} omega'] = CSMO['cluster mean natural frequency'][i]"
   ]
  },
  {
   "cell_type": "code",
   "execution_count": 18,
   "metadata": {},
   "outputs": [
    {
     "data": {
      "text/plain": [
       "'N = 500 seed = 10 test dt = 0.1 230708 ver3.xlsm'"
      ]
     },
     "execution_count": 18,
     "metadata": {},
     "output_type": "execute_result"
    }
   ],
   "source": [
    "f'N = {N} seed = {seed} dt = {dt} 230708 ver3.xlsm'"
   ]
  },
  {
   "cell_type": "code",
   "execution_count": 18,
   "metadata": {},
   "outputs": [
    {
     "data": {
      "text/html": [
       "<div>\n",
       "<style scoped>\n",
       "    .dataframe tbody tr th:only-of-type {\n",
       "        vertical-align: middle;\n",
       "    }\n",
       "\n",
       "    .dataframe tbody tr th {\n",
       "        vertical-align: top;\n",
       "    }\n",
       "\n",
       "    .dataframe thead th {\n",
       "        text-align: right;\n",
       "    }\n",
       "</style>\n",
       "<table border=\"1\" class=\"dataframe\">\n",
       "  <thead>\n",
       "    <tr style=\"text-align: right;\">\n",
       "      <th></th>\n",
       "      <th></th>\n",
       "      <th>r</th>\n",
       "      <th>rstd</th>\n",
       "      <th>rMM</th>\n",
       "      <th>error</th>\n",
       "      <th>c0</th>\n",
       "      <th>c1</th>\n",
       "      <th>c2</th>\n",
       "      <th>c3</th>\n",
       "      <th>c4</th>\n",
       "      <th>c5</th>\n",
       "      <th>...</th>\n",
       "      <th>c0 omega</th>\n",
       "      <th>c1 omega</th>\n",
       "      <th>c2 omega</th>\n",
       "      <th>c3 omega</th>\n",
       "      <th>c4 omega</th>\n",
       "      <th>c5 omega</th>\n",
       "      <th>c6 omega</th>\n",
       "      <th>c7 omega</th>\n",
       "      <th>c8 omega</th>\n",
       "      <th>c9 omega</th>\n",
       "    </tr>\n",
       "    <tr>\n",
       "      <th>K</th>\n",
       "      <th>m</th>\n",
       "      <th></th>\n",
       "      <th></th>\n",
       "      <th></th>\n",
       "      <th></th>\n",
       "      <th></th>\n",
       "      <th></th>\n",
       "      <th></th>\n",
       "      <th></th>\n",
       "      <th></th>\n",
       "      <th></th>\n",
       "      <th></th>\n",
       "      <th></th>\n",
       "      <th></th>\n",
       "      <th></th>\n",
       "      <th></th>\n",
       "      <th></th>\n",
       "      <th></th>\n",
       "      <th></th>\n",
       "      <th></th>\n",
       "      <th></th>\n",
       "      <th></th>\n",
       "    </tr>\n",
       "  </thead>\n",
       "  <tbody>\n",
       "    <tr>\n",
       "      <th rowspan=\"5\" valign=\"top\">0.0</th>\n",
       "      <th>0.0</th>\n",
       "      <td>0.042354</td>\n",
       "      <td>0.018785</td>\n",
       "      <td>0.091731</td>\n",
       "      <td>NaN</td>\n",
       "      <td>NaN</td>\n",
       "      <td>NaN</td>\n",
       "      <td>NaN</td>\n",
       "      <td>NaN</td>\n",
       "      <td>NaN</td>\n",
       "      <td>NaN</td>\n",
       "      <td>...</td>\n",
       "      <td>NaN</td>\n",
       "      <td>NaN</td>\n",
       "      <td>NaN</td>\n",
       "      <td>NaN</td>\n",
       "      <td>NaN</td>\n",
       "      <td>NaN</td>\n",
       "      <td>NaN</td>\n",
       "      <td>NaN</td>\n",
       "      <td>NaN</td>\n",
       "      <td>NaN</td>\n",
       "    </tr>\n",
       "    <tr>\n",
       "      <th>0.1</th>\n",
       "      <td>0.042346</td>\n",
       "      <td>0.018787</td>\n",
       "      <td>0.091731</td>\n",
       "      <td>NaN</td>\n",
       "      <td>NaN</td>\n",
       "      <td>NaN</td>\n",
       "      <td>NaN</td>\n",
       "      <td>NaN</td>\n",
       "      <td>NaN</td>\n",
       "      <td>NaN</td>\n",
       "      <td>...</td>\n",
       "      <td>NaN</td>\n",
       "      <td>NaN</td>\n",
       "      <td>NaN</td>\n",
       "      <td>NaN</td>\n",
       "      <td>NaN</td>\n",
       "      <td>NaN</td>\n",
       "      <td>NaN</td>\n",
       "      <td>NaN</td>\n",
       "      <td>NaN</td>\n",
       "      <td>NaN</td>\n",
       "    </tr>\n",
       "    <tr>\n",
       "      <th>0.2</th>\n",
       "      <td>0.042334</td>\n",
       "      <td>0.018789</td>\n",
       "      <td>0.091731</td>\n",
       "      <td>NaN</td>\n",
       "      <td>NaN</td>\n",
       "      <td>NaN</td>\n",
       "      <td>NaN</td>\n",
       "      <td>NaN</td>\n",
       "      <td>NaN</td>\n",
       "      <td>NaN</td>\n",
       "      <td>...</td>\n",
       "      <td>NaN</td>\n",
       "      <td>NaN</td>\n",
       "      <td>NaN</td>\n",
       "      <td>NaN</td>\n",
       "      <td>NaN</td>\n",
       "      <td>NaN</td>\n",
       "      <td>NaN</td>\n",
       "      <td>NaN</td>\n",
       "      <td>NaN</td>\n",
       "      <td>NaN</td>\n",
       "    </tr>\n",
       "    <tr>\n",
       "      <th>0.3</th>\n",
       "      <td>0.042320</td>\n",
       "      <td>0.018792</td>\n",
       "      <td>0.091731</td>\n",
       "      <td>NaN</td>\n",
       "      <td>NaN</td>\n",
       "      <td>NaN</td>\n",
       "      <td>NaN</td>\n",
       "      <td>NaN</td>\n",
       "      <td>NaN</td>\n",
       "      <td>NaN</td>\n",
       "      <td>...</td>\n",
       "      <td>NaN</td>\n",
       "      <td>NaN</td>\n",
       "      <td>NaN</td>\n",
       "      <td>NaN</td>\n",
       "      <td>NaN</td>\n",
       "      <td>NaN</td>\n",
       "      <td>NaN</td>\n",
       "      <td>NaN</td>\n",
       "      <td>NaN</td>\n",
       "      <td>NaN</td>\n",
       "    </tr>\n",
       "    <tr>\n",
       "      <th>0.4</th>\n",
       "      <td>0.042306</td>\n",
       "      <td>0.018794</td>\n",
       "      <td>0.091731</td>\n",
       "      <td>NaN</td>\n",
       "      <td>NaN</td>\n",
       "      <td>NaN</td>\n",
       "      <td>NaN</td>\n",
       "      <td>NaN</td>\n",
       "      <td>NaN</td>\n",
       "      <td>NaN</td>\n",
       "      <td>...</td>\n",
       "      <td>NaN</td>\n",
       "      <td>NaN</td>\n",
       "      <td>NaN</td>\n",
       "      <td>NaN</td>\n",
       "      <td>NaN</td>\n",
       "      <td>NaN</td>\n",
       "      <td>NaN</td>\n",
       "      <td>NaN</td>\n",
       "      <td>NaN</td>\n",
       "      <td>NaN</td>\n",
       "    </tr>\n",
       "    <tr>\n",
       "      <th>...</th>\n",
       "      <th>...</th>\n",
       "      <td>...</td>\n",
       "      <td>...</td>\n",
       "      <td>...</td>\n",
       "      <td>...</td>\n",
       "      <td>...</td>\n",
       "      <td>...</td>\n",
       "      <td>...</td>\n",
       "      <td>...</td>\n",
       "      <td>...</td>\n",
       "      <td>...</td>\n",
       "      <td>...</td>\n",
       "      <td>...</td>\n",
       "      <td>...</td>\n",
       "      <td>...</td>\n",
       "      <td>...</td>\n",
       "      <td>...</td>\n",
       "      <td>...</td>\n",
       "      <td>...</td>\n",
       "      <td>...</td>\n",
       "      <td>...</td>\n",
       "      <td>...</td>\n",
       "    </tr>\n",
       "    <tr>\n",
       "      <th rowspan=\"5\" valign=\"top\">10.0</th>\n",
       "      <th>9.6</th>\n",
       "      <td>0.806193</td>\n",
       "      <td>0.062233</td>\n",
       "      <td>0.197309</td>\n",
       "      <td>NaN</td>\n",
       "      <td>417.0</td>\n",
       "      <td>28.0</td>\n",
       "      <td>22.0</td>\n",
       "      <td>NaN</td>\n",
       "      <td>NaN</td>\n",
       "      <td>NaN</td>\n",
       "      <td>...</td>\n",
       "      <td>-0.040027</td>\n",
       "      <td>1.535441</td>\n",
       "      <td>-1.577685</td>\n",
       "      <td>NaN</td>\n",
       "      <td>NaN</td>\n",
       "      <td>NaN</td>\n",
       "      <td>NaN</td>\n",
       "      <td>NaN</td>\n",
       "      <td>NaN</td>\n",
       "      <td>NaN</td>\n",
       "    </tr>\n",
       "    <tr>\n",
       "      <th>9.7</th>\n",
       "      <td>0.801457</td>\n",
       "      <td>0.063791</td>\n",
       "      <td>0.203774</td>\n",
       "      <td>NaN</td>\n",
       "      <td>415.0</td>\n",
       "      <td>28.0</td>\n",
       "      <td>23.0</td>\n",
       "      <td>NaN</td>\n",
       "      <td>NaN</td>\n",
       "      <td>NaN</td>\n",
       "      <td>...</td>\n",
       "      <td>-0.040027</td>\n",
       "      <td>1.504645</td>\n",
       "      <td>-1.569878</td>\n",
       "      <td>NaN</td>\n",
       "      <td>NaN</td>\n",
       "      <td>NaN</td>\n",
       "      <td>NaN</td>\n",
       "      <td>NaN</td>\n",
       "      <td>NaN</td>\n",
       "      <td>NaN</td>\n",
       "    </tr>\n",
       "    <tr>\n",
       "      <th>9.8</th>\n",
       "      <td>0.807222</td>\n",
       "      <td>0.062646</td>\n",
       "      <td>0.204616</td>\n",
       "      <td>NaN</td>\n",
       "      <td>417.0</td>\n",
       "      <td>28.0</td>\n",
       "      <td>22.0</td>\n",
       "      <td>NaN</td>\n",
       "      <td>NaN</td>\n",
       "      <td>NaN</td>\n",
       "      <td>...</td>\n",
       "      <td>-0.040027</td>\n",
       "      <td>1.535441</td>\n",
       "      <td>-1.577685</td>\n",
       "      <td>NaN</td>\n",
       "      <td>NaN</td>\n",
       "      <td>NaN</td>\n",
       "      <td>NaN</td>\n",
       "      <td>NaN</td>\n",
       "      <td>NaN</td>\n",
       "      <td>NaN</td>\n",
       "    </tr>\n",
       "    <tr>\n",
       "      <th>9.9</th>\n",
       "      <td>0.804293</td>\n",
       "      <td>0.062826</td>\n",
       "      <td>0.205518</td>\n",
       "      <td>NaN</td>\n",
       "      <td>416.0</td>\n",
       "      <td>29.0</td>\n",
       "      <td>21.0</td>\n",
       "      <td>NaN</td>\n",
       "      <td>NaN</td>\n",
       "      <td>NaN</td>\n",
       "      <td>...</td>\n",
       "      <td>-0.040027</td>\n",
       "      <td>1.513667</td>\n",
       "      <td>-1.567756</td>\n",
       "      <td>NaN</td>\n",
       "      <td>NaN</td>\n",
       "      <td>NaN</td>\n",
       "      <td>NaN</td>\n",
       "      <td>NaN</td>\n",
       "      <td>NaN</td>\n",
       "      <td>NaN</td>\n",
       "    </tr>\n",
       "    <tr>\n",
       "      <th>10.0</th>\n",
       "      <td>0.807415</td>\n",
       "      <td>0.060879</td>\n",
       "      <td>0.198382</td>\n",
       "      <td>NaN</td>\n",
       "      <td>417.0</td>\n",
       "      <td>28.0</td>\n",
       "      <td>21.0</td>\n",
       "      <td>NaN</td>\n",
       "      <td>NaN</td>\n",
       "      <td>NaN</td>\n",
       "      <td>...</td>\n",
       "      <td>-0.040027</td>\n",
       "      <td>1.504645</td>\n",
       "      <td>-1.593635</td>\n",
       "      <td>NaN</td>\n",
       "      <td>NaN</td>\n",
       "      <td>NaN</td>\n",
       "      <td>NaN</td>\n",
       "      <td>NaN</td>\n",
       "      <td>NaN</td>\n",
       "      <td>NaN</td>\n",
       "    </tr>\n",
       "  </tbody>\n",
       "</table>\n",
       "<p>10201 rows × 34 columns</p>\n",
       "</div>"
      ],
      "text/plain": [
       "                  r      rstd       rMM  error     c0    c1    c2  c3  c4  c5  \\\n",
       "K    m                                                                          \n",
       "0.0  0.0   0.042354  0.018785  0.091731    NaN    NaN   NaN   NaN NaN NaN NaN   \n",
       "     0.1   0.042346  0.018787  0.091731    NaN    NaN   NaN   NaN NaN NaN NaN   \n",
       "     0.2   0.042334  0.018789  0.091731    NaN    NaN   NaN   NaN NaN NaN NaN   \n",
       "     0.3   0.042320  0.018792  0.091731    NaN    NaN   NaN   NaN NaN NaN NaN   \n",
       "     0.4   0.042306  0.018794  0.091731    NaN    NaN   NaN   NaN NaN NaN NaN   \n",
       "...             ...       ...       ...    ...    ...   ...   ...  ..  ..  ..   \n",
       "10.0 9.6   0.806193  0.062233  0.197309    NaN  417.0  28.0  22.0 NaN NaN NaN   \n",
       "     9.7   0.801457  0.063791  0.203774    NaN  415.0  28.0  23.0 NaN NaN NaN   \n",
       "     9.8   0.807222  0.062646  0.204616    NaN  417.0  28.0  22.0 NaN NaN NaN   \n",
       "     9.9   0.804293  0.062826  0.205518    NaN  416.0  29.0  21.0 NaN NaN NaN   \n",
       "     10.0  0.807415  0.060879  0.198382    NaN  417.0  28.0  21.0 NaN NaN NaN   \n",
       "\n",
       "           ...  c0 omega  c1 omega  c2 omega  c3 omega  c4 omega  c5 omega  \\\n",
       "K    m     ...                                                               \n",
       "0.0  0.0   ...       NaN       NaN       NaN       NaN       NaN       NaN   \n",
       "     0.1   ...       NaN       NaN       NaN       NaN       NaN       NaN   \n",
       "     0.2   ...       NaN       NaN       NaN       NaN       NaN       NaN   \n",
       "     0.3   ...       NaN       NaN       NaN       NaN       NaN       NaN   \n",
       "     0.4   ...       NaN       NaN       NaN       NaN       NaN       NaN   \n",
       "...        ...       ...       ...       ...       ...       ...       ...   \n",
       "10.0 9.6   ... -0.040027  1.535441 -1.577685       NaN       NaN       NaN   \n",
       "     9.7   ... -0.040027  1.504645 -1.569878       NaN       NaN       NaN   \n",
       "     9.8   ... -0.040027  1.535441 -1.577685       NaN       NaN       NaN   \n",
       "     9.9   ... -0.040027  1.513667 -1.567756       NaN       NaN       NaN   \n",
       "     10.0  ... -0.040027  1.504645 -1.593635       NaN       NaN       NaN   \n",
       "\n",
       "           c6 omega  c7 omega  c8 omega  c9 omega  \n",
       "K    m                                             \n",
       "0.0  0.0        NaN       NaN       NaN       NaN  \n",
       "     0.1        NaN       NaN       NaN       NaN  \n",
       "     0.2        NaN       NaN       NaN       NaN  \n",
       "     0.3        NaN       NaN       NaN       NaN  \n",
       "     0.4        NaN       NaN       NaN       NaN  \n",
       "...             ...       ...       ...       ...  \n",
       "10.0 9.6        NaN       NaN       NaN       NaN  \n",
       "     9.7        NaN       NaN       NaN       NaN  \n",
       "     9.8        NaN       NaN       NaN       NaN  \n",
       "     9.9        NaN       NaN       NaN       NaN  \n",
       "     10.0       NaN       NaN       NaN       NaN  \n",
       "\n",
       "[10201 rows x 34 columns]"
      ]
     },
     "execution_count": 18,
     "metadata": {},
     "output_type": "execute_result"
    }
   ],
   "source": [
    "df_Km.sort_index()"
   ]
  },
  {
   "cell_type": "code",
   "execution_count": 15,
   "metadata": {},
   "outputs": [],
   "source": [
    "df_Km.sort_index().to_excel(f'N = {N} Q_Normal seed = {seed} dt = {dt} 230821 ver3.xlsm')"
   ]
  },
  {
   "cell_type": "code",
   "execution_count": 8,
   "metadata": {},
   "outputs": [
    {
     "data": {
      "text/plain": [
       "'N = 500 Q_Normal seed = 10 dt = 0.1 230821 ver3.xlsm'"
      ]
     },
     "execution_count": 8,
     "metadata": {},
     "output_type": "execute_result"
    }
   ],
   "source": [
    "f'N = {N} Q_Normal seed = {seed} dt = {dt} 230821 ver3.xlsm'"
   ]
  },
  {
   "cell_type": "code",
   "execution_count": 10,
   "metadata": {},
   "outputs": [
    {
     "data": {
      "text/plain": [
       "'N = 500 seed = 10 dt = 0.1 230720 ver3.xlsm'"
      ]
     },
     "execution_count": 10,
     "metadata": {},
     "output_type": "execute_result"
    }
   ],
   "source": [
    "f'N = {N} seed = {seed} dt = {dt} 230720 ver3.xlsm'"
   ]
  },
  {
   "cell_type": "code",
   "execution_count": null,
   "metadata": {},
   "outputs": [],
   "source": [
    "for seed in [10]:\n",
    "    dK = 0.1\n",
    "    dm = 0.1\n",
    "    N = 500\n",
    "\n",
    "    theta_init,omega,Kc = Normal(N,0,1,seed=seed)\n",
    "    K_set = np.arange(0,5,dK).reshape(-1,1)\n",
    "\n",
    "    N_set = len(K_set)\n",
    "    omega = np.sort(omega) - np.mean(omega)\n",
    "    ms = np.arange(0,10+dm/2,dm)\n",
    "    m_set = []\n",
    "    core = 8\n",
    "    index_ = 0\n",
    "    for i in range(len(ms)//core +1):\n",
    "        m_set.append(ms[index_:index_+core])\n",
    "        index_ += core\n",
    "    core_set = [len(ms) for ms in m_set]\n",
    "    N_set = len(K_set)\n",
    "    theta_init_set = (np.ones((N_set,1))*theta_init)\n",
    "    pdtheta_set = 0*(np.ones((N_set,1))*omega)\n",
    "    omega_set = (np.ones((N_set,1))*omega)\n",
    "    core_set\n",
    "    cols ={'r':[0],'rstd':[0],'rMM':[0],'error':[0]}\n",
    "    for i in range(10):\n",
    "        cols[f'c{i}'] = np.nan\n",
    "    for i in range(10):\n",
    "        cols[f'c{i} phase vel'] = np.nan\n",
    "    for i in range(10):\n",
    "        cols[f'c{i} omega'] = np.nan\n",
    "\n",
    "    cols['K'] = K_set.reshape(-1)[0]\n",
    "    cols['m'] = ms[0]\n",
    "    df = pd.DataFrame(cols)\n",
    "    df_Km = df.set_index(['K','m'])\n",
    "    for core,ms in tqdm(list(zip(core_set,m_set))):pass\n",
    "    for core,ms in zip(core_set,m_set):\n",
    "        for m,(r,rstd,rMM,CSMP_set,CSMO_set,error_set,C_s_set,C_e_set) in zip(ms,parmap.map(C_rsmso_set_new,ms,K_set=K_set,N=N,theta_init_set=theta_init_set,\n",
    "                                                            omega_set=omega_set,pdtheta_set = pdtheta_set,t_end=2000,dt=0.1,\n",
    "                                                            pm_pbar=True, pm_processes=core)):\n",
    "            for i,K in enumerate(K_set.reshape(-1)):\n",
    "                df_Km.loc[(K,m),\"r\"] = r[i]\n",
    "                df_Km.loc[(K,m),\"rstd\"] = rstd[i]\n",
    "                df_Km.loc[(K,m),\"rMM\"] = rMM[i]\n",
    "                df_Km.loc[(K,m),'error'] = error_set[i]\n",
    "                CSMP = CSMP_set[i]\n",
    "                CSMO = CSMO_set[i]\n",
    "                for i in range(len(CSMP_set[i])):\n",
    "                        df_Km.loc[(K,m),f'c{i}'] = CSMP['cluster size'][i]\n",
    "                        df_Km.loc[(K,m),f'c{i} phase vel'] = CSMP['cluster mean phase velocity'][i]\n",
    "                        df_Km.loc[(K,m),f'c{i} omega'] = CSMO['cluster mean natural frequency'][i]\n",
    "    K_set = np.arange(5,10+dK/2,dK).reshape(-1,1)\n",
    "    N_set = len(K_set)\n",
    "    omega = np.sort(omega) - np.mean(omega)\n",
    "    ms = np.arange(0,10+dm/2,dm)\n",
    "    m_set = []\n",
    "    core = 8\n",
    "    index_ = 0\n",
    "    for i in range(len(ms)//core +1):\n",
    "        m_set.append(ms[index_:index_+core])\n",
    "        index_ += core\n",
    "    core_set = [len(ms) for ms in m_set]\n",
    "    N_set = len(K_set)\n",
    "    theta_init_set = (np.ones((N_set,1))*theta_init)\n",
    "    pdtheta_set = 0*(np.ones((N_set,1))*omega)\n",
    "    omega_set = (np.ones((N_set,1))*omega)\n",
    "    for core,ms in zip(core_set,m_set):\n",
    "        for m,(r,rstd,rMM,CSMP_set,CSMO_set,error_set,C_s_set,C_e_set) in zip(ms,parmap.map(C_rsmso_set_new,ms,K_set=K_set,N=N,theta_init_set=theta_init_set,\n",
    "                                                            omega_set=omega_set,pdtheta_set = pdtheta_set,t_end=2000,dt=0.1,\n",
    "                                                            pm_pbar=True, pm_processes=core)):\n",
    "            for i,K in enumerate(K_set.reshape(-1)):\n",
    "                df_Km.loc[(K,m),\"r\"] = r[i]\n",
    "                df_Km.loc[(K,m),\"rstd\"] = rstd[i]\n",
    "                df_Km.loc[(K,m),\"rMM\"] = rMM[i]\n",
    "                df_Km.loc[(K,m),'error'] = error_set[i]\n",
    "                CSMP = CSMP_set[i]\n",
    "                CSMO = CSMO_set[i]\n",
    "                for i in range(len(CSMP_set[i])):\n",
    "                        df_Km.loc[(K,m),f'c{i}'] = CSMP['cluster size'][i]\n",
    "                        df_Km.loc[(K,m),f'c{i} phase vel'] = CSMP['cluster mean phase velocity'][i]\n",
    "                        df_Km.loc[(K,m),f'c{i} omega'] = CSMO['cluster mean natural frequency'][i]\n",
    "    df_Km.sort_index().to_excel(f'N = {N} seed = {seed} test 230708 ver3.xlsm')\n"
   ]
  },
  {
   "cell_type": "code",
   "execution_count": null,
   "metadata": {},
   "outputs": [],
   "source": []
  }
 ],
 "metadata": {
  "kernelspec": {
   "display_name": "Python 3",
   "language": "python",
   "name": "python3"
  },
  "language_info": {
   "codemirror_mode": {
    "name": "ipython",
    "version": 3
   },
   "file_extension": ".py",
   "mimetype": "text/x-python",
   "name": "python",
   "nbconvert_exporter": "python",
   "pygments_lexer": "ipython3",
   "version": "3.11.1"
  },
  "orig_nbformat": 4
 },
 "nbformat": 4,
 "nbformat_minor": 2
}
