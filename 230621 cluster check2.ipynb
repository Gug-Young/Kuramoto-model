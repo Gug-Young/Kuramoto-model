{
 "cells": [
  {
   "cell_type": "code",
   "execution_count": 84,
   "metadata": {},
   "outputs": [],
   "source": [
    "import numpy as np\n",
    "import matplotlib.pyplot as plt\n",
    "import pandas as pd\n",
    "\n",
    "from TO_sim.Sol_Kuramoto import Sol_Kuramoto_mK as mK\n",
    "from TO_sim.Sol_Kuramoto import Sol_Kuramoto_mf2 as mf2\n",
    "from TO_sim.Get_groups import phase_diagram,make_meanr\n",
    "\n",
    "from TO_sim.To_Draw import Draw_avg_vel_r\n",
    "from TO_sim.gen_Distribution import Normal\n",
    "from TO_sim.gen_Distribution import Quantile_Normal as Q_Normal\n",
    "from mpl_toolkits.axes_grid1.axes_divider import make_axes_locatable\n",
    "from tqdm.notebook import tqdm\n",
    "from scipy.signal import find_peaks\n",
    "import parmap\n",
    "from pprint import pprint"
   ]
  },
  {
   "attachments": {},
   "cell_type": "markdown",
   "metadata": {},
   "source": [
    "## cluster check2\n",
    "cluster가 생성될때 메인 클러스터가 2개로 분화된다면 기존 알고리즘에서는 확인하기 어렵다는 단점이 있다\n",
    "\n",
    "* 알고리즘을 2개를 사용해 클러스터의 확인 성능을 향상시켜 보자\n",
    "    - cluster의 개수로 1차 판별\n",
    "    - cluster의 안정성을 가지고 2차 판별"
   ]
  },
  {
   "cell_type": "code",
   "execution_count": 187,
   "metadata": {},
   "outputs": [],
   "source": [
    "def cluster_os(avg_dtheta,N,cidx=False,dt=0.1):\n",
    "    def to_cluster_barg(idx,peaks_new):\n",
    "        C = idx,idx+1\n",
    "        arg_C = peaks_new[C[0]],peaks_new[C[1]]\n",
    "        cluster = np.arange(arg_C[0],arg_C[1])\n",
    "        return cluster\n",
    "    def to_cstability(x,diff_dtheta):\n",
    "        try:\n",
    "            return np.mean(diff_dtheta[x[1:]])\n",
    "        except IndexError:\n",
    "            return np.nan\n",
    "    def to_mean_avg_d_o(x,avg_dtheta,index):\n",
    "        try:\n",
    "            return np.mean(avg_dtheta[index][x])\n",
    "        except IndexError:\n",
    "            return np.nan\n",
    "    iter_time = 20*int(1/dt)*5\n",
    "    num = 0\n",
    "    for index in range(-iter_time,0):\n",
    "        arg = np.argsort(avg_dtheta[index])\n",
    "        SD = avg_dtheta[index][arg]\n",
    "        diff_dtheta = np.diff([SD[0],*SD,SD[-1]])\n",
    "        peaks, P  = find_peaks(diff_dtheta, height=0.01)\n",
    "        \n",
    "        # peaks = peaks[np.where((peaks<N)&(peaks>1))]\n",
    "\n",
    "        try:\n",
    "            peaks_new = np.array([peaks[0],*peaks])\n",
    "        except IndexError:\n",
    "            peaks_new = np.array([0,N])\n",
    "\n",
    "        psize = np.diff(peaks_new)\n",
    "        arg_psize = np.argsort(psize)[::-1]\n",
    "        sort_psize = np.sort(psize)[::-1]\n",
    "        clusters = np.array([to_cluster_barg(arg,peaks_new) for arg in arg_psize],dtype=object)[:10]\n",
    "        try:\n",
    "            if len(clusters) == 1:\n",
    "                clusters = np.array([np.arange(peaks_new[0],N)])\n",
    "            c_stability = np.array(list(map(to_cstability,clusters,[diff_dtheta]*len(clusters))))\n",
    "            mean_omega = np.array(list(map(to_mean_avg_d_o,clusters,[avg_dtheta]*len(clusters),[index]*len(clusters))))\n",
    "            if num==0:\n",
    "                psize_array = sort_psize[:10]\n",
    "                cluster_array = clusters\n",
    "                c_stability_array = c_stability\n",
    "                mean_omega_array = mean_omega\n",
    "                arg_array = arg\n",
    "\n",
    "                num+=1\n",
    "            else:\n",
    "                cluster_array = np.c_[cluster_array,clusters]\n",
    "                psize_array = np.c_[psize_array,sort_psize[:10]]\n",
    "                c_stability_array = np.c_[c_stability_array,c_stability]\n",
    "                mean_omega_array = np.c_[mean_omega_array,mean_omega]\n",
    "                arg_array = np.c_[arg_array,arg]\n",
    "        except ValueError:\n",
    "            pass\n",
    "            \n",
    "\n",
    "    Is_group, = np.where((np.std(psize_array,axis=1) == 0)&(psize_array[:,-1]>3))\n",
    "    check_2nd = False\n",
    "    mean_group_s = np.mean(c_stability_array,axis=1)\n",
    "    Is_group2, = np.where((mean_group_s<1e-3)&(psize_array[:,-1]>3))\n",
    "    Is_group = np.intersect1d(Is_group,Is_group2)\n",
    "    if len(Is_group)==0:\n",
    "        check_2nd = True\n",
    "        mean_group_s = np.mean(c_stability_array,axis=1)\n",
    "        Is_group, = np.where((mean_group_s<1e-2)&(psize_array[:,-1]>5))\n",
    "    CM_O = np.mean(mean_omega_array[Is_group],axis=1)\n",
    "    sCM_O = np.sort(CM_O)\n",
    "    sCM_Oidx = np.argsort(CM_O)\n",
    "\n",
    "    CM_S = np.mean(psize_array[Is_group],axis=1)[sCM_Oidx]\n",
    "    if cidx == True:\n",
    "        C_idx = np.array([arg[i] for i in clusters[sCM_Oidx]])\n",
    "        return CM_S,sCM_O,C_idx\n",
    "    else:\n",
    "        return CM_S,sCM_O"
   ]
  },
  {
   "cell_type": "code",
   "execution_count": 188,
   "metadata": {},
   "outputs": [],
   "source": [
    "def C_rsmso(K,m,N,theta_init,omega,pdtheta,t_end=5000,dt=0.1):\n",
    "    t = np.arange(0,t_end,dt)\n",
    "    theta, dtheta,rs = mf2(K,m=m,N=N,t_array=t,p_theta=theta_init,p_dtheta= pdtheta,p_omega=omega,result_time = int((t_end)-(600))*int(1/dt))\n",
    "    r_duration = rs[-5000:]\n",
    "    r = np.mean(r_duration)\n",
    "    rstd = np.std(r_duration)\n",
    "    rMM = np.max(r_duration)-np.min(r_duration)\n",
    "\n",
    "    sum_time = 500*int(1/dt)\n",
    "    dtheta_c = np.cumsum(dtheta,axis=0)\n",
    "    avg_dtheta = (dtheta_c[sum_time:]-dtheta_c[:-sum_time])/sum_time\n",
    "    dtype = [('cluster size', int), ('cluster mean phase velocity', float)]\n",
    "    CM_S,CM_O = cluster_os(avg_dtheta=avg_dtheta,N=N,dt=dt)\n",
    "    CSO = np.array([(S,O) for S,O in zip(CM_S,CM_O)],dtype=dtype)\n",
    "    return r,rstd,rMM,CSO\n"
   ]
  },
  {
   "cell_type": "code",
   "execution_count": 190,
   "metadata": {},
   "outputs": [
    {
     "data": {
      "text/plain": [
       "(0.4979350967073677,\n",
       " 0.07563105469227177,\n",
       " 0.29895354203799007,\n",
       " array([(282, 0.06363479), ( 18, 0.91787616)],\n",
       "       dtype=[('cluster size', '<i8'), ('cluster mean phase velocity', '<f8')]))"
      ]
     },
     "execution_count": 190,
     "metadata": {},
     "output_type": "execute_result"
    }
   ],
   "source": [
    "N = 500\n",
    "seed = 10\n",
    "K = 3.1\n",
    "m = 6\n",
    "theta_init,omega,_ = Normal(N,0,1,seed=seed)\n",
    "omega = np.sort(omega) - np.mean(omega)\n",
    "C_rsmso(K,m,N,theta_init,omega,0*omega,t_end=6000)"
   ]
  },
  {
   "cell_type": "code",
   "execution_count": null,
   "metadata": {},
   "outputs": [
    {
     "data": {
      "text/plain": [
       "(0.5269236491266356,\n",
       " 0.1523877532178848,\n",
       " 0.44073103968032223,\n",
       " array([3018., 1137.,  249.]),\n",
       " array([-0.23529913,  0.68201267,  1.70248861]))"
      ]
     },
     "metadata": {},
     "output_type": "display_data"
    }
   ],
   "source": [
    "C_rsmso(K,m,N,theta_init,omega,omega,t_end=5000)\n"
   ]
  },
  {
   "cell_type": "code",
   "execution_count": 192,
   "metadata": {},
   "outputs": [],
   "source": [
    "seed =10\n",
    "N = 500\n",
    "theta_random,omega,Kc = Normal(N,0,1,seed=seed)\n",
    "# omega = omega - np.mean(omega)\n",
    "omega = np.sort(omega) - np.mean(omega)\n",
    "dt = 0.1\n",
    "t_end = 6000\n",
    "m = 6\n",
    "K = 3.1\n",
    "t = np.arange(0,t_end,dt)\n",
    "to_ppi = lambda y: (y + np.pi)%(2*np.pi) - np.pi\n",
    "theta, dtheta,rs = mf2(K,N=N,m=m,t_array=t,p_theta=theta_random,p_dtheta= 0*omega,p_omega=omega,result_time = int((t_end)-(600))*int(1/dt))\n",
    "if m == 0:\n",
    "    dtheta = np.c_[dtheta[0],dtheta.T].T"
   ]
  },
  {
   "cell_type": "code",
   "execution_count": 193,
   "metadata": {},
   "outputs": [],
   "source": [
    "r_duration = rs[-5000:]\n",
    "r = np.mean(r_duration)\n",
    "rstd = np.std(r_duration)\n",
    "rMM = np.max(r_duration)-np.min(r_duration)"
   ]
  },
  {
   "cell_type": "code",
   "execution_count": 194,
   "metadata": {},
   "outputs": [],
   "source": [
    "dtheta_c = np.cumsum(dtheta,axis=0)\n",
    "r_c = np.cumsum(rs,axis=0)\n",
    "sum_time = 500*int(1/dt)\n",
    "t_sum = t[sum_time:]\n",
    "avg_dtheta = (dtheta_c[sum_time:]-dtheta_c[:-sum_time])/sum_time\n",
    "avg_r = (r_c[sum_time:]-r_c[:-sum_time])/sum_time"
   ]
  },
  {
   "cell_type": "code",
   "execution_count": 195,
   "metadata": {},
   "outputs": [
    {
     "name": "stderr",
     "output_type": "stream",
     "text": [
      "/var/folders/lj/v2s5sd8n1cv2xdh0yw2kf0x00000gn/T/ipykernel_24404/1615764748.py:72: VisibleDeprecationWarning: Creating an ndarray from ragged nested sequences (which is a list-or-tuple of lists-or-tuples-or ndarrays with different lengths or shapes) is deprecated. If you meant to do this, you must specify 'dtype=object' when creating the ndarray.\n",
      "  C_idx = np.array([arg[i] for i in clusters[sCM_Oidx]])\n"
     ]
    }
   ],
   "source": [
    "    def to_cluster_barg(idx,peaks_new):\n",
    "        C = idx,idx+1\n",
    "        arg_C = peaks_new[C[0]],peaks_new[C[1]]\n",
    "        cluster = np.arange(arg_C[0],arg_C[1])\n",
    "        return cluster\n",
    "    def to_cstability(x,diff_dtheta):\n",
    "        try:\n",
    "            return np.mean(diff_dtheta[x[1:]])\n",
    "        except IndexError:\n",
    "            return np.nan\n",
    "    def to_mean_avg_d_o(x,avg_dtheta,index):\n",
    "        try:\n",
    "            return np.mean(avg_dtheta[index][x])\n",
    "        except IndexError:\n",
    "            return np.nan\n",
    "    iter_time = 20*int(1/dt)*5\n",
    "    num = 0\n",
    "    for index in range(-iter_time,0):\n",
    "        arg = np.argsort(avg_dtheta[index])\n",
    "        SD = avg_dtheta[index][arg]\n",
    "        diff_dtheta = np.diff([SD[0],*SD,SD[-1]])\n",
    "        peaks, P  = find_peaks(diff_dtheta, height=0.01)\n",
    "        \n",
    "        # peaks = peaks[np.where((peaks<N)&(peaks>1))]\n",
    "\n",
    "        try:\n",
    "            peaks_new = np.array([peaks[0],*peaks])\n",
    "        except IndexError:\n",
    "            peaks_new = np.array([0,N])\n",
    "\n",
    "        psize = np.diff(peaks_new)\n",
    "        arg_psize = np.argsort(psize)[::-1]\n",
    "        sort_psize = np.sort(psize)[::-1]\n",
    "        clusters = np.array([to_cluster_barg(arg,peaks_new) for arg in arg_psize],dtype=object)[:10]\n",
    "        try:\n",
    "            if len(clusters) == 1:\n",
    "                clusters = np.array([np.arange(peaks_new[0],N)])\n",
    "            c_stability = np.array(list(map(to_cstability,clusters,[diff_dtheta]*len(clusters))))\n",
    "            mean_omega = np.array(list(map(to_mean_avg_d_o,clusters,[avg_dtheta]*len(clusters),[index]*len(clusters))))\n",
    "            if num==0:\n",
    "                psize_array = sort_psize[:10]\n",
    "                cluster_array = clusters\n",
    "                c_stability_array = c_stability\n",
    "                mean_omega_array = mean_omega\n",
    "                arg_array = arg\n",
    "\n",
    "                num+=1\n",
    "            else:\n",
    "                cluster_array = np.c_[cluster_array,clusters]\n",
    "                psize_array = np.c_[psize_array,sort_psize[:10]]\n",
    "                c_stability_array = np.c_[c_stability_array,c_stability]\n",
    "                mean_omega_array = np.c_[mean_omega_array,mean_omega]\n",
    "                arg_array = np.c_[arg_array,arg]\n",
    "        except ValueError:\n",
    "            pass\n",
    "            \n",
    "\n",
    "    Is_group, = np.where((np.std(psize_array,axis=1) == 0)&(psize_array[:,-1]>3))\n",
    "    check_2nd = False\n",
    "    mean_group_s = np.mean(c_stability_array,axis=1)\n",
    "    Is_group2, = np.where((mean_group_s<1e-3)&(psize_array[:,-1]>3))\n",
    "    Is_group = np.intersect1d(Is_group,Is_group2)\n",
    "    if len(Is_group)==0:\n",
    "        check_2nd = True\n",
    "        Is_group, = np.where((np.std(psize_array,axis=1) == 0)&(psize_array[:,-1]>3))\n",
    "    if len(Is_group)==0:\n",
    "        check_3nd = True\n",
    "        mean_group_s = np.mean(c_stability_array,axis=1)\n",
    "        Is_group, = np.where((mean_group_s<1e-3)&(psize_array[:,-1]>5))\n",
    "    CM_O = np.mean(mean_omega_array[Is_group],axis=1)\n",
    "    sCM_O = np.sort(CM_O)\n",
    "    sCM_Oidx = np.argsort(CM_O)\n",
    "\n",
    "\n",
    "    C_idx = np.array([arg[i] for i in clusters[sCM_Oidx]])\n",
    "    CM_S = np.mean(psize_array[Is_group],axis=1)[sCM_Oidx]"
   ]
  },
  {
   "cell_type": "code",
   "execution_count": 196,
   "metadata": {},
   "outputs": [
    {
     "data": {
      "text/plain": [
       "(array([0, 2]), False, 0.07563105469227177)"
      ]
     },
     "execution_count": 196,
     "metadata": {},
     "output_type": "execute_result"
    }
   ],
   "source": [
    "Is_group,check_2nd,rstd"
   ]
  },
  {
   "cell_type": "code",
   "execution_count": 197,
   "metadata": {},
   "outputs": [
    {
     "data": {
      "text/plain": [
       "array([282.,  18.])"
      ]
     },
     "execution_count": 197,
     "metadata": {},
     "output_type": "execute_result"
    }
   ],
   "source": [
    "CM_S"
   ]
  },
  {
   "cell_type": "code",
   "execution_count": 198,
   "metadata": {},
   "outputs": [
    {
     "data": {
      "text/plain": [
       "(None, [<matplotlib.lines.Line2D at 0x175769610>])"
      ]
     },
     "execution_count": 198,
     "metadata": {},
     "output_type": "execute_result"
    },
    {
     "data": {
      "image/png": "[encoded data removed]",
      "text/plain": [
       "<Figure size 640x200 with 2 Axes>"
      ]
     },
     "metadata": {},
     "output_type": "display_data"
    }
   ],
   "source": [
    "Draw_avg_vel_r(t_sum=t_sum,avg_r=avg_r,KmN=(K,m,N),avg_dtheta=avg_dtheta,Cidx=C_idx),plt.plot(t,rs,zorder=0)"
   ]
  },
  {
   "cell_type": "code",
   "execution_count": null,
   "metadata": {},
   "outputs": [],
   "source": []
  },
  {
   "cell_type": "code",
   "execution_count": null,
   "metadata": {},
   "outputs": [],
   "source": []
  },
  {
   "cell_type": "code",
   "execution_count": null,
   "metadata": {},
   "outputs": [],
   "source": []
  }
 ],
 "metadata": {
  "kernelspec": {
   "display_name": "Python 3",
   "language": "python",
   "name": "python3"
  },
  "language_info": {
   "codemirror_mode": {
    "name": "ipython",
    "version": 3
   },
   "file_extension": ".py",
   "mimetype": "text/x-python",
   "name": "python",
   "nbconvert_exporter": "python",
   "pygments_lexer": "ipython3",
   "version": "3.11.1"
  },
  "orig_nbformat": 4
 },
 "nbformat": 4,
 "nbformat_minor": 2
}
