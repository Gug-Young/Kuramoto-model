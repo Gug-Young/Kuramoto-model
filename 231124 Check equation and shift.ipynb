{
 "cells": [
  {
   "cell_type": "code",
   "execution_count": 13,
   "metadata": {},
   "outputs": [],
   "source": [
    "import TO_sim.Q_simul as QSIM\n",
    "# import TO_sim.analytical.order_sec_parameter as OSP\n",
    "import TO_sim.analytical.sec_order_parameter2 as OSP2\n",
    "import numpy as np\n",
    "import matplotlib.pyplot as plt\n",
    "from scipy.stats import norm\n",
    "import pandas as pd\n",
    "from scipy.integrate import quad\n",
    "from scipy import interpolate"
   ]
  },
  {
   "cell_type": "code",
   "execution_count": 440,
   "metadata": {},
   "outputs": [
    {
     "data": {
      "text/plain": [
       "<module 'TO_sim.analytical.sec_order_parameter2' from '/Users/kimgug-young/Desktop/KURAMOTO 1st order/Kuramoto-model/TO_sim/analytical/sec_order_parameter2.py'>"
      ]
     },
     "execution_count": 440,
     "metadata": {},
     "output_type": "execute_result"
    }
   ],
   "source": [
    "import imp\n",
    "imp.reload(QSIM)\n",
    "imp.reload(OSP2)"
   ]
  },
  {
   "cell_type": "code",
   "execution_count": 3,
   "metadata": {},
   "outputs": [],
   "source": [
    "import sympy"
   ]
  },
  {
   "cell_type": "code",
   "execution_count": 14,
   "metadata": {},
   "outputs": [],
   "source": [
    "omega,K,r,m = sympy.symbols('Omega K r m',real=True)"
   ]
  },
  {
   "cell_type": "code",
   "execution_count": 36,
   "metadata": {},
   "outputs": [],
   "source": [
    "a = 1/sympy.sqrt(K*r*m)\n",
    "b = omega/(K*r)"
   ]
  },
  {
   "cell_type": "code",
   "execution_count": 37,
   "metadata": {},
   "outputs": [],
   "source": [
    "M_eR = 1/2*(-1)*(a**2/(a**4+b**2))\n",
    "M_eI = 1/2*(a**2/b)*(a**2/(a**4+b**2))"
   ]
  },
  {
   "cell_type": "code",
   "execution_count": 38,
   "metadata": {},
   "outputs": [
    {
     "data": {
      "text/latex": [
       "$\\displaystyle - \\frac{0.5 K m r}{\\Omega^{2} m^{2} + 1}$"
      ],
      "text/plain": [
       "-0.5*K*m*r/(Omega**2*m**2 + 1)"
      ]
     },
     "execution_count": 38,
     "metadata": {},
     "output_type": "execute_result"
    }
   ],
   "source": [
    "M_eR.simplify()"
   ]
  },
  {
   "cell_type": "code",
   "execution_count": 35,
   "metadata": {},
   "outputs": [
    {
     "data": {
      "text/latex": [
       "$\\displaystyle \\frac{0.25 K r}{4 \\Omega^{3} m^{2} + \\Omega}$"
      ],
      "text/plain": [
       "0.25*K*r/(4*Omega**3*m**2 + Omega)"
      ]
     },
     "execution_count": 35,
     "metadata": {},
     "output_type": "execute_result"
    }
   ],
   "source": [
    "M_eI.simplify()\n"
   ]
  },
  {
   "cell_type": "code",
   "execution_count": 21,
   "metadata": {},
   "outputs": [
    {
     "data": {
      "text/latex": [
       "$\\displaystyle \\frac{0.25 K r \\operatorname{re}{\\left(\\frac{1}{\\left(K m r\\right)^{1.0} \\left(\\left(K m r\\right)^{-2.0} + \\frac{4 \\Omega^{2}}{K^{2} r^{2}}\\right)}\\right)} \\operatorname{re}{\\left(\\left(K m r\\right)^{-1.0}\\right)}}{\\Omega} + \\left(- \\frac{0.25 K r \\operatorname{im}{\\left(\\left(K m r\\right)^{-1.0}\\right)}}{\\Omega} - 0.5\\right) \\operatorname{im}{\\left(\\frac{1}{\\left(K m r\\right)^{1.0} \\left(\\left(K m r\\right)^{-2.0} + \\frac{4 \\Omega^{2}}{K^{2} r^{2}}\\right)}\\right)}$"
      ],
      "text/plain": [
       "0.25*K*r*re(1/((K*m*r)**1.0*((K*m*r)**(-2.0) + 4*Omega**2/(K**2*r**2))))*re((K*m*r)**(-1.0))/Omega + (-0.25*K*r*im((K*m*r)**(-1.0))/Omega - 0.5)*im(1/((K*m*r)**1.0*((K*m*r)**(-2.0) + 4*Omega**2/(K**2*r**2))))"
      ]
     },
     "execution_count": 21,
     "metadata": {},
     "output_type": "execute_result"
    }
   ],
   "source": [
    "IM"
   ]
  },
  {
   "cell_type": "code",
   "execution_count": 42,
   "metadata": {},
   "outputs": [
    {
     "data": {
      "text/latex": [
       "$\\displaystyle K r \\left(K m r\\right)^{\\frac{3}{2}}$"
      ],
      "text/plain": [
       "K*r*(K*m*r)**(3/2)"
      ]
     },
     "execution_count": 42,
     "metadata": {},
     "output_type": "execute_result"
    }
   ],
   "source": [
    "(a**-3 *K*r).simplify()"
   ]
  },
  {
   "cell_type": "markdown",
   "metadata": {},
   "source": [
    "## cluste의 속도를 정하는 것"
   ]
  },
  {
   "cell_type": "code",
   "execution_count": 409,
   "metadata": {},
   "outputs": [],
   "source": [
    "m = 8\n",
    "F_RMd,F_RMu,F_R0d,F_R0u =  OSP2.Make_R_function(m)"
   ]
  },
  {
   "cell_type": "code",
   "execution_count": 414,
   "metadata": {},
   "outputs": [],
   "source": [
    "N = 2000\n",
    "K = 6\n",
    "Qsimul = QSIM.Q_Norm_simul(N,K=K,m = m,t_end=8000,start_p=True,seed=10)\n",
    "sol = Qsimul.solve()"
   ]
  },
  {
   "cell_type": "code",
   "execution_count": 415,
   "metadata": {},
   "outputs": [],
   "source": [
    "cluster_info = Qsimul.get_cluster()\n",
    "r_clu_info = Qsimul.get_r_clu()"
   ]
  },
  {
   "cell_type": "code",
   "execution_count": 416,
   "metadata": {},
   "outputs": [],
   "source": [
    "t_mean = r_clu_info['t_mean']\n",
    "r0 = r_clu_info['r_clu_mean']['0'][-1]\n",
    "rp = r_clu_info['r_clu_mean']['+'][-1]\n",
    "rm = r_clu_info['r_clu_mean']['-'][-1]"
   ]
  },
  {
   "cell_type": "code",
   "execution_count": 417,
   "metadata": {},
   "outputs": [],
   "source": [
    "_,rptA,_,rpA,_,_ = OSP2.get_r_sec_np(K,m,F_RMu,samples=30)"
   ]
  },
  {
   "cell_type": "code",
   "execution_count": 418,
   "metadata": {},
   "outputs": [],
   "source": [
    "K_ = np.linspace(0,15,1000)\n",
    "I_FR0u = interpolate.interp1d(F_R0u(K_),K_)\n",
    "K_match = I_FR0u(r0)\n",
    "O_O = 4/np.pi * np.sqrt(F_RMu(K_match)*K_match/m) - 0.3056*1/np.sqrt(K_match*F_RMu(K_match)*m**3)\n",
    "shift_O = OSP2.get_shift_O(r0,rp,O_O,K,m)\n",
    "O_p2 = 4/np.pi * np.sqrt(rp*K/m) - 0.3056*1/np.sqrt(K*rp*m**3)"
   ]
  },
  {
   "cell_type": "code",
   "execution_count": 419,
   "metadata": {},
   "outputs": [],
   "source": [
    "t = r_clu_info['t']"
   ]
  },
  {
   "cell_type": "code",
   "execution_count": 420,
   "metadata": {},
   "outputs": [
    {
     "data": {
      "text/plain": [
       "(7900.0, 8000.0)"
      ]
     },
     "execution_count": 420,
     "metadata": {},
     "output_type": "execute_result"
    },
    {
     "data": {
      "image/png": "[encoded data removed]",
      "text/plain": [
       "<Figure size 640x480 with 1 Axes>"
      ]
     },
     "metadata": {},
     "output_type": "display_data"
    }
   ],
   "source": [
    "plt.plot(t,r_clu_info['r_clu']['+'])\n",
    "plt.axhline(rpA)\n",
    "plt.xlim(7900,8000)"
   ]
  },
  {
   "cell_type": "code",
   "execution_count": 421,
   "metadata": {},
   "outputs": [
    {
     "data": {
      "text/plain": [
       "<matplotlib.lines.Line2D at 0x2a40a0390>"
      ]
     },
     "execution_count": 421,
     "metadata": {},
     "output_type": "execute_result"
    },
    {
     "data": {
      "image/png": "[encoded data removed]",
      "text/plain": [
       "<Figure size 640x480 with 1 Axes>"
      ]
     },
     "metadata": {},
     "output_type": "display_data"
    }
   ],
   "source": [
    "plt.plot(t_mean,r_clu_info['r_clu_mean']['+'])\n",
    "plt.plot(t_mean,r_clu_info['r_clu_mean']['-'])\n",
    "plt.axhline(rpA)\n",
    "# plt.plot(t,r_clu_info['r_clu_mean']['0'])"
   ]
  },
  {
   "cell_type": "code",
   "execution_count": 422,
   "metadata": {},
   "outputs": [
    {
     "data": {
      "text/plain": [
       "0.8184039023543687"
      ]
     },
     "execution_count": 422,
     "metadata": {},
     "output_type": "execute_result"
    }
   ],
   "source": [
    "O_O"
   ]
  },
  {
   "cell_type": "code",
   "execution_count": 423,
   "metadata": {},
   "outputs": [],
   "source": [
    "omega = Qsimul.omega\n",
    "shift_O = OSP2.get_shift_O(r0,rpA,O_O,K,m)\n",
    "F_S,F_OR = OSP2.get_shift(O_O)"
   ]
  },
  {
   "cell_type": "code",
   "execution_count": 424,
   "metadata": {},
   "outputs": [
    {
     "data": {
      "text/plain": [
       "1.1245114751338705"
      ]
     },
     "execution_count": 424,
     "metadata": {},
     "output_type": "execute_result"
    }
   ],
   "source": [
    "F_S(O_p2) + O_O"
   ]
  },
  {
   "cell_type": "code",
   "execution_count": 425,
   "metadata": {},
   "outputs": [
    {
     "data": {
      "text/plain": [
       "array([1.36996161])"
      ]
     },
     "execution_count": 425,
     "metadata": {},
     "output_type": "execute_result"
    }
   ],
   "source": [
    "F_OR(omega[-1]-shift_O) "
   ]
  },
  {
   "cell_type": "code",
   "execution_count": 426,
   "metadata": {},
   "outputs": [],
   "source": [
    "TEMP = F_S(O_p2)"
   ]
  },
  {
   "cell_type": "code",
   "execution_count": 427,
   "metadata": {},
   "outputs": [],
   "source": [
    "O_C = O_O + shift_O\n",
    "A = O_C*(1- 0.5 * (K*r0)**2/(O_C**2+m**2*O_C**4))"
   ]
  },
  {
   "cell_type": "code",
   "execution_count": 428,
   "metadata": {},
   "outputs": [
    {
     "data": {
      "text/plain": [
       "<matplotlib.lines.Line2D at 0x2a414ee90>"
      ]
     },
     "execution_count": 428,
     "metadata": {},
     "output_type": "execute_result"
    },
    {
     "data": {
      "image/png": "[encoded data removed]",
      "text/plain": [
       "<Figure size 640x480 with 1 Axes>"
      ]
     },
     "metadata": {},
     "output_type": "display_data"
    }
   ],
   "source": [
    "plt.plot(omega,cluster_info['avg_dtheta_last'])\n",
    "plt.axvline(O_O)\n",
    "plt.axhline(O_O+shift_O)\n",
    "plt.axvline(O_O+shift_O+O_p2)\n",
    "plt.axvline(-O_O)\n",
    "plt.axvline(-(O_O+O_p2+shift_O))\n",
    "plt.axhline(-(O_O+shift_O))\n",
    "plt.axhline(A,color ='red')\n"
   ]
  },
  {
   "cell_type": "markdown",
   "metadata": {},
   "source": [
    "## K_M space re"
   ]
  },
  {
   "cell_type": "code",
   "execution_count": 1,
   "metadata": {},
   "outputs": [],
   "source": [
    "import parmap\n",
    "import TO_sim.parmap_use as PU\n",
    "import matplotlib.pyplot as plt\n",
    "import pandas as pd\n",
    "import numpy as np"
   ]
  },
  {
   "cell_type": "code",
   "execution_count": 2,
   "metadata": {},
   "outputs": [],
   "source": [
    "import imp\n",
    "imp.reload(PU);"
   ]
  },
  {
   "cell_type": "code",
   "execution_count": 3,
   "metadata": {},
   "outputs": [],
   "source": [
    "# seed,N,K,m_span,t_end,start_p\n",
    "args = 0,10,500,(0.0,0.1,0.1),220,True\n",
    "data = PU.KM_space_ms(*args)"
   ]
  },
  {
   "cell_type": "code",
   "execution_count": 4,
   "metadata": {},
   "outputs": [],
   "source": [
    "df = pd.DataFrame(columns=data.keys())"
   ]
  },
  {
   "cell_type": "code",
   "execution_count": 5,
   "metadata": {},
   "outputs": [],
   "source": [
    "ms = np.arange(0,10+0.1/2,0.1)"
   ]
  },
  {
   "cell_type": "code",
   "execution_count": 22,
   "metadata": {},
   "outputs": [],
   "source": [
    "N = 1000\n",
    "K = 5\n",
    "K_span = (0,10,0.1)\n",
    "t_end = 8000\n",
    "core = 8"
   ]
  },
  {
   "cell_type": "code",
   "execution_count": 23,
   "metadata": {},
   "outputs": [],
   "source": [
    "index_ = 0\n",
    "m_set = [] \n",
    "for i in range(len(ms)//core +1):\n",
    "    m_set.append(ms[index_:index_+core])\n",
    "    index_ += core\n",
    "num = 1"
   ]
  },
  {
   "cell_type": "code",
   "execution_count": 24,
   "metadata": {},
   "outputs": [
    {
     "data": {
      "application/vnd.jupyter.widget-view+json": {
       "model_id": "2ff9ffffa0884832a0967c42f85110d4",
       "version_major": 2,
       "version_minor": 0
      },
      "text/plain": [
       "  0%|          | 0/8 [00:00<?, ?it/s]"
      ]
     },
     "metadata": {},
     "output_type": "display_data"
    }
   ],
   "source": [
    "for j,m_s in enumerate(m_set):\n",
    "    df = pd.DataFrame(columns=data.keys())\n",
    "    for i,data in enumerate(parmap.map(PU.KM_space_ms,m_s,seed=10,N=N,K_span =K_span,t_end=t_end,start_p=True,pm_pbar=True, pm_processes=core)):\n",
    "        df.loc[i] = data\n",
    "    Ks = df['Ks'][0]\n",
    "    S0 = np.array([*df['S0'].to_numpy()]).T\n",
    "    SP = np.array([*df['S+'].to_numpy()]).T\n",
    "    SM = np.array([*df['S-'].to_numpy()]).T\n",
    "\n",
    "    R0 = np.array([*df['r0'].to_numpy()]).T\n",
    "    RM0 = np.array([*df['rM'].to_numpy()]).T\n",
    "    RP = np.array([*df['r+'].to_numpy()]).T\n",
    "    RPT = np.array([*df['r+_total'].to_numpy()]).T\n",
    "    RM = np.array([*df['r-'].to_numpy()]).T\n",
    "    RMT = np.array([*df['r-_total'].to_numpy()]).T\n",
    "\n",
    "    V0 = np.array([*df['V0'].to_numpy()]).T\n",
    "    VP = np.array([*df['V+'].to_numpy()]).T\n",
    "    VM = np.array([*df['V-'].to_numpy()]).T\n",
    "\n",
    "    SIG = np.array([*df['sig'].to_numpy()]).T\n",
    "    SIGP = np.array([*df['sig_+total'].to_numpy()]).T\n",
    "    SIGM = np.array([*df['sig_-total'].to_numpy()]).T\n",
    "    np.savez(f'./Ensembles/KM space/N = {N} K = {K} {j}',Ks=Ks,ms=m_set,S0=S0,SP=SP,SM=SM,R0=R0,RM0=RM0,RP=RP,RPT=RPT,RM=RM,RMT=RMT,SIG=SIG,V0=V0,VP=VP,VM=VM,SIGP=SIGP,SIGM=SIGM)"
   ]
  },
  {
   "cell_type": "code",
   "execution_count": null,
   "metadata": {},
   "outputs": [],
   "source": []
  }
 ],
 "metadata": {
  "kernelspec": {
   "display_name": "Python 3",
   "language": "python",
   "name": "python3"
  },
  "language_info": {
   "codemirror_mode": {
    "name": "ipython",
    "version": 3
   },
   "file_extension": ".py",
   "mimetype": "text/x-python",
   "name": "python",
   "nbconvert_exporter": "python",
   "pygments_lexer": "ipython3",
   "version": "3.11.1"
  }
 },
 "nbformat": 4,
 "nbformat_minor": 2
}
