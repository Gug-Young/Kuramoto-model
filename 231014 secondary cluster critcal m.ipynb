{
 "cells": [
  {
   "cell_type": "code",
   "execution_count": 1,
   "metadata": {},
   "outputs": [],
   "source": [
    "import numpy as np\n",
    "import matplotlib.pyplot as plt\n",
    "from scipy.stats import norm"
   ]
  },
  {
   "cell_type": "code",
   "execution_count": 17,
   "metadata": {},
   "outputs": [],
   "source": [
    "import numpy as np\n",
    "import pandas as pd\n",
    "import matplotlib.pyplot as plt\n",
    "from TO_sim.Sol_Kuramoto import Sol_Kuramoto_mf2 as mf2\n",
    "from TO_sim.Kuramoto_model import Kuramoto_2nd_mf\n",
    "\n",
    "from TO_sim.get_cluster import cluster_os_new2\n",
    "from TO_sim.gen_Distribution import Normal, Quantile_Normal as Q_Normal, Lorentzian\n",
    "import TO_sim.Integrator_jit as IJ\n",
    "from scipy.integrate import quad\n",
    "\n",
    "RK4_jit = IJ.RK4"
   ]
  },
  {
   "cell_type": "code",
   "execution_count": 18,
   "metadata": {},
   "outputs": [],
   "source": [
    "K = 4\n",
    "m = 6"
   ]
  },
  {
   "cell_type": "code",
   "execution_count": 19,
   "metadata": {},
   "outputs": [],
   "source": [
    "Opf = lambda r,K=K,m=m:  (4/np.pi)*np.sqrt(K*r/m)\n",
    "Odf = lambda r,K=K,m=m:  K*r\n",
    "def Main_r(r,K=K,m=m):\n",
    "    Op = Opf(r,K,m)\n",
    "    r_ = norm.cdf(Op) - norm.cdf(-Op)\n",
    "    return r_-r\n",
    "\n",
    "def sec_r(r2,Opm,K=K,m=m):\n",
    "    Opp = Opf(r2,K,m) + Opm\n",
    "    r_ = norm.cdf(Opp) - norm.cdf(Opm)\n",
    "    return r_-r2\n"
   ]
  },
  {
   "cell_type": "code",
   "execution_count": 98,
   "metadata": {},
   "outputs": [],
   "source": [
    "def Bisection(f,r_a,r_b,eps =1e-5,arg=()):\n",
    "    r_c = (r_a+r_b)/2\n",
    "    num = 0 \n",
    "    \n",
    "    while abs(f(r_c,*arg))>eps:\n",
    "        r_c = (r_a+r_b)/2\n",
    "        if f(r_a,*arg)*f(r_c,*arg)>0:\n",
    "            r_a = r_c\n",
    "        else:\n",
    "            r_b = r_c\n",
    "        num+=1\n",
    "        if num >50:\n",
    "            print('Please select another section')\n",
    "            return np.NAN\n",
    "    print(f'count : {num}')\n",
    "    return r_c"
   ]
  },
  {
   "cell_type": "code",
   "execution_count": 21,
   "metadata": {},
   "outputs": [],
   "source": [
    "K=9\n",
    "m=6"
   ]
  },
  {
   "cell_type": "code",
   "execution_count": null,
   "metadata": {},
   "outputs": [],
   "source": [
    "r_lock2(r,O_r,O_pm,K=K,m=m,g=g_sec)"
   ]
  },
  {
   "cell_type": "code",
   "execution_count": 22,
   "metadata": {},
   "outputs": [
    {
     "name": "stdout",
     "output_type": "stream",
     "text": [
      "Od 7.643902587890626\n",
      "r_m 0.8493225097656251\n",
      "Opm 1.437142559868397\n",
      "Pass O_p < O_d; main cluster exist\n",
      "r_s 0.03242734402418135\n",
      "Op2 1.7178564490937243\n",
      "Pass O_p3 < O_d; secondary cluster exist\n",
      "r_3 0.0073028564453125\n",
      "Op3 1.8040907007638494\n",
      "Opps! O_p3 > O_d; third cluster blow up\n"
     ]
    }
   ],
   "source": [
    "r_0 = 0.5\n",
    "eps = 1e-5\n",
    "f = lambda r,K=K,m=m:Main_r(r,K=K,m=m)\n",
    "r_m = Bisection(f,0.1,1)\n",
    "Opm = norm.ppf(r_m/2+0.5)\n",
    "Od = Odf(r_m,K,m)\n",
    "print('Od',Od)\n",
    "print('r_m',r_m)\n",
    "print('Opm',Opm)\n",
    "if Opm < Od:\n",
    "    print('Pass O_p < O_d; main cluster exist')\n",
    "else:\n",
    "    print('Opps! O_p > O_d; main cluster blow up')\n",
    "Od = Odf(r_m,K,m)\n",
    "\n",
    "r_s = Bisection(sec_r,0.01,(1-r_m),arg=(Opm,K,m))\n",
    "Op2 = norm.ppf(r_m/2+r_s+0.5)\n",
    "Op2_ = Opf(r_s*2,K=K,m=m)\n",
    "Od2_ = Odf(r_s*2,K=K,m=m)\n",
    "\n",
    "print('r_s',r_s)\n",
    "print('Op2',Op2)\n",
    "if (Op2 < Od)and(Op2_<Od2_):\n",
    "    print('Pass O_p3 < O_d; secondary cluster exist')\n",
    "else:\n",
    "    print('Opps! O_pp > O_d; secondary cluster blow up')\n",
    "    \n",
    "r_3 = Bisection(sec_r,0.01,0.5,arg=(Op2,K,m))/2\n",
    "Op3 = norm.ppf(r_m/2+r_s+r_3+0.5)\n",
    "Op3_ = Opf(r_3*2,K=K,m=m)\n",
    "Od3_ = Odf(r_3*2,K=K,m=m)\n",
    "\n",
    "print('r_3',r_3)\n",
    "print('Op3',Op3)\n",
    "\n",
    "if (Op3 < Od)and(Op3_<Od3_):\n",
    "    print('Pass O_p3 < O_d; third cluster exist')\n",
    "else:\n",
    "    print('Opps! O_p3 > O_d; third cluster blow up')"
   ]
  },
  {
   "cell_type": "code",
   "execution_count": 23,
   "metadata": {},
   "outputs": [
    {
     "name": "stdout",
     "output_type": "stream",
     "text": [
      "r_s 0.03243041992187501\n",
      "Opp 2.874259356654524\n",
      "Pass O_p3 < O_d; secondary cluster exist\n"
     ]
    }
   ],
   "source": [
    "Od = Odf(r_m,K,m)\n",
    "\n",
    "r_s = Bisection(sec_r,0.01,0.5,arg=(Opm,K,m))\n",
    "Opp = Opf(r_m,K=K,m=m) + Opm\n",
    "print('r_s',r_s)\n",
    "print('Opp',Opp)\n",
    "if Opp < Od:\n",
    "    print('Pass O_p3 < O_d; secondary cluster exist')\n",
    "else:\n",
    "    print('Opps! O_pp > O_d; secondary cluster blow up')"
   ]
  },
  {
   "cell_type": "code",
   "execution_count": 24,
   "metadata": {},
   "outputs": [],
   "source": [
    "def g_n(x):\n",
    "    return norm.pdf(x,0,1)"
   ]
  },
  {
   "cell_type": "code",
   "execution_count": 25,
   "metadata": {},
   "outputs": [],
   "source": [
    "def r_0(r,K=K,m=m,g=g_n):\n",
    "    X = K*r\n",
    "    O_d = X\n",
    "    theta_0 = np.arcsin(O_d/X)\n",
    "    integrand_l = lambda x:np.cos(x)**2*g(X*np.sin(x))\n",
    "    integrand_d = lambda x:(1/x**3)*g(x)\n",
    "    I_l,err_l = quad(integrand_l,-theta_0,theta_0,limit=200) #lock\n",
    "    I_d,err_d = quad(integrand_d,O_d,np.inf,limit=200) #drift\n",
    "    r0 = X*I_l - X/(m**2)*I_d\n",
    "    return r0 - r"
   ]
  },
  {
   "cell_type": "code",
   "execution_count": 1,
   "metadata": {},
   "outputs": [
    {
     "ename": "NameError",
     "evalue": "name 'm' is not defined",
     "output_type": "error",
     "traceback": [
      "\u001b[1;31m---------------------------------------------------------------------------\u001b[0m",
      "\u001b[1;31mNameError\u001b[0m                                 Traceback (most recent call last)",
      "\u001b[1;32mc:\\Users\\kim9y\\Desktop\\Kuramoto\\Kuramoto-model\\231014 secondary cluster critcal m.ipynb Cell 11\u001b[0m line \u001b[0;36m1\n\u001b[1;32m----> <a href='vscode-notebook-cell:/c%3A/Users/kim9y/Desktop/Kuramoto/Kuramoto-model/231014%20secondary%20cluster%20critcal%20m.ipynb#X13sZmlsZQ%3D%3D?line=0'>1</a>\u001b[0m m\n",
      "\u001b[1;31mNameError\u001b[0m: name 'm' is not defined"
     ]
    }
   ],
   "source": [
    "m"
   ]
  },
  {
   "cell_type": "code",
   "execution_count": 27,
   "metadata": {},
   "outputs": [],
   "source": [
    "Opf = lambda r,K=K,m=m:  (4/np.pi)*np.sqrt(K*r/m)\n",
    "Odf = lambda r,K=K,m=m:  K*r"
   ]
  },
  {
   "cell_type": "code",
   "execution_count": 182,
   "metadata": {},
   "outputs": [],
   "source": [
    "def r_lock1(r,K=K,m=m,g=g_n):\n",
    "    X = K*r\n",
    "    integrand_lock = lambda x:np.cos(x)**2*g(X*np.sin(x))\n",
    "    omega_p = (4/np.pi)*np.sqrt(X/m)\n",
    "\n",
    "    A = omega_p/X\n",
    "    if abs(A)<=1:\n",
    "        theta_p = np.arcsin(A)\n",
    "        I_l,err = quad(integrand_lock,-theta_p,theta_p,limit=200)\n",
    "        return X*I_l\n",
    "\n",
    "    else: \n",
    "        theta_p = np.arcsin(A)\n",
    "        I_l,err = quad(integrand_lock,-np.pi/2,np.pi/2,limit=200)\n",
    "        return X*I_l\n",
    "    \n",
    "\n",
    "def r_drift1(r,K=K,m=m,g=g_n):\n",
    "    X = K*r\n",
    "    O_p = (4/np.pi)*np.sqrt(X/m)\n",
    "    integrand_drift = lambda x:1/(x**2)*g(x)\n",
    "    I_d,err = quad(integrand_drift,O_p,np.inf,limit=200)\n",
    "    return -X/(m)*I_d\n",
    "\n",
    "def r_main(r,K=K,m=m,g=g_n):\n",
    "    rl = r_lock1(r,K=K,m=m,g=g_n)\n",
    "    rd = 0#r_drift1(r,K=K,m=m,g=g_n)\n",
    "    return rl+rd - r\n",
    "\n",
    "\n",
    "\n",
    "def r_mean(r,K=K,m=m,g=g_n):\n",
    "    rl = r_lock1(r,K=K,m=m,g=g_n)\n",
    "    rd = r_drift1(r,K=K,m=m,g=g_n)\n",
    "    return rl+rd - r"
   ]
  },
  {
   "cell_type": "code",
   "execution_count": 170,
   "metadata": {},
   "outputs": [],
   "source": [
    "def A(r,K=K,m=m):\n",
    "    return 1/np.sqrt(K*r*m)\n",
    "\n",
    "def B(r,CS,CM,K=K,m=m):\n",
    "    return (CS-CM)/(K*r)\n",
    "def M_theta(r,CS,CM,K=K,m=m):\n",
    "    a = A(r,K=K,m=m)\n",
    "    b = B(r,CS,CM,K=K,m=m)\n",
    "    return - a**2/(2*b**2)\n",
    "# cm = np.mean(np.cos(psi_clu[1]-psi_clu[0])[-5000:])\n",
    "# M = M_theta(rs_clu_mean[0][-1],CMO[1],CMO[0])\n",
    "# print(cm,M)"
   ]
  },
  {
   "cell_type": "code",
   "execution_count": 171,
   "metadata": {},
   "outputs": [
    {
     "data": {
      "text/plain": [
       "0.010000166674167114"
      ]
     },
     "execution_count": 171,
     "metadata": {},
     "output_type": "execute_result"
    }
   ],
   "source": [
    "np.arcsin(abs(0.01))"
   ]
  },
  {
   "cell_type": "code",
   "execution_count": 166,
   "metadata": {},
   "outputs": [
    {
     "name": "stderr",
     "output_type": "stream",
     "text": [
      "C:\\Users\\kim9y\\AppData\\Local\\Temp\\ipykernel_22880\\148648433.py:1: RuntimeWarning: invalid value encountered in arcsin\n",
      "  np.arcsin(100)\n"
     ]
    },
    {
     "data": {
      "text/plain": [
       "nan"
      ]
     },
     "execution_count": 166,
     "metadata": {},
     "output_type": "execute_result"
    }
   ],
   "source": [
    "np.arcsin(100)"
   ]
  },
  {
   "cell_type": "code",
   "execution_count": 179,
   "metadata": {},
   "outputs": [],
   "source": [
    "def r_ls(rs,rm,O_pm,O_r,K=K,m=m,g=g_n):\n",
    "    X = K*rm\n",
    "    Xs = K*rs\n",
    "    # O_pm = (4/np.pi)*np.sqrt(X/m)\n",
    "    \n",
    "    integrand_lock = lambda x:np.cos(x)**2*(g(Xs*np.sin(x)+O_r))\n",
    "    O_ps = (4/np.pi)*np.sqrt(Xs/m)\n",
    "    if O_pm<O_r-O_ps:\n",
    "        left = (O_pm-O_r)/Xs\n",
    "    else:\n",
    "        left = -O_ps/Xs\n",
    "    A = O_ps/Xs\n",
    "    if (abs(A)<=1)&(abs(left)<=1):\n",
    "        theta_pr = np.arcsin(A)\n",
    "        theta_pl = np.arcsin(abs(left))\n",
    "        I_l,err = quad(integrand_lock,-theta_pl,theta_pr,limit=200)\n",
    "        return Xs*I_l\n",
    "\n",
    "    else: return 0 \n",
    "\n",
    "def r_ds(rs,rm,O_pm,O_r,K=K,m=m,g=g_n):\n",
    "    X = K*rm\n",
    "    Xs = K*rs\n",
    "    # O_pm = (4/np.pi)*np.sqrt(X/m)\n",
    "    O_ps = (4/np.pi)*np.sqrt(Xs/m)\n",
    "    integrand_drift = lambda x,m=m:1/((2*(x)**2))*g(x+O_r)\n",
    "    if O_pm<O_r-O_ps:\n",
    "        O_pl = (O_pm-O_r)\n",
    "        I_dl = 0\n",
    "    else:\n",
    "        O_pl = -O_ps\n",
    "        I_dl,err = quad(integrand_drift,-np.inf,O_pl,limit=200)\n",
    "        \n",
    "    I_dr,err = quad(integrand_drift,O_ps,np.inf,limit=200)\n",
    "    \n",
    "    return -Xs/(m)*(I_dr+I_dl)\n",
    "\n",
    "\n",
    "\n",
    "def r_2nd(rs,rm,O_pm,K=K,m=m,g=g_n):\n",
    "    temp = np.linspace(0.5+rm/2,1,10000,endpoint=False)\n",
    "    O_r = np.mean(norm.ppf(temp))\n",
    "    rl = r_ls(rs,rm,O_pm,O_r,K=K,m=m,g=g_n)\n",
    "    rd = r_ds(rs,rm,O_pm,O_r,K=K,m=m,g=g_n)\n",
    "    rs = rl+rd\n",
    "    # if rs==0:\n",
    "    #     A = 0\n",
    "    # else:\n",
    "    #     A = (4/np.pi)*np.sqrt(K*rs/m)\n",
    "    # O_p2 = O_pm + (4/np.pi)*np.sqrt(K*rs/m)\n",
    "\n",
    "    l2 = np.linspace(rm/2+0.5,rm/2+rs+0.5,1000)\n",
    "\n",
    "    O_p2 = np.mean(norm.ppf(l2))\n",
    "    # O_p2 = O_pm + (4/np.pi)*np.sqrt(K*rs/m)/2\n",
    "    # O_p2 = Opf(rm+2*rs)\n",
    "    r_mm = M_theta(rm,O_p2,0)*rm/2\n",
    "    \n",
    "    return rl+r_mm-rs#+rd+r_mm-rs\n",
    "\n",
    "def r_3rd(r3,rm,O_pm,r2,O_p2,K=K,m=m,g=g_n):\n",
    "    rl = r_ls(r2,rm,O_pm,K=K,m=m,g=g_n)\n",
    "    rd = r_ds(r2,rm,O_pm,K=K,m=m,g=g_n)\n",
    "    r3 = rl+rd\n",
    "    O_p3 = O_p2 + (4/np.pi)*np.sqrt(K*r3/m)\n",
    "    r_mm = M_theta(rm,O_p2,0)*rm/2\n",
    "    r_2m = M_theta(r2,O_p3,O_pm)*r2\n",
    "    r_2p = M_theta(r2,O_p3,-O_pm)*r2\n",
    "    \n",
    "    return rl+rd+r_2m -r3/2"
   ]
  },
  {
   "cell_type": "code",
   "execution_count": 118,
   "metadata": {},
   "outputs": [],
   "source": [
    "temp = np.linspace(0.5+r_m/2,1,10000,endpoint=False)\n",
    "O_r = np.mean(norm.ppf(temp))"
   ]
  },
  {
   "cell_type": "code",
   "execution_count": 122,
   "metadata": {},
   "outputs": [
    {
     "data": {
      "text/plain": [
       "<matplotlib.lines.Line2D at 0x2ef835edd50>"
      ]
     },
     "execution_count": 122,
     "metadata": {},
     "output_type": "execute_result"
    },
    {
     "data": {
      "image/png": "[encoded data removed]",
      "text/plain": [
       "<Figure size 640x480 with 1 Axes>"
      ]
     },
     "metadata": {},
     "output_type": "display_data"
    }
   ],
   "source": [
    "xss = np.linspace(0,5,10000)\n",
    "plt.plot(xss,norm.pdf(xss))\n",
    "plt.plot(xss,norm.pdf(xss+O_pm)/(0.5-r_m/2))\n",
    "plt.axvline(O_pm)\n",
    "plt.axvline(O_r,color='red')"
   ]
  },
  {
   "cell_type": "code",
   "execution_count": 126,
   "metadata": {},
   "outputs": [
    {
     "data": {
      "text/plain": [
       "1.000259390962916"
      ]
     },
     "execution_count": 126,
     "metadata": {},
     "output_type": "execute_result"
    }
   ],
   "source": [
    "np.mean(norm.pdf(xss+O_pm)/(0.5-r_m/2))*5"
   ]
  },
  {
   "cell_type": "code",
   "execution_count": 55,
   "metadata": {},
   "outputs": [
    {
     "data": {
      "text/plain": [
       "0.24197072451914337"
      ]
     },
     "execution_count": 55,
     "metadata": {},
     "output_type": "execute_result"
    }
   ],
   "source": [
    "norm.pdf(1)"
   ]
  },
  {
   "cell_type": "code",
   "execution_count": 77,
   "metadata": {},
   "outputs": [
    {
     "data": {
      "text/plain": [
       "True"
      ]
     },
     "execution_count": 77,
     "metadata": {},
     "output_type": "execute_result"
    }
   ],
   "source": [
    "2<3"
   ]
  },
  {
   "cell_type": "code",
   "execution_count": 73,
   "metadata": {},
   "outputs": [
    {
     "data": {
      "text/plain": [
       "0.8896664395759608"
      ]
     },
     "execution_count": 73,
     "metadata": {},
     "output_type": "execute_result"
    }
   ],
   "source": [
    "norm.ppf(0.5+r_m/2)"
   ]
  },
  {
   "cell_type": "code",
   "execution_count": 75,
   "metadata": {},
   "outputs": [
    {
     "data": {
      "text/plain": [
       "0.7976689188861785"
      ]
     },
     "execution_count": 75,
     "metadata": {},
     "output_type": "execute_result"
    }
   ],
   "source": [
    "temp = np.linspace(0.5,1,10000,endpoint=False)\n",
    "np.mean(norm.ppf(temp))"
   ]
  },
  {
   "cell_type": "code",
   "execution_count": 81,
   "metadata": {},
   "outputs": [
    {
     "data": {
      "text/plain": [
       "5.530709549844416e-50"
      ]
     },
     "execution_count": 81,
     "metadata": {},
     "output_type": "execute_result"
    }
   ],
   "source": [
    "norm.pdf(15)"
   ]
  },
  {
   "cell_type": "code",
   "execution_count": 100,
   "metadata": {},
   "outputs": [
    {
     "data": {
      "text/plain": [
       "0.09341125488281249"
      ]
     },
     "execution_count": 100,
     "metadata": {},
     "output_type": "execute_result"
    }
   ],
   "source": [
    "(0.5-r_m/2)"
   ]
  },
  {
   "cell_type": "code",
   "execution_count": 74,
   "metadata": {},
   "outputs": [
    {
     "data": {
      "text/plain": [
       "1.4373168205639093"
      ]
     },
     "execution_count": 74,
     "metadata": {},
     "output_type": "execute_result"
    }
   ],
   "source": [
    "temp = np.linspace(0.5+r_m/2,1,10000,endpoint=False)\n",
    "np.mean(norm.ppf(temp))"
   ]
  },
  {
   "cell_type": "code",
   "execution_count": 78,
   "metadata": {},
   "outputs": [
    {
     "data": {
      "text/plain": [
       "(0.24197072451914342, 3.4353786464771963e-10)"
      ]
     },
     "execution_count": 78,
     "metadata": {},
     "output_type": "execute_result"
    }
   ],
   "source": [
    "def nmean(omega):\n",
    "    return omega*norm.pdf(omega)\n",
    "quad(nmean,1,np.inf,limit=200)"
   ]
  },
  {
   "cell_type": "code",
   "execution_count": 32,
   "metadata": {},
   "outputs": [
    {
     "ename": "NameError",
     "evalue": "name 'O_pm' is not defined",
     "output_type": "error",
     "traceback": [
      "\u001b[1;31m---------------------------------------------------------------------------\u001b[0m",
      "\u001b[1;31mNameError\u001b[0m                                 Traceback (most recent call last)",
      "\u001b[1;32mc:\\Users\\kim9y\\Desktop\\Kuramoto\\Kuramoto-model\\231014 secondary cluster critcal m.ipynb Cell 16\u001b[0m line \u001b[0;36m1\n\u001b[1;32m----> <a href='vscode-notebook-cell:/c%3A/Users/kim9y/Desktop/Kuramoto/Kuramoto-model/231014%20secondary%20cluster%20critcal%20m.ipynb#X21sZmlsZQ%3D%3D?line=0'>1</a>\u001b[0m M_theta(r_m,O_pm\u001b[39m/\u001b[39m\u001b[39m2\u001b[39m,\u001b[39m-\u001b[39mO_pm)\n",
      "\u001b[1;31mNameError\u001b[0m: name 'O_pm' is not defined"
     ]
    }
   ],
   "source": [
    "M_theta(r_m,O_pm/2,-O_pm)"
   ]
  },
  {
   "cell_type": "code",
   "execution_count": 33,
   "metadata": {},
   "outputs": [
    {
     "ename": "NameError",
     "evalue": "name 'r_2' is not defined",
     "output_type": "error",
     "traceback": [
      "\u001b[1;31m---------------------------------------------------------------------------\u001b[0m",
      "\u001b[1;31mNameError\u001b[0m                                 Traceback (most recent call last)",
      "\u001b[1;32mc:\\Users\\kim9y\\Desktop\\Kuramoto\\Kuramoto-model\\231014 secondary cluster critcal m.ipynb Cell 17\u001b[0m line \u001b[0;36m1\n\u001b[1;32m----> <a href='vscode-notebook-cell:/c%3A/Users/kim9y/Desktop/Kuramoto/Kuramoto-model/231014%20secondary%20cluster%20critcal%20m.ipynb#X22sZmlsZQ%3D%3D?line=0'>1</a>\u001b[0m M_theta(r_2,\u001b[39m1.6214522\u001b[39m,O_p2)\u001b[39m*\u001b[39mr_2\u001b[39m/\u001b[39m\u001b[39m2\u001b[39m\n",
      "\u001b[1;31mNameError\u001b[0m: name 'r_2' is not defined"
     ]
    }
   ],
   "source": [
    "M_theta(r_2,1.6214522,O_p2)*r_2/2"
   ]
  },
  {
   "cell_type": "code",
   "execution_count": 666,
   "metadata": {},
   "outputs": [
    {
     "data": {
      "text/plain": [
       "-0.1235186102253833"
      ]
     },
     "execution_count": 666,
     "metadata": {},
     "output_type": "execute_result"
    }
   ],
   "source": [
    "M_theta(r_m,O_pp,0)"
   ]
  },
  {
   "cell_type": "code",
   "execution_count": 39,
   "metadata": {},
   "outputs": [],
   "source": [
    "K = 5\n",
    "m = 6"
   ]
  },
  {
   "cell_type": "code",
   "execution_count": 40,
   "metadata": {},
   "outputs": [
    {
     "data": {
      "text/plain": [
       "0.3708468477431685"
      ]
     },
     "execution_count": 40,
     "metadata": {},
     "output_type": "execute_result"
    }
   ],
   "source": [
    "norm.pdf(0.76434326171875/2)"
   ]
  },
  {
   "cell_type": "code",
   "execution_count": 183,
   "metadata": {},
   "outputs": [
    {
     "name": "stdout",
     "output_type": "stream",
     "text": [
      "count : 14\n",
      "0.5402770996093751\n",
      "K,m 5 6\n"
     ]
    }
   ],
   "source": [
    "r_m = Bisection(r_mean,0.1,1,arg = (K,m,g_n))\n",
    "print(r_m)\n",
    "# O_pm = norm.ppf(r_m/2+0.5)\n",
    "# O_pm\n",
    "# O_pm\n",
    "print('K,m',K,m)"
   ]
  },
  {
   "cell_type": "code",
   "execution_count": 174,
   "metadata": {},
   "outputs": [
    {
     "name": "stdout",
     "output_type": "stream",
     "text": [
      "count : 14\n",
      "0.6389343261718752\n",
      "K,m 5 6\n"
     ]
    }
   ],
   "source": [
    "r_m = Bisection(r_main,0.1,1,arg = (K,m,g_n))\n",
    "print(r_m)\n",
    "O_pm = norm.ppf(r_m/2+0.5)\n",
    "O_pm\n",
    "O_pm\n",
    "print('K,m',K,m)"
   ]
  },
  {
   "cell_type": "code",
   "execution_count": 147,
   "metadata": {},
   "outputs": [
    {
     "data": {
      "text/plain": [
       "0.8896664395759608"
      ]
     },
     "execution_count": 147,
     "metadata": {},
     "output_type": "execute_result"
    }
   ],
   "source": [
    "norm.ppf(r_m/2+0.5)"
   ]
  },
  {
   "cell_type": "code",
   "execution_count": 176,
   "metadata": {},
   "outputs": [
    {
     "name": "stdout",
     "output_type": "stream",
     "text": [
      "count : 13\n",
      "r_s 0.02127078518271446\n",
      "Op2 0.9974954042035493\n",
      "Pass O_p3 < O_d; secondary cluster exist\n",
      "count : 12\n",
      "r_3 0.029464111328125\n",
      "Op3 1.1273468041795076\n",
      "Pass O_p3 < O_d; third cluster exist\n"
     ]
    }
   ],
   "source": [
    "Od = Odf(r_m,K,m)\n",
    "\n",
    "r_s = Bisection(sec_r,0.01,(1-r_m),arg=(Opm,K,m))\n",
    "Op2 = norm.ppf(r_m/2+r_s+0.5)\n",
    "Op2_ = Opf(r_s,K=K,m=m)\n",
    "Od2_ = Odf(r_s*2,K=K,m=m)\n",
    "\n",
    "print('r_s',r_s)\n",
    "print('Op2',Op2)\n",
    "if (Op2 < Od)and(Op2_<Od2_):\n",
    "    print('Pass O_p3 < O_d; secondary cluster exist')\n",
    "else:\n",
    "    print('Opps! O_pp > O_d; secondary cluster blow up')\n",
    "    \n",
    "r_3 = Bisection(sec_r,0.01,0.5,arg=(Op2,K,m))/2\n",
    "Op3 = norm.ppf(r_m/2+r_s+r_3+0.5)\n",
    "Op3_ = Opf(r_3*2,K=K,m=m)\n",
    "Od3_ = Odf(r_3*2,K=K,m=m)\n",
    "\n",
    "print('r_3',r_3)\n",
    "print('Op3',Op3)\n",
    "\n",
    "if (Op3 < Od)and(Op3_<Od3_):\n",
    "    print('Pass O_p3 < O_d; third cluster exist')\n",
    "else:\n",
    "    print('Opps! O_p3 > O_d; third cluster blow up')"
   ]
  },
  {
   "cell_type": "code",
   "execution_count": 149,
   "metadata": {},
   "outputs": [
    {
     "data": {
      "text/plain": [
       "0.953063796879808"
      ]
     },
     "execution_count": 149,
     "metadata": {},
     "output_type": "execute_result"
    }
   ],
   "source": [
    "l = np.linspace(0,0.0655/2,1000)\n",
    "np.mean(norm.ppf(r_m/2+l+0.5))\n",
    "# norm.ppf(r_m/2+r_2+0.5)"
   ]
  },
  {
   "cell_type": "code",
   "execution_count": 150,
   "metadata": {},
   "outputs": [
    {
     "data": {
      "text/plain": [
       "0.19182250976562498"
      ]
     },
     "execution_count": 150,
     "metadata": {},
     "output_type": "execute_result"
    }
   ],
   "source": [
    "(0.01+(1-r_m))/2"
   ]
  },
  {
   "cell_type": "code",
   "execution_count": 165,
   "metadata": {},
   "outputs": [
    {
     "data": {
      "text/plain": [
       "nan"
      ]
     },
     "execution_count": 165,
     "metadata": {},
     "output_type": "execute_result"
    }
   ],
   "source": [
    "r_2nd(0.30,r_m,O_pm,K,m,g_n)"
   ]
  },
  {
   "cell_type": "code",
   "execution_count": 180,
   "metadata": {},
   "outputs": [
    {
     "name": "stdout",
     "output_type": "stream",
     "text": [
      "Please select another section\n",
      "nan\n",
      "O_p2 nan\n"
     ]
    },
    {
     "data": {
      "text/plain": [
       "False"
      ]
     },
     "execution_count": 180,
     "metadata": {},
     "output_type": "execute_result"
    }
   ],
   "source": [
    "r_2 = Bisection(r_2nd,0.01,(1-r_m)/2,arg = (r_m,O_pm,K,m,g_n))\n",
    "print(r_2)\n",
    "O_p2 = norm.ppf(r_m/2+r_2+0.5)\n",
    "O_p2 = O_pm + Opf(2*r_2,K=K,m=m)\n",
    "print('O_p2',O_p2)\n",
    "O_p2_f = Opf(r_2*2)\n",
    "O_p2_d = Odf(r_2*2)\n",
    "O_p2_f<O_p2_d"
   ]
  },
  {
   "cell_type": "code",
   "execution_count": 214,
   "metadata": {},
   "outputs": [
    {
     "data": {
      "text/plain": [
       "1.2691485287178896"
      ]
     },
     "execution_count": 214,
     "metadata": {},
     "output_type": "execute_result"
    }
   ],
   "source": [
    "l = np.linspace(0,r_2/2,1000)\n",
    "np.mean(norm.ppf(r_m/2+l+0.5))"
   ]
  },
  {
   "cell_type": "code",
   "execution_count": null,
   "metadata": {},
   "outputs": [],
   "source": [
    "def check_secondary(K,m):\n",
    "    r_m = Bisection(r_main,0.1,1,arg = (K,m,g_n))\n",
    "    O_pm = Opf(r_m)\n",
    "    r_2 = Bisection(r_2nd,0.06,(1-r_m)/2,arg = (r_m,O_pm,K,m,g_n))\n",
    "    O_p2 = Opf(r_m+r_s*2)#+Opf(r_s/2)"
   ]
  },
  {
   "cell_type": "code",
   "execution_count": 506,
   "metadata": {},
   "outputs": [
    {
     "data": {
      "text/plain": [
       "0.013152093393947163"
      ]
     },
     "execution_count": 506,
     "metadata": {},
     "output_type": "execute_result"
    }
   ],
   "source": [
    "r_3rd(0.5,r_m,O_pm,r_2,O_p2,K,m,g_n)"
   ]
  },
  {
   "cell_type": "code",
   "execution_count": 507,
   "metadata": {},
   "outputs": [
    {
     "name": "stdout",
     "output_type": "stream",
     "text": [
      "Please select another section\n",
      "nan\n"
     ]
    },
    {
     "data": {
      "text/plain": [
       "nan"
      ]
     },
     "execution_count": 507,
     "metadata": {},
     "output_type": "execute_result"
    }
   ],
   "source": [
    "r_3 = Bisection(r_3rd,0.01,(1-r_m-r_2)/2,arg = (r_m,O_pm,r_2,O_p2,K,m,g_n))\n",
    "print(r_3)\n",
    "O_p3 = Opf(r_m)+Opf(2*r_s)+Opf(2*r_3)\n",
    "O_p3"
   ]
  },
  {
   "cell_type": "code",
   "execution_count": 455,
   "metadata": {},
   "outputs": [
    {
     "data": {
      "text/plain": [
       "-0.15537764974342247"
      ]
     },
     "execution_count": 455,
     "metadata": {},
     "output_type": "execute_result"
    }
   ],
   "source": [
    "M_theta(r_2,1.6,O_p2)*r_2/2"
   ]
  },
  {
   "cell_type": "code",
   "execution_count": 433,
   "metadata": {},
   "outputs": [
    {
     "name": "stdout",
     "output_type": "stream",
     "text": [
      "count : 12\n",
      "0.13557907305657863\n"
     ]
    },
    {
     "data": {
      "text/plain": [
       "1.244987166897404"
      ]
     },
     "execution_count": 433,
     "metadata": {},
     "output_type": "execute_result"
    }
   ],
   "source": [
    "r_3 = Bisection(r_3rd,0.06,(1-r_m)/2,arg = (r_m,O_pp,K,m,g_n))\n",
    "print(r_3)\n",
    "O_p3 = Opf(r_m+r_s*2+r_3*2)\n",
    "O_p3"
   ]
  },
  {
   "cell_type": "code",
   "execution_count": 420,
   "metadata": {},
   "outputs": [
    {
     "data": {
      "text/plain": [
       "1.0879669977347337"
      ]
     },
     "execution_count": 420,
     "metadata": {},
     "output_type": "execute_result"
    }
   ],
   "source": [
    "O_pp = Opf(r_m+r_s*2)\n",
    "O_pp"
   ]
  },
  {
   "cell_type": "code",
   "execution_count": 398,
   "metadata": {},
   "outputs": [
    {
     "data": {
      "text/plain": [
       "0.9968569845990712"
      ]
     },
     "execution_count": 398,
     "metadata": {},
     "output_type": "execute_result"
    }
   ],
   "source": [
    "O_pp = Opf(r_m+r_s)\n",
    "O_pp"
   ]
  },
  {
   "cell_type": "code",
   "execution_count": 90,
   "metadata": {},
   "outputs": [
    {
     "name": "stdout",
     "output_type": "stream",
     "text": [
      "r_s 0.05123634487390519\n",
      "Opp 2.4053093495915343\n",
      "Pass O_p3 < O_d; secondary cluster exist\n"
     ]
    }
   ],
   "source": [
    "Od = Odf(r_m,K,m)\n",
    "r_s = Bisection(sec_r,0.01,(1-r_m),arg=(O_pm,K,m))\n",
    "Opp = Opf(r_m/2,K=K,m=m) + O_pm\n",
    "print('r_s',r_s)\n",
    "print('Opp',Opp)\n",
    "if Opp < Od:\n",
    "    print('Pass O_p3 < O_d; secondary cluster exist')\n",
    "else:\n",
    "    print('Opps! O_pp > O_d; secondary cluster blow up')\n",
    "    "
   ]
  },
  {
   "cell_type": "code",
   "execution_count": 337,
   "metadata": {},
   "outputs": [
    {
     "data": {
      "text/plain": [
       "102.79897570610045"
      ]
     },
     "execution_count": 337,
     "metadata": {},
     "output_type": "execute_result"
    }
   ],
   "source": [
    "r_s*500"
   ]
  },
  {
   "cell_type": "code",
   "execution_count": 9,
   "metadata": {},
   "outputs": [],
   "source": [
    "def A(r,K=K,m=m):\n",
    "    return 1/np.sqrt(K*r*m)\n",
    "\n",
    "def B(r,CS,CM,K=K,m=m):\n",
    "    return (CS-CM)/(K*r)\n",
    "def M_theta(r,CS,CM,K=K,m=m):\n",
    "    a = A(r,K=K,m=m)\n",
    "    b = B(r,CS,CM,K=K,m=m)\n",
    "    return - a**2/(2*b**2)"
   ]
  },
  {
   "cell_type": "code",
   "execution_count": 52,
   "metadata": {},
   "outputs": [],
   "source": [
    "m = 5\n",
    "K = 6"
   ]
  },
  {
   "cell_type": "code",
   "execution_count": 53,
   "metadata": {},
   "outputs": [
    {
     "name": "stdout",
     "output_type": "stream",
     "text": [
      "count : 13\n",
      "0.76434326171875\n"
     ]
    },
    {
     "data": {
      "text/plain": [
       "1.185912798612868"
      ]
     },
     "execution_count": 53,
     "metadata": {},
     "output_type": "execute_result"
    }
   ],
   "source": [
    "r_m = Bisection(r_main,0.1,1,arg = (K,m,g_n))\n",
    "print(r_m)\n",
    "O_pm = norm.ppf(r_m/2+0.5,loc=0,scale=1)\n",
    "O_pm"
   ]
  },
  {
   "cell_type": "code",
   "execution_count": 34,
   "metadata": {},
   "outputs": [
    {
     "data": {
      "text/plain": [
       "1.185912798612868"
      ]
     },
     "execution_count": 34,
     "metadata": {},
     "output_type": "execute_result"
    }
   ],
   "source": [
    "norm.ppf(r_m/2+0.5,loc=0,scale=1)"
   ]
  },
  {
   "cell_type": "code",
   "execution_count": 35,
   "metadata": {},
   "outputs": [
    {
     "ename": "NameError",
     "evalue": "name 'r_sec' is not defined",
     "output_type": "error",
     "traceback": [
      "\u001b[0;31m---------------------------------------------------------------------------\u001b[0m",
      "\u001b[0;31mNameError\u001b[0m                                 Traceback (most recent call last)",
      "\u001b[1;32m/Users/kimgug-young/Desktop/KURAMOTO 1st order/Kuramoto-model/231014 secondary cluster critcal m.ipynb 셀 39\u001b[0m line \u001b[0;36m1\n\u001b[0;32m----> <a href='vscode-notebook-cell:/Users/kimgug-young/Desktop/KURAMOTO%201st%20order/Kuramoto-model/231014%20secondary%20cluster%20critcal%20m.ipynb#X52sZmlsZQ%3D%3D?line=0'>1</a>\u001b[0m r_s \u001b[39m=\u001b[39m Bisection(r_sec,\u001b[39m0.06\u001b[39m,(\u001b[39m1\u001b[39m\u001b[39m-\u001b[39mr_m)\u001b[39m/\u001b[39m\u001b[39m2\u001b[39m,arg \u001b[39m=\u001b[39m (r_m,O_pm,K,m,g_n))\n\u001b[1;32m      <a href='vscode-notebook-cell:/Users/kimgug-young/Desktop/KURAMOTO%201st%20order/Kuramoto-model/231014%20secondary%20cluster%20critcal%20m.ipynb#X52sZmlsZQ%3D%3D?line=1'>2</a>\u001b[0m \u001b[39mprint\u001b[39m(r_s)\n\u001b[1;32m      <a href='vscode-notebook-cell:/Users/kimgug-young/Desktop/KURAMOTO%201st%20order/Kuramoto-model/231014%20secondary%20cluster%20critcal%20m.ipynb#X52sZmlsZQ%3D%3D?line=2'>3</a>\u001b[0m O_pp \u001b[39m=\u001b[39m Opf(r_m\u001b[39m+\u001b[39mr_s)\n",
      "\u001b[0;31mNameError\u001b[0m: name 'r_sec' is not defined"
     ]
    }
   ],
   "source": [
    "r_s = Bisection(r_sec,0.06,(1-r_m)/2,arg = (r_m,O_pm,K,m,g_n))\n",
    "print(r_s)\n",
    "O_pp = Opf(r_m+r_s)\n",
    "O_pp"
   ]
  },
  {
   "cell_type": "code",
   "execution_count": 365,
   "metadata": {},
   "outputs": [
    {
     "name": "stdout",
     "output_type": "stream",
     "text": [
      "Please select another section\n"
     ]
    },
    {
     "data": {
      "text/plain": [
       "nan"
      ]
     },
     "execution_count": 365,
     "metadata": {},
     "output_type": "execute_result"
    }
   ],
   "source": [
    "r_3 = Bisection(r_sec,0.01,(1-r_m-r_s*2)/2,arg = (r_m,O_pp,K,m,g_n))\n",
    "r_3"
   ]
  },
  {
   "cell_type": "code",
   "execution_count": 355,
   "metadata": {},
   "outputs": [
    {
     "data": {
      "text/plain": [
       "nan"
      ]
     },
     "execution_count": 355,
     "metadata": {},
     "output_type": "execute_result"
    }
   ],
   "source": [
    "O_p3 = Opf(r_m)+Opf(r_s)\n",
    "O_p3"
   ]
  },
  {
   "cell_type": "code",
   "execution_count": 356,
   "metadata": {},
   "outputs": [
    {
     "name": "stdout",
     "output_type": "stream",
     "text": [
      "count : 0\n"
     ]
    },
    {
     "name": "stderr",
     "output_type": "stream",
     "text": [
      "C:\\Users\\kim9y\\AppData\\Local\\Temp\\ipykernel_31104\\864942427.py:12: IntegrationWarning: The occurrence of roundoff error is detected, which prevents \n",
      "  the requested tolerance from being achieved.  The error may be \n",
      "  underestimated.\n",
      "  I_l,err = quad(integrand_lock,0,theta_p,limit=200)\n",
      "C:\\Users\\kim9y\\AppData\\Local\\Temp\\ipykernel_31104\\864942427.py:24: IntegrationWarning: The occurrence of roundoff error is detected, which prevents \n",
      "  the requested tolerance from being achieved.  The error may be \n",
      "  underestimated.\n",
      "  I_dp,err = quad(integrand_drift,O_pp,np.inf,limit=200)\n"
     ]
    },
    {
     "data": {
      "text/plain": [
       "0.255"
      ]
     },
     "execution_count": 356,
     "metadata": {},
     "output_type": "execute_result"
    }
   ],
   "source": [
    "r_3 = Bisection(r_sec,0.01,0.5,arg = (r_m,O_p3,K,m,g_n))\n",
    "r_3"
   ]
  },
  {
   "cell_type": "code",
   "execution_count": null,
   "metadata": {},
   "outputs": [],
   "source": [
    "r_3 = Bisection(r_sec,0.01,0.5,arg = (r_3,K,m,g_n))\n",
    "r_3"
   ]
  },
  {
   "cell_type": "code",
   "execution_count": 113,
   "metadata": {},
   "outputs": [
    {
     "data": {
      "text/plain": [
       "array([0.60925, 0.1295 , 0.12925])"
      ]
     },
     "execution_count": 113,
     "metadata": {},
     "output_type": "execute_result"
    }
   ],
   "source": [
    "CS/N"
   ]
  },
  {
   "cell_type": "code",
   "execution_count": 125,
   "metadata": {},
   "outputs": [
    {
     "data": {
      "text/plain": [
       "0.11867126063543693"
      ]
     },
     "execution_count": 125,
     "metadata": {},
     "output_type": "execute_result"
    }
   ],
   "source": [
    "r_ls(0.1,r_m,K=K,m=m,g=g_n)\n",
    "# r_ds(0.3,r_m,K=K,m=m,g=g_n)"
   ]
  },
  {
   "cell_type": "code",
   "execution_count": 10,
   "metadata": {},
   "outputs": [],
   "source": [
    "Opf = lambda r,K=K,m=m:  (4/np.pi)*np.sqrt(K*r/m)\n",
    "Odf = lambda r,K=K,m=m:  K*r\n",
    "def Main_r(r,K=K,m=m):\n",
    "    Op = Opf(r,K,m)\n",
    "    r_ = norm.cdf(Op) - norm.cdf(-Op)\n",
    "    return r_-r\n",
    "\n",
    "def sec_r(r2,Opm,K=K,m=m):\n",
    "    Opp = Opf(r2,K,m) + Opm\n",
    "    r_ = norm.cdf(Opp) - norm.cdf(Opm)\n",
    "    return r_-r2/2"
   ]
  },
  {
   "cell_type": "code",
   "execution_count": 11,
   "metadata": {},
   "outputs": [],
   "source": [
    "def Bisection(f,r_a,r_b,eps =1e-5,arg=()):\n",
    "    r_c = (r_a+r_b)/2\n",
    "    num = 0 \n",
    "    \n",
    "    while abs(f(r_c,*arg))>eps:\n",
    "        r_c = (r_a+r_b)/2\n",
    "        if f(r_a,*arg)*f(r_c,*arg)>0:\n",
    "            r_a = r_c\n",
    "        else:\n",
    "            r_b = r_c\n",
    "        num+=1\n",
    "        if num >1000:\n",
    "            print('Please select another section')\n",
    "            break\n",
    "    print(f'count : {num}')\n",
    "    return r_c\n",
    "\n",
    "def Bisection_withf(f,r_a,r_b,eps =1e-5,arg=()):\n",
    "    fc = lambda r: f(r,*arg) - r\n",
    "    r_c = (r_a+r_b)/2\n",
    "    num = 0 \n",
    "    \n",
    "    while abs(fc(r_c))>eps:\n",
    "        r_c = (r_a+r_b)/2\n",
    "        if fc(r_a)*fc(r_c)>0:\n",
    "            r_a = r_c\n",
    "        else:\n",
    "            r_b = r_c\n",
    "        num+=1\n",
    "        if num >1000:\n",
    "            print('Please select another section')\n",
    "            break\n",
    "    print(f'count : {num}')\n",
    "    return r_c\n",
    "\n"
   ]
  },
  {
   "cell_type": "code",
   "execution_count": 152,
   "metadata": {},
   "outputs": [],
   "source": [
    "K = 2\n",
    "m = 6"
   ]
  },
  {
   "cell_type": "code",
   "execution_count": 153,
   "metadata": {},
   "outputs": [
    {
     "name": "stderr",
     "output_type": "stream",
     "text": [
      "C:\\Users\\kim9y\\AppData\\Local\\Temp\\ipykernel_31104\\1260678388.py:13: RuntimeWarning: invalid value encountered in arcsin\n",
      "  theta_p = np.arcsin(A)\n"
     ]
    },
    {
     "name": "stdout",
     "output_type": "stream",
     "text": [
      "count : 13\n"
     ]
    },
    {
     "data": {
      "text/plain": [
       "0.22886962890625"
      ]
     },
     "execution_count": 153,
     "metadata": {},
     "output_type": "execute_result"
    }
   ],
   "source": [
    "r_m = Bisection(r_main,0.1,1,arg = (K,m,g_n))\n",
    "r_m"
   ]
  },
  {
   "cell_type": "code",
   "execution_count": 154,
   "metadata": {},
   "outputs": [
    {
     "name": "stdout",
     "output_type": "stream",
     "text": [
      "count : 8\n"
     ]
    },
    {
     "name": "stderr",
     "output_type": "stream",
     "text": [
      "C:\\Users\\kim9y\\AppData\\Local\\Temp\\ipykernel_31104\\1260678388.py:13: RuntimeWarning: invalid value encountered in arcsin\n",
      "  theta_p = np.arcsin(A)\n"
     ]
    },
    {
     "data": {
      "text/plain": [
       "0.27226562500000007"
      ]
     },
     "execution_count": 154,
     "metadata": {},
     "output_type": "execute_result"
    }
   ],
   "source": [
    "r_m = Bisection_withf(r_lock1,0.1,1,arg = (K,m,g_n))\n",
    "r_m"
   ]
  },
  {
   "cell_type": "code",
   "execution_count": 78,
   "metadata": {},
   "outputs": [
    {
     "name": "stdout",
     "output_type": "stream",
     "text": [
      "count : 15\n"
     ]
    },
    {
     "data": {
      "text/plain": [
       "0.6520355224609375"
      ]
     },
     "execution_count": 78,
     "metadata": {},
     "output_type": "execute_result"
    }
   ],
   "source": [
    "f = lambda r,K=K,m=m:Main_r(r,K=K,m=m)\n",
    "r_m = Bisection(f,0.1,1)\n",
    "r_m"
   ]
  },
  {
   "cell_type": "code",
   "execution_count": 372,
   "metadata": {},
   "outputs": [
    {
     "name": "stdout",
     "output_type": "stream",
     "text": [
      "count : 13\n",
      "Od 3.6684814453125005\n",
      "r_m 0.6114135742187501\n",
      "Opm 0.8622005360808083\n",
      "Pass O_p < O_d; main cluster exist\n",
      "count : 11\n",
      "r_s 0.11063232421875\n",
      "Opp 1.228960370941933\n",
      "Pass O_p3 < O_d; secondary cluster exist\n",
      "count : 12\n",
      "r_3 0.053629150390625005\n",
      "Op3 1.4843135145367061\n",
      "Pass O_p3 < O_d; third cluster exist\n"
     ]
    }
   ],
   "source": [
    "# r_0 = 0.5\n",
    "eps = 1e-5\n",
    "f = lambda r,K=K,m=m:Main_r(r,K=K,m=m)\n",
    "r_m = Bisection(f,0.1,1)\n",
    "Opm = Opf(r_m,K,m)\n",
    "Od = Odf(r_m,K,m)\n",
    "print('Od',Od)\n",
    "print('r_m',r_m)\n",
    "print('Opm',Opm)\n",
    "if Opm < Od:\n",
    "    print('Pass O_p < O_d; main cluster exist')\n",
    "else:\n",
    "    print('Opps! O_p > O_d; main cluster blow up')\n",
    "\n",
    "r_s = Bisection(sec_r,0.01,0.5,arg=(Opm,K,m))/2\n",
    "Opp = Opf(r_s,K=K,m=m) + Opm\n",
    "print('r_s',r_s)\n",
    "print('Opp',Opp)\n",
    "if Opp < Od:\n",
    "    print('Pass O_p3 < O_d; secondary cluster exist')\n",
    "else:\n",
    "    print('Opps! O_pp > O_d; secondary cluster blow up')\n",
    "    \n",
    "r_3 = Bisection(sec_r,0.01,0.5,arg=(Opp,K,m))/2\n",
    "Op3 = Opf(r_3,K=K,m=m) + Opp\n",
    "\n",
    "print('r_3',r_3)\n",
    "print('Op3',Op3)\n",
    "\n",
    "if Op3 < Od:\n",
    "    print('Pass O_p3 < O_d; third cluster exist')\n",
    "else:\n",
    "    print('Opps! O_p3 > O_d; third cluster blow up')"
   ]
  },
  {
   "cell_type": "code",
   "execution_count": null,
   "metadata": {},
   "outputs": [],
   "source": [
    "〈cos θ 〉=−a2 2b2 ,"
   ]
  },
  {
   "cell_type": "code",
   "execution_count": 90,
   "metadata": {},
   "outputs": [],
   "source": [
    "def A(r,K=K,m=m):\n",
    "    return 1/np.sqrt(K*r*m)\n",
    "\n",
    "def B(r,CS,CM,K=K,m=m):\n",
    "    return (CS-CM)/(K*r)\n",
    "def M_theta(r,CS,CM,K=K,m=m):\n",
    "    a = A(r,K=K,m=m)\n",
    "    b = B(r,CS,CM,K=K,m=m)\n",
    "    return - a**2/(2*b**2)"
   ]
  },
  {
   "cell_type": "code",
   "execution_count": null,
   "metadata": {},
   "outputs": [],
   "source": [
    "mean_theta = cos"
   ]
  }
 ],
 "metadata": {
  "kernelspec": {
   "display_name": "Python 3",
   "language": "python",
   "name": "python3"
  },
  "language_info": {
   "codemirror_mode": {
    "name": "ipython",
    "version": 3
   },
   "file_extension": ".py",
   "mimetype": "text/x-python",
   "name": "python",
   "nbconvert_exporter": "python",
   "pygments_lexer": "ipython3",
   "version": "3.11.1"
  }
 },
 "nbformat": 4,
 "nbformat_minor": 2
}
