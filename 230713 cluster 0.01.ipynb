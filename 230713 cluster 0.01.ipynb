{
 "cells": [
  {
   "cell_type": "code",
   "execution_count": 2,
   "metadata": {},
   "outputs": [],
   "source": [
    "import numpy as np\n",
    "import pandas as pd\n",
    "from TO_sim.TLO import TLO_col,make_new_df,hysterisis_col,mf2_sets_TLO\n",
    "from TO_sim.gen_Distribution import Normal\n",
    "from parmap import parmap\n",
    "from tqdm.notebook import tqdm\n",
    "import matplotlib.pyplot as plt\n",
    "import warnings\n",
    "warnings.simplefilter(action='ignore', category=FutureWarning)"
   ]
  },
  {
   "cell_type": "code",
   "execution_count": 3,
   "metadata": {},
   "outputs": [],
   "source": [
    "m_set = np.arange(0.1,10+0.1/2,0.1).reshape(-1,1)\n",
    "K = 0\n",
    "seed = 10\n",
    "N = 500\n",
    "theta_init,omega,Kc = Normal(N,0,1,seed=seed)\n",
    "N_set = len(m_set)\n",
    "omega = np.sort(omega) - np.mean(omega)\n",
    "theta_sets = (np.ones((N_set,1))*theta_init)\n",
    "# theta_sets = (np.ones((N_set,1))*np.ones_like(theta_init))\n",
    "omega_sets = (np.ones((N_set,1))*omega)\n",
    "\n",
    "\n",
    "# m = 10\n",
    "t_end = 500\n",
    "dt =0.01\n",
    "t = np.arange(0,t_end,dt)\n",
    "dK = 1\n",
    "K_end = 10\n",
    "Ks = np.arange(0,K_end+dK/2,dK)\n",
    "# theta_set, dtheta_set,rs = mf2_sets_TLO(m_set = m_set,N=N,K=K,t_array=t,p_theta=theta_sets,p_dtheta= 0*omega_sets,p_omega=omega_sets,result_time=int((t_end-350)*(1/dt)))"
   ]
  },
  {
   "cell_type": "code",
   "execution_count": null,
   "metadata": {},
   "outputs": [],
   "source": [
    "df_Km,theta_col,dtheta_col = make_new_df(K,m_set[0],N = 500)\n",
    "theta_set, dtheta_set,rs = mf2_sets_TLO(m_set = m_set,N=N,K=K,t_array=t,p_theta=theta_sets,p_dtheta= 0*omega_sets,p_omega=omega_sets,result_time=int((t_end-350)*(1/dt)))\n",
    "(last_theta,last_dtheta) = hysterisis_col(df_Km,(theta_set, dtheta_set,rs),theta_col,dtheta_col,K=K,m_set=m_set,N=N,omega=omega)"
   ]
  },
  {
   "cell_type": "code",
   "execution_count": null,
   "metadata": {},
   "outputs": [],
   "source": [
    "for K in tqdm(Ks[1:]):\n",
    "    theta_set, dtheta_set,rs = mf2_sets_TLO(m_set = m_set,N=N,K=K,t_array=t,p_theta=last_theta,p_dtheta=last_dtheta,p_omega=omega_sets,result_time=int((t_end-350)*(1/dt)))\n",
    "    (last_theta,last_dtheta) = hysterisis_col(df_Km,(theta_set, dtheta_set,rs),theta_col,dtheta_col,K,m_set)"
   ]
  }
 ],
 "metadata": {
  "kernelspec": {
   "display_name": "Python 3",
   "language": "python",
   "name": "python3"
  },
  "language_info": {
   "codemirror_mode": {
    "name": "ipython",
    "version": 3
   },
   "file_extension": ".py",
   "mimetype": "text/x-python",
   "name": "python",
   "nbconvert_exporter": "python",
   "pygments_lexer": "ipython3",
   "version": "3.11.1"
  },
  "orig_nbformat": 4
 },
 "nbformat": 4,
 "nbformat_minor": 2
}
