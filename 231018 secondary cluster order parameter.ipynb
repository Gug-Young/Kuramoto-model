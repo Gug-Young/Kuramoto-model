{
 "cells": [
  {
   "cell_type": "code",
   "execution_count": 1,
   "metadata": {},
   "outputs": [],
   "source": [
    "import numpy as np\n",
    "import pandas as pd\n",
    "import matplotlib.pyplot as plt\n",
    "from TO_sim.Sol_Kuramoto import Sol_Kuramoto_mf2 as mf2\n",
    "from TO_sim.Kuramoto_model import Kuramoto_2nd_mf\n",
    "\n",
    "from TO_sim.get_cluster import cluster_os_new2\n",
    "from TO_sim.gen_Distribution import Normal, Quantile_Normal as Q_Normal, Lorentzian\n",
    "import TO_sim.Integrator_jit as IJ\n",
    "from scipy.integrate import quad\n",
    "from scipy.stats import norm\n",
    "\n",
    "RK4_jit = IJ.RK4"
   ]
  },
  {
   "cell_type": "code",
   "execution_count": 4,
   "metadata": {},
   "outputs": [],
   "source": [
    "K=9\n",
    "m=6"
   ]
  },
  {
   "cell_type": "code",
   "execution_count": 5,
   "metadata": {},
   "outputs": [],
   "source": [
    "def Bisection(f,r_a,r_b,eps =1e-5,arg=()):\n",
    "    r_c = (r_a+r_b)/2\n",
    "    num = 0 \n",
    "    \n",
    "    while abs(f(r_c,*arg))>eps:\n",
    "        r_c = (r_a+r_b)/2\n",
    "        if f(r_a,*arg)*f(r_c,*arg)>0:\n",
    "            r_a = r_c\n",
    "        else:\n",
    "            r_b = r_c\n",
    "        num+=1\n",
    "        if num >50:\n",
    "            print('Please select another section')\n",
    "            return np.NAN\n",
    "    print(f'count : {num}')\n",
    "    return r_c"
   ]
  },
  {
   "cell_type": "code",
   "execution_count": 137,
   "metadata": {},
   "outputs": [],
   "source": [
    "def g_n(x):\n",
    "    return norm.pdf(x,0,1)\n",
    "\n",
    "def r_lock1(r,K=K,m=m,g=g_n):\n",
    "    X = K*r\n",
    "    integrand_lock = lambda x:np.cos(x)**2*g(X*np.sin(x))\n",
    "    omega_p = (4/np.pi)*np.sqrt(X/m)\n",
    "\n",
    "    A = omega_p/X\n",
    "    if abs(A)<=1:\n",
    "        theta_p = np.arcsin(A)\n",
    "        I_l,err = quad(integrand_lock,-theta_p,theta_p,limit=200)\n",
    "        return X*I_l\n",
    "\n",
    "    else: \n",
    "        theta_p = np.arcsin(A)\n",
    "        I_l,err = quad(integrand_lock,-np.pi/2,np.pi/2,limit=200)\n",
    "        return X*I_l\n",
    "    \n",
    "\n",
    "def r_drift1(r,K=K,m=m,g=g_n):\n",
    "    X = K*r\n",
    "    O_p = (4/np.pi)*np.sqrt(X/m)\n",
    "    integrand_drift = lambda x:1/(x**2)*g(x)\n",
    "    I_d,err = quad(integrand_drift,O_p,np.inf,limit=200)\n",
    "    return -X/(m)*I_d\n",
    "\n",
    "def r_main(r,K=K,m=m,g=g_n):\n",
    "    rl = r_lock1(r,K=K,m=m,g=g_n)\n",
    "    rd = 0#r_drift1(r,K=K,m=m,g=g_n)\n",
    "    return rl+rd - r\n",
    "\n",
    "\n",
    "\n",
    "def r_mean(r,K=K,m=m,g=g_n):\n",
    "    rl = r_lock1(r,K=K,m=m,g=g_n)\n",
    "    rd = r_drift1(r,K=K,m=m,g=g_n)\n",
    "    return rl+rd - r"
   ]
  },
  {
   "cell_type": "code",
   "execution_count": 154,
   "metadata": {},
   "outputs": [],
   "source": [
    "def g_sec(x,Or,Om):\n",
    "    g = norm.pdf(x+Or,-Or,1)\n",
    "    dO = abs(Or-Om)\n",
    "    return np.where(x<dO,1e-9,g)"
   ]
  },
  {
   "cell_type": "code",
   "execution_count": 161,
   "metadata": {},
   "outputs": [],
   "source": [
    "def r_lock2(r,O_r,O_pm,K=K,m=m,g=g_sec):\n",
    "    X = K*r\n",
    "    integrand_lock = lambda x:np.cos(x)**2*g(X*np.sin(x),O_r,O_pm)\n",
    "    omega_p = (4/np.pi)*np.sqrt(X/m)\n",
    "\n",
    "    A = omega_p/X\n",
    "    if abs(A)<=1:\n",
    "        theta_p = np.arcsin(A)\n",
    "        I_l,err = quad(integrand_lock,-theta_p,theta_p,epsabs=1e-10,limit=2000)\n",
    "        return X*I_l\n",
    "\n",
    "    else: \n",
    "        I_l,err = quad(integrand_lock,-np.pi/2,np.pi/2,epsabs=1e-10,limit=2000)\n",
    "        return X*I_l\n",
    "    \n",
    "def r_sec(r,O_r,O_pm,K=K,m=m,g=g_sec):\n",
    "    rl = r_lock2(r,O_r,O_pm,K=K,m=m,g=g_sec)\n",
    "    rd = 0#r_drift1(r,K=K,m=m,g=g_n)\n",
    "    return rl+rd - r"
   ]
  },
  {
   "cell_type": "code",
   "execution_count": 147,
   "metadata": {},
   "outputs": [],
   "source": [
    "Opf = lambda r,K=K,m=m:  (4/np.pi)*np.sqrt(K*r/m)\n",
    "Odf = lambda r,K=K,m=m:  K*r"
   ]
  },
  {
   "cell_type": "code",
   "execution_count": 76,
   "metadata": {},
   "outputs": [
    {
     "data": {
      "text/plain": [
       "0.0"
      ]
     },
     "execution_count": 76,
     "metadata": {},
     "output_type": "execute_result"
    }
   ],
   "source": [
    "norm.pdf(160,0,1)"
   ]
  },
  {
   "cell_type": "code",
   "execution_count": 170,
   "metadata": {},
   "outputs": [],
   "source": [
    "def A(r,K=K,m=m):\n",
    "    return 1/np.sqrt(K*r*m)\n",
    "\n",
    "def B(r,CS,CM,K=K,m=m):\n",
    "    return (CS-CM)/(K*r)\n",
    "def M_theta(r,CS,CM,K=K,m=m):\n",
    "    a = A(r,K=K,m=m)\n",
    "    b = B(r,CS,CM,K=K,m=m)\n",
    "    return - a**2/(2*b**2)"
   ]
  },
  {
   "cell_type": "code",
   "execution_count": 166,
   "metadata": {},
   "outputs": [
    {
     "name": "stdout",
     "output_type": "stream",
     "text": [
      "count : 8\n",
      "0.497265625\n",
      "K,m 6 8\n"
     ]
    }
   ],
   "source": [
    "r_m_ = Bisection(r_mean,0.1,1,arg = (K,m,g_n))\n",
    "print(r_m_)\n",
    "# O_pm = norm.ppf(r_mean/2+0.5)\n",
    "# O_pm\n",
    "# O_pm\n",
    "print('K,m',K,m)\n",
    "# print('O_pm',O_pm)"
   ]
  },
  {
   "cell_type": "code",
   "execution_count": 167,
   "metadata": {},
   "outputs": [
    {
     "name": "stdout",
     "output_type": "stream",
     "text": [
      "count : 15\n",
      "0.6029266357421876\n",
      "K,m 6 8\n",
      "O_pm 0.8468596339939874\n"
     ]
    }
   ],
   "source": [
    "r_m = Bisection(r_main,0.1,1,arg = (K,m,g_n))\n",
    "print(r_m)\n",
    "O_pm = norm.ppf(r_m/2+0.5)\n",
    "# O_pm\n",
    "# O_pm\n",
    "print('K,m',K,m)\n",
    "print('O_pm',O_pm)"
   ]
  },
  {
   "cell_type": "code",
   "execution_count": 168,
   "metadata": {},
   "outputs": [],
   "source": [
    "O_r = quad(norm.ppf,r_m/2+0.5,1)[0]/(0.5-r_m/2)\n",
    "O_pm = norm.ppf(r_m/2+0.5)"
   ]
  },
  {
   "cell_type": "code",
   "execution_count": 177,
   "metadata": {},
   "outputs": [
    {
     "data": {
      "text/plain": [
       "-0.13765813584728423"
      ]
     },
     "execution_count": 177,
     "metadata": {},
     "output_type": "execute_result"
    }
   ],
   "source": [
    "sin_m = M_theta(0.2,O_r,0,K,m)\n",
    "sin_m*K*r_m"
   ]
  },
  {
   "cell_type": "code",
   "execution_count": null,
   "metadata": {},
   "outputs": [],
   "source": [
    "sin_m*"
   ]
  },
  {
   "cell_type": "code",
   "execution_count": 165,
   "metadata": {},
   "outputs": [],
   "source": [
    "K=6\n",
    "m=8"
   ]
  },
  {
   "cell_type": "code",
   "execution_count": 169,
   "metadata": {},
   "outputs": [
    {
     "name": "stdout",
     "output_type": "stream",
     "text": [
      "Please select another section\n",
      "nan\n",
      "K,m 6 8\n",
      "O_pm nan\n"
     ]
    }
   ],
   "source": [
    "r_s = Bisection(r_sec,0.01,(1-r_m),eps=1e-3,arg = (O_r,O_pm,K,m,g_sec))\n",
    "print(r_s)\n",
    "O_ps = norm.ppf(r_s/2+0.5)\n",
    "# O_pm\n",
    "# O_pm\n",
    "print('K,m',K,m)\n",
    "print('O_pm',O_ps)"
   ]
  },
  {
   "cell_type": "code",
   "execution_count": 113,
   "metadata": {},
   "outputs": [],
   "source": [
    "def g_sec(x,Or,Om):\n",
    "    g = norm.pdf(x+O_r,-Or,1)\n",
    "    dO = abs(Or-Om)\n",
    "    return np.where(x<dO,1e-9,g)"
   ]
  },
  {
   "cell_type": "code",
   "execution_count": 90,
   "metadata": {},
   "outputs": [],
   "source": [
    "def mean_omega(x):\n",
    "    return norm.ppf(x)"
   ]
  },
  {
   "cell_type": "code",
   "execution_count": 120,
   "metadata": {},
   "outputs": [
    {
     "data": {
      "text/plain": [
       "1.572200088528785"
      ]
     },
     "execution_count": 120,
     "metadata": {},
     "output_type": "execute_result"
    }
   ],
   "source": [
    "O_r = quad(norm.ppf,0.5+r_m/2,1)[0]/(0.5-r_m/2)\n",
    "O_r"
   ]
  },
  {
   "cell_type": "code",
   "execution_count": 144,
   "metadata": {},
   "outputs": [
    {
     "data": {
      "text/plain": [
       "[<matplotlib.lines.Line2D at 0x1ca8c48fe50>]"
      ]
     },
     "execution_count": 144,
     "metadata": {},
     "output_type": "execute_result"
    },
    {
     "data": {
      "image/png": "[encoded data removed]",
      "text/plain": [
       "<Figure size 640x480 with 1 Axes>"
      ]
     },
     "metadata": {},
     "output_type": "display_data"
    }
   ],
   "source": [
    "x = np.linspace(-4,4,1000)\n",
    "plt.plot(x,g_sec(x+O_r,O_r,O_pm))\n",
    "plt.plot(x,g_n(x))"
   ]
  },
  {
   "cell_type": "code",
   "execution_count": 117,
   "metadata": {},
   "outputs": [
    {
     "data": {
      "text/plain": [
       "0.12486722322311221"
      ]
     },
     "execution_count": 117,
     "metadata": {},
     "output_type": "execute_result"
    }
   ],
   "source": [
    "np.mean(g_n(x))"
   ]
  },
  {
   "cell_type": "code",
   "execution_count": 119,
   "metadata": {},
   "outputs": [
    {
     "data": {
      "text/plain": [
       "(0.018494655364454927, 2.9779655068615964e-11)"
      ]
     },
     "execution_count": 119,
     "metadata": {},
     "output_type": "execute_result"
    }
   ],
   "source": [
    "quad(g_sec,-5,10,args=(O_r,O_pm),epsabs=1e-10,limit=2000)"
   ]
  },
  {
   "cell_type": "code",
   "execution_count": 51,
   "metadata": {},
   "outputs": [],
   "source": [
    "import sympy as sy"
   ]
  },
  {
   "cell_type": "code",
   "execution_count": 53,
   "metadata": {},
   "outputs": [
    {
     "name": "stderr",
     "output_type": "stream",
     "text": [
      "c:\\Users\\kim9y\\AppData\\Local\\Programs\\Python\\Python311\\Lib\\site-packages\\sympy\\concrete\\expr_with_limits.py:26: SymPyDeprecationWarning: \n",
      "\n",
      "The string fallback in sympify() is deprecated.\n",
      "\n",
      "To explicitly convert the string form of an object, use\n",
      "sympify(str(obj)). To add define sympify behavior on custom\n",
      "objects, use sympy.core.sympify.converter or define obj._sympy_\n",
      "(see the sympify() docstring).\n",
      "\n",
      "sympify() performed the string fallback resulting in the following string:\n",
      "\n",
      "'<function g_n_new at 0x000001CA8990E8E0>'\n",
      "\n",
      "See https://docs.sympy.org/latest/explanation/active-deprecations.html#deprecated-sympify-string-fallback\n",
      "for details.\n",
      "\n",
      "This has been deprecated since SymPy version 1.6. It\n",
      "will be removed in a future version of SymPy.\n",
      "\n",
      "  function = sympify(function)\n"
     ]
    },
    {
     "ename": "SympifyError",
     "evalue": "Sympify of expression 'could not parse '<function g_n_new at 0x000001CA8990E8E0>'' failed, because of exception being raised:\nSyntaxError: invalid syntax (<string>, line 1)",
     "output_type": "error",
     "traceback": [
      "\u001b[1;31m---------------------------------------------------------------------------\u001b[0m",
      "\u001b[1;31mValueError\u001b[0m                                Traceback (most recent call last)",
      "\u001b[1;31mValueError\u001b[0m: Error from parse_expr with transformed code: \"<Symbol ('function' )Symbol ('g_n_new' )Symbol ('at' )Integer (0x000001CA8990E8E0 )>\"",
      "\nThe above exception was the direct cause of the following exception:\n",
      "\u001b[1;31mSyntaxError\u001b[0m                               Traceback (most recent call last)",
      "File \u001b[1;32mc:\\Users\\kim9y\\AppData\\Local\\Programs\\Python\\Python311\\Lib\\site-packages\\sympy\\core\\sympify.py:496\u001b[0m, in \u001b[0;36msympify\u001b[1;34m(a, locals, convert_xor, strict, rational, evaluate)\u001b[0m\n\u001b[0;32m    495\u001b[0m     a \u001b[39m=\u001b[39m a\u001b[39m.\u001b[39mreplace(\u001b[39m'\u001b[39m\u001b[39m\\n\u001b[39;00m\u001b[39m'\u001b[39m, \u001b[39m'\u001b[39m\u001b[39m'\u001b[39m)\n\u001b[1;32m--> 496\u001b[0m     expr \u001b[39m=\u001b[39m parse_expr(a, local_dict\u001b[39m=\u001b[39;49m\u001b[39mlocals\u001b[39;49m, transformations\u001b[39m=\u001b[39;49mtransformations, evaluate\u001b[39m=\u001b[39;49mevaluate)\n\u001b[0;32m    497\u001b[0m \u001b[39mexcept\u001b[39;00m (TokenError, \u001b[39mSyntaxError\u001b[39;00m) \u001b[39mas\u001b[39;00m exc:\n",
      "File \u001b[1;32mc:\\Users\\kim9y\\AppData\\Local\\Programs\\Python\\Python311\\Lib\\site-packages\\sympy\\parsing\\sympy_parser.py:1101\u001b[0m, in \u001b[0;36mparse_expr\u001b[1;34m(s, local_dict, transformations, global_dict, evaluate)\u001b[0m\n\u001b[0;32m   1100\u001b[0m     local_dict[i] \u001b[39m=\u001b[39m null\n\u001b[1;32m-> 1101\u001b[0m \u001b[39mraise\u001b[39;00m e \u001b[39mfrom\u001b[39;00m \u001b[39mValueError\u001b[39;00m(\u001b[39mf\u001b[39m\u001b[39m\"\u001b[39m\u001b[39mError from parse_expr with transformed code: \u001b[39m\u001b[39m{\u001b[39;00mcode\u001b[39m!r}\u001b[39;00m\u001b[39m\"\u001b[39m)\n",
      "File \u001b[1;32mc:\\Users\\kim9y\\AppData\\Local\\Programs\\Python\\Python311\\Lib\\site-packages\\sympy\\parsing\\sympy_parser.py:1092\u001b[0m, in \u001b[0;36mparse_expr\u001b[1;34m(s, local_dict, transformations, global_dict, evaluate)\u001b[0m\n\u001b[0;32m   1091\u001b[0m \u001b[39mtry\u001b[39;00m:\n\u001b[1;32m-> 1092\u001b[0m     rv \u001b[39m=\u001b[39m eval_expr(code, local_dict, global_dict)\n\u001b[0;32m   1093\u001b[0m     \u001b[39m# restore neutral definitions for names\u001b[39;00m\n",
      "File \u001b[1;32mc:\\Users\\kim9y\\AppData\\Local\\Programs\\Python\\Python311\\Lib\\site-packages\\sympy\\parsing\\sympy_parser.py:907\u001b[0m, in \u001b[0;36meval_expr\u001b[1;34m(code, local_dict, global_dict)\u001b[0m\n\u001b[0;32m    902\u001b[0m \u001b[39m\"\"\"\u001b[39;00m\n\u001b[0;32m    903\u001b[0m \u001b[39mEvaluate Python code generated by ``stringify_expr``.\u001b[39;00m\n\u001b[0;32m    904\u001b[0m \n\u001b[0;32m    905\u001b[0m \u001b[39mGenerally, ``parse_expr`` should be used.\u001b[39;00m\n\u001b[0;32m    906\u001b[0m \u001b[39m\"\"\"\u001b[39;00m\n\u001b[1;32m--> 907\u001b[0m expr \u001b[39m=\u001b[39m \u001b[39meval\u001b[39;49m(\n\u001b[0;32m    908\u001b[0m     code, global_dict, local_dict)  \u001b[39m# take local objects in preference\u001b[39;00m\n\u001b[0;32m    909\u001b[0m \u001b[39mreturn\u001b[39;00m expr\n",
      "\u001b[1;31mSyntaxError\u001b[0m: invalid syntax (<string>, line 1)",
      "\nDuring handling of the above exception, another exception occurred:\n",
      "\u001b[1;31mSympifyError\u001b[0m                              Traceback (most recent call last)",
      "\u001b[1;32mc:\\Users\\kim9y\\Desktop\\Kuramoto\\Kuramoto-model\\231018 secondary cluster order parameter.ipynb Cell 11\u001b[0m line \u001b[0;36m2\n\u001b[0;32m      <a href='vscode-notebook-cell:/c%3A/Users/kim9y/Desktop/Kuramoto/Kuramoto-model/231018%20secondary%20cluster%20order%20parameter.ipynb#X13sZmlsZQ%3D%3D?line=0'>1</a>\u001b[0m x \u001b[39m=\u001b[39m sy\u001b[39m.\u001b[39msymbols(\u001b[39m'\u001b[39m\u001b[39mx\u001b[39m\u001b[39m'\u001b[39m)\n\u001b[1;32m----> <a href='vscode-notebook-cell:/c%3A/Users/kim9y/Desktop/Kuramoto/Kuramoto-model/231018%20secondary%20cluster%20order%20parameter.ipynb#X13sZmlsZQ%3D%3D?line=1'>2</a>\u001b[0m sy\u001b[39m.\u001b[39;49mintegrate(g_n_new,x)\n",
      "File \u001b[1;32mc:\\Users\\kim9y\\AppData\\Local\\Programs\\Python\\Python311\\Lib\\site-packages\\sympy\\integrals\\integrals.py:1564\u001b[0m, in \u001b[0;36mintegrate\u001b[1;34m(meijerg, conds, risch, heurisch, manual, *args, **kwargs)\u001b[0m\n\u001b[0;32m   1400\u001b[0m \u001b[39m\"\"\"integrate(f, var, ...)\u001b[39;00m\n\u001b[0;32m   1401\u001b[0m \n\u001b[0;32m   1402\u001b[0m \u001b[39m.. deprecated:: 1.6\u001b[39;00m\n\u001b[1;32m   (...)\u001b[0m\n\u001b[0;32m   1554\u001b[0m \n\u001b[0;32m   1555\u001b[0m \u001b[39m\"\"\"\u001b[39;00m\n\u001b[0;32m   1556\u001b[0m doit_flags \u001b[39m=\u001b[39m {\n\u001b[0;32m   1557\u001b[0m     \u001b[39m'\u001b[39m\u001b[39mdeep\u001b[39m\u001b[39m'\u001b[39m: \u001b[39mFalse\u001b[39;00m,\n\u001b[0;32m   1558\u001b[0m     \u001b[39m'\u001b[39m\u001b[39mmeijerg\u001b[39m\u001b[39m'\u001b[39m: meijerg,\n\u001b[1;32m   (...)\u001b[0m\n\u001b[0;32m   1562\u001b[0m     \u001b[39m'\u001b[39m\u001b[39mmanual\u001b[39m\u001b[39m'\u001b[39m: manual\n\u001b[0;32m   1563\u001b[0m     }\n\u001b[1;32m-> 1564\u001b[0m integral \u001b[39m=\u001b[39m Integral(\u001b[39m*\u001b[39;49margs, \u001b[39m*\u001b[39;49m\u001b[39m*\u001b[39;49mkwargs)\n\u001b[0;32m   1566\u001b[0m \u001b[39mif\u001b[39;00m \u001b[39misinstance\u001b[39m(integral, Integral):\n\u001b[0;32m   1567\u001b[0m     \u001b[39mreturn\u001b[39;00m integral\u001b[39m.\u001b[39mdoit(\u001b[39m*\u001b[39m\u001b[39m*\u001b[39mdoit_flags)\n",
      "File \u001b[1;32mc:\\Users\\kim9y\\AppData\\Local\\Programs\\Python\\Python311\\Lib\\site-packages\\sympy\\integrals\\integrals.py:96\u001b[0m, in \u001b[0;36mIntegral.__new__\u001b[1;34m(cls, function, *symbols, **assumptions)\u001b[0m\n\u001b[0;32m     86\u001b[0m \u001b[39mif\u001b[39;00m \u001b[39misinstance\u001b[39m(function, Poly):\n\u001b[0;32m     87\u001b[0m     sympy_deprecation_warning(\n\u001b[0;32m     88\u001b[0m         \u001b[39m\"\"\"\u001b[39;00m\n\u001b[0;32m     89\u001b[0m \u001b[39m        integrate(Poly) and Integral(Poly) are deprecated. Instead,\u001b[39;00m\n\u001b[1;32m   (...)\u001b[0m\n\u001b[0;32m     93\u001b[0m         deprecated_since_version\u001b[39m=\u001b[39m\u001b[39m\"\u001b[39m\u001b[39m1.6\u001b[39m\u001b[39m\"\u001b[39m,\n\u001b[0;32m     94\u001b[0m         active_deprecations_target\u001b[39m=\u001b[39m\u001b[39m\"\u001b[39m\u001b[39mdeprecated-integrate-poly\u001b[39m\u001b[39m\"\u001b[39m)\n\u001b[1;32m---> 96\u001b[0m obj \u001b[39m=\u001b[39m AddWithLimits\u001b[39m.\u001b[39;49m\u001b[39m__new__\u001b[39;49m(\u001b[39mcls\u001b[39;49m, function, \u001b[39m*\u001b[39;49msymbols, \u001b[39m*\u001b[39;49m\u001b[39m*\u001b[39;49massumptions)\n\u001b[0;32m     97\u001b[0m \u001b[39mreturn\u001b[39;00m obj\n",
      "File \u001b[1;32mc:\\Users\\kim9y\\AppData\\Local\\Programs\\Python\\Python311\\Lib\\site-packages\\sympy\\concrete\\expr_with_limits.py:547\u001b[0m, in \u001b[0;36mAddWithLimits.__new__\u001b[1;34m(cls, function, *symbols, **assumptions)\u001b[0m\n\u001b[0;32m    545\u001b[0m \u001b[39mdef\u001b[39;00m \u001b[39m__new__\u001b[39m(\u001b[39mcls\u001b[39m, function, \u001b[39m*\u001b[39msymbols, \u001b[39m*\u001b[39m\u001b[39m*\u001b[39massumptions):\n\u001b[0;32m    546\u001b[0m     \u001b[39mfrom\u001b[39;00m \u001b[39msympy\u001b[39;00m\u001b[39m.\u001b[39;00m\u001b[39mconcrete\u001b[39;00m\u001b[39m.\u001b[39;00m\u001b[39msummations\u001b[39;00m \u001b[39mimport\u001b[39;00m Sum\n\u001b[1;32m--> 547\u001b[0m     pre \u001b[39m=\u001b[39m _common_new(\u001b[39mcls\u001b[39;49m, function, \u001b[39m*\u001b[39;49msymbols,\n\u001b[0;32m    548\u001b[0m         discrete\u001b[39m=\u001b[39;49m\u001b[39missubclass\u001b[39;49m(\u001b[39mcls\u001b[39;49m, Sum), \u001b[39m*\u001b[39;49m\u001b[39m*\u001b[39;49massumptions)\n\u001b[0;32m    549\u001b[0m     \u001b[39mif\u001b[39;00m \u001b[39misinstance\u001b[39m(pre, \u001b[39mtuple\u001b[39m):\n\u001b[0;32m    550\u001b[0m         function, limits, orientation \u001b[39m=\u001b[39m pre\n",
      "File \u001b[1;32mc:\\Users\\kim9y\\AppData\\Local\\Programs\\Python\\Python311\\Lib\\site-packages\\sympy\\concrete\\expr_with_limits.py:26\u001b[0m, in \u001b[0;36m_common_new\u001b[1;34m(cls, function, discrete, *symbols, **assumptions)\u001b[0m\n\u001b[0;32m     22\u001b[0m \u001b[39mdef\u001b[39;00m \u001b[39m_common_new\u001b[39m(\u001b[39mcls\u001b[39m, function, \u001b[39m*\u001b[39msymbols, discrete, \u001b[39m*\u001b[39m\u001b[39m*\u001b[39massumptions):\n\u001b[0;32m     23\u001b[0m     \u001b[39m\"\"\"Return either a special return value or the tuple,\u001b[39;00m\n\u001b[0;32m     24\u001b[0m \u001b[39m    (function, limits, orientation). This code is common to\u001b[39;00m\n\u001b[0;32m     25\u001b[0m \u001b[39m    both ExprWithLimits and AddWithLimits.\"\"\"\u001b[39;00m\n\u001b[1;32m---> 26\u001b[0m     function \u001b[39m=\u001b[39m sympify(function)\n\u001b[0;32m     28\u001b[0m     \u001b[39mif\u001b[39;00m \u001b[39misinstance\u001b[39m(function, Equality):\n\u001b[0;32m     29\u001b[0m         \u001b[39m# This transforms e.g. Integral(Eq(x, y)) to Eq(Integral(x), Integral(y))\u001b[39;00m\n\u001b[0;32m     30\u001b[0m         \u001b[39m# but that is only valid for definite integrals.\u001b[39;00m\n\u001b[0;32m     31\u001b[0m         limits, orientation \u001b[39m=\u001b[39m _process_limits(\u001b[39m*\u001b[39msymbols, discrete\u001b[39m=\u001b[39mdiscrete)\n",
      "File \u001b[1;32mc:\\Users\\kim9y\\AppData\\Local\\Programs\\Python\\Python311\\Lib\\site-packages\\sympy\\core\\sympify.py:498\u001b[0m, in \u001b[0;36msympify\u001b[1;34m(a, locals, convert_xor, strict, rational, evaluate)\u001b[0m\n\u001b[0;32m    496\u001b[0m     expr \u001b[39m=\u001b[39m parse_expr(a, local_dict\u001b[39m=\u001b[39m\u001b[39mlocals\u001b[39m, transformations\u001b[39m=\u001b[39mtransformations, evaluate\u001b[39m=\u001b[39mevaluate)\n\u001b[0;32m    497\u001b[0m \u001b[39mexcept\u001b[39;00m (TokenError, \u001b[39mSyntaxError\u001b[39;00m) \u001b[39mas\u001b[39;00m exc:\n\u001b[1;32m--> 498\u001b[0m     \u001b[39mraise\u001b[39;00m SympifyError(\u001b[39m'\u001b[39m\u001b[39mcould not parse \u001b[39m\u001b[39m%r\u001b[39;00m\u001b[39m'\u001b[39m \u001b[39m%\u001b[39m a, exc)\n\u001b[0;32m    500\u001b[0m \u001b[39mreturn\u001b[39;00m expr\n",
      "\u001b[1;31mSympifyError\u001b[0m: Sympify of expression 'could not parse '<function g_n_new at 0x000001CA8990E8E0>'' failed, because of exception being raised:\nSyntaxError: invalid syntax (<string>, line 1)"
     ]
    }
   ],
   "source": [
    "x = sy.symbols('x')\n",
    "sy.integrate(g_n_new,x)"
   ]
  },
  {
   "cell_type": "code",
   "execution_count": null,
   "metadata": {},
   "outputs": [],
   "source": []
  }
 ],
 "metadata": {
  "kernelspec": {
   "display_name": "Python 3",
   "language": "python",
   "name": "python3"
  },
  "language_info": {
   "codemirror_mode": {
    "name": "ipython",
    "version": 3
   },
   "file_extension": ".py",
   "mimetype": "text/x-python",
   "name": "python",
   "nbconvert_exporter": "python",
   "pygments_lexer": "ipython3",
   "version": "3.11.0"
  }
 },
 "nbformat": 4,
 "nbformat_minor": 2
}
