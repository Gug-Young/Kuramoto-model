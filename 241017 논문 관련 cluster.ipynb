{
 "cells": [
  {
   "cell_type": "code",
   "execution_count": 1,
   "metadata": {},
   "outputs": [],
   "source": [
    "import numpy as np\n",
    "import matplotlib.pyplot as plt\n",
    "import pandas as pd\n",
    "\n",
    "from TO_sim.Sol_Kuramoto import Sol_Kuramoto_mK as mK\n",
    "from TO_sim.Sol_Kuramoto import Sol_Kuramoto_mf2 as mf2\n",
    "from TO_sim.Get_groups import phase_diagram,make_meanr\n",
    "\n",
    "from TO_sim.gen_Distribution import Normal\n",
    "from TO_sim.gen_Distribution import Quantile_Normal as Q_Normal\n",
    "from mpl_toolkits.axes_grid1.axes_divider import make_axes_locatable\n",
    "from tqdm.notebook import tqdm\n",
    "from scipy.signal import find_peaks\n",
    "import parmap\n",
    "from pprint import pprint"
   ]
  },
  {
   "cell_type": "code",
   "execution_count": 594,
   "metadata": {},
   "outputs": [],
   "source": [
    "seed =10\n",
    "N = 1000\n",
    "theta_random,omega,Kc = Q_Normal(N,0,1,seed=seed)\n",
    "\n",
    "omega = omega - np.mean(omega)\n",
    "omega = np.sort(omega)\n",
    "m = 10\n",
    "dt = 0.1\n",
    "t = np.arange(0,10000,dt)\n",
    "K = 6\n",
    "to_ppi = lambda y: (y + np.pi)%(2*np.pi) - np.pi\n",
    "theta, dtheta,rs = mf2(K,N=N,m=m,t_array=t,p_theta=theta_random,p_dtheta=theta_random,p_omega=omega)\n",
    "# plt.plot(np.sort(avg_dtheta[-1]))\n",
    "# plt.plot((avg_dtheta[-1]))"
   ]
  },
  {
   "cell_type": "code",
   "execution_count": 595,
   "metadata": {},
   "outputs": [
    {
     "data": {
      "text/plain": [
       "(1.0, 595.35)"
      ]
     },
     "execution_count": 595,
     "metadata": {},
     "output_type": "execute_result"
    },
    {
     "data": {
      "image/png": "[encoded data removed]",
      "text/plain": [
       "<Figure size 640x480 with 1 Axes>"
      ]
     },
     "metadata": {},
     "output_type": "display_data"
    }
   ],
   "source": [
    "th = ((theta[-1] - theta[-5000] )//(np.pi*2))\n",
    "c,b = np.histogram(th,bins=100)\n",
    "plt.plot(b[1:],c,lw=3)\n",
    "plt.ylim(1,)"
   ]
  },
  {
   "cell_type": "code",
   "execution_count": 447,
   "metadata": {},
   "outputs": [],
   "source": [
    "def Get_Group(TH_s,TH_e,L,dt):\n",
    "    ARG = (TH_s-TH_e)//(2*np.pi)\n",
    "    ARG =  np.where(ARG<0,ARG,ARG)\n",
    "    u,c = np.unique(ARG,return_counts=True)\n",
    "\n",
    "    I_c_o1 =np.where(c>5)\n",
    "    u_o1 = u[I_c_o1]\n",
    "    c_o1 = c[I_c_o1]\n",
    "    u_c = np.argsort(c_o1)[::-1]\n",
    "    UU = u_o1[u_c]\n",
    "\n",
    "    arr = UU\n",
    "    main_value = np.min(abs(arr))\n",
    "    adjusted_arr = arr - main_value\n",
    "    abs_arr = np.unique(np.abs(adjusted_arr))\n",
    "    abs_arr\n",
    "    group_threshold = 5\n",
    "    G = {}\n",
    "    GP = {}\n",
    "    GM = {}\n",
    "    GN = {}\n",
    "    G_num = 0\n",
    "    GP_num = 1\n",
    "    GM_num = 1\n",
    "    I_num = 1\n",
    "    for i in range(1,5):\n",
    "        GP[i,'I'] = []\n",
    "        GP[i,'R'] = np.nan\n",
    "        GP[i,'L'] = np.nan\n",
    "        GP[i,'V'] = np.nan\n",
    "        GM[i,'I'] = []\n",
    "        GM[i,'R'] = np.nan\n",
    "        GM[i,'L'] = np.nan\n",
    "        GM[i,'V'] = np.nan\n",
    "    for i in range(5):\n",
    "        abs_arr = np.unique(np.abs(adjusted_arr))\n",
    "        for num in abs_arr:\n",
    "            abs_adjust_arr = np.abs(adjusted_arr)\n",
    "            in_group = np.int64(np.round((abs_adjust_arr-num)/group_threshold)) * group_threshold\n",
    "            is_group = np.where(abs(in_group) < 1)\n",
    "            not_group = np.where(in_group >= 1)\n",
    "            if len(is_group) != 0:\n",
    "                Ra_arr = adjusted_arr[is_group]\n",
    "                R = Ra_arr + main_value\n",
    "                if G_num == 0:\n",
    "                    I, = np.where(np.isin(ARG,R))\n",
    "                    G[G_num,'I'] = I\n",
    "                    G[G_num,'R'] = R\n",
    "                    G[G_num,'L'] = len(I)\n",
    "                    G[G_num,'V'] = np.mean(R/(L-1)/dt)\n",
    "                    G_num +=1\n",
    "                else:\n",
    "                    gp_idx, = np.where(Ra_arr>0)\n",
    "                    gm_idx, = np.where(Ra_arr<0)\n",
    "                    Rp = R[gp_idx]\n",
    "                    Rm = R[gm_idx]\n",
    "                    Ip, = np.where(np.isin(ARG,Rp))\n",
    "                    Im, = np.where(np.isin(ARG,Rm))\n",
    "                    if (len(Rp) !=0) and (len(Rm) != 0):\n",
    "                        GM[GM_num,'I'] = Im\n",
    "                        GM[GM_num,'R'] = Rm\n",
    "                        GM[GM_num,'V'] = np.mean(Rm/(L-1)/dt)\n",
    "                        GM[GM_num,'L'] = len(Im)\n",
    "                        GP[GP_num,'I'] = Ip\n",
    "                        GP[GP_num,'R'] = Rp\n",
    "                        GP[GP_num,'V'] = np.mean(Rp/(L-1)/dt)\n",
    "                        GP[GP_num,'L'] = len(Ip)\n",
    "                        GP_num += 1\n",
    "                        GM_num += 1\n",
    "                    elif (len(Rp) !=0):\n",
    "                        GP[GP_num,'I'] = Ip\n",
    "                        GP[GP_num,'R'] = Rp\n",
    "                        GP[GP_num,'L'] = len(Ip)\n",
    "                        GP[GP_num,'V'] = np.mean(Rp/(L-1)/dt)\n",
    "\n",
    "                        GP_num += 1\n",
    "                    else:\n",
    "                        GM[GM_num,'I'] = Im\n",
    "                        GM[GM_num,'R'] = Rm\n",
    "                        GM[GM_num,'L'] = len(Im)\n",
    "                        GM[GM_num,'V'] = np.mean(Rm/(L-1)/dt)\n",
    "\n",
    "                        GM_num += 1\n",
    "\n",
    "            adjusted_arr = adjusted_arr[not_group]\n",
    "            break\n",
    "    return G,GM,GP"
   ]
  },
  {
   "cell_type": "markdown",
   "metadata": {},
   "source": [
    "# cluster check\n",
    "이상하게 겹쳐있는 데이터는 없에야 함\n",
    "그렇다면 어떤 조건을 가지고 이걸 제거 할 수 있을까?\n",
    "3개의 변화가 생각보다 작아야 함"
   ]
  },
  {
   "cell_type": "code",
   "execution_count": 448,
   "metadata": {},
   "outputs": [
    {
     "name": "stdout",
     "output_type": "stream",
     "text": [
      "626\n",
      "143\n",
      "84\n",
      "13\n",
      "8\n",
      "11\n",
      "3\n"
     ]
    },
    {
     "data": {
      "image/png": "[encoded data removed]",
      "text/plain": [
       "<Figure size 640x480 with 1 Axes>"
      ]
     },
     "metadata": {},
     "output_type": "display_data"
    }
   ],
   "source": [
    "un,ui,uc = np.unique(th,return_index=True,return_counts=True,)\n",
    "uci = np.argsort(uc)\n",
    "plt.plot(omega,th)\n",
    "for i in un[uci][:-8:-1]:\n",
    "    X, = np.where(th==i)\n",
    "    th = np.where(np.abs(th-i)<5,i,th)\n",
    "    plt.scatter(omega[X],th[X],label=f'{i},{len(X)}')\n",
    "    \n",
    "\n",
    "    # print(np.unique(np.diff(X),return_counts=True))\n",
    "\n",
    "# un,ui,uc = np.unique(th,return_index=True,return_counts=True,)\n",
    "# uct, = np.where(uc>TH)\n",
    "# un,ui,uc = un[uct],ui[uct],uc[uct]\n",
    "# uci = np.argsort(uc)\n",
    "\n",
    "for i in un[uci][:-8:-1]:\n",
    "    X, = np.where(th==i)\n",
    "    print(len(X))\n",
    "    # plt.scatter(X,th[X],label=f'{i},{len(X)}')\n",
    "    # print(np.unique(np.diff(X),return_counts=True))\n"
   ]
  },
  {
   "cell_type": "code",
   "execution_count": 449,
   "metadata": {},
   "outputs": [],
   "source": [
    "TH = 10000\n",
    "TH_S,TH_E,L = theta[-1],theta[-TH],TH\n",
    "G,GM,GP = Get_Group(TH_S,TH_E,L,dt =dt)"
   ]
  },
  {
   "cell_type": "code",
   "execution_count": 450,
   "metadata": {},
   "outputs": [
    {
     "data": {
      "text/plain": [
       "[<matplotlib.lines.Line2D at 0x326765990>]"
      ]
     },
     "execution_count": 450,
     "metadata": {},
     "output_type": "execute_result"
    },
    {
     "data": {
      "image/png": "[encoded data removed]",
      "text/plain": [
       "<Figure size 640x480 with 1 Axes>"
      ]
     },
     "metadata": {},
     "output_type": "display_data"
    }
   ],
   "source": [
    "plt.plot(dtheta[-1]-dtheta[-1000])\n",
    "plt.plot(dtheta[-1]-dtheta[-4000])\n"
   ]
  },
  {
   "cell_type": "code",
   "execution_count": 451,
   "metadata": {},
   "outputs": [],
   "source": [
    "def get_indx(th,rs,N,t_idx): \n",
    "    th = np.where(th>=0,th,th+1)\n",
    "    th = th/(t[-1] - t[-t_idx])\n",
    "    c,b = np.histogram(th,bins=100)\n",
    "    c_sort = np.sort(c)[::-1]\n",
    "    c_3 = np.where(c_sort>np.max(c)*(0.05))\n",
    "    print(np.max(c)/50)\n",
    "    c_arg = np.argsort(c)[::-1]\n",
    "    b_n0 = b[c_arg[c_3]]\n",
    "    db = b[1] - b[0]\n",
    "    gs = {}\n",
    "    gs['group #'] = []\n",
    "    gs['group rot'] = []\n",
    "    gs['group idx'] = []\n",
    "    if np.mean(rs)>1/np.sqrt(N):\n",
    "        for b_l in b_n0:\n",
    "            idx, = np.where((th>=b_l)&(th<=b_l+db))\n",
    "            print(np.std(th[idx]))\n",
    "            gs['group idx'].append(idx)\n",
    "            gs['group rot'].append(np.mean(th[idx])*(np.pi*2))\n",
    "            gs['group #'].append(len(idx))\n",
    "    return pd.DataFrame(gs)\n"
   ]
  },
  {
   "cell_type": "code",
   "execution_count": 452,
   "metadata": {},
   "outputs": [
    {
     "name": "stdout",
     "output_type": "stream",
     "text": [
      "12.52\n",
      "0.0\n",
      "2.7755575615628914e-17\n",
      "2.7755575615628914e-17\n"
     ]
    }
   ],
   "source": [
    "th = (theta[-1] - theta[-1000])//(np.pi*2)\n",
    "t_idx = 2000\n",
    "th = (theta[-1] - theta[-t_idx])//(np.pi*2)\n",
    "df_g = get_indx(th,rs[-500:],N,t_idx)"
   ]
  },
  {
   "cell_type": "code",
   "execution_count": 453,
   "metadata": {},
   "outputs": [],
   "source": [
    "ths = [(dtheta[-1-i]-dtheta[-1000-i]) for i in range(1000)]\n",
    "ths = np.array(ths)\n",
    "sths = np.mean(ths, axis=0)\n"
   ]
  },
  {
   "cell_type": "code",
   "execution_count": 454,
   "metadata": {},
   "outputs": [
    {
     "data": {
      "text/plain": [
       "[<matplotlib.lines.Line2D at 0x326809490>]"
      ]
     },
     "execution_count": 454,
     "metadata": {},
     "output_type": "execute_result"
    },
    {
     "data": {
      "image/png": "[encoded data removed]",
      "text/plain": [
       "<Figure size 640x480 with 1 Axes>"
      ]
     },
     "metadata": {},
     "output_type": "display_data"
    }
   ],
   "source": [
    "for idx in df_g['group idx']:\n",
    "    plt.scatter(idx,th[idx],marker='.',zorder=3)\n",
    "plt.plot(th,color='black')"
   ]
  },
  {
   "cell_type": "code",
   "execution_count": 455,
   "metadata": {},
   "outputs": [
    {
     "name": "stdout",
     "output_type": "stream",
     "text": [
      "asdfadfs\n"
     ]
    }
   ],
   "source": [
    "df_g['group abs rot'] = (df_g['group rot']-(df_g['group rot'].iloc[0]+df_g['group rot'].iloc[1])/2).apply(lambda x: np.abs(x))\n",
    "if abs(df_g['group rot'].iloc[0])<0.1:\n",
    "    print('asdfadfs')\n",
    "    df_g['group abs rot'] = (df_g['group rot']-(df_g['group rot'].iloc[0])).apply(lambda x: np.abs(x))\n",
    "else:\n",
    "    df_g['group abs rot'] = (df_g['group rot']-(df_g['group rot'].iloc[0]+df_g['group rot'].iloc[1])/2).apply(lambda x: np.abs(x))"
   ]
  },
  {
   "cell_type": "code",
   "execution_count": 456,
   "metadata": {},
   "outputs": [],
   "source": [
    "def assign_group_by_tolerance(df, tolerance):\n",
    "    group_number = 0\n",
    "    current_group_start = df['group abs rot'][0]  # 첫번째 값이 그룹의 시작 기준\n",
    "    print(current_group_start)\n",
    "    # 첫번째 값에 그룹 번호 할당\n",
    "    df.at[0, 'Group'] = group_number\n",
    "    \n",
    "    # 두번째 값부터 확인하면서 그룹을 할당\n",
    "    for i in range(1, len(df)):\n",
    "        # 현재 값이 그룹 시작 값으로부터 tolerance 안에 있으면 같은 그룹으로 묶음\n",
    "        if df['group abs rot'][i] - current_group_start <= tolerance:\n",
    "            print(current_group_start,df['group abs rot'][i])\n",
    "            df.at[i, 'Group'] = group_number\n",
    "        else:\n",
    "            # 그룹 시작 값보다 tolerance를 벗어나면 새로운 그룹을 할당\n",
    "            group_number += 1\n",
    "            current_group_start = df['group abs rot'][i]  # 새로운 그룹 시작 값 갱신\n",
    "            df.at[i, 'Group'] = group_number\n",
    "\n",
    "    return df"
   ]
  },
  {
   "cell_type": "code",
   "execution_count": 457,
   "metadata": {},
   "outputs": [
    {
     "name": "stdout",
     "output_type": "stream",
     "text": [
      "0.0\n",
      "1.1001074824976682 1.1001074824976687\n"
     ]
    }
   ],
   "source": [
    "group_number = 0\n",
    "df = df_g.sort_values(by='group abs rot').reset_index(drop=True)\n",
    "df\n",
    "df = assign_group_by_tolerance(df,0.1)"
   ]
  },
  {
   "cell_type": "code",
   "execution_count": 458,
   "metadata": {},
   "outputs": [],
   "source": [
    "df['g sign'] = np.sign(df['group rot']) * np.sign(df['group abs rot'])"
   ]
  },
  {
   "cell_type": "code",
   "execution_count": 469,
   "metadata": {},
   "outputs": [
    {
     "name": "stdout",
     "output_type": "stream",
     "text": [
      "Total memory usage: 0.11541366577148438 mb\n"
     ]
    }
   ],
   "source": [
    "total_memory = df.memory_usage(deep=True).sum()\n",
    "print(f\"Total memory usage: {total_memory/2**20} mb\")"
   ]
  },
  {
   "cell_type": "code",
   "execution_count": 460,
   "metadata": {},
   "outputs": [],
   "source": [
    "def S_rho(x):\n",
    "    L = len(x)\n",
    "    N = len(theta[-1])\n",
    "    a = theta[-5000:,x]\n",
    "    ST = np.sum(np.exp(a*1j),axis=1)\n",
    "    rho = np.abs(ST/L)\n",
    "    return rho\n",
    "\n",
    "def rhos(x):\n",
    "    L = len(x)\n",
    "    a = theta[:,x]\n",
    "    ST = np.sum(np.exp(a*1j),axis=1)\n",
    "    rho = np.abs(ST/L)\n",
    "    return rho\n"
   ]
  },
  {
   "cell_type": "code",
   "execution_count": 461,
   "metadata": {},
   "outputs": [
    {
     "data": {
      "text/plain": [
       "0    ([0.9890037268316755, 0.9890012853214127, 0.98...\n",
       "1    ([0.963994789235746, 0.9638171542419208, 0.963...\n",
       "2    ([0.9763488114572642, 0.9763944449167529, 0.97...\n",
       "Name: group idx, dtype: object"
      ]
     },
     "execution_count": 461,
     "metadata": {},
     "output_type": "execute_result"
    }
   ],
   "source": [
    "df['group idx'].apply(g_r)"
   ]
  },
  {
   "cell_type": "code",
   "execution_count": 462,
   "metadata": {},
   "outputs": [],
   "source": [
    "df['rho_s'] = df['group idx'].apply(S_rho)\n",
    "df['r_m'] = df['rho_s'].apply(np.mean) * df['group #']/N\n",
    "df['r_std'] = df['rho_s'].apply(np.std) * df['group #']/N"
   ]
  },
  {
   "cell_type": "code",
   "execution_count": 473,
   "metadata": {},
   "outputs": [],
   "source": [
    "a = df['rho_s'][1]*df['group #'][1]/N"
   ]
  },
  {
   "cell_type": "code",
   "execution_count": 477,
   "metadata": {},
   "outputs": [
    {
     "data": {
      "text/plain": [
       "0    0.001257\n",
       "1    0.001539\n",
       "2    0.002123\n",
       "Name: r_std, dtype: float64"
      ]
     },
     "execution_count": 477,
     "metadata": {},
     "output_type": "execute_result"
    }
   ],
   "source": [
    "df['r_std']"
   ]
  },
  {
   "cell_type": "code",
   "execution_count": 476,
   "metadata": {},
   "outputs": [
    {
     "data": {
      "text/plain": [
       "0.0015389624935840394"
      ]
     },
     "execution_count": 476,
     "metadata": {},
     "output_type": "execute_result"
    }
   ],
   "source": [
    "np.std(a)"
   ]
  },
  {
   "cell_type": "code",
   "execution_count": 475,
   "metadata": {},
   "outputs": [
    {
     "data": {
      "text/plain": [
       "<matplotlib.lines.Line2D at 0x32107d550>"
      ]
     },
     "execution_count": 475,
     "metadata": {},
     "output_type": "execute_result"
    },
    {
     "data": {
      "image/png": "[encoded data removed]",
      "text/plain": [
       "<Figure size 640x480 with 1 Axes>"
      ]
     },
     "metadata": {},
     "output_type": "display_data"
    }
   ],
   "source": [
    "plt.plot(a)\n",
    "plt.axhline(np.mean(a)+np.std(a))\n",
    "plt.axhline(np.mean(a)-np.std(a))"
   ]
  },
  {
   "cell_type": "code",
   "execution_count": 463,
   "metadata": {},
   "outputs": [
    {
     "data": {
      "text/html": [
       "<div>\n",
       "<style scoped>\n",
       "    .dataframe tbody tr th:only-of-type {\n",
       "        vertical-align: middle;\n",
       "    }\n",
       "\n",
       "    .dataframe tbody tr th {\n",
       "        vertical-align: top;\n",
       "    }\n",
       "\n",
       "    .dataframe thead th {\n",
       "        text-align: right;\n",
       "    }\n",
       "</style>\n",
       "<table border=\"1\" class=\"dataframe\">\n",
       "  <thead>\n",
       "    <tr style=\"text-align: right;\">\n",
       "      <th></th>\n",
       "      <th>group #</th>\n",
       "      <th>group rot</th>\n",
       "      <th>group idx</th>\n",
       "      <th>group abs rot</th>\n",
       "      <th>Group</th>\n",
       "      <th>g sign</th>\n",
       "      <th>rho_s</th>\n",
       "      <th>r_m</th>\n",
       "      <th>r_std</th>\n",
       "    </tr>\n",
       "  </thead>\n",
       "  <tbody>\n",
       "    <tr>\n",
       "      <th>0</th>\n",
       "      <td>626</td>\n",
       "      <td>0.094295</td>\n",
       "      <td>[212, 222, 224, 225, 226, 227, 228, 229, 230, ...</td>\n",
       "      <td>0.000000</td>\n",
       "      <td>0.0</td>\n",
       "      <td>0.0</td>\n",
       "      <td>[0.9880774620308596, 0.9878238218851068, 0.987...</td>\n",
       "      <td>0.617654</td>\n",
       "      <td>0.001257</td>\n",
       "    </tr>\n",
       "    <tr>\n",
       "      <th>1</th>\n",
       "      <td>84</td>\n",
       "      <td>1.194402</td>\n",
       "      <td>[847, 850, 851, 852, 853, 854, 855, 856, 857, ...</td>\n",
       "      <td>1.100107</td>\n",
       "      <td>1.0</td>\n",
       "      <td>1.0</td>\n",
       "      <td>[0.9566048204170482, 0.9549520587870842, 0.953...</td>\n",
       "      <td>0.079402</td>\n",
       "      <td>0.001539</td>\n",
       "    </tr>\n",
       "    <tr>\n",
       "      <th>2</th>\n",
       "      <td>143</td>\n",
       "      <td>-1.005813</td>\n",
       "      <td>[80, 81, 82, 83, 84, 85, 86, 87, 88, 89, 90, 9...</td>\n",
       "      <td>1.100107</td>\n",
       "      <td>1.0</td>\n",
       "      <td>-1.0</td>\n",
       "      <td>[0.967053891623453, 0.9654023368866622, 0.9635...</td>\n",
       "      <td>0.136871</td>\n",
       "      <td>0.002123</td>\n",
       "    </tr>\n",
       "  </tbody>\n",
       "</table>\n",
       "</div>"
      ],
      "text/plain": [
       "   group #  group rot                                          group idx  \\\n",
       "0      626   0.094295  [212, 222, 224, 225, 226, 227, 228, 229, 230, ...   \n",
       "1       84   1.194402  [847, 850, 851, 852, 853, 854, 855, 856, 857, ...   \n",
       "2      143  -1.005813  [80, 81, 82, 83, 84, 85, 86, 87, 88, 89, 90, 9...   \n",
       "\n",
       "   group abs rot  Group  g sign  \\\n",
       "0       0.000000    0.0     0.0   \n",
       "1       1.100107    1.0     1.0   \n",
       "2       1.100107    1.0    -1.0   \n",
       "\n",
       "                                               rho_s       r_m     r_std  \n",
       "0  [0.9880774620308596, 0.9878238218851068, 0.987...  0.617654  0.001257  \n",
       "1  [0.9566048204170482, 0.9549520587870842, 0.953...  0.079402  0.001539  \n",
       "2  [0.967053891623453, 0.9654023368866622, 0.9635...  0.136871  0.002123  "
      ]
     },
     "execution_count": 463,
     "metadata": {},
     "output_type": "execute_result"
    }
   ],
   "source": [
    "plt.plot(df['rho_s'][0])\n",
    "plt.plot(df['rho_s'][0])"
   ]
  },
  {
   "cell_type": "code",
   "execution_count": 440,
   "metadata": {},
   "outputs": [
    {
     "data": {
      "text/plain": [
       "[<matplotlib.lines.Line2D at 0x325e38dd0>]"
      ]
     },
     "execution_count": 440,
     "metadata": {},
     "output_type": "execute_result"
    },
    {
     "data": {
      "image/png": "[encoded data removed]",
      "text/plain": [
       "<Figure size 640x480 with 1 Axes>"
      ]
     },
     "metadata": {},
     "output_type": "display_data"
    }
   ],
   "source": [
    "plt.plot( df['rho'][0])\n",
    "plt.plot( df['rho'][1])\n",
    "plt.plot( df['rho'][2])\n",
    "# plt.xlim(0,10000)"
   ]
  },
  {
   "cell_type": "code",
   "execution_count": 470,
   "metadata": {},
   "outputs": [
    {
     "data": {
      "text/html": [
       "<div>\n",
       "<style scoped>\n",
       "    .dataframe tbody tr th:only-of-type {\n",
       "        vertical-align: middle;\n",
       "    }\n",
       "\n",
       "    .dataframe tbody tr th {\n",
       "        vertical-align: top;\n",
       "    }\n",
       "\n",
       "    .dataframe thead th {\n",
       "        text-align: right;\n",
       "    }\n",
       "</style>\n",
       "<table border=\"1\" class=\"dataframe\">\n",
       "  <thead>\n",
       "    <tr style=\"text-align: right;\">\n",
       "      <th></th>\n",
       "      <th>group #</th>\n",
       "      <th>group rot</th>\n",
       "      <th>group idx</th>\n",
       "      <th>group abs rot</th>\n",
       "      <th>Group</th>\n",
       "      <th>g sign</th>\n",
       "      <th>rho_s</th>\n",
       "      <th>r_m</th>\n",
       "      <th>r_std</th>\n",
       "    </tr>\n",
       "  </thead>\n",
       "  <tbody>\n",
       "    <tr>\n",
       "      <th>0</th>\n",
       "      <td>626</td>\n",
       "      <td>0.094295</td>\n",
       "      <td>[212, 222, 224, 225, 226, 227, 228, 229, 230, ...</td>\n",
       "      <td>0.000000</td>\n",
       "      <td>0.0</td>\n",
       "      <td>0.0</td>\n",
       "      <td>[0.9880774620308596, 0.9878238218851068, 0.987...</td>\n",
       "      <td>0.617654</td>\n",
       "      <td>0.001257</td>\n",
       "    </tr>\n",
       "    <tr>\n",
       "      <th>1</th>\n",
       "      <td>84</td>\n",
       "      <td>1.194402</td>\n",
       "      <td>[847, 850, 851, 852, 853, 854, 855, 856, 857, ...</td>\n",
       "      <td>1.100107</td>\n",
       "      <td>1.0</td>\n",
       "      <td>1.0</td>\n",
       "      <td>[0.9566048204170482, 0.9549520587870842, 0.953...</td>\n",
       "      <td>0.079402</td>\n",
       "      <td>0.001539</td>\n",
       "    </tr>\n",
       "    <tr>\n",
       "      <th>2</th>\n",
       "      <td>143</td>\n",
       "      <td>-1.005813</td>\n",
       "      <td>[80, 81, 82, 83, 84, 85, 86, 87, 88, 89, 90, 9...</td>\n",
       "      <td>1.100107</td>\n",
       "      <td>1.0</td>\n",
       "      <td>-1.0</td>\n",
       "      <td>[0.967053891623453, 0.9654023368866622, 0.9635...</td>\n",
       "      <td>0.136871</td>\n",
       "      <td>0.002123</td>\n",
       "    </tr>\n",
       "  </tbody>\n",
       "</table>\n",
       "</div>"
      ],
      "text/plain": [
       "   group #  group rot                                          group idx  \\\n",
       "0      626   0.094295  [212, 222, 224, 225, 226, 227, 228, 229, 230, ...   \n",
       "1       84   1.194402  [847, 850, 851, 852, 853, 854, 855, 856, 857, ...   \n",
       "2      143  -1.005813  [80, 81, 82, 83, 84, 85, 86, 87, 88, 89, 90, 9...   \n",
       "\n",
       "   group abs rot  Group  g sign  \\\n",
       "0       0.000000    0.0     0.0   \n",
       "1       1.100107    1.0     1.0   \n",
       "2       1.100107    1.0    -1.0   \n",
       "\n",
       "                                               rho_s       r_m     r_std  \n",
       "0  [0.9880774620308596, 0.9878238218851068, 0.987...  0.617654  0.001257  \n",
       "1  [0.9566048204170482, 0.9549520587870842, 0.953...  0.079402  0.001539  \n",
       "2  [0.967053891623453, 0.9654023368866622, 0.9635...  0.136871  0.002123  "
      ]
     },
     "execution_count": 470,
     "metadata": {},
     "output_type": "execute_result"
    }
   ],
   "source": [
    "df"
   ]
  },
  {
   "cell_type": "code",
   "execution_count": 397,
   "metadata": {},
   "outputs": [
    {
     "data": {
      "text/plain": [
       "[<matplotlib.lines.Line2D at 0x31fd7ab10>]"
      ]
     },
     "execution_count": 397,
     "metadata": {},
     "output_type": "execute_result"
    },
    {
     "data": {
      "image/png": "[encoded data removed]",
      "text/plain": [
       "<Figure size 640x480 with 1 Axes>"
      ]
     },
     "metadata": {},
     "output_type": "display_data"
    }
   ],
   "source": [
    "plt.plot(df['rho_c,r_c'][0][1])\n",
    "plt.plot(df['rho_c,r_c'][1][1])\n",
    "plt.plot(df['rho_c,r_c'][2][1])"
   ]
  },
  {
   "cell_type": "code",
   "execution_count": 252,
   "metadata": {},
   "outputs": [
    {
     "data": {
      "text/plain": [
       "0    0.000000\n",
       "1    0.911518\n",
       "2    0.942949\n",
       "6    1.384957\n",
       "5    1.407028\n",
       "4    1.604863\n",
       "8    1.634445\n",
       "3    1.854467\n",
       "7    1.854467\n",
       "Name: group abs rot, dtype: float64"
      ]
     },
     "execution_count": 252,
     "metadata": {},
     "output_type": "execute_result"
    }
   ],
   "source": [
    "a.sort_values(by='Group')['group abs rot']"
   ]
  },
  {
   "cell_type": "code",
   "execution_count": 285,
   "metadata": {},
   "outputs": [
    {
     "name": "stdout",
     "output_type": "stream",
     "text": [
      "0.911518\n",
      "1.384957\n",
      "1.604863\n",
      "1.854467\n"
     ]
    },
    {
     "data": {
      "text/html": [
       "<div>\n",
       "<style scoped>\n",
       "    .dataframe tbody tr th:only-of-type {\n",
       "        vertical-align: middle;\n",
       "    }\n",
       "\n",
       "    .dataframe tbody tr th {\n",
       "        vertical-align: top;\n",
       "    }\n",
       "\n",
       "    .dataframe thead th {\n",
       "        text-align: right;\n",
       "    }\n",
       "</style>\n",
       "<table border=\"1\" class=\"dataframe\">\n",
       "  <thead>\n",
       "    <tr style=\"text-align: right;\">\n",
       "      <th></th>\n",
       "      <th>Value</th>\n",
       "      <th>Group</th>\n",
       "    </tr>\n",
       "  </thead>\n",
       "  <tbody>\n",
       "    <tr>\n",
       "      <th>0</th>\n",
       "      <td>0.000000</td>\n",
       "      <td>0</td>\n",
       "    </tr>\n",
       "    <tr>\n",
       "      <th>1</th>\n",
       "      <td>0.911518</td>\n",
       "      <td>1</td>\n",
       "    </tr>\n",
       "    <tr>\n",
       "      <th>2</th>\n",
       "      <td>0.942949</td>\n",
       "      <td>1</td>\n",
       "    </tr>\n",
       "    <tr>\n",
       "      <th>3</th>\n",
       "      <td>1.384957</td>\n",
       "      <td>2</td>\n",
       "    </tr>\n",
       "    <tr>\n",
       "      <th>4</th>\n",
       "      <td>1.407028</td>\n",
       "      <td>2</td>\n",
       "    </tr>\n",
       "    <tr>\n",
       "      <th>5</th>\n",
       "      <td>1.604863</td>\n",
       "      <td>3</td>\n",
       "    </tr>\n",
       "    <tr>\n",
       "      <th>6</th>\n",
       "      <td>1.634445</td>\n",
       "      <td>3</td>\n",
       "    </tr>\n",
       "    <tr>\n",
       "      <th>7</th>\n",
       "      <td>1.854467</td>\n",
       "      <td>4</td>\n",
       "    </tr>\n",
       "    <tr>\n",
       "      <th>8</th>\n",
       "      <td>1.854467</td>\n",
       "      <td>4</td>\n",
       "    </tr>\n",
       "  </tbody>\n",
       "</table>\n",
       "</div>"
      ],
      "text/plain": [
       "      Value Group\n",
       "0  0.000000     0\n",
       "1  0.911518     1\n",
       "2  0.942949     1\n",
       "3  1.384957     2\n",
       "4  1.407028     2\n",
       "5  1.604863     3\n",
       "6  1.634445     3\n",
       "7  1.854467     4\n",
       "8  1.854467     4"
      ]
     },
     "execution_count": 285,
     "metadata": {},
     "output_type": "execute_result"
    }
   ],
   "source": [
    "data = {'Value': [0.000000, 0.911518, 0.942949, 1.384957, 1.407028, 1.604863, 1.634445, 1.854467, 1.854467]}\n",
    "df = pd.DataFrame(data)\n",
    "\n",
    "# 우선 값들을 정렬\n",
    "df = df.sort_values(by='Value').reset_index(drop=True)\n",
    "\n",
    "# tolerance 값 설정 (0.1)\n",
    "tolerance = 0.1\n",
    "\n",
    "# 그룹 번호를 초기화\n",
    "group_number = 0\n",
    "df['Group'] = None\n",
    "\n",
    "# 그룹 지정 함수\n",
    "def assign_group_by_tolerance(df, tolerance):\n",
    "    global group_number  # 그룹 번호를 외부에서 관리\n",
    "    current_group_start = df['Value'][0]  # 첫번째 값이 그룹의 시작 기준\n",
    "    \n",
    "    # 첫번째 값에 그룹 번호 할당\n",
    "    df.at[0, 'Group'] = group_number\n",
    "    \n",
    "    # 두번째 값부터 확인하면서 그룹을 할당\n",
    "    for i in range(1, len(df)):\n",
    "        # 현재 값이 그룹 시작 값으로부터 tolerance 안에 있으면 같은 그룹으로 묶음\n",
    "        if df['Value'][i] - current_group_start <= tolerance:\n",
    "            df.at[i, 'Group'] = group_number\n",
    "        else:\n",
    "            # 그룹 시작 값보다 tolerance를 벗어나면 새로운 그룹을 할당\n",
    "            group_number += 1\n",
    "            current_group_start = df['Value'][i]  # 새로운 그룹 시작 값 갱신\n",
    "            print(current_group_start)\n",
    "\n",
    "            df.at[i, 'Group'] = group_number\n",
    "\n",
    "    return df\n",
    "assign_group_by_tolerance(df,0.1)"
   ]
  },
  {
   "cell_type": "code",
   "execution_count": 231,
   "metadata": {},
   "outputs": [
    {
     "name": "stdout",
     "output_type": "stream",
     "text": [
      "[1 0 0 0 1 1 0 2 2 2]\n",
      "[1 1 1 2 2 2]\n"
     ]
    }
   ],
   "source": [
    "c,b = np.histogram(df_g[['group abs rot']])\n",
    "df_g['group'] = None\n",
    "print(c)\n",
    "i0,=np.where(c>0)\n",
    "c0 = c[i0]\n",
    "print(c0)\n",
    "b_l,b_r = b[i0],b[i0+1]\n",
    "for i,(l,r) in enumerate(zip(b_l,b_r)):\n",
    "    df_g.loc[(l<=df_g['group abs rot'])&(df_g['group abs rot']<=r),'group'] = i"
   ]
  },
  {
   "cell_type": "code",
   "execution_count": 232,
   "metadata": {},
   "outputs": [
    {
     "data": {
      "text/plain": [
       "array([0.        , 0.74178676, 0.92723345, 1.29812683, 1.48357352,\n",
       "       1.66902021])"
      ]
     },
     "execution_count": 232,
     "metadata": {},
     "output_type": "execute_result"
    }
   ],
   "source": [
    "b_l"
   ]
  },
  {
   "cell_type": "code",
   "execution_count": 233,
   "metadata": {},
   "outputs": [
    {
     "data": {
      "text/html": [
       "<div>\n",
       "<style scoped>\n",
       "    .dataframe tbody tr th:only-of-type {\n",
       "        vertical-align: middle;\n",
       "    }\n",
       "\n",
       "    .dataframe tbody tr th {\n",
       "        vertical-align: top;\n",
       "    }\n",
       "\n",
       "    .dataframe thead th {\n",
       "        text-align: right;\n",
       "    }\n",
       "</style>\n",
       "<table border=\"1\" class=\"dataframe\">\n",
       "  <thead>\n",
       "    <tr style=\"text-align: right;\">\n",
       "      <th></th>\n",
       "      <th>group #</th>\n",
       "      <th>group rot</th>\n",
       "      <th>group idx</th>\n",
       "      <th>group abs rot</th>\n",
       "      <th>group</th>\n",
       "    </tr>\n",
       "  </thead>\n",
       "  <tbody>\n",
       "    <tr>\n",
       "      <th>0</th>\n",
       "      <td>536</td>\n",
       "      <td>0.000000</td>\n",
       "      <td>[235, 236, 238, 239, 241, 242, 243, 244, 245, ...</td>\n",
       "      <td>0.000000</td>\n",
       "      <td>0</td>\n",
       "    </tr>\n",
       "    <tr>\n",
       "      <th>1</th>\n",
       "      <td>156</td>\n",
       "      <td>-0.911518</td>\n",
       "      <td>[81, 82, 83, 84, 85, 86, 87, 88, 89, 90, 91, 9...</td>\n",
       "      <td>0.911518</td>\n",
       "      <td>1</td>\n",
       "    </tr>\n",
       "    <tr>\n",
       "      <th>2</th>\n",
       "      <td>146</td>\n",
       "      <td>0.942949</td>\n",
       "      <td>[760, 762, 763, 764, 765, 766, 767, 768, 769, ...</td>\n",
       "      <td>0.942949</td>\n",
       "      <td>2</td>\n",
       "    </tr>\n",
       "    <tr>\n",
       "      <th>5</th>\n",
       "      <td>17</td>\n",
       "      <td>1.407028</td>\n",
       "      <td>[919, 920, 921, 922, 923, 924, 925, 926, 927, ...</td>\n",
       "      <td>1.407028</td>\n",
       "      <td>3</td>\n",
       "    </tr>\n",
       "    <tr>\n",
       "      <th>6</th>\n",
       "      <td>16</td>\n",
       "      <td>-1.384957</td>\n",
       "      <td>[63, 64, 65, 66, 67, 68, 69, 70, 71, 72, 73, 7...</td>\n",
       "      <td>1.384957</td>\n",
       "      <td>3</td>\n",
       "    </tr>\n",
       "    <tr>\n",
       "      <th>4</th>\n",
       "      <td>17</td>\n",
       "      <td>-1.604863</td>\n",
       "      <td>[43, 44, 45, 46, 47, 48, 49, 50, 51, 52, 53, 5...</td>\n",
       "      <td>1.604863</td>\n",
       "      <td>4</td>\n",
       "    </tr>\n",
       "    <tr>\n",
       "      <th>8</th>\n",
       "      <td>13</td>\n",
       "      <td>1.634445</td>\n",
       "      <td>[946, 947, 948, 949, 950, 951, 952, 953, 954, ...</td>\n",
       "      <td>1.634445</td>\n",
       "      <td>4</td>\n",
       "    </tr>\n",
       "    <tr>\n",
       "      <th>3</th>\n",
       "      <td>21</td>\n",
       "      <td>-1.854467</td>\n",
       "      <td>[21, 22, 23, 24, 25, 26, 27, 28, 29, 30, 31, 3...</td>\n",
       "      <td>1.854467</td>\n",
       "      <td>5</td>\n",
       "    </tr>\n",
       "    <tr>\n",
       "      <th>7</th>\n",
       "      <td>16</td>\n",
       "      <td>1.854467</td>\n",
       "      <td>[963, 964, 965, 966, 967, 968, 969, 970, 971, ...</td>\n",
       "      <td>1.854467</td>\n",
       "      <td>5</td>\n",
       "    </tr>\n",
       "  </tbody>\n",
       "</table>\n",
       "</div>"
      ],
      "text/plain": [
       "   group #  group rot                                          group idx  \\\n",
       "0      536   0.000000  [235, 236, 238, 239, 241, 242, 243, 244, 245, ...   \n",
       "1      156  -0.911518  [81, 82, 83, 84, 85, 86, 87, 88, 89, 90, 91, 9...   \n",
       "2      146   0.942949  [760, 762, 763, 764, 765, 766, 767, 768, 769, ...   \n",
       "5       17   1.407028  [919, 920, 921, 922, 923, 924, 925, 926, 927, ...   \n",
       "6       16  -1.384957  [63, 64, 65, 66, 67, 68, 69, 70, 71, 72, 73, 7...   \n",
       "4       17  -1.604863  [43, 44, 45, 46, 47, 48, 49, 50, 51, 52, 53, 5...   \n",
       "8       13   1.634445  [946, 947, 948, 949, 950, 951, 952, 953, 954, ...   \n",
       "3       21  -1.854467  [21, 22, 23, 24, 25, 26, 27, 28, 29, 30, 31, 3...   \n",
       "7       16   1.854467  [963, 964, 965, 966, 967, 968, 969, 970, 971, ...   \n",
       "\n",
       "   group abs rot group  \n",
       "0       0.000000     0  \n",
       "1       0.911518     1  \n",
       "2       0.942949     2  \n",
       "5       1.407028     3  \n",
       "6       1.384957     3  \n",
       "4       1.604863     4  \n",
       "8       1.634445     4  \n",
       "3       1.854467     5  \n",
       "7       1.854467     5  "
      ]
     },
     "execution_count": 233,
     "metadata": {},
     "output_type": "execute_result"
    }
   ],
   "source": [
    "df_g.sort_values(by='group')"
   ]
  },
  {
   "cell_type": "code",
   "execution_count": 169,
   "metadata": {},
   "outputs": [
    {
     "data": {
      "text/html": [
       "<div>\n",
       "<style scoped>\n",
       "    .dataframe tbody tr th:only-of-type {\n",
       "        vertical-align: middle;\n",
       "    }\n",
       "\n",
       "    .dataframe tbody tr th {\n",
       "        vertical-align: top;\n",
       "    }\n",
       "\n",
       "    .dataframe thead th {\n",
       "        text-align: right;\n",
       "    }\n",
       "</style>\n",
       "<table border=\"1\" class=\"dataframe\">\n",
       "  <thead>\n",
       "    <tr style=\"text-align: right;\">\n",
       "      <th></th>\n",
       "      <th>group #</th>\n",
       "      <th>group rot</th>\n",
       "      <th>group idx</th>\n",
       "      <th>group abs rot2</th>\n",
       "      <th>group abs rot</th>\n",
       "      <th>group</th>\n",
       "    </tr>\n",
       "  </thead>\n",
       "  <tbody>\n",
       "    <tr>\n",
       "      <th>0</th>\n",
       "      <td>579</td>\n",
       "      <td>0.000000</td>\n",
       "      <td>[218, 220, 223, 224, 225, 226, 227, 228, 229, ...</td>\n",
       "      <td>0.424327</td>\n",
       "      <td>0.000000</td>\n",
       "      <td>0</td>\n",
       "    </tr>\n",
       "    <tr>\n",
       "      <th>1</th>\n",
       "      <td>131</td>\n",
       "      <td>-0.848654</td>\n",
       "      <td>[90, 91, 92, 93, 94, 95, 96, 97, 98, 99, 100, ...</td>\n",
       "      <td>0.424327</td>\n",
       "      <td>0.848654</td>\n",
       "      <td>0</td>\n",
       "    </tr>\n",
       "    <tr>\n",
       "      <th>2</th>\n",
       "      <td>116</td>\n",
       "      <td>0.911518</td>\n",
       "      <td>[792, 798, 799, 800, 802, 804, 805, 807, 808, ...</td>\n",
       "      <td>1.335845</td>\n",
       "      <td>0.911518</td>\n",
       "      <td>1</td>\n",
       "    </tr>\n",
       "  </tbody>\n",
       "</table>\n",
       "</div>"
      ],
      "text/plain": [
       "   group #  group rot                                          group idx  \\\n",
       "0      579   0.000000  [218, 220, 223, 224, 225, 226, 227, 228, 229, ...   \n",
       "1      131  -0.848654  [90, 91, 92, 93, 94, 95, 96, 97, 98, 99, 100, ...   \n",
       "2      116   0.911518  [792, 798, 799, 800, 802, 804, 805, 807, 808, ...   \n",
       "\n",
       "   group abs rot2  group abs rot group  \n",
       "0        0.424327       0.000000     0  \n",
       "1        0.424327       0.848654     0  \n",
       "2        1.335845       0.911518     1  "
      ]
     },
     "execution_count": 169,
     "metadata": {},
     "output_type": "execute_result"
    }
   ],
   "source": [
    "df_g"
   ]
  },
  {
   "cell_type": "code",
   "execution_count": 138,
   "metadata": {},
   "outputs": [
    {
     "data": {
      "text/plain": [
       "array([[<Axes: title={'center': 'group abs rot2'}>]], dtype=object)"
      ]
     },
     "execution_count": 138,
     "metadata": {},
     "output_type": "execute_result"
    },
    {
     "data": {
      "image/png": "[encoded data removed]",
      "text/plain": [
       "<Figure size 640x480 with 1 Axes>"
      ]
     },
     "metadata": {},
     "output_type": "display_data"
    }
   ],
   "source": [
    "df_g[['group abs rot2']].hist()"
   ]
  },
  {
   "cell_type": "code",
   "execution_count": 387,
   "metadata": {},
   "outputs": [
    {
     "name": "stdout",
     "output_type": "stream",
     "text": [
      "[-0.19440174  0.39580147  0.        ]\n",
      "[0.5972012  0.39580147 0.79160295]\n",
      "[1.41442391 1.21302418 1.60882565]\n",
      "[-1.0372442   1.23864393  0.84284246]\n"
     ]
    }
   ],
   "source": [
    "for i in df_g[['group rot','group abs rot2','group abs rot']].values:\n",
    "    print(i)"
   ]
  },
  {
   "cell_type": "markdown",
   "metadata": {},
   "source": [
    "# 통합환경 제작"
   ]
  },
  {
   "cell_type": "code",
   "execution_count": 671,
   "metadata": {},
   "outputs": [],
   "source": [
    "def assign_group_by_tolerance(df, tolerance):\n",
    "    group_number = 0\n",
    "    current_group_start = df['group abs rot'][0]  # 첫번째 값이 그룹의 시작 기준\n",
    "    # 첫번째 값에 그룹 번호 할당\n",
    "    df.at[0, 'Group'] = group_number\n",
    "    \n",
    "    # 두번째 값부터 확인하면서 그룹을 할당\n",
    "    for i in range(1, len(df)):\n",
    "        # 현재 값이 그룹 시작 값으로부터 tolerance 안에 있으면 같은 그룹으로 묶음\n",
    "        if df['group abs rot'][i] - current_group_start <= tolerance:\n",
    "            df.at[i, 'Group'] = group_number\n",
    "        else:\n",
    "            # 그룹 시작 값보다 tolerance를 벗어나면 새로운 그룹을 할당\n",
    "            group_number += 1\n",
    "            current_group_start = df['group abs rot'][i]  # 새로운 그룹 시작 값 갱신\n",
    "            df.at[i, 'Group'] = group_number\n",
    "\n",
    "    return df\n",
    "\n",
    "def Get_Group(theta,t,L):\n",
    "    th = (theta[-1]-theta[-L])//(np.pi*2)\n",
    "    r = np.mean(np.abs(np.mean(np.exp(1j*theta[-500:]),axis=1)))\n",
    "    th = np.where(th>=0,th,th+1)\n",
    "    th = th/(t[-1] - t[-L])\n",
    "    c,b = np.histogram(th,bins=100)\n",
    "    c_sort = np.sort(c)[::-1]\n",
    "    c_3 = np.where(c_sort>np.max(c)*(0.05))\n",
    "    c_arg = np.argsort(c)[::-1]\n",
    "    b_n0 = b[c_arg[c_3]]\n",
    "    db = b[1] - b[0]\n",
    "    N = len(theta[-1])\n",
    "    gs = {}\n",
    "    gs['group #'] = []\n",
    "    gs['group rot'] = []\n",
    "    gs['group idx'] = []\n",
    "    if r>1/np.sqrt(N):\n",
    "        for b_l in b_n0:\n",
    "            idx, = np.where((th>=b_l)&(th<=b_l+db))\n",
    "            gs['group idx'].append(idx)\n",
    "            gs['group rot'].append(np.mean(th[idx])*(np.pi*2))\n",
    "            gs['group #'].append(len(idx))\n",
    "    df =  pd.DataFrame(gs)\n",
    "    try:\n",
    "        df['group abs rot'] = (df['group rot']-(df['group rot'].iloc[0]+df['group rot'].iloc[1])/2).apply(lambda x: np.abs(x))\n",
    "        if abs(df['group rot'].iloc[0])<0.2:\n",
    "            df['group abs rot'] = (df['group rot']-(df['group rot'].iloc[0])).apply(lambda x: np.abs(x))\n",
    "        else:\n",
    "            df['group abs rot'] = (df['group rot']-(df['group rot'].iloc[0]+df['group rot'].iloc[1])/2).apply(lambda x: np.abs(x))\n",
    "    except IndexError:\n",
    "        df = pd.DataFrame()\n",
    "        df[['group #','group rot','Group','g sign','r_m','r_std']] = None \n",
    "        return df\n",
    "    df = df.sort_values(by='group abs rot').reset_index(drop=True)\n",
    "    df = assign_group_by_tolerance(df,0.1)\n",
    "    def S_rho(x):\n",
    "        L = len(x)\n",
    "        a = theta[-L:,x]\n",
    "        ST = np.sum(np.exp(a*1j),axis=1)\n",
    "        rho = np.abs(ST/L)\n",
    "        return rho\n",
    "    df['rho_s'] = df['group idx'].apply(S_rho)\n",
    "    df['r_m'] = df['rho_s'].apply(np.mean) * df['group #']/N\n",
    "    df['r_std'] = df['rho_s'].apply(np.std) * df['group #']/N\n",
    "    df['g sign'] = np.sign(df['group rot']) * np.sign(df['group abs rot'])\n",
    "    return df[['group #','group rot','Group','g sign','r_m','r_std']]"
   ]
  },
  {
   "cell_type": "code",
   "execution_count": 672,
   "metadata": {},
   "outputs": [
    {
     "data": {
      "text/html": [
       "<div>\n",
       "<style scoped>\n",
       "    .dataframe tbody tr th:only-of-type {\n",
       "        vertical-align: middle;\n",
       "    }\n",
       "\n",
       "    .dataframe tbody tr th {\n",
       "        vertical-align: top;\n",
       "    }\n",
       "\n",
       "    .dataframe thead th {\n",
       "        text-align: right;\n",
       "    }\n",
       "</style>\n",
       "<table border=\"1\" class=\"dataframe\">\n",
       "  <thead>\n",
       "    <tr style=\"text-align: right;\">\n",
       "      <th></th>\n",
       "      <th>group #</th>\n",
       "      <th>group rot</th>\n",
       "      <th>Group</th>\n",
       "      <th>g sign</th>\n",
       "      <th>r_m</th>\n",
       "      <th>r_std</th>\n",
       "    </tr>\n",
       "  </thead>\n",
       "  <tbody>\n",
       "    <tr>\n",
       "      <th>0</th>\n",
       "      <td>287</td>\n",
       "      <td>0.062863</td>\n",
       "      <td>0.0</td>\n",
       "      <td>0.0</td>\n",
       "      <td>0.565793</td>\n",
       "      <td>0.004429</td>\n",
       "    </tr>\n",
       "    <tr>\n",
       "      <th>1</th>\n",
       "      <td>81</td>\n",
       "      <td>-0.942949</td>\n",
       "      <td>1.0</td>\n",
       "      <td>-1.0</td>\n",
       "      <td>0.153870</td>\n",
       "      <td>0.005145</td>\n",
       "    </tr>\n",
       "    <tr>\n",
       "      <th>2</th>\n",
       "      <td>60</td>\n",
       "      <td>1.100107</td>\n",
       "      <td>1.0</td>\n",
       "      <td>1.0</td>\n",
       "      <td>0.114690</td>\n",
       "      <td>0.002409</td>\n",
       "    </tr>\n",
       "  </tbody>\n",
       "</table>\n",
       "</div>"
      ],
      "text/plain": [
       "   group #  group rot  Group  g sign       r_m     r_std\n",
       "0      287   0.062863    0.0     0.0  0.565793  0.004429\n",
       "1       81  -0.942949    1.0    -1.0  0.153870  0.005145\n",
       "2       60   1.100107    1.0     1.0  0.114690  0.002409"
      ]
     },
     "execution_count": 672,
     "metadata": {},
     "output_type": "execute_result"
    }
   ],
   "source": [
    "Get_Group(theta,t,2000)"
   ]
  },
  {
   "cell_type": "code",
   "execution_count": 673,
   "metadata": {},
   "outputs": [],
   "source": [
    "from parfor import parfor\n",
    "import TO_sim.Integrator_jit as IJ\n",
    "from TO_sim.Kuramoto_model import Kuramoto_2nd_mf,Kuramoto_1st_mf\n",
    "\n",
    "RK4_jit_short = IJ.RK4_short"
   ]
  },
  {
   "cell_type": "code",
   "execution_count": 674,
   "metadata": {},
   "outputs": [],
   "source": [
    "func = Kuramoto_2nd_mf"
   ]
  },
  {
   "cell_type": "code",
   "execution_count": 675,
   "metadata": {},
   "outputs": [],
   "source": [
    "seed =11\n",
    "N = 500\n",
    "theta_random,omega,Kc = Q_Normal(N,0,1,seed=seed)\n",
    "\n",
    "omega = omega - np.mean(omega)\n",
    "omega = np.sort(omega)\n",
    "m = 8\n",
    "dt = 0.1\n",
    "t = np.arange(0,10000,dt)\n",
    "K = 5.1\n",
    "L = 5000\n",
    "to_ppi = lambda y: (y + np.pi)%(2*np.pi) - np.pi\n",
    "# theta, dtheta,rs = mf2(K,N=N,m=m,t_array=t,p_theta=theta_random,p_dtheta=theta_random,p_omega=omega)\n",
    "# plt.plot(np.sort(avg_dtheta[-1]))\n",
    "# plt.plot((avg_dtheta[-1]))\n",
    "Theta = np.r_[theta_random,omega]\n",
    "Ks = np.arange(0,10,0.2)"
   ]
  },
  {
   "cell_type": "code",
   "execution_count": 676,
   "metadata": {},
   "outputs": [],
   "source": [
    "sol = RK4_jit_short(func,Theta,t, args=(omega, N, m, K),result_time=int(t[-6000]/dt))"
   ]
  },
  {
   "cell_type": "code",
   "execution_count": 677,
   "metadata": {},
   "outputs": [],
   "source": [
    "theta = sol[:,:N]"
   ]
  },
  {
   "cell_type": "code",
   "execution_count": 678,
   "metadata": {},
   "outputs": [
    {
     "data": {
      "text/plain": [
       "(500,)"
      ]
     },
     "execution_count": 678,
     "metadata": {},
     "output_type": "execute_result"
    }
   ],
   "source": [
    "(theta[-1] - theta[-5000]).shape"
   ]
  },
  {
   "cell_type": "code",
   "execution_count": 679,
   "metadata": {},
   "outputs": [
    {
     "data": {
      "text/plain": [
       "0.5115898625322658"
      ]
     },
     "execution_count": 679,
     "metadata": {},
     "output_type": "execute_result"
    }
   ],
   "source": [
    "r = np.mean(np.abs(np.mean(np.exp(1j*theta[-500:]),axis=1)))\n",
    "r"
   ]
  },
  {
   "cell_type": "code",
   "execution_count": 680,
   "metadata": {},
   "outputs": [],
   "source": [
    "theta = sol[:,:N]\n",
    "df = Get_Group(theta,t,L)"
   ]
  },
  {
   "cell_type": "code",
   "execution_count": 681,
   "metadata": {},
   "outputs": [],
   "source": [
    "from tqdm.notebook import tqdm"
   ]
  },
  {
   "cell_type": "code",
   "execution_count": 682,
   "metadata": {},
   "outputs": [
    {
     "data": {
      "application/vnd.jupyter.widget-view+json": {
       "model_id": "bed1bff7942f4ed49d8061fa89904270",
       "version_major": 2,
       "version_minor": 0
      },
      "text/plain": [
       "  0%|          | 0/50 [00:00<?, ?it/s]"
      ]
     },
     "metadata": {},
     "output_type": "display_data"
    }
   ],
   "source": [
    "@parfor(Ks,bar=True)\n",
    "def K_f(K,L=5000):\n",
    "    sol = RK4_jit_short(func,Theta,t, args=(omega, N, m, K),result_time=int(t[-5000]/dt))\n",
    "    theta = sol[:,:N]\n",
    "    df = Get_Group(theta,t,L)\n",
    "    return df"
   ]
  },
  {
   "cell_type": "code",
   "execution_count": 683,
   "metadata": {},
   "outputs": [],
   "source": [
    "Ks = np.round(Ks,2)"
   ]
  },
  {
   "cell_type": "code",
   "execution_count": 684,
   "metadata": {},
   "outputs": [],
   "source": [
    "Ks = np.round(Ks,2)\n",
    "df_r = pd.DataFrame(index=np.round(Ks,2))\n",
    "df_r[['0p','0m','0','1p','1m','2p','2m']] = None\n",
    "for a,K in zip(K_f,Ks):\n",
    "    for i in range(4):\n",
    "        try:\n",
    "            df_r.loc[K,f'{i}'] = a[(a['Group']==i)&(a['g sign']==0)]['r_m'].values[0]\n",
    "        except:pass\n",
    "        try:\n",
    "            # print(a[(a['Group']==i)&(a['g sign']==1)]['r_m'].values[0])\n",
    "            df_r.loc[K,f'{i}p'] = a[(a['Group']==i)&(a['g sign']==1)]['r_m'].values[0]\n",
    "            df_r.loc[K,f'{i}m'] = a[(a['Group']==i)&(a['g sign']==-1)]['r_m'].values[0]\n",
    "        except:pass\n",
    "\n"
   ]
  },
  {
   "cell_type": "code",
   "execution_count": 686,
   "metadata": {},
   "outputs": [
    {
     "data": {
      "text/plain": [
       "8"
      ]
     },
     "execution_count": 686,
     "metadata": {},
     "output_type": "execute_result"
    }
   ],
   "source": [
    "m"
   ]
  },
  {
   "cell_type": "code",
   "execution_count": 687,
   "metadata": {},
   "outputs": [],
   "source": [
    "import TO_sim.analytical.order_sec_parameter as OSP\n",
    "F_RMd2,F_RMu2,F_R0d2,F_R0u2 =  OSP.Make_R_function(m)\n",
    "K_ = np.linspace(0,10,10000)"
   ]
  },
  {
   "cell_type": "code",
   "execution_count": 688,
   "metadata": {},
   "outputs": [],
   "source": [
    "import numpy as np\n",
    "import pandas as pd\n",
    "from TO_sim.gen_Distribution import Normal, Quantile_Normal as Q_Normal, Lorentzian\n",
    "from scipy.integrate import quad\n",
    "from scipy.stats import norm\n",
    "from numba import jit\n",
    "from scipy import interpolate\n",
    "\n",
    "\n",
    "\n",
    "def g_n(x):\n",
    "    return norm.pdf(x,0,1)\n",
    "\n",
    "def FX_lock1(X,m,g=g_n):\n",
    "    # integrand_lock = lambda x:np.cos(x)**2*g(X*np.sin(x))\n",
    "    integrand_lock = lambda x:g(x)*np.sqrt(1-(x/X)**2)\n",
    "    \n",
    "    a = 1/np.sqrt(X*m)\n",
    "    b = 4/np.pi * a - 0.3056*a**3\n",
    "    b = np.where(np.where(a>1.193,1,b)>=1,1,b)\n",
    "\n",
    "    omega_p = b*X\n",
    "    \n",
    "    A = omega_p/X\n",
    "    I_l,err = quad(integrand_lock, -omega_p,omega_p,limit=200)\n",
    "    return I_l/X\n",
    "\n",
    "def FX_drift1(X,m,g=g_n):\n",
    "    if m == 0:\n",
    "        return 0\n",
    "    a = 1/np.sqrt(X*m)\n",
    "    b = 4/np.pi * a - 0.3056*a**3\n",
    "    b = np.where(np.where(a>1.193,1,b)>=1,1,b)\n",
    "\n",
    "\n",
    "    O_p = b*X\n",
    "    # O_p = (4/np.pi)*np.sqrt(X/m)\n",
    "\n",
    "    # integrand_drift = lambda x:1/(m*x**2+1/m)*g(x)\n",
    "    integrand_drift = lambda x:1/(m*x**2+1/m)*g(x)\n",
    "    I_d,err = quad(integrand_drift,O_p,np.inf,limit=200)\n",
    "    return -1*I_d\n",
    "\n",
    "def FX_0(X,m,O_0,g=g_n):\n",
    "        O_d = min(O_0,X)\n",
    "        theta_0 = np.arcsin(O_d/X)\n",
    "        integrand_l = lambda x:np.cos(x)**2*g(X*np.sin(x))\n",
    "        integrand_d = lambda x:(1/x**2)*g(x)\n",
    "        I_l,err_l = quad(integrand_l,-theta_0,theta_0,limit=200) #lock\n",
    "        I_d,err_d = quad(integrand_d,O_d,np.inf,limit=200) #drift\n",
    "        Fl = 1*I_l\n",
    "        Fd = - 1/(m)*I_d\n",
    "        F0 = Fl + Fd\n",
    "        return F0,Fl,Fd\n",
    "get_FX_l1 = np.vectorize(FX_lock1)\n",
    "get_FX_d1 = np.vectorize(FX_drift1)\n",
    "get_FX_0 = np.vectorize(FX_0)\n",
    "\n",
    "def Make_R0_function(m,O_0,K_max=15,g_n=g_n):\n",
    "    X = np.linspace((0.01),(20),num=3000)\n",
    "    F0,Fl,Fd = get_FX_0(X,m,O_0,g=g_n)\n",
    "    RX_l1 = X*Fl\n",
    "    RX_d1 = X*Fd\n",
    "    RX_F = RX_l1 + RX_d1\n",
    "    R = RX_l1 + RX_d1\n",
    "    IK = np.nanmax((R/X))\n",
    "    Kb =1/IK\n",
    "    rb = X[np.nanargmax((R/X))]*IK\n",
    "\n",
    "    Ks = np.linspace(0.5,K_max+0.1,50000)\n",
    "    A = np.where(np.abs(RX_F*Ks.reshape(-1,1)-X)<5e-5)\n",
    "    RR = RX_F*np.ones_like(Ks.reshape(-1,1))\n",
    "    KK = np.ones_like(RX_F)*Ks.reshape(-1,1)\n",
    "\n",
    "    RR_0 = RX_l1*np.ones_like(Ks.reshape(-1,1))\n",
    "    U,= np.where(RR[A] >= rb)\n",
    "    D,= np.where(RR[A] < rb)\n",
    "    Ku = KK[A][U]\n",
    "    Kd = KK[A][D]\n",
    "    Ku,Ku_idx,c=np.unique(Ku,return_counts=True,return_index=True)\n",
    "    Kd,Kd_idx,c=np.unique(Kd,return_counts=True,return_index=True)\n",
    "\n",
    "    F_RMu = interpolate.interp1d(KK[A][U][Ku_idx], RR[A][U][Ku_idx], kind='quadratic',bounds_error=False)\n",
    "    F_R0u = interpolate.interp1d(KK[A][U][Ku_idx], RR_0[A][U][Ku_idx], kind='quadratic',bounds_error=False)\n",
    "    if m == 0:\n",
    "        F_RMd = F_RMu\n",
    "        F_R0d = F_R0u\n",
    "    else:\n",
    "        F_RMd = interpolate.interp1d(KK[A][D][Kd_idx], RR[A][D][Kd_idx], kind='quadratic',bounds_error=False)\n",
    "        F_R0d = interpolate.interp1d(KK[A][D][Kd_idx], RR_0[A][D][Kd_idx], kind='quadratic',bounds_error=False)\n",
    "\n",
    "\n",
    "    return F_RMd,F_RMu,F_R0d,F_R0u\n",
    "\n",
    "def g_sec(x,Or,Om):\n",
    "    g = norm.pdf(x,-Or,1)\n",
    "    dO = abs(Or-Om)\n",
    "    return np.where(x<-dO,1e-6,g)\n",
    "\n",
    "def get_O_r(r):\n",
    "    r_s = np.linspace(r/2+0.5,1,5000,endpoint=False)\n",
    "    A = norm.ppf(r_s)\n",
    "    return np.mean(A)\n",
    "\n",
    "def F_lock2(r,K,m,F_R0,F_RM,O_pm=None, g=g_sec):\n",
    "    X = K*r\n",
    "    a = 1/np.sqrt(X*m)\n",
    "    b = 4/np.pi * a - 0.3056*a**3\n",
    "    bs = np.where(np.where(a>1.193,1,b)>=1,1,b)\n",
    "\n",
    "    r_0 = F_R0(K)\n",
    "    if O_pm is None:\n",
    "        O_pm = 4/np.pi*np.sqrt(K*F_RM(K)/m) - 0.3056/np.sqrt(K*F_RM(K)*m**3)\n",
    "    # shift_O = -(K**2*r*r_0)/(2*m*(1/m**2+(O_pm)**2)) -(K**2*r*r)/(2*m*(1/m**2+(2*O_pm)**2))\n",
    "    shift_O = -(K**2*r*r_0)/(2*m*(1/m**2+(O_pm)**2)) + (K**2*r*r)/(2*m**2*O_pm*(1/m**2+(2*O_pm)**2))\n",
    "    integrand_lock = lambda x:g(x,O_pm-shift_O,O_pm)*np.sqrt(1-((x)/X)**2)\n",
    "    omega_p = bs*X\n",
    "    O_min = -shift_O - omega_p\n",
    "    if O_min<0:\n",
    "        m_ = O_min\n",
    "    else:\n",
    "        m_ = np.nan\n",
    "        \n",
    "    I_l,err = quad(integrand_lock, shift_O,+omega_p,limit=200)\n",
    "    return I_l/X,m_\n",
    "def F_drift2(r,K,m,F_R0,F_RM,O_pm=None,g=g_sec):\n",
    "    X = K*r\n",
    "    a = 1/np.sqrt(X*m)\n",
    "    b = 4/np.pi * a - 0.3056*a**3\n",
    "    bs = np.where(np.where(a>1.193,1,b)>=1,1,b)\n",
    "\n",
    "\n",
    "    r_0 = F_R0(K)\n",
    "    if O_pm is None:\n",
    "        O_pm = 4/np.pi*np.sqrt(K*F_RM(K)/m) - 0.3056/np.sqrt(K*F_RM(K)*m**3)\n",
    "    O_p = bs*X\n",
    "    # shift_O = -(K**2*r*r_0)/(2*m*(1/m**2+(O_pm)**2)) -(K**2*r*r)/(2*m*(1/m**2+(2*O_pm)**2))\n",
    "    shift_O = -(K**2*r*r_0)/(2*m*(1/m**2+(O_pm)**2)) + (K**2*r*r)/(2*m**2*O_pm*(1/m**2+(2*O_pm)**2))\n",
    "    integrand_drift = lambda x:1/(2*(m*(x+O_pm-shift_O)**2+1/m))*g(x,O_pm-shift_O,O_pm)\n",
    "    # integrand_drift = lambda x:1/(2*(m*(x)**2+1/m))*g(x,O_pm-shift_O,O_pm)\n",
    "    # integrand_drift = lambda x:1/(2*(m*(x)**2+1/m))*g(x,O_pm-shift_O,O_pm)\n",
    "    # integrand_drift = lambda x:1/(2*x**2)*g(x+shift_O,O_r,O_pm)\n",
    "    I_d,err = quad(integrand_drift,+O_p,np.inf,limit=200)\n",
    "    # I_dm,err = quad(integrand_drift,-np.inf,-O_p,limit=200)\n",
    "    return -1*(I_d)#+I_dm)\n",
    "\n",
    "def F_sec(r,K,m,F_R0,F_RM,O_pm=None,g=g_sec):\n",
    "    F_l2,m_ = F_lock2(r,K,m,F_R0,F_RM,O_pm,g)\n",
    "    F_d2 = F_drift2(r,K,m,F_R0,F_RM,O_pm,g)\n",
    "    return F_l2,F_d2,F_l2+F_d2,m_\n",
    "\n",
    "get_Fp_l = np.vectorize(F_lock2)\n",
    "get_Fp_d = np.vectorize(F_drift2)\n",
    "get_F2 = np.vectorize(F_sec)\n",
    "# get_F20 = np.vectorize(F_sec0)\n",
    "\n",
    "\n",
    "def Make_R_function(m,K_max=15,g_n=g_n):\n",
    "    X = np.linspace((0.01),(20),num=3000)\n",
    "    RX_l1 = X*get_FX_l1(X,m,g=g_n)\n",
    "    RX_d1 = X*get_FX_d1(X,m,g=g_n)\n",
    "    RX_F = RX_l1 + RX_d1\n",
    "    R = RX_l1 + RX_d1\n",
    "    IK = np.nanmax((R/X))\n",
    "    Kb =1/IK\n",
    "    rb = X[np.nanargmax((R/X))]*IK\n",
    "\n",
    "    Ks = np.linspace(0.5,K_max+0.1,50000)\n",
    "    A = np.where(np.abs(RX_F*Ks.reshape(-1,1)-X)<5e-5)\n",
    "    RR = RX_F*np.ones_like(Ks.reshape(-1,1))\n",
    "    KK = np.ones_like(RX_F)*Ks.reshape(-1,1)\n",
    "\n",
    "    RR_0 = RX_l1*np.ones_like(Ks.reshape(-1,1))\n",
    "    U,= np.where(RR[A] >= rb)\n",
    "    D,= np.where(RR[A] < rb)\n",
    "    Ku = KK[A][U]\n",
    "    Kd = KK[A][D]\n",
    "    Ku,Ku_idx,c=np.unique(Ku,return_counts=True,return_index=True)\n",
    "    Kd,Kd_idx,c=np.unique(Kd,return_counts=True,return_index=True)\n",
    "\n",
    "    F_RMu = interpolate.interp1d(KK[A][U][Ku_idx], RR[A][U][Ku_idx], kind='quadratic',bounds_error=False)\n",
    "    F_R0u = interpolate.interp1d(KK[A][U][Ku_idx], RR_0[A][U][Ku_idx], kind='quadratic',bounds_error=False)\n",
    "    if m == 0:\n",
    "        F_RMd = F_RMu\n",
    "        F_R0d = F_R0u\n",
    "    else:\n",
    "        F_RMd = interpolate.interp1d(KK[A][D][Kd_idx], RR[A][D][Kd_idx], kind='quadratic',bounds_error=False)\n",
    "        F_R0d = interpolate.interp1d(KK[A][D][Kd_idx], RR_0[A][D][Kd_idx], kind='quadratic',bounds_error=False)\n",
    "\n",
    "    return F_RMd,F_RMu,F_R0d,F_R0u\n",
    "\n",
    "def get_r_sec(K,m,FR0,FRM,O_pm=None,samples=200,g_sec=g_sec):\n",
    "    r0_ =  FR0(K)\n",
    "    r_sd,r_su = np.nan,np.nan\n",
    "    r_su_d,r_su_l = np.nan,np.nan\n",
    "    mu = np.nan\n",
    "    md = np.nan\n",
    "    if (K == 0)or (m==0):\n",
    "        return r_sd,r_su,r_su_d,r_su_l,md,mu\n",
    "    r_test = np.linspace(1e-5,(1-r0_)/2,samples)\n",
    "    F_l2,F_d2,F2,m_ = get_F2(r_test,K,m,FR0,FRM,O_pm)\n",
    "    R2_interpolate  = interpolate.interp1d(r_test,F2, kind='linear',bounds_error=False)\n",
    "    F2l_interpolate  = interpolate.interp1d(r_test,F_l2, kind='linear',bounds_error=False)\n",
    "    m_interpolate  = interpolate.interp1d(r_test,m_, kind='linear',bounds_error=False)\n",
    "    r_test2 = np.linspace(1e-5,(1-r0_)/2,5000)\n",
    "    Fs = R2_interpolate(r_test2)\n",
    "    cross_point = np.sign((Fs[0:-1]-1/K)*(Fs[1:]-1/K))*(-0.5) + 0.5\n",
    "    arg_check, = np.where(cross_point)\n",
    "\n",
    "    r_sec = (r_test2[arg_check] +r_test2[arg_check+1])/2\n",
    "    if len(r_sec)==2:\n",
    "        r_sd,r_su = r_sec\n",
    "    if len(r_sec)==1:\n",
    "        r_su = r_sec\n",
    "    f_su = F2l_interpolate(r_su)\n",
    "    f_sd = F2l_interpolate(r_sd)\n",
    "    mu = m_interpolate(r_su)\n",
    "    md = m_interpolate(r_sd)\n",
    "    r_su_l = r_su*K*f_su\n",
    "    r_sd_l = r_sd*K*f_sd\n",
    "    return r_sd,r_su,r_sd_l,r_su_l,md,mu\n",
    "\n",
    "# def get_r_sec0(K,r_last,shift_O,m,O_0,O_20,FR,samples=200):\n",
    "#     r0_ =  FR(K)\n",
    "#     r_sd,r_su = np.nan,np.nan\n",
    "#     r_sd_l,r_su_l = np.nan,np.nan\n",
    "#     mu = np.nan\n",
    "#     md = np.nan\n",
    "#     if (K == 0)or (m==0):\n",
    "#         return r_sd,r_su,r_sd_l,r_su_l\n",
    "#     r_test = np.linspace(1e-5,(1-r0_)/2,samples)\n",
    "#     F2,Fl,Fd = get_F20(r_test,r_last,K,shift_O,m,O_0,O_20,FR)\n",
    "#     R2_interpolate  = interpolate.interp1d(r_test,F2, kind='linear',bounds_error=False)\n",
    "#     Rl_interpolate  = interpolate.interp1d(r_test,Fl, kind='linear',bounds_error=False)\n",
    "#     r_test2 = np.linspace(1e-5,(1-r0_)/2,5000)\n",
    "#     Fs = R2_interpolate(r_test2)\n",
    "#     Fls = Rl_interpolate(r_test2)\n",
    "#     cross_point = np.sign((Fs[0:-1]-1/K)*(Fs[1:]-1/K))*(-0.5) + 0.5\n",
    "#     arg_check, = np.where(cross_point)\n",
    "\n",
    "#     r_sec = (r_test2[arg_check] +r_test2[arg_check+1])/2\n",
    "#     F_ls = (Fls[arg_check] +Fls[arg_check+1])/2\n",
    "#     if len(r_sec)>=3:\n",
    "#         r_su = r_sec[-1]\n",
    "#         r_su_l = F_ls[-1]*K*r_su\n",
    "#     if len(r_sec)==2:\n",
    "#         r_sd,r_su = r_sec\n",
    "#         r_sd_l,r_su_l = F_ls[0]*K*r_sd,F_ls[1]*K*r_su\n",
    "\n",
    "#     if len(r_sec)==1:\n",
    "#         r_su = r_sec\n",
    "#         r_su_l = F_ls*K*r_su\n",
    "#     return r_sd,r_su,r_sd_l,r_su_l\n",
    "\n",
    "get_r_sec_np = np.vectorize(get_r_sec)\n",
    "# get_r_sec0_np = np.vectorize(get_r_sec0)\n",
    "\n",
    "\n",
    "### GET O_R\n",
    "def get_shift(O_0):\n",
    "    r_last = norm.cdf(O_0)\n",
    "    O_samples = np.linspace(O_0,4,1000)\n",
    "    r_ = norm.cdf(O_samples)\n",
    "    def get_O_r(r):\n",
    "        r_s = np.linspace(r_last,r,10000,endpoint=False)\n",
    "        A = norm.ppf(r_s)\n",
    "        O_r = np.mean(A)\n",
    "        shift_O = O_r - O_0\n",
    "        return O_r,shift_O\n",
    "    FO_r = np.vectorize(get_O_r)\n",
    "    O_rs,shift_Os = FO_r(r_)\n",
    "    Ops = O_samples-O_rs\n",
    "    F_shift  = interpolate.interp1d(Ops,shift_Os, kind='linear',bounds_error=False)\n",
    "    F_OR  = interpolate.interp1d(O_samples,O_rs, kind='linear',bounds_error=False)\n",
    "\n",
    "    return F_shift,F_OR\n",
    "\n",
    "def F_sec0(r,K,m,O_0,O_20,F_R0,F_S,F_OR,g=g_sec):\n",
    "    X = K*r\n",
    "    a = 1/np.sqrt(X*m)\n",
    "    b = 4/np.pi * a - 0.3056*a**3\n",
    "    r_0 = F_R0(K)\n",
    "    bs = np.where(np.where(a>1.193,1,b)>=1,1,b)\n",
    "    a0 = 1/np.sqrt(K*r_0*m)\n",
    "\n",
    "    O_pm = O_0\n",
    "    shift_O = (K**2*r*r_0)/(2*m*(1/m**2+(O_pm)**2)) - (K**2*r*r)/(2*m**2*O_pm*(1/m**2+(2*O_pm)**2))#K**2 * r_0 * r/(2*m*(1/m**2+(O_0)**2)) + K**2 * r * r/(2*m*(1/m**2+(2*O_0)**2))\n",
    "\n",
    "    shift_temp = F_S(X-shift_O)\n",
    "    MAX = O_0+shift_temp+X\n",
    "    # if MAX<O_20:\n",
    "        # shift_temp = F_S(X)\n",
    "        # O_20 = MAX\n",
    "    OM = -shift_temp\n",
    "    OP = min(O_20-O_0-shift_temp,X)\n",
    "    \n",
    "    if X<shift_temp:\n",
    "        OM = 0\n",
    "        OP = 0\n",
    "    \n",
    "    integrand_drift = lambda x:1/(2*(m*(x+shift_O)**2+1/m))*g(x,O_pm+shift_O,O_pm)\n",
    "    integrand_lock = lambda x:g(x,O_pm+shift_temp,O_pm)*np.sqrt(1-((x)/X)**2)\n",
    "\n",
    "    I_d,err = quad(integrand_drift,OP,np.inf,limit=200)\n",
    "    I_l,err = quad(integrand_lock,OM ,OP,limit=200)\n",
    "    \n",
    "    return I_l/X-I_d,I_l/X,-I_d,shift_temp\n",
    "get_F20 = np.vectorize(F_sec0)\n",
    "\n",
    "def get_r_sec0(K,m,O_0,O_20,FR,F_S,F_OR,samples=200):\n",
    "    r0_ =  FR(K)\n",
    "    r_sd,r_su = np.nan,np.nan\n",
    "    r_sd_l,r_su_l = np.nan,np.nan\n",
    "    mu = np.nan\n",
    "    md = np.nan\n",
    "    shift_Os = np.nan\n",
    "    if (K == 0)or (m==0):\n",
    "        return r_sd,r_su,r_sd_l,r_su_l\n",
    "    r_test = np.linspace(1e-5,(1-r0_)/2,samples)\n",
    "    F2,Fl,Fd,shift_Os = get_F20(r_test,K,m,O_0,O_20,FR,F_S,F_OR)\n",
    "    R2_interpolate  = interpolate.interp1d(r_test,F2, kind='linear',bounds_error=False)\n",
    "    Rl_interpolate  = interpolate.interp1d(r_test,Fl, kind='linear',bounds_error=False)\n",
    "    r_test2 = np.linspace(1e-5,(1-r0_)/2,5000)\n",
    "    Fs = R2_interpolate(r_test2)\n",
    "    Fls = Rl_interpolate(r_test2)\n",
    "    cross_point = np.sign((Fs[0:-1]-1/K)*(Fs[1:]-1/K))*(-0.5) + 0.5\n",
    "    arg_check, = np.where(cross_point)\n",
    "\n",
    "    r_sec = (r_test2[arg_check] +r_test2[arg_check+1])/2\n",
    "    F_ls = (Fls[arg_check] +Fls[arg_check+1])/2\n",
    "    if len(r_sec)==2:\n",
    "        r_sd,r_su = r_sec\n",
    "        r_sd_l,r_su_l = F_ls[0]*K*r_sd,F_ls[1]*K*r_su\n",
    "\n",
    "    if len(r_sec)==1:\n",
    "        r_su = r_sec\n",
    "        r_su_l = F_ls*K*r_su\n",
    "\n",
    "\n",
    "    return r_sd,r_su,r_sd_l,r_su_l\n",
    "get_r_sec0_np = np.vectorize(get_r_sec0)\n",
    "\n",
    "def get_shift_O(r0,rp,O_O,K,m):\n",
    "    shift = (K**2*r0*rp)/(2*m*(1/m**2+(O_O)**2)) - (K**2*rp*rp)/(2*m**2*O_O*(1/m**2+(2*O_O)**2))\n",
    "    return shift\n",
    "\n",
    "\n",
    "def get_OPM(RM,K,m):\n",
    "    OPM =  4/np.pi*np.sqrt(K*RM/m) - 0.3056/np.sqrt(K*RM*m**3)\n",
    "    return OPM\n",
    "\n",
    "get_FX_0 = np.vectorize(FX_0)"
   ]
  },
  {
   "cell_type": "code",
   "execution_count": 691,
   "metadata": {},
   "outputs": [],
   "source": [
    "import numpy as np\n",
    "import scipy.integrate as si\n",
    "from numba import cfunc, carray, jit\n",
    "import numba\n",
    "from numba.types import intc, CPointer, float64\n",
    "from scipy import LowLevelCallable\n",
    "from scipy.stats import norm\n",
    "from numba import njit, prange\n",
    "from scipy.integrate import quad\n",
    "\n",
    "from numba import njit\n",
    "import numpy as np\n",
    "\n",
    "@njit\n",
    "def g(x, mean, std):\n",
    "    return (1 / (np.sqrt(2 * np.pi) * std)) * np.exp(-0.5 * ((x - mean) / std) ** 2)\n",
    "@njit\n",
    "def g_sec(x,Or,Om):\n",
    "    std = 1\n",
    "    mean = -Or\n",
    "    g = (1 / (np.sqrt(2 * np.pi) * std)) * np.exp(-0.5 * ((x - mean) / std) ** 2)\n",
    "    dO = abs(Or-Om)\n",
    "    return np.where(x<-dO,1e-6,g)\n",
    "\n",
    "def jit_integrand_function(integrand_function):\n",
    "    jitted_function = numba.jit(integrand_function, nopython=True)\n",
    "    @cfunc(float64(intc, CPointer(float64)))\n",
    "    def wrapped(n, xx):\n",
    "        values = carray(xx, n)\n",
    "        return jitted_function(values[0], values[1])\n",
    "    return LowLevelCallable(wrapped.ctypes)\n",
    "\n",
    "def jit_integrand_function2(integrand_function):\n",
    "    jitted_function = numba.jit(integrand_function, nopython=True)\n",
    "    \n",
    "    @cfunc(float64(intc, CPointer(float64)))\n",
    "    def wrapped(n, xx):\n",
    "        if n < 5:\n",
    "            raise ValueError(\"Not enough parameters passed to function.\")\n",
    "        values = carray(xx, n)  # 전달된 모든 파라미터를 포함하는 배열\n",
    "        return jitted_function(values[0], values[1], values[2], values[3],values[4])\n",
    "    \n",
    "    return LowLevelCallable(wrapped.ctypes)\n",
    "\n",
    "\n",
    "\n",
    "@jit_integrand_function\n",
    "def integrand_l(x, X):\n",
    "    return np.cos(x)**2*g(X*np.sin(x),0,1)\n",
    "@jit_integrand_function\n",
    "def integrand_d(x,X):\n",
    "    return (1/x**2)*g(x,0,1)\n",
    "\n",
    "@jit_integrand_function2\n",
    "def integrand_Rl(x, X,O_O,O_p,m):\n",
    "    return g(x,O_O,O_p)*np.sqrt(1-(x/X)**2)\n",
    "\n",
    "@jit_integrand_function2\n",
    "def integrand_Rd(x, X,O_O,O_p,m):\n",
    "    if m == 0:\n",
    "        return 0\n",
    "    else:\n",
    "        return X/(2*(m*x**2+1/m))*g(x,O_O,O_p)\n",
    "    \n",
    "\n",
    "@jit_integrand_function2\n",
    "def integrand_Rl2(x, X,O_pm,shift_O,m):\n",
    "    return g_sec(x,O_pm-shift_O,O_pm)*np.sqrt(1-(x/X)**2)\n",
    "\n",
    "@jit_integrand_function2\n",
    "def integrand_Rd2(x, X,O_pm,shift_O,m):\n",
    "    return 1/(2*(m*(x+O_pm-shift_O)**2+1/m))*g_sec(x,O_pm-shift_O,O_pm)\n",
    "\n",
    "\n",
    "def FX_0(X,m,O_0):\n",
    "    O_d = min(O_0,X)\n",
    "    theta_0 = np.arcsin(O_d/X)\n",
    "    I_l,err_l = quad(integrand_l,-theta_0,theta_0,limit=200) #lock\n",
    "    I_d,err_d = quad(integrand_d,O_d,np.inf,limit=200) #drift\n",
    "    Fl = 1*I_l\n",
    "    Fd = - 1/(m)*I_d\n",
    "    F0 = Fl + Fd\n",
    "    return F0,Fl,Fd\n",
    "get_FX_0 = np.vectorize(FX_0)\n",
    "\n",
    "def FX_Rld(X,m,O_0):\n",
    "    a = 1/np.sqrt(X*m)\n",
    "    b = 4/np.pi * a - 0.3056*a**3\n",
    "    b = np.where(np.where(a>1.193,1,b)>=1,1,b)\n",
    "\n",
    "    omega_p = b*X\n",
    "    \n",
    "    R_l,err = quad(integrand_Rl, -omega_p,omega_p,args=(X,O_0,1,m),limit=200)\n",
    "    R_dr,err = quad(integrand_Rd,omega_p,np.inf,args=(X,O_0,1,m),limit=200)\n",
    "    R_dl,err = quad(integrand_Rd,-np.inf,-omega_p,args=(X,O_0,1,m),limit=200)\n",
    "\n",
    "    R_d = R_dr +  R_dl\n",
    "    R = R_l - R_d\n",
    "    return R_l,-R_d,R\n",
    "\n",
    "get_FX_Rld = np.vectorize(FX_Rld)\n",
    "\n",
    "def Make_R_function(m,O_0,K_max=15):\n",
    "    X = np.linspace((0.01),(20),num=3000)\n",
    "    RX_l1,RX_d1,RX_F = get_FX_Rld(X,m,O_0)\n",
    "    R = RX_l1 + RX_d1\n",
    "    IK = np.nanmax((R/X))\n",
    "    Kb =1/IK\n",
    "    rb = X[np.nanargmax((R/X))]*IK\n",
    "\n",
    "    Ks = np.linspace(0.5,K_max+0.1,50000)\n",
    "    A = np.where(np.abs(RX_F*Ks.reshape(-1,1)-X)<5e-5)\n",
    "    RR = RX_F*np.ones_like(Ks.reshape(-1,1))\n",
    "    KK = np.ones_like(RX_F)*Ks.reshape(-1,1)\n",
    "\n",
    "    RR_0 = RX_l1*np.ones_like(Ks.reshape(-1,1))\n",
    "    U,= np.where(RR[A] >= rb)\n",
    "    D,= np.where(RR[A] < rb)\n",
    "    Ku = KK[A][U]\n",
    "    Kd = KK[A][D]\n",
    "    Ku,Ku_idx,c=np.unique(Ku,return_counts=True,return_index=True)\n",
    "    Kd,Kd_idx,c=np.unique(Kd,return_counts=True,return_index=True)\n",
    "\n",
    "    F_RMu = interpolate.interp1d(KK[A][U][Ku_idx], RR[A][U][Ku_idx], kind='quadratic',bounds_error=False)\n",
    "    F_R0u = interpolate.interp1d(KK[A][U][Ku_idx], RR_0[A][U][Ku_idx], kind='quadratic',bounds_error=False)\n",
    "    if m == 0:\n",
    "        F_RMd = F_RMu\n",
    "        F_R0d = F_R0u\n",
    "    else:\n",
    "        F_RMd = interpolate.interp1d(KK[A][D][Kd_idx], RR[A][D][Kd_idx], kind='quadratic',bounds_error=False)\n",
    "        F_R0d = interpolate.interp1d(KK[A][D][Kd_idx], RR_0[A][D][Kd_idx], kind='quadratic',bounds_error=False)\n",
    "\n",
    "    return F_RMd,F_RMu,F_R0d,F_R0u\n",
    "\n",
    "\n",
    "\n",
    "def F_sec(r,K,m,F_R0,F_RM,O_pm=None, g=g_sec):\n",
    "    X = K*r\n",
    "    a = 1/np.sqrt(X*m)\n",
    "    b = 4/np.pi * a - 0.3056*a**3\n",
    "    bs = np.where(np.where(a>1.193,1,b)>=1,1,b)\n",
    "\n",
    "    r_0 = F_R0(K)\n",
    "    if O_pm is None:\n",
    "        O_pm = 4/np.pi*np.sqrt(K*F_RM(K)/m) - 0.3056/np.sqrt(K*F_RM(K)*m**3)\n",
    "        #F_RM으로 부터 얻는 곡선, 만약 shift가 있는경우 그 값에서 부터 시작됨\n",
    "    # shift_O = -(K**2*r*r_0)/(2*m*(1/m**2+(O_pm)**2)) -(K**2*r*r)/(2*m*(1/m**2+(2*O_pm)**2))\n",
    "    shift_O = -(K**2*r*r_0)/(2*m*(1/m**2+(O_pm)**2)) + (K**2*r*r)/(2*m**2*O_pm*(1/m**2+(2*O_pm)**2))\n",
    "    omega_p = bs*X\n",
    "    O_min = -shift_O - omega_p\n",
    "    if O_min<0:\n",
    "        m_ = O_min\n",
    "    else:\n",
    "        m_ = np.nan\n",
    "    I_l,err = quad(integrand_Rl2, shift_O,+omega_p,args=(X,O_pm,shift_O,m),limit=200)\n",
    "    I_d,err = quad(integrand_Rd2, omega_p,np.inf,args=(X,O_pm,shift_O,m),limit=200)\n",
    "    F_l = I_l/X\n",
    "    F_d = -I_d\n",
    "    F = F_l +  F_d\n",
    "    return F_l,F_d,F,m_\n",
    "get_F2 = np.vectorize(F_sec)\n",
    "\n",
    "\n",
    "\n",
    "def get_r_sec(K,m,FR0,FRM,O_pm=None,samples=200,g_sec=g_sec):\n",
    "    r0_ =  FR0(K)\n",
    "    r_sd,r_su = np.nan,np.nan\n",
    "    r_su_d,r_su_l = np.nan,np.nan\n",
    "    mu = np.nan\n",
    "    md = np.nan\n",
    "    if (K == 0)or (m==0):\n",
    "        return r_sd,r_su,r_su_d,r_su_l,md,mu\n",
    "    r_test = np.linspace(1e-5,(1-r0_)/2,samples)\n",
    "    F_l2,F_d2,F2,m_ = get_F2(r_test,K,m,FR0,FRM,O_pm)\n",
    "    R2_interpolate  = interpolate.interp1d(r_test,F2, kind='linear',bounds_error=False)\n",
    "    F2l_interpolate  = interpolate.interp1d(r_test,F_l2, kind='linear',bounds_error=False)\n",
    "    m_interpolate  = interpolate.interp1d(r_test,m_, kind='linear',bounds_error=False)\n",
    "    r_test2 = np.linspace(1e-5,(1-r0_)/2,5000)\n",
    "    Fs = R2_interpolate(r_test2)\n",
    "    cross_point = np.sign((Fs[0:-1]-1/K)*(Fs[1:]-1/K))*(-0.5) + 0.5\n",
    "    arg_check, = np.where(cross_point)\n",
    "\n",
    "    r_sec = (r_test2[arg_check] +r_test2[arg_check+1])/2\n",
    "    if len(r_sec)==2:\n",
    "        r_sd,r_su = r_sec\n",
    "    if len(r_sec)==1:\n",
    "        r_su = r_sec\n",
    "    f_su = F2l_interpolate(r_su)\n",
    "    f_sd = F2l_interpolate(r_sd)\n",
    "    mu = m_interpolate(r_su)\n",
    "    md = m_interpolate(r_sd)\n",
    "    r_su_l = r_su*K*f_su\n",
    "    r_sd_l = r_sd*K*f_sd\n",
    "    return r_sd,r_su,r_sd_l,r_su_l,md,mu\n",
    "\n",
    "\n",
    "# def get_r_sec(K,m,FR0,FRM,O_pm=None,samples=200,g_sec=g_sec):\n",
    "#     r0_ =  FR0(K)\n",
    "#     r_sd,r_su = np.nan,np.nan\n",
    "#     r_su_d,r_su_l = np.nan,np.nan\n",
    "#     mu = np.nan\n",
    "#     md = np.nan\n",
    "#     if (K == 0)or (m==0):\n",
    "#         return r_sd,r_su,r_su_d,r_su_l,md,mu\n",
    "#     r_test = np.linspace(1e-5,(1-r0_)/2,samples)\n",
    "#     F2,m_ = get_F2(r_test,K,m,FR0,FRM,O_pm)\n",
    "#     R2_interpolate  = interpolate.interp1d(r_test,F2, kind='linear',bounds_error=False)\n",
    "#     r_test2 = np.linspace(1e-5,(1-r0_)/2,5000)\n",
    "#     Fs = R2_interpolate(r_test2)\n",
    "#     cross_point = np.sign((Fs[0:-1]-1/K)*(Fs[1:]-1/K))*(-0.5) + 0.5\n",
    "#     arg_check, = np.where(cross_point)\n",
    "\n",
    "#     r_sec = (r_test2[arg_check] +r_test2[arg_check+1])/2\n",
    "#     if len(r_sec)==2:\n",
    "#         r_sd,r_su = r_sec\n",
    "#     if len(r_sec)==1:\n",
    "#         r_su = r_sec\n",
    "#     f_su,mu = F_lock2(r_su,K,m,F_R0=FR0,F_RM=FRM,g=g_sec)\n",
    "#     f_sd,md = F_lock2(r_sd,K,m,F_R0=FR0,F_RM=FRM,g=g_sec)\n",
    "#     r_su_l = r_su*K*f_su\n",
    "#     r_sd_l = r_sd*K*f_sd\n",
    "#     return r_sd,r_su,r_sd_l,r_su_l,md,mu\n",
    "\n",
    "get_r_sec_np = np.vectorize(get_r_sec)"
   ]
  },
  {
   "cell_type": "code",
   "execution_count": 693,
   "metadata": {},
   "outputs": [],
   "source": [
    "F_RMd,F_RMu,F_R0d,F_R0u = Make_R_function(m,0,K_max=10)"
   ]
  },
  {
   "cell_type": "code",
   "execution_count": 697,
   "metadata": {},
   "outputs": [],
   "source": [
    "Ks_ = np.linspace(3,10,150)\n",
    "r_sd,r_su,r_sd_l,r_su_l,md,mu = get_r_sec_np(Ks_,m,F_R0u,F_RMu)"
   ]
  },
  {
   "cell_type": "code",
   "execution_count": 699,
   "metadata": {},
   "outputs": [
    {
     "data": {
      "text/plain": [
       "[<matplotlib.lines.Line2D at 0x32364efd0>]"
      ]
     },
     "execution_count": 699,
     "metadata": {},
     "output_type": "execute_result"
    },
    {
     "data": {
      "image/png": "[encoded data removed]",
      "text/plain": [
       "<Figure size 640x480 with 1 Axes>"
      ]
     },
     "metadata": {},
     "output_type": "display_data"
    }
   ],
   "source": [
    "df_r.plot(style='.-')\n",
    "plt.grid()\n",
    "plt.axvline(6.)\n",
    "plt.plot(Ks_,F_R0u(Ks_))\n",
    "plt.plot(Ks_,F_R0d(Ks_))\n",
    "\n",
    "plt.plot(Ks_,(F_RMu(Ks_) - F_R0u(Ks_))/2)\n",
    "plt.plot(Ks_,r_su_l)\n",
    "plt.plot(Ks_,r_su_l*2)\n"
   ]
  },
  {
   "cell_type": "code",
   "execution_count": 623,
   "metadata": {},
   "outputs": [
    {
     "data": {
      "text/html": [
       "<div>\n",
       "<style scoped>\n",
       "    .dataframe tbody tr th:only-of-type {\n",
       "        vertical-align: middle;\n",
       "    }\n",
       "\n",
       "    .dataframe tbody tr th {\n",
       "        vertical-align: top;\n",
       "    }\n",
       "\n",
       "    .dataframe thead th {\n",
       "        text-align: right;\n",
       "    }\n",
       "</style>\n",
       "<table border=\"1\" class=\"dataframe\">\n",
       "  <thead>\n",
       "    <tr style=\"text-align: right;\">\n",
       "      <th></th>\n",
       "      <th>group #</th>\n",
       "      <th>group rot</th>\n",
       "      <th>Group</th>\n",
       "      <th>g sign</th>\n",
       "      <th>r_m</th>\n",
       "      <th>r_std</th>\n",
       "    </tr>\n",
       "  </thead>\n",
       "  <tbody>\n",
       "    <tr>\n",
       "      <th>0</th>\n",
       "      <td>367</td>\n",
       "      <td>-0.012569</td>\n",
       "      <td>0.0</td>\n",
       "      <td>-0.0</td>\n",
       "      <td>0.731256</td>\n",
       "      <td>0.000683</td>\n",
       "    </tr>\n",
       "  </tbody>\n",
       "</table>\n",
       "</div>"
      ],
      "text/plain": [
       "   group #  group rot  Group  g sign       r_m     r_std\n",
       "0      367  -0.012569    0.0    -0.0  0.731256  0.000683"
      ]
     },
     "execution_count": 623,
     "metadata": {},
     "output_type": "execute_result"
    }
   ],
   "source": [
    "a[(a['Group']==0)&(a['g sign']==0)]"
   ]
  },
  {
   "cell_type": "code",
   "execution_count": 597,
   "metadata": {},
   "outputs": [
    {
     "name": "stdout",
     "output_type": "stream",
     "text": [
      "0.0\n",
      "Empty DataFrame\n",
      "Columns: [group #, group rot, Group, g sign, r_m, r_std]\n",
      "Index: []\n",
      "0.2\n",
      "Empty DataFrame\n",
      "Columns: [group #, group rot, Group, g sign, r_m, r_std]\n",
      "Index: []\n",
      "0.4\n",
      "Empty DataFrame\n",
      "Columns: [group #, group rot, Group, g sign, r_m, r_std]\n",
      "Index: []\n",
      "0.6\n",
      "Empty DataFrame\n",
      "Columns: [group #, group rot, Group, g sign, r_m, r_std]\n",
      "Index: []\n",
      "0.8\n",
      "Empty DataFrame\n",
      "Columns: [group #, group rot, Group, g sign, r_m, r_std]\n",
      "Index: []\n",
      "1.0\n",
      "Empty DataFrame\n",
      "Columns: [group #, group rot, Group, g sign, r_m, r_std]\n",
      "Index: []\n",
      "1.2\n",
      "Empty DataFrame\n",
      "Columns: [group #, group rot, Group, g sign, r_m, r_std]\n",
      "Index: []\n",
      "1.4\n",
      "Empty DataFrame\n",
      "Columns: [group #, group rot, Group, g sign, r_m, r_std]\n",
      "Index: []\n",
      "1.6\n",
      "Empty DataFrame\n",
      "Columns: [group #, group rot, Group, g sign, r_m, r_std]\n",
      "Index: []\n",
      "1.8\n",
      "Empty DataFrame\n",
      "Columns: [group #, group rot, Group, g sign, r_m, r_std]\n",
      "Index: []\n",
      "2.0\n",
      "Empty DataFrame\n",
      "Columns: [group #, group rot, Group, g sign, r_m, r_std]\n",
      "Index: []\n",
      "2.2\n",
      "Empty DataFrame\n",
      "Columns: [group #, group rot, Group, g sign, r_m, r_std]\n",
      "Index: []\n",
      "2.4\n",
      "Empty DataFrame\n",
      "Columns: [group #, group rot, Group, g sign, r_m, r_std]\n",
      "Index: []\n",
      "2.6\n",
      "Empty DataFrame\n",
      "Columns: [group #, group rot, Group, g sign, r_m, r_std]\n",
      "Index: []\n",
      "2.8\n",
      "Empty DataFrame\n",
      "Columns: [group #, group rot, Group, g sign, r_m, r_std]\n",
      "Index: []\n",
      "3.0\n",
      "Empty DataFrame\n",
      "Columns: [group #, group rot, Group, g sign, r_m, r_std]\n",
      "Index: []\n",
      "3.2\n",
      "Empty DataFrame\n",
      "Columns: [group #, group rot, Group, g sign, r_m, r_std]\n",
      "Index: []\n",
      "3.4\n",
      "Empty DataFrame\n",
      "Columns: [group #, group rot, Group, g sign, r_m, r_std]\n",
      "Index: []\n",
      "3.6\n",
      "Empty DataFrame\n",
      "Columns: [group #, group rot, Group, g sign, r_m, r_std]\n",
      "Index: []\n",
      "3.8\n",
      "Empty DataFrame\n",
      "Columns: [group #, group rot, Group, g sign, r_m, r_std]\n",
      "Index: []\n",
      "4.0\n",
      "Empty DataFrame\n",
      "Columns: [group #, group rot, Group, g sign, r_m, r_std]\n",
      "Index: []\n",
      "4.2\n",
      "Empty DataFrame\n",
      "Columns: [group #, group rot, Group, g sign, r_m, r_std]\n",
      "Index: []\n",
      "4.4\n",
      "   group #  group rot  Group  g sign       r_m     r_std\n",
      "0      193   0.377067    0.0     1.0  0.350891  0.022818\n",
      "1      163  -0.465049    0.0    -1.0  0.307090  0.010803\n",
      "2       44  -1.307164    1.0    -1.0  0.081370  0.001209\n",
      "3       44   1.219182    1.0     1.0  0.081339  0.001570\n",
      "4.6\n",
      "   group #  group rot  Group  g sign       r_m     r_std\n",
      "0      235  -0.025138    0.0    -0.0  0.395889  0.046434\n",
      "1       85   0.728995    1.0     1.0  0.162194  0.003318\n",
      "2       68  -0.842115    1.0    -1.0  0.126948  0.003440\n",
      "4.8\n",
      "   group #  group rot  Group  g sign       r_m     r_std\n",
      "0      245  -0.301653    0.0    -1.0  0.419019  0.039444\n",
      "1      134   0.540462    0.0     1.0  0.253260  0.009798\n",
      "2       45   1.395146    1.0     1.0  0.082256  0.000842\n",
      "5.0\n",
      "   group #  group rot  Group  g sign       r_m     r_std\n",
      "0      227  -0.339360    0.0    -1.0  0.397950  0.037617\n",
      "1      159   0.553031    0.0     1.0  0.302926  0.009246\n",
      "2       36   1.457991    1.0     1.0  0.066482  0.001287\n",
      "3       29  -1.256888    1.0    -1.0  0.051166  0.001603\n",
      "5.2\n",
      "   group #  group rot  Group  g sign       r_m     r_std\n",
      "0      284   0.251378    0.0     1.0  0.553636  0.005151\n",
      "1      100  -0.641013    0.0    -1.0  0.195498  0.002372\n",
      "2       41  -1.545973    1.0    -1.0  0.069611  0.001604\n",
      "3       18   1.158432    1.0     1.0  0.034777  0.000285\n",
      "5.4\n",
      "   group #  group rot  Group  g sign       r_m     r_std\n",
      "0      290  -0.263947    0.0    -1.0  0.563899  0.007193\n",
      "1      100   0.691289    0.0     1.0  0.195364  0.002035\n",
      "2       33   1.659093    1.0     1.0  0.057353  0.001426\n",
      "3       19  -1.231751    1.0    -1.0  0.036716  0.000387\n",
      "5.6\n",
      "   group #  group rot  Group  g sign       r_m     r_std\n",
      "0      364   0.125689    0.0     1.0  0.719623  0.000746\n",
      "1       65  -1.181475    0.0    -1.0  0.122564  0.002178\n",
      "2       24   1.445422    1.0     1.0  0.044526  0.001054\n",
      "5.8\n",
      "   group #  group rot  Group  g sign       r_m     r_std\n",
      "0      313  -0.238809    0.0    -1.0  0.591505  0.024218\n",
      "1       95   0.791840    0.0     1.0  0.185374  0.002113\n",
      "2       22  -1.282026    1.0    -1.0  0.042550  0.000140\n",
      "6.0\n",
      "   group #  group rot  Group  g sign       r_m     r_std\n",
      "0      325  -0.037707    0.0    -0.0  0.643755  0.001145\n",
      "1       48  -1.168906    1.0    -1.0  0.091577  0.001811\n",
      "2       59   1.093493    1.0     1.0  0.114076  0.001546\n",
      "6.2\n",
      "   group #  group rot  Group  g sign       r_m     r_std\n",
      "0      308   0.276515    0.0     1.0  0.608874  0.001773\n",
      "1       96  -0.669686    0.0    -1.0  0.181408  0.009471\n",
      "2       33  -1.633955    1.0    -1.0  0.061896  0.000298\n",
      "6.4\n",
      "   group #  group rot  Group  g sign       r_m     r_std\n",
      "0      287  -0.012569    0.0    -0.0  0.529187  0.039259\n",
      "1       74   0.930097    1.0     1.0  0.145206  0.001140\n",
      "2       68  -0.967804    1.0    -1.0  0.130870  0.002976\n",
      "6.6\n",
      "   group #  group rot  Group  g sign       r_m     r_std\n",
      "0      292  -0.013473    0.0    -0.0  0.536948  0.036070\n",
      "1       75   0.967804    1.0     1.0  0.146727  0.001752\n",
      "2       70  -1.018080    1.0    -1.0  0.136228  0.002279\n",
      "6.8\n",
      "   group #  group rot  Group  g sign       r_m     r_std\n",
      "0      307  -0.012569    0.0    -0.0  0.609372  0.001265\n",
      "1       66  -1.118631    1.0    -1.0  0.128384  0.001505\n",
      "2       70   1.093493    1.0     1.0  0.135688  0.002201\n",
      "7.0\n",
      "   group #  group rot  Group  g sign       r_m     r_std\n",
      "0      298  -0.025138    0.0    -0.0  0.591865  0.001329\n",
      "1       77   1.043217    1.0     1.0  0.149882  0.002431\n",
      "2       67  -1.106062    1.0    -1.0  0.131210  0.001632\n",
      "7.2\n",
      "   group #  group rot  Group  g sign       r_m     r_std\n",
      "0      331   0.000000    0.0     0.0  0.657546  0.001006\n",
      "1       59   1.164433    1.0     1.0  0.114220  0.001756\n",
      "2       57  -1.181475    1.0    -1.0  0.110717  0.001544\n",
      "7.4\n",
      "   group #  group rot  Group  g sign       r_m     r_std\n",
      "0      331   0.075413    0.0     0.0  0.657561  0.001126\n",
      "1       67  -1.043217    1.0    -1.0  0.130504  0.001795\n",
      "2       44   1.206613    1.0     1.0  0.086410  0.000831\n",
      "7.6\n",
      "   group #  group rot  Group  g sign       r_m     r_std\n",
      "0      359  -0.037707    0.0    -0.0  0.713472  0.000743\n",
      "1       50   1.181475    1.0     1.0  0.096403  0.001629\n",
      "2       26  -1.269457    1.0    -1.0  0.051138  0.000423\n",
      "7.8\n",
      "   group #  group rot  Group  g sign       r_m     r_std\n",
      "0      332  -0.012569    0.0    -0.0  0.659769  0.001177\n",
      "1       59   1.068355    1.0     1.0  0.115136  0.001843\n",
      "2       52  -1.118631    1.0    -1.0  0.098579  0.002886\n",
      "8.0\n",
      "   group #  group rot  Group  g sign       r_m     r_std\n",
      "0      329  -0.050276    0.0    -0.0  0.654369  0.001018\n",
      "1       54  -1.206613    1.0    -1.0  0.105519  0.001300\n",
      "2       68   1.106062    1.0     1.0  0.132078  0.002459\n",
      "8.2\n",
      "   group #  group rot  Group  g sign       r_m     r_std\n",
      "0      333  -0.012569    0.0    -0.0  0.662518  0.000965\n",
      "1       63   1.168906    1.0     1.0  0.123715  0.001422\n",
      "2       60  -1.194044    1.0    -1.0  0.115429  0.002334\n",
      "8.4\n",
      "   group #  group rot  Group  g sign       r_m     r_std\n",
      "0      338   0.087982    0.0     0.0  0.672625  0.000940\n",
      "1       70  -1.080924    1.0    -1.0  0.137831  0.001363\n",
      "2       45   1.269457    1.0     1.0  0.087300  0.001884\n",
      "8.6\n",
      "   group #  group rot  Group  g sign       r_m     r_std\n",
      "0      373   0.000000    0.0     0.0  0.742401  0.000595\n",
      "1       43  -1.294595    1.0    -1.0  0.083044  0.001718\n",
      "2       41   1.307164    1.0     1.0  0.079348  0.001325\n",
      "8.8\n",
      "   group #  group rot  Group  g sign       r_m     r_std\n",
      "0      357   0.000000    0.0     0.0  0.710575  0.000839\n",
      "1       51  -1.206613    1.0    -1.0  0.099782  0.001247\n",
      "2       49   1.219182    1.0     1.0  0.093709  0.002418\n",
      "9.0\n",
      "   group #  group rot  Group  g sign       r_m     r_std\n",
      "0      366   0.000000    0.0     0.0  0.728808  0.000668\n",
      "1       49  -1.269457    1.0    -1.0  0.095188  0.001563\n",
      "2       44   1.294595    1.0     1.0  0.085592  0.001355\n",
      "9.2\n",
      "   group #  group rot  Group  g sign       r_m     r_std\n",
      "0      366   0.000000    0.0     0.0  0.728871  0.000672\n",
      "1       47  -1.269457    1.0    -1.0  0.091778  0.001206\n",
      "2       45   1.273647    1.0     1.0  0.087987  0.001211\n",
      "9.4\n",
      "   group #  group rot  Group  g sign       r_m     r_std\n",
      "0      409   0.000000    0.0     0.0  0.814561  0.000327\n",
      "1       29  -1.432853    1.0    -1.0  0.055760  0.001064\n",
      "2       27   1.457991    1.0     1.0  0.052246  0.000929\n",
      "9.6\n",
      "   group #  group rot  Group  g sign       r_m     r_std\n",
      "0      369   0.062844    0.0     0.0  0.734995  0.000706\n",
      "1       55  -1.194044    1.0    -1.0  0.107907  0.001613\n",
      "2       36   1.329509    1.0     1.0  0.069474  0.001537\n",
      "9.8\n",
      "   group #  group rot  Group  g sign       r_m     r_std\n",
      "0      367  -0.012569    0.0    -0.0  0.731256  0.000683\n",
      "1       52   1.269457    1.0     1.0  0.102583  0.000723\n",
      "2       46  -1.307164    1.0    -1.0  0.090453  0.000763\n"
     ]
    }
   ],
   "source": [
    "for K,a in zip(Ks,K_f):\n",
    "    print(K)\n",
    "    print(a)"
   ]
  },
  {
   "cell_type": "code",
   "execution_count": null,
   "metadata": {},
   "outputs": [],
   "source": []
  }
 ],
 "metadata": {
  "kernelspec": {
   "display_name": "Python 3",
   "language": "python",
   "name": "python3"
  },
  "language_info": {
   "codemirror_mode": {
    "name": "ipython",
    "version": 3
   },
   "file_extension": ".py",
   "mimetype": "text/x-python",
   "name": "python",
   "nbconvert_exporter": "python",
   "pygments_lexer": "ipython3",
   "version": "3.11.9"
  }
 },
 "nbformat": 4,
 "nbformat_minor": 2
}
