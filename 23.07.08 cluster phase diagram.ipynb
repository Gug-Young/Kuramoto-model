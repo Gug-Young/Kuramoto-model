{
 "cells": [
  {
   "cell_type": "code",
   "execution_count": 20,
   "metadata": {},
   "outputs": [],
   "source": [
    "import numpy as np\n",
    "import matplotlib.pyplot as plt\n",
    "import pandas as pd\n",
    "\n",
    "from TO_sim.Sol_Kuramoto import Sol_Kuramoto_mf2 as mf2\n",
    "from TO_sim.Sol_Kuramoto import Sol_Kuramoto_mf2_sets as mf2_sets\n",
    "from TO_sim.get_cluster import C_rsmso,cluster_os,C_rsmso_set_new\n",
    "from TO_sim.To_Draw import Draw_avg_vel_r\n",
    "\n",
    "from TO_sim.gen_Distribution import Normal\n",
    "from TO_sim.gen_Distribution import Quantile_Normal as Q_Normal\n",
    "import parmap\n",
    "from scipy.signal import find_peaks\n",
    "from TO_sim.To_Draw import Draw_avg_vel_r\n",
    "from tqdm.notebook import tqdm\n"
   ]
  },
  {
   "cell_type": "code",
   "execution_count": 21,
   "metadata": {},
   "outputs": [],
   "source": [
    "import warnings\n",
    "warnings.filterwarnings(\"ignore\", category=np.VisibleDeprecationWarning) "
   ]
  },
  {
   "cell_type": "code",
   "execution_count": 13,
   "metadata": {},
   "outputs": [],
   "source": [
    "dK = 0.1\n",
    "dm = 0.1\n",
    "N = 500\n",
    "seed = 10\n",
    "dt = 0.1\n",
    "theta_init,omega,Kc = Normal(N,0,1,seed=seed)\n",
    "K_set = np.arange(0,5,dK).reshape(-1,1)\n",
    "\n",
    "N_set = len(K_set)\n",
    "omega = np.sort(omega) - np.mean(omega)\n",
    "ms = np.arange(0,10+dm/2,dm)\n",
    "m_set = []\n",
    "core = 8\n",
    "index_ = 0\n",
    "for i in range(len(ms)//core +1):\n",
    "    m_set.append(ms[index_:index_+core])\n",
    "    index_ += core\n",
    "core_set = [len(ms) for ms in m_set]\n",
    "N_set = len(K_set)\n",
    "theta_init_set = (np.ones((N_set,1))*theta_init)\n",
    "pdtheta_set = 0*(np.ones((N_set,1))*omega)\n",
    "omega_set = (np.ones((N_set,1))*omega)"
   ]
  },
  {
   "cell_type": "code",
   "execution_count": 14,
   "metadata": {},
   "outputs": [
    {
     "data": {
      "text/plain": [
       "[8, 8, 8, 8, 8, 8, 8, 8, 8, 8, 8, 8, 5]"
      ]
     },
     "execution_count": 14,
     "metadata": {},
     "output_type": "execute_result"
    }
   ],
   "source": [
    "core_set"
   ]
  },
  {
   "cell_type": "code",
   "execution_count": 15,
   "metadata": {},
   "outputs": [],
   "source": [
    "cols ={'r':[0],'rstd':[0],'rMM':[0],'error':[0]}\n",
    "for i in range(10):\n",
    "    cols[f'c{i}'] = np.nan\n",
    "for i in range(10):\n",
    "    cols[f'c{i} phase vel'] = np.nan\n",
    "for i in range(10):\n",
    "    cols[f'c{i} omega'] = np.nan\n",
    "\n",
    "cols['K'] = K_set.reshape(-1)[0]\n",
    "cols['m'] = ms[0]\n",
    "df = pd.DataFrame(cols)\n",
    "df_Km = df.set_index(['K','m'])"
   ]
  },
  {
   "cell_type": "code",
   "execution_count": 8,
   "metadata": {},
   "outputs": [
    {
     "data": {
      "application/vnd.jupyter.widget-view+json": {
       "model_id": "7e8070883b58401cbfb37a9f9ca05d68",
       "version_major": 2,
       "version_minor": 0
      },
      "text/plain": [
       "  0%|          | 0/13 [00:00<?, ?it/s]"
      ]
     },
     "metadata": {},
     "output_type": "display_data"
    }
   ],
   "source": [
    "for core,ms in tqdm(list(zip(core_set,m_set))):pass"
   ]
  },
  {
   "cell_type": "code",
   "execution_count": null,
   "metadata": {},
   "outputs": [],
   "source": [
    "for core,ms in zip(core_set,m_set):\n",
    "    for m,(r,rstd,rMM,CSMP_set,CSMO_set,error_set,C_s_set,C_e_set) in zip(ms,parmap.map(C_rsmso_set_new,ms,K_set=K_set,N=N,theta_init_set=theta_init_set,\n",
    "                                                        omega_set=omega_set,pdtheta_set = pdtheta_set,t_end=2000,dt=dt,\n",
    "                                                        pm_pbar=True, pm_processes=core)):\n",
    "        for i,K in enumerate(K_set.reshape(-1)):\n",
    "            df_Km.loc[(K,m),\"r\"] = r[i]\n",
    "            df_Km.loc[(K,m),\"rstd\"] = rstd[i]\n",
    "            df_Km.loc[(K,m),\"rMM\"] = rMM[i]\n",
    "            df_Km.loc[(K,m),'error'] = error_set[i]\n",
    "            CSMP = CSMP_set[i]\n",
    "            CSMO = CSMO_set[i]\n",
    "            for i in range(len(CSMP_set[i])):\n",
    "                    df_Km.loc[(K,m),f'c{i}'] = CSMP['cluster size'][i]\n",
    "                    df_Km.loc[(K,m),f'c{i} phase vel'] = CSMP['cluster mean phase velocity'][i]\n",
    "                    df_Km.loc[(K,m),f'c{i} omega'] = CSMO['cluster mean natural frequency'][i]"
   ]
  },
  {
   "cell_type": "code",
   "execution_count": null,
   "metadata": {},
   "outputs": [],
   "source": [
    "K_set = np.arange(5,10+dK/2,dK).reshape(-1,1)\n",
    "N_set = len(K_set)\n",
    "omega = np.sort(omega) - np.mean(omega)\n",
    "ms = np.arange(0,10+dm/2,dm)\n",
    "m_set = []\n",
    "core = 8\n",
    "index_ = 0\n",
    "for i in range(len(ms)//core +1):\n",
    "    m_set.append(ms[index_:index_+core])\n",
    "    index_ += core\n",
    "core_set = [len(ms) for ms in m_set]\n",
    "N_set = len(K_set)\n",
    "theta_init_set = (np.ones((N_set,1))*theta_init)\n",
    "pdtheta_set = 0*(np.ones((N_set,1))*omega)\n",
    "omega_set = (np.ones((N_set,1))*omega)\n",
    "for core,ms in zip(core_set,m_set):\n",
    "    for m,(r,rstd,rMM,CSMP_set,CSMO_set,error_set,C_s_set,C_e_set) in zip(ms,parmap.map(C_rsmso_set_new,ms,K_set=K_set,N=N,theta_init_set=theta_init_set,\n",
    "                                                        omega_set=omega_set,pdtheta_set = pdtheta_set,t_end=2000,dt=dt,\n",
    "                                                        pm_pbar=True, pm_processes=core)):\n",
    "        for i,K in enumerate(K_set.reshape(-1)):\n",
    "            df_Km.loc[(K,m),\"r\"] = r[i]\n",
    "            df_Km.loc[(K,m),\"rstd\"] = rstd[i]\n",
    "            df_Km.loc[(K,m),\"rMM\"] = rMM[i]\n",
    "            df_Km.loc[(K,m),'error'] = error_set[i]\n",
    "            CSMP = CSMP_set[i]\n",
    "            CSMO = CSMO_set[i]\n",
    "            for i in range(len(CSMP_set[i])):\n",
    "                    df_Km.loc[(K,m),f'c{i}'] = CSMP['cluster size'][i]\n",
    "                    df_Km.loc[(K,m),f'c{i} phase vel'] = CSMP['cluster mean phase velocity'][i]\n",
    "                    df_Km.loc[(K,m),f'c{i} omega'] = CSMO['cluster mean natural frequency'][i]"
   ]
  },
  {
   "cell_type": "code",
   "execution_count": 18,
   "metadata": {},
   "outputs": [
    {
     "data": {
      "text/plain": [
       "'N = 500 seed = 10 test dt = 0.1 230708 ver3.xlsm'"
      ]
     },
     "execution_count": 18,
     "metadata": {},
     "output_type": "execute_result"
    }
   ],
   "source": [
    "f'N = {N} seed = {seed} test dt = {dt} 230708 ver3.xlsm'"
   ]
  },
  {
   "cell_type": "code",
   "execution_count": 19,
   "metadata": {},
   "outputs": [],
   "source": [
    "df_Km.sort_index().to_excel(f'N = {N} seed = {seed} test dt = {dt} 230708 ver3.xlsm')"
   ]
  },
  {
   "cell_type": "code",
   "execution_count": null,
   "metadata": {},
   "outputs": [],
   "source": []
  },
  {
   "cell_type": "code",
   "execution_count": null,
   "metadata": {},
   "outputs": [],
   "source": [
    "for seed in [12,13,14]:\n",
    "    dK = 0.1\n",
    "    dm = 0.1\n",
    "    N = 500\n",
    "\n",
    "    theta_init,omega,Kc = Normal(N,0,1,seed=seed)\n",
    "    K_set = np.arange(0,5,dK).reshape(-1,1)\n",
    "\n",
    "    N_set = len(K_set)\n",
    "    omega = np.sort(omega) - np.mean(omega)\n",
    "    ms = np.arange(0,10+dm/2,dm)\n",
    "    m_set = []\n",
    "    core = 8\n",
    "    index_ = 0\n",
    "    for i in range(len(ms)//core +1):\n",
    "        m_set.append(ms[index_:index_+core])\n",
    "        index_ += core\n",
    "    core_set = [len(ms) for ms in m_set]\n",
    "    N_set = len(K_set)\n",
    "    theta_init_set = (np.ones((N_set,1))*theta_init)\n",
    "    pdtheta_set = 0*(np.ones((N_set,1))*omega)\n",
    "    omega_set = (np.ones((N_set,1))*omega)\n",
    "    core_set\n",
    "    cols ={'r':[0],'rstd':[0],'rMM':[0],'error':[0]}\n",
    "    for i in range(10):\n",
    "        cols[f'c{i}'] = np.nan\n",
    "    for i in range(10):\n",
    "        cols[f'c{i} phase vel'] = np.nan\n",
    "    for i in range(10):\n",
    "        cols[f'c{i} omega'] = np.nan\n",
    "\n",
    "    cols['K'] = K_set.reshape(-1)[0]\n",
    "    cols['m'] = ms[0]\n",
    "    df = pd.DataFrame(cols)\n",
    "    df_Km = df.set_index(['K','m'])\n",
    "    for core,ms in tqdm(list(zip(core_set,m_set))):pass\n",
    "    for core,ms in zip(core_set,m_set):\n",
    "        for m,(r,rstd,rMM,CSMP_set,CSMO_set,error_set,C_s_set,C_e_set) in zip(ms,parmap.map(C_rsmso_set_new,ms,K_set=K_set,N=N,theta_init_set=theta_init_set,\n",
    "                                                            omega_set=omega_set,pdtheta_set = pdtheta_set,t_end=2000,dt=0.1,\n",
    "                                                            pm_pbar=True, pm_processes=core)):\n",
    "            for i,K in enumerate(K_set.reshape(-1)):\n",
    "                df_Km.loc[(K,m),\"r\"] = r[i]\n",
    "                df_Km.loc[(K,m),\"rstd\"] = rstd[i]\n",
    "                df_Km.loc[(K,m),\"rMM\"] = rMM[i]\n",
    "                df_Km.loc[(K,m),'error'] = error_set[i]\n",
    "                CSMP = CSMP_set[i]\n",
    "                CSMO = CSMO_set[i]\n",
    "                for i in range(len(CSMP_set[i])):\n",
    "                        df_Km.loc[(K,m),f'c{i}'] = CSMP['cluster size'][i]\n",
    "                        df_Km.loc[(K,m),f'c{i} phase vel'] = CSMP['cluster mean phase velocity'][i]\n",
    "                        df_Km.loc[(K,m),f'c{i} omega'] = CSMO['cluster mean natural frequency'][i]\n",
    "    K_set = np.arange(5,10+dK/2,dK).reshape(-1,1)\n",
    "    N_set = len(K_set)\n",
    "    omega = np.sort(omega) - np.mean(omega)\n",
    "    ms = np.arange(0,10+dm/2,dm)\n",
    "    m_set = []\n",
    "    core = 8\n",
    "    index_ = 0\n",
    "    for i in range(len(ms)//core +1):\n",
    "        m_set.append(ms[index_:index_+core])\n",
    "        index_ += core\n",
    "    core_set = [len(ms) for ms in m_set]\n",
    "    N_set = len(K_set)\n",
    "    theta_init_set = (np.ones((N_set,1))*theta_init)\n",
    "    pdtheta_set = 0*(np.ones((N_set,1))*omega)\n",
    "    omega_set = (np.ones((N_set,1))*omega)\n",
    "    for core,ms in zip(core_set,m_set):\n",
    "        for m,(r,rstd,rMM,CSMP_set,CSMO_set,error_set,C_s_set,C_e_set) in zip(ms,parmap.map(C_rsmso_set_new,ms,K_set=K_set,N=N,theta_init_set=theta_init_set,\n",
    "                                                            omega_set=omega_set,pdtheta_set = pdtheta_set,t_end=2000,dt=0.1,\n",
    "                                                            pm_pbar=True, pm_processes=core)):\n",
    "            for i,K in enumerate(K_set.reshape(-1)):\n",
    "                df_Km.loc[(K,m),\"r\"] = r[i]\n",
    "                df_Km.loc[(K,m),\"rstd\"] = rstd[i]\n",
    "                df_Km.loc[(K,m),\"rMM\"] = rMM[i]\n",
    "                df_Km.loc[(K,m),'error'] = error_set[i]\n",
    "                CSMP = CSMP_set[i]\n",
    "                CSMO = CSMO_set[i]\n",
    "                for i in range(len(CSMP_set[i])):\n",
    "                        df_Km.loc[(K,m),f'c{i}'] = CSMP['cluster size'][i]\n",
    "                        df_Km.loc[(K,m),f'c{i} phase vel'] = CSMP['cluster mean phase velocity'][i]\n",
    "                        df_Km.loc[(K,m),f'c{i} omega'] = CSMO['cluster mean natural frequency'][i]\n",
    "    df_Km.sort_index().to_excel(f'N = {N} seed = {seed} test 230708 ver3.xlsm')\n"
   ]
  },
  {
   "cell_type": "code",
   "execution_count": null,
   "metadata": {},
   "outputs": [],
   "source": []
  }
 ],
 "metadata": {
  "kernelspec": {
   "display_name": "Python 3",
   "language": "python",
   "name": "python3"
  },
  "language_info": {
   "codemirror_mode": {
    "name": "ipython",
    "version": 3
   },
   "file_extension": ".py",
   "mimetype": "text/x-python",
   "name": "python",
   "nbconvert_exporter": "python",
   "pygments_lexer": "ipython3",
   "version": "3.11.1"
  },
  "orig_nbformat": 4
 },
 "nbformat": 4,
 "nbformat_minor": 2
}
